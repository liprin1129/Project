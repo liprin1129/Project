{
 "cells": [
  {
   "cell_type": "markdown",
   "metadata": {},
   "source": [
    "# Clustering using competitive learning"
   ]
  },
  {
   "cell_type": "code",
   "execution_count": 2,
   "metadata": {
    "collapsed": false
   },
   "outputs": [
    {
     "data": {
      "text/plain": [
       "\"\\nwith open('pickles/scores/test/test_scores.picke', 'rb') as f:\\n#with open('pickles/scores/origin/train_scores.picke', 'rb') as f:\\n    train_data = pickle.load(f)\\nprint(train_data.shape)\\n\""
      ]
     },
     "execution_count": 2,
     "metadata": {},
     "output_type": "execute_result"
    }
   ],
   "source": [
    "import numpy as np\n",
    "import pandas as pd\n",
    "import numpy.matlib\n",
    "import math\n",
    "import matplotlib.pyplot as plt\n",
    "%matplotlib inline\n",
    "import os\n",
    "from six.moves import cPickle as pickle\n",
    "# plt.ion() # Turn interactive mode on.\n",
    "\n",
    "'''\n",
    "with open('pickles/scores/test/test_scores.picke', 'rb') as f:\n",
    "#with open('pickles/scores/origin/train_scores.picke', 'rb') as f:\n",
    "    train_data = pickle.load(f)\n",
    "print(train_data.shape)\n",
    "'''"
   ]
  },
  {
   "cell_type": "code",
   "execution_count": 3,
   "metadata": {
    "collapsed": false
   },
   "outputs": [],
   "source": [
    "def open_Pickle(pickle_path):\n",
    "    try :\n",
    "        with open(pickle_path, 'rb') as f:\n",
    "            train = pickle.load(f)\n",
    "            return train\n",
    "    except Exception as e :\n",
    "        print(\"Unable to open data to\", pickle_path, ': ', e)\n",
    "        return\n",
    "    \n",
    "train_scores = open_Pickle('pickles/seperate_origin/eventValue')\n",
    "train_scores = train_scores[:15, :]"
   ]
  },
  {
   "cell_type": "code",
   "execution_count": 4,
   "metadata": {
    "collapsed": false
   },
   "outputs": [],
   "source": [
    "train_data = np.ones(15)*np.nan\n",
    "idx_data = []\n",
    "\n",
    "for i in range(train_scores.shape[1]):\n",
    "    if not np.isnan(train_scores[:, i]).any():\n",
    "        #set_id = 'id{0}'.format(i)\n",
    "        train_data = np.vstack((train_data, train_scores[:, i]))\n",
    "        idx_data.append(i)\n",
    "        \n",
    "#print(train_data.shape)\n",
    "train_data = numpy.delete(train_data, (0), axis=0) # delete the first row including nan\n",
    "train_data = train_data.T"
   ]
  },
  {
   "cell_type": "raw",
   "metadata": {
    "collapsed": false
   },
   "source": [
    "print(train_data.shape)\n",
    "print(train_data)\n",
    "print(idx_data)"
   ]
  },
  {
   "cell_type": "code",
   "execution_count": 5,
   "metadata": {
    "collapsed": false
   },
   "outputs": [
    {
     "name": "stdout",
     "output_type": "stream",
     "text": [
      "n:15, m:22832\n"
     ]
    }
   ],
   "source": [
    "[n,m]  = np.shape(train_data)                    # number of pixels and number of training data\n",
    "\n",
    "eta    = 0.05                               # learning rate\n",
    "winit  = 1\n",
    "\n",
    "tmax   = 40000\n",
    "clusters = 20\n",
    "\n",
    "print(\"n:{0}, m:{1}\".format(n, m))"
   ]
  },
  {
   "cell_type": "markdown",
   "metadata": {},
   "source": [
    "### cluster center도 반환하도록 프로그래밍 해야 한다.  (Cluster별 matrix 반환 완성)\n",
    "각각의 centroid를 저장하고 비교해서 정확한 centroid를 구해낸다."
   ]
  },
  {
   "cell_type": "code",
   "execution_count": 1,
   "metadata": {
    "collapsed": false
   },
   "outputs": [],
   "source": [
    "def get_Cost(clusters_num, train):\n",
    "    costs = []\n",
    "    centroids = np.zeros((clusters_num, n, 10), dtype=float)\n",
    "    for iter_i in range(10):\n",
    "        W = winit * np.random.rand(clusters_num,n)        # Weight matrix (rows = output neurons, cols = input neurons)\n",
    "        #print(\"W shape: {0}\".format(np.shape(W)))\n",
    "        normW = np.sqrt(np.diag(W.dot(W.T)))\n",
    "        normW = normW.reshape(clusters_num,-1)            # reshape normW into a numpy 2d array\n",
    "        W = W / normW                               # normalise using numpy broadcasting\n",
    "\n",
    "        # print(W[0,:])\n",
    "\n",
    "        normTrain = np.sqrt(np.diag(np.dot(train.T, train)))\n",
    "        normTrain = normTrain.reshape(m, -1)\n",
    "        train = train/normTrain.T\n",
    "        #print(\"normTrain shape: {0}\".format(np.shape(normTrain)))\n",
    "        #print(\"train shape: {0}\".format(np.shape(train)))\n",
    "\n",
    "        counter = np.zeros((1,clusters_num))              # counter for the winner neurons\n",
    "        wCount = np.ones((1,tmax+1)) * 0.25         # running avg of the weight change over time\n",
    "        alpha = 0.999\n",
    "\n",
    "        yl = int(round(clusters_num/5))                   # counter for the rows of the subplot\n",
    "        if clusters_num % 5 != 0:\n",
    "            yl += 1\n",
    "\n",
    "        #fig_neurs, axes_neurs = plt.subplots(yl,5)  # fig for the output neurons\n",
    "        #fig_stats, axes_stats = plt.subplots(3,1, figsize=(5, 5))   # fig for the learning stats\n",
    "        #fig_inOut, axes_inOut = plt.subplots(2,1, figsize=(5, 5))\n",
    "        trials = np.arange(n)\n",
    "\n",
    "        for t in range(1,tmax):\n",
    "            i = math.ceil(m * np.random.rand())-1   # get a randomly generated index in the input range\n",
    "            x = train[:,i]                          # pick a training instance using the random index\n",
    "\n",
    "            h = W.dot(x)/clusters_num                     # get output firing\n",
    "            h = h.reshape((h.shape[0],-1))          # reshape h into a numpy 2d array\n",
    "\n",
    "            xi = np.random.rand(clusters_num,1) / 200\n",
    "            output = np.max(h+xi)                   # get the max in the output firing vector + noise\n",
    "            k = np.argmax(h+xi)                     # get the index of the firing neuron\n",
    "\n",
    "            counter[0,k] += 1                       # increment counter for winner neuron\n",
    "\n",
    "            dw = eta * (x.T - W[k,:])               # calculate the change in weights for the k-th output neuron\n",
    "            # get closer to the input (x - W)\n",
    "\n",
    "            wCount[0,t] = wCount[0,t-1] * (alpha + dw.dot(dw.T)*(1-alpha)) # % weight change over time (running avg)\n",
    "\n",
    "            W[k,:] = W[k,:] + dw                    # weights for k-th output are updated\n",
    "\n",
    "            if wCount[0, t] < 0.0001:\n",
    "                break\n",
    "\n",
    "        #print(\"W shape: {0}\".format(np.shape(W)))\n",
    "        #get_Cost(W, clusters_num)\n",
    "        ##########################################\n",
    "        # save means of clusters into the 3X3 centroids matrix\n",
    "        centroids[:, :, iter_i] = W\n",
    "\n",
    "        ##########################################\n",
    "        # get indices of clusters for each data\n",
    "        cluster_idx = []\n",
    "        for data in range(m):\n",
    "            min_vals = []\n",
    "            for weight in range(clusters_num):\n",
    "                diff = W[weight, :] - train[:, data]\n",
    "                min_vals.append(sum(np.square(diff)))\n",
    "\n",
    "            min_idx = np.argmin(min_vals)\n",
    "            cluster_idx.append(min_idx)\n",
    "\n",
    "\n",
    "        # get True and False\n",
    "        for i in range(clusters_num):\n",
    "            cluster_map = np.array(cluster_idx) == i\n",
    "\n",
    "            # make matrix of True and False for mapping\n",
    "            cluster = cluster_map\n",
    "            for j in range(14):\n",
    "                cluster = np.vstack((cluster, cluster_map))\n",
    "            #print(np.shape(train[cluster].reshape(n, -1)))\n",
    "\n",
    "            for k in range(clusters_num):\n",
    "                clt = \"cluster{0}\".format(i)\n",
    "                globals()[clt]=train[cluster].reshape(n, -1)\n",
    "            #print(\"cluster{0}: \".format(i), np.shape(eval(\"cluster{0}\".format(i))))\n",
    "\n",
    "\n",
    "        ##########################################\n",
    "        diff_sum = [] # all differences of clusters\n",
    "        for c in range(clusters_num):\n",
    "            diff_vals = [] # difference for one cluster\n",
    "            clt = \"cluster{0}\".format(c)\n",
    "            [n2, m2] = np.shape(eval(clt))\n",
    "            for data in range(m2):\n",
    "                diff = np.square(eval(clt)[:, data] - W[c, :])\n",
    "                diff_vals.append(np.sum(diff))\n",
    "\n",
    "            diff_sum.append(np.sum(diff_vals))\n",
    "\n",
    "        #print(np.shape(diff_sum))\n",
    "        costs.append(np.sum(diff_sum))\n",
    "        #print(\"Total loose of {0} cluster: {1}\".format(clusters_num, np.sum(diff_sum)))\n",
    "        #print(\"iteration \", iter_i)\n",
    "    #print(\"Costs of {0} clusters: {1}\".format(clusters_num, min(costs)))\n",
    "    return min(costs), centroids"
   ]
  },
  {
   "cell_type": "raw",
   "metadata": {},
   "source": [
    "for clt in range(3):\n",
    "    cent_matrix = \"cent_matrix{0}\".format(clt+1)\n",
    "    [cost, cent] = get_Cost(clt+1, train_data)\n",
    "    globals()[cent_matrix] = cent"
   ]
  },
  {
   "cell_type": "raw",
   "metadata": {},
   "source": [
    "print(np.shape(cent_matrix1))\n",
    "'''\n",
    "print(np.shape(cent))\n",
    "fig, ax = plt.subplots(10, 3, figsize=(20, 10))\n",
    "for ii in range(10):\n",
    "    for jj in range(3):\n",
    "        ax[ii, jj].plot(np.arange(15)+1, cent[jj, :, ii], 'b-')\n",
    "plt.show()\n",
    "'''"
   ]
  },
  {
   "cell_type": "raw",
   "metadata": {},
   "source": [
    "print(np.shape(cent))\n",
    "print(cent[0, :, 1])"
   ]
  },
  {
   "cell_type": "markdown",
   "metadata": {},
   "source": [
    "# AIC & BIC & Elbow methods"
   ]
  },
  {
   "cell_type": "code",
   "execution_count": 6,
   "metadata": {
    "collapsed": false
   },
   "outputs": [
    {
     "name": "stdout",
     "output_type": "stream",
     "text": [
      "iteration  1\n",
      "iteration  2\n",
      "iteration  3\n",
      "iteration  4\n",
      "iteration  5\n",
      "iteration  6\n",
      "iteration  7\n",
      "iteration  8\n",
      "iteration  9\n",
      "iteration  10\n",
      "iteration  11\n",
      "iteration  12\n",
      "iteration  13\n",
      "iteration  14\n",
      "iteration  15\n",
      "iteration  16\n",
      "iteration  17\n",
      "iteration  18\n",
      "iteration  19\n",
      "iteration  20\n"
     ]
    }
   ],
   "source": [
    "## AIC\n",
    "\n",
    "elbow = []\n",
    "AIC = []\n",
    "BIC = []\n",
    "for clt in range(clusters):\n",
    "    cent_matrix = \"cent_matrix_ABIC{0}\".format(clt+1)\n",
    "    [cost, cent] = get_Cost(clt+1, train_data)\n",
    "    globals()[cent_matrix] = cent\n",
    "    \n",
    "    elbow.append(cost)\n",
    "    AIC.append(cost + 2*clt)\n",
    "    BIC.append(cost +  clt*math.log10(15))\n",
    "    print(\"iteration \", clt+1)\n",
    "# print(AIC)"
   ]
  },
  {
   "cell_type": "code",
   "execution_count": 7,
   "metadata": {
    "collapsed": false
   },
   "outputs": [
    {
     "data": {
      "image/png": "[encoded data removed]",
      "text/plain": [
       "<matplotlib.figure.Figure at 0x116389ac8>"
      ]
     },
     "metadata": {},
     "output_type": "display_data"
    }
   ],
   "source": [
    "fig = plt.figure(figsize=(10,7))                                                               \n",
    "ax = fig.add_subplot(1,1,1) \n",
    "\n",
    "#ax.set_xticks(major_ticks)\n",
    "ax.set_xticks(np.arange(0, 21, 1), minor=True)\n",
    "\n",
    "ax.grid(which='both')\n",
    "\n",
    "ax.grid(which='minor', alpha=0.2)                                                \n",
    "ax.grid(which='major', alpha=0.5)\n",
    "\n",
    "ax.plot(np.arange(clusters)+1, elbow, 'g-', label=\"Elbow\")\n",
    "ax.plot(np.arange(clusters)+1, AIC, 'r-', label=\"AIC\")\n",
    "ax.plot(np.arange(clusters)+1, BIC, 'b-', label=\"BIC\")\n",
    "ax.set_xlabel('k')\n",
    "ax.set_ylabel('average cost function')\n",
    "ax.legend()\n",
    "fig.savefig('AIC_BIC.png', dpi=100)"
   ]
  },
  {
   "cell_type": "markdown",
   "metadata": {},
   "source": [
    "## 이하는 연습"
   ]
  },
  {
   "cell_type": "raw",
   "metadata": {
    "collapsed": true
   },
   "source": [
    "## elbow\n",
    "\n",
    "elbow = []\n",
    "for i in range(clusters):\n",
    "    cent_matrix = \"cent_matrix_elbow{0}\".format(clt+1)\n",
    "    [cost, cent] = get_Cost(clt+1, train_data)\n",
    "    globals()[cent_matrix] = cent\n",
    "    \n",
    "    elbow.append(cost)\n",
    "    print(\"iteration \", i+1)\n",
    "    \n",
    "BIC = []\n",
    "for clt in range(clusters):\n",
    "    cent_matrix = \"cent_matrix_ABIC{0}\".format(clt+1)\n",
    "    [cost, cent] = get_Cost(clt+1, train_data)\n",
    "    globals()[cent_matrix] = cent\n",
    "    \n",
    "    AIC.append(cost + 2*clt)\n",
    "    BIC.append(cost +  clt*math.log10(15))\n",
    "    print(\"iteration \", clt+1)"
   ]
  },
  {
   "cell_type": "raw",
   "metadata": {
    "collapsed": false
   },
   "source": [
    "#elbow1 = elbow/max(elbow)\n",
    "\n",
    "fig = plt.figure(figsize=(10,7))                                                               \n",
    "ax = fig.add_subplot(1,1,1) \n",
    "\n",
    "'''\n",
    "#ax.set_xticks(major_ticks)\n",
    "ax.set_xticks(np.arange(0, 51, 2), minor=True)\n",
    "\n",
    "ax.set_yticks(np.arange(0, 1.5, 0.5))\n",
    "ax.set_yticks(np.arange(0, 1, 0.03), minor=True) \n",
    "'''\n",
    "ax.grid(which='both')\n",
    "\n",
    "ax.grid(which='minor', alpha=0.5)                                                \n",
    "ax.grid(which='major', alpha=0.9)\n",
    "\n",
    "ax.plot(np.arange(clusters)+1, elbow, 'b-', label=\"Elbow\")\n",
    "ax.set_xlabel('k')\n",
    "ax.set_ylabel('average cost function')\n",
    "fig.savefig('elbow.png', dpi=100)"
   ]
  },
  {
   "cell_type": "raw",
   "metadata": {
    "collapsed": false
   },
   "source": [
    "diff_elbow = []\n",
    "\n",
    "for i in range(clusters):\n",
    "    if i >0:\n",
    "        diff_elbow.append(elbow[i-1]-elbow[i])\n",
    "\n",
    "for i in range(len(diff_elbow)):\n",
    "    print(\"diff between {0} and {1}\\t: {2}\".format(i, i+1, diff_elbow[i]))"
   ]
  },
  {
   "cell_type": "markdown",
   "metadata": {},
   "source": [
    "# 아마 아래쪽은 연습한 것 일거다."
   ]
  },
  {
   "cell_type": "code",
   "execution_count": null,
   "metadata": {
    "collapsed": false
   },
   "outputs": [],
   "source": [
    "print(np.shape(W))"
   ]
  },
  {
   "cell_type": "raw",
   "metadata": {
    "collapsed": false
   },
   "source": [
    "## plot center weights\n",
    "\n",
    "y2 = int(math.ceil(clusters_num/2))\n",
    "\n",
    "'''\n",
    "if len(W) % 4 != 0:\n",
    "    y2 += 1\n",
    "'''\n",
    "if y2 > 1 :\n",
    "    fig_weights, axes_weights = plt.subplots(y2, 2, figsize=(10, y2*4))   # fig for the learning stats\n",
    "\n",
    "    idx = 0\n",
    "    for ii in range(y2):\n",
    "        for jj in range(2):\n",
    "            if 2*ii+jj < clusters_num:\n",
    "                #print(idx)\n",
    "                output_neuron = W[2*ii+jj,:]\n",
    "                axes_weights[ii,jj].clear()\n",
    "                axes_weights[ii,jj].plot(trials, output_neuron, 'g-')\n",
    "                idx = idx + 1\n",
    "\n",
    "            title = \"center {0}\".format(idx)\n",
    "            axes_weights[ii,jj].axis((-(len(trials)/20.0), len(trials), -0.2, 0.8))\n",
    "            axes_weights[ii,jj].set_title(title)\n",
    "            axes_weights[ii,jj].set_xlabel('attempts')\n",
    "            axes_weights[ii,jj].set_ylabel('scores')\n",
    "            #axes_weights[ii,jj].get_xaxis().set_ticks([])\n",
    "            #axes_weights[ii,jj].get_yaxis().set_ticks([])\n",
    "\n",
    "else:\n",
    "    fig_weights, axes_weights = plt.subplots(1, 2, figsize=(15, y2*4))   # fig for the learning stats\n",
    "\n",
    "    idx = 0\n",
    "    for jj in range(clusters_num):\n",
    "        #print(idx)\n",
    "        output_neuron = W[jj,:]\n",
    "        axes_weights[jj].clear()\n",
    "        axes_weights[jj].plot(trials, output_neuron, 'g-')\n",
    "        idx = idx + 1\n",
    "\n",
    "        title = \"center {0}\".format(idx)\n",
    "        axes_weights[jj].axis((-(len(trials)/20.0), len(trials), -0.2, 0.8))\n",
    "        axes_weights[jj].set_title(title)\n",
    "        axes_weights[jj].set_xlabel('attempts')\n",
    "        axes_weights[jj].set_ylabel('scores')\n",
    "        #axes_weights[ii,jj].get_xaxis().set_ticks([])\n",
    "        #axes_weights[ii,jj].get_yaxis().set_ticks([])\n",
    "plt.tight_layout(True)\n",
    "#fig_weights.savefig('/Users/PureMac/Desktop/wieght.png')\n",
    "plt.show()"
   ]
  },
  {
   "cell_type": "code",
   "execution_count": null,
   "metadata": {
    "collapsed": false
   },
   "outputs": [],
   "source": [
    "# get indices of clusters for each data\n",
    "cluster_idx = []\n",
    "for data in range(m):\n",
    "    min_vals = []\n",
    "    for weight in range(clusters_num):\n",
    "        diff = W[weight, :] - train[:, data]\n",
    "        min_vals.append(sum(np.square(diff)))\n",
    "\n",
    "    min_idx = np.argmin(min_vals)\n",
    "    cluster_idx.append(min_idx)\n",
    "\n",
    "# get True and False\n",
    "for i in range(clusters_num):\n",
    "    cluster_map = np.array(cluster_idx) == i\n",
    "\n",
    "    # make matrix of True and False for mapping\n",
    "    cluster = cluster_map\n",
    "    for j in range(14):\n",
    "        cluster = np.vstack((cluster, cluster_map))\n",
    "    #print(np.shape(train[cluster].reshape(n, -1)))\n",
    "    \n",
    "    for k in range(clusters_num):\n",
    "        clt = \"cluster{0}\".format(i)\n",
    "        globals()[clt]=train[cluster].reshape(n, -1)\n",
    "    print(\"cluster{0}: \".format(i), np.shape(eval(\"cluster{0}\".format(i))))"
   ]
  },
  {
   "cell_type": "raw",
   "metadata": {
    "collapsed": false
   },
   "source": [
    "fig_cluster, axes_cluster = plt.subplots(y2, 2, figsize=(15, y2*4))   # fig for the learning stats\n",
    "\n",
    "if y2 > 1 :\n",
    "    idx = 0\n",
    "    for ii in range(y2):\n",
    "        for jj in range(2):\n",
    "            if 2*ii+jj < clusters_num:\n",
    "                cl_idx = \"cluster{0}\".format(idx)\n",
    "                #print(cl_idx, idx)\n",
    "                [n1, m1] = np.shape(eval(cl_idx))\n",
    "                axes_cluster[ii,jj].clear()\n",
    "                for i in range(m1):\n",
    "                    axes_cluster[ii,jj].scatter(trials, eval(cl_idx)[:, i], c='crimson', marker='x')\n",
    "                    #axes_cluster[ii,jj].plot(trials, eval(cl_idx)[:, i], 'r.')\n",
    "                    #print(cl_idx)\n",
    "                idx = idx + 1\n",
    "\n",
    "                means = np.mean(eval(cl_idx), axis = 1)\n",
    "                errors = 2 * np.std(eval(cl_idx), axis = 1) / np.sqrt(trials+1) # errorbars are equal to twice standard error i.e. std/sqrt(samples)\n",
    "                axes_cluster[ii,jj].errorbar(trials, means, errors, 0, elinewidth = 3)\n",
    "\n",
    "                axes_cluster[ii,jj].axis((-(len(trials)/10.0), len(trials), -min(errors)-0.2, 0.8))\n",
    "                title = \"cluster {0}\".format(idx)\n",
    "                axes_cluster[ii,jj].set_title(title)\n",
    "                axes_cluster[ii,jj].set_xlabel('attempts')\n",
    "                axes_cluster[ii,jj].set_ylabel('avg. score')\n",
    "                #axes_weights[ii,jj].get_xaxis().set_ticks([])\n",
    "                #axes_weights[ii,jj].get_yaxis().set_ticks([])\n",
    "\n",
    "else:\n",
    "    idx = 0\n",
    "    for jj in range(clusters_num):\n",
    "        cl_idx = \"cluster{0}\".format(idx)\n",
    "        #print(cl_idx, idx)\n",
    "        [n1, m1] = np.shape(eval(cl_idx))\n",
    "        axes_cluster[jj].clear()\n",
    "        for i in range(m1):\n",
    "            axes_cluster[jj].scatter(trials, eval(cl_idx)[:, i], c='crimson', marker='x')\n",
    "            #axes_cluster[ii,jj].plot(trials, eval(cl_idx)[:, i], 'r.')\n",
    "            #print(cl_idx)\n",
    "        idx = idx + 1\n",
    "\n",
    "        means = np.mean(eval(cl_idx), axis = 1)\n",
    "        errors = 2 * np.std(eval(cl_idx), axis = 1) / np.sqrt(trials+1) # errorbars are equal to twice standard error i.e. std/sqrt(samples)\n",
    "        axes_cluster[jj].errorbar(trials, means, errors, 0, elinewidth = 3)\n",
    "\n",
    "\n",
    "\n",
    "        axes_cluster[jj].axis((-(len(trials)/10.0), len(trials), -min(errors)-0.2, 0.8))\n",
    "        title = \"cluster {0}\".format(idx)\n",
    "        axes_cluster[jj].set_title(title)\n",
    "        axes_cluster[jj].set_xlabel('attempts')\n",
    "        axes_cluster[jj].set_ylabel('avg. score')\n",
    "        #axes_weights[ii,jj].get_xaxis().set_ticks([])\n",
    "        #axes_weights[ii,jj].get_yaxis().set_ticks([])\n",
    "plt.tight_layout(True)\n",
    "#fig_cluster.savefig('/Users/PureMac/Desktop/error.png')\n",
    "plt.show()"
   ]
  },
  {
   "cell_type": "code",
   "execution_count": null,
   "metadata": {
    "collapsed": false
   },
   "outputs": [],
   "source": [
    "diff_sum = [] # all differences of clusters\n",
    "for c in range(clusters_num):\n",
    "    diff_vals = [] # difference for one cluster\n",
    "    clt = \"cluster{0}\".format(c)\n",
    "    [n2, m2] = np.shape(eval(clt))\n",
    "    for data in range(m2):\n",
    "        diff = np.square(eval(clt)[:, data] - W[c, :])\n",
    "        diff_vals.append(np.sum(diff))\n",
    "\n",
    "    diff_sum.append(np.sum(diff_vals))\n",
    "\n",
    "#print(np.shape(diff_sum))\n",
    "print(\"Total loose of {0} cluster: {1}\".format(clusters_num, np.sum(diff_sum)))"
   ]
  }
 ],
 "metadata": {
  "kernelspec": {
   "display_name": "Python 3",
   "language": "python",
   "name": "python3"
  },
  "language_info": {
   "codemirror_mode": {
    "name": "ipython",
    "version": 3
   },
   "file_extension": ".py",
   "mimetype": "text/x-python",
   "name": "python",
   "nbconvert_exporter": "python",
   "pygments_lexer": "ipython3",
   "version": "3.5.1"
  }
 },
 "nbformat": 4,
 "nbformat_minor": 0
}
