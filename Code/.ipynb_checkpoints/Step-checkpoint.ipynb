{
 "cells": [
  {
   "cell_type": "code",
   "execution_count": 9,
   "metadata": {
    "collapsed": false
   },
   "outputs": [
    {
     "name": "stdout",
     "output_type": "stream",
     "text": [
      "Training data set: (300, 22832)\n",
      "../../Figs/curve_fitting/ already present - Skipping pickling.\n"
     ]
    }
   ],
   "source": [
    "import numpy as np\n",
    "from scipy.optimize import curve_fit\n",
    "from scipy.optimize import least_squares\n",
    "import DC_Pickle as dcp\n",
    "import Curve_Functions as cv\n",
    "import matplotlib.pyplot as plt\n",
    "%matplotlib inline\n",
    "\n",
    "def disp_Data(x, y_true, y_pred, file_path, clt_num, cost, rows=1, columns=1, size=(6, 4)):\n",
    "    fig, ax = plt.subplots(rows, columns, figsize=size)\n",
    "    ax.plot(x, y_true, 'rx', label='average score')\n",
    "    ax.plot(x, y_pred, 'b-', label='curve fitting')\n",
    "    ax.set_xlim([0, max(x)+1])\n",
    "    ax.set_ylim([0, max(y_true)+0.2])\n",
    "    ax.legend(fontsize=14)\n",
    "    ax.set_title(\"cluster {0}: cost {1}\".format(clt_num, round(cost, 2)))\n",
    "    fig.savefig(file_path, dpi=100)\n",
    "    plt.show()\n",
    "    \n",
    "train_idx = dcp.open_Pickle(\"../../data/pickles/clusters_origin/15attempts/indices/index12.pickle\")\n",
    "train_idx = train_idx[9] #2, 8\n",
    "\n",
    "train_scores = dcp.open_Pickle('../../data/pickles/seperate_origin/eventValue.pickle')\n",
    "train_scores = train_scores[:300, :]/1e+4\n",
    "attempts15 = np.arange(15)+1\n",
    "attempts300 = np.arange(300)+1\n",
    "\n",
    "## filtering discontinuous under 15 attempts\n",
    "idx_all = []\n",
    "idx_pure = []\n",
    "\n",
    "for i in range(train_scores.shape[1]):\n",
    "    if not np.isnan(train_scores[:15, i]).any():\n",
    "        idx_all.append(i)\n",
    "        idx_pure.append(i)\n",
    "    else:\n",
    "        idx_all.append(np.nan)\n",
    "\n",
    "train_scores = train_scores[:, idx_pure]\n",
    "print(\"Training data set: {0}\".format(np.shape(train_scores)))\n",
    "\n",
    "## get cluster data and cluster average data (average is centroid)\n",
    "nClt = 13\n",
    "for i in range(nClt):\n",
    "    name = \"cluster{0}\".format(i+1)\n",
    "    globals()[name] = train_scores[:, train_idx==i] # get cluster data\n",
    "    \n",
    "    ## get cluster average data\n",
    "    data = np.ones(300)\n",
    "    for j in range(len(data)):\n",
    "        avg = eval(name)[j, :]\n",
    "        avg = np.sum(avg[~np.isnan(avg)])/len(avg[~np.isnan(avg)])\n",
    "        data[j] = avg\n",
    "\n",
    "    globals()[\"avg{0}\".format(i+1)] = data\n",
    "    \n",
    "dcp.make_folders(\"../../Figs/curve_fitting/\")"
   ]
  },
  {
   "cell_type": "code",
   "execution_count": 10,
   "metadata": {
    "collapsed": false
   },
   "outputs": [
    {
     "ename": "NameError",
     "evalue": "name 'step_least2' is not defined",
     "output_type": "error",
     "traceback": [
      "\u001b[0;31m---------------------------------------------------------------------------\u001b[0m",
      "\u001b[0;31mNameError\u001b[0m                                 Traceback (most recent call last)",
      "\u001b[0;32m<ipython-input-10-8714a72bf06d>\u001b[0m in \u001b[0;36m<module>\u001b[0;34m()\u001b[0m\n\u001b[1;32m      8\u001b[0m \u001b[0;34m\u001b[0m\u001b[0m\n\u001b[1;32m      9\u001b[0m step_opt, step_cost = cv.curve_Fitting(\n\u001b[0;32m---> 10\u001b[0;31m         \u001b[0mstep_least2\u001b[0m\u001b[0;34m,\u001b[0m \u001b[0mstep_curve2\u001b[0m\u001b[0;34m,\u001b[0m\u001b[0;34m\u001b[0m\u001b[0m\n\u001b[0m\u001b[1;32m     11\u001b[0m         \u001b[0mattempts15\u001b[0m\u001b[0;34m,\u001b[0m \u001b[0meval\u001b[0m\u001b[0;34m(\u001b[0m\u001b[0;34m\"avg{0}\"\u001b[0m\u001b[0;34m.\u001b[0m\u001b[0mformat\u001b[0m\u001b[0;34m(\u001b[0m\u001b[0;36m1\u001b[0m\u001b[0;34m)\u001b[0m\u001b[0;34m)\u001b[0m\u001b[0;34m[\u001b[0m\u001b[0;34m:\u001b[0m\u001b[0;36m15\u001b[0m\u001b[0;34m]\u001b[0m\u001b[0;34m,\u001b[0m \u001b[0mseed\u001b[0m\u001b[0;34m,\u001b[0m\u001b[0;34m\u001b[0m\u001b[0m\n\u001b[1;32m     12\u001b[0m         \"../../Figs/curve_fitting/step/single/sample{0}\".format(1), clt_num = i+1)\n",
      "\u001b[0;31mNameError\u001b[0m: name 'step_least2' is not defined"
     ]
    }
   ],
   "source": [
    "def step_curve(x, w0):\n",
    "    return  [w0]*len(x)\n",
    "\n",
    "def step_least(w, x, y):\n",
    "    return polynomial_curve(x, w[0]) - y\n",
    "\n",
    "seed = 1\n",
    "dcp.make_folders(\"../../Figs/curve_fitting/step/single/\")\n",
    "\n",
    "step_opt, step_cost = cv.curve_Fitting(\n",
    "        step_least, step_curve, \n",
    "        attempts300, eval(\"avg{0}\".format(1)), seed, \n",
    "        \"../../Figs/curve_fitting/step/single/sample{0}\".format(1), clt_num = i+1)\n",
    "\n",
    "## validation\n",
    "y_fit_true = step_curve2(attempts300, step_opt)\n",
    "\n",
    "step_cost_valid = cv.cost_Function(eval(\"avg{0}\".format(1)), y_fit_valid) # get cost for all data\n",
    "\n",
    "disp_Data(attempts300, eval(\"avg{0}\".format(i+1)), y_fit_true, \n",
    "          file_path=\"../../Figs/curve_fitting/step/single/valid{0}\".format(i+1), \n",
    "          clt_num=i+1, cost = step_cost_valid)"
   ]
  },
  {
   "cell_type": "code",
   "execution_count": null,
   "metadata": {
    "collapsed": true
   },
   "outputs": [],
   "source": [
    "dcp.make_folders(\"../../Figs/curve_fitting/step/single/\")\n",
    "\n",
    "seed = [1, 1]\n",
    "for i in range(nClt):\n",
    "    print(\"cluster {0}:\".format(i+1))\n",
    "    ## train\n",
    "    exp2_opt, exp2_cost = cv.curve_Fitting(\n",
    "        cv.exponential_least2, cv.exponential_curve2, \n",
    "        attempts15, eval(\"avg{0}\".format(i+1))[:15], seed, \n",
    "        \"../../Figs/curve_fitting/step/single/sample{0}\".format(i+1), clt_num = i+1)\n",
    "    \n",
    "    true_opt, true_cost = cv.curve_Fitting(\n",
    "        cv.exponential_least2, cv.exponential_curve2, \n",
    "        attempts300, eval(\"avg{0}\".format(i+1)), seed, \n",
    "        \"../../Figs/curve_fitting/step/single/dummy\", clt_num = i+1)\n",
    "    \n",
    "    ## validation\n",
    "    y_fit_valid = cv.exponential_curve2(attempts300, exp2_opt[0], exp2_opt[1])\n",
    "    y_fit_true = cv.exponential_curve2(attempts300, true_opt[0], true_opt[1])\n",
    "    \n",
    "    exp2_cost_valid = cv.cost_Function(eval(\"avg{0}\".format(i+1)), y_fit_valid) # get cost for all data\n",
    "    exp2_cost_true = cv.cost_Function(eval(\"avg{0}\".format(i+1)), y_fit_true) # get cost for all data\n",
    "    \n",
    "    disp_Data(attempts300, eval(\"avg{0}\".format(i+1)), y_fit_valid, \n",
    "              file_path=\"../../Figs/curve_fitting/step/single/valid{0}\".format(i+1), \n",
    "              clt_num=i+1, cost = exp2_cost_valid)\n",
    "    \n",
    "    disp_Data(attempts300, eval(\"avg{0}\".format(i+1)), y_fit_true, \n",
    "          file_path=\"../../Figs/curve_fitting/step/single/true{0}\".format(i+1), \n",
    "          clt_num=i+1, cost = exp2_cost_true)"
   ]
  }
 ],
 "metadata": {
  "kernelspec": {
   "display_name": "Python 3",
   "language": "python",
   "name": "python3"
  },
  "language_info": {
   "codemirror_mode": {
    "name": "ipython",
    "version": 3
   },
   "file_extension": ".py",
   "mimetype": "text/x-python",
   "name": "python",
   "nbconvert_exporter": "python",
   "pygments_lexer": "ipython3",
   "version": "3.5.1"
  }
 },
 "nbformat": 4,
 "nbformat_minor": 0
}
