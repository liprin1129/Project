{
 "cells": [
  {
   "cell_type": "code",
   "execution_count": 1,
   "metadata": {
    "collapsed": false
   },
   "outputs": [
    {
     "name": "stdout",
     "output_type": "stream",
     "text": [
      "Training data set: (300, 22832)\n",
      "../../Figs/curve_fitting/ already present - Skipping pickling.\n",
      "1: (300, 2045)\n",
      "2: (300, 1709)\n",
      "3: (300, 1354)\n",
      "4: (300, 1894)\n",
      "5: (300, 1930)\n",
      "6: (300, 2093)\n",
      "7: (300, 1187)\n",
      "8: (300, 1988)\n",
      "9: (300, 1678)\n",
      "10: (300, 1403)\n",
      "11: (300, 2489)\n",
      "12: (300, 1802)\n",
      "13: (300, 1260)\n"
     ]
    }
   ],
   "source": [
    "import numpy as np\n",
    "from scipy.optimize import curve_fit\n",
    "from scipy.optimize import least_squares\n",
    "import DC_Pickle as dcp\n",
    "import Curve_Functions as cv\n",
    "import matplotlib.pyplot as plt\n",
    "%matplotlib inline\n",
    "\n",
    "def disp_Data(x, y_true, y_pred, file_path, clt_num, cost, rows=1, columns=1):\n",
    "    fig, ax = plt.subplots(rows, columns)\n",
    "    ax.plot(x, y_true, '.', c='black', label='average score')\n",
    "    ax.plot(x, y_pred, 'b-', label='curve fitting', linewidth=4)\n",
    "    ax.set_xlim([0, max(x)+1])\n",
    "    ax.set_ylim([0, max(y_true)+0.2])\n",
    "    ax.legend(fontsize=14)\n",
    "    ax.set_title(\"Cluster {0}: {1} errors loss\".format(clt_num, round(cost, 2)))\n",
    "    fig.savefig(file_path, dpi=100)\n",
    "    plt.show()\n",
    "    \n",
    "train_idx = dcp.open_Pickle(\"../../data/pickles/clusters_origin/15attempts/indices/index13.pickle\")\n",
    "train_idx = train_idx[2] #2, 8\n",
    "\n",
    "train_scores = dcp.open_Pickle('../../data/pickles/seperate_origin/eventValue.pickle')\n",
    "train_scores = train_scores[:300, :]/1e+4\n",
    "attempts50 = np.arange(50)+1\n",
    "attempts300 = np.arange(300)+1\n",
    "\n",
    "## filtering discontinuous under 15 attempts\n",
    "idx_all = []\n",
    "idx_pure = []\n",
    "\n",
    "for i in range(train_scores.shape[1]):\n",
    "    if not np.isnan(train_scores[:15, i]).any():\n",
    "        idx_all.append(i)\n",
    "        idx_pure.append(i)\n",
    "    else:\n",
    "        idx_all.append(np.nan)\n",
    "\n",
    "train_scores = train_scores[:, idx_pure]\n",
    "print(\"Training data set: {0}\".format(np.shape(train_scores)))\n",
    "\n",
    "## get cluster data and cluster average data (average is centroid)\n",
    "nClt = 13\n",
    "for i in range(nClt):\n",
    "    name = \"cluster{0}\".format(i+1)\n",
    "    globals()[name] = train_scores[:, train_idx==i] # get cluster data\n",
    "    \n",
    "    ## get cluster average data\n",
    "    data = np.ones(300)\n",
    "    for j in range(len(data)):\n",
    "        avg = eval(name)[j, :]\n",
    "        avg = np.sum(avg[~np.isnan(avg)])/len(avg[~np.isnan(avg)])\n",
    "        data[j] = avg\n",
    "\n",
    "    globals()[\"avg{0}\".format(i+1)] = data\n",
    "    \n",
    "dcp.make_folders(\"../../Figs/curve_fitting/\")\n",
    "\n",
    "print(\"1:\", np.shape(cluster1))\n",
    "print(\"2:\", np.shape(cluster2))\n",
    "print(\"3:\", np.shape(cluster3))\n",
    "print(\"4:\", np.shape(cluster4))\n",
    "print(\"5:\", np.shape(cluster5))\n",
    "print(\"6:\", np.shape(cluster6))\n",
    "print(\"7:\", np.shape(cluster7))\n",
    "print(\"8:\", np.shape(cluster8))\n",
    "print(\"9:\", np.shape(cluster9))\n",
    "print(\"10:\", np.shape(cluster10))\n",
    "print(\"11:\", np.shape(cluster11))\n",
    "print(\"12:\", np.shape(cluster12))\n",
    "print(\"13:\", np.shape(cluster13))"
   ]
  },
  {
   "cell_type": "code",
   "execution_count": null,
   "metadata": {
    "collapsed": false
   },
   "outputs": [],
   "source": [
    "def step_curve(x, w0):\n",
    "    return  [w0]*len(x)\n",
    "\n",
    "def step_least(w, x, y):\n",
    "    return step_curve(x, w[0]) - y\n",
    "\n",
    "seed = [1]\n",
    "dcp.make_folders(\"../../Figs/curve_fitting/step/single/\")\n",
    "\n",
    "step_opt, step_cost = cv.curve_Fitting(\n",
    "        step_least, step_curve, \n",
    "        attempts300, eval(\"avg{0}\".format(1)), seed, \n",
    "        \"../../Figs/curve_fitting/step/single/sample{0}\".format(1), clt_num = 1)\n",
    "\n",
    "## validation\n",
    "y_fit_true = step_curve(attempts300, step_opt)\n",
    "\n",
    "step_cost_valid = cv.cost_Function(eval(\"avg{0}\".format(1)), y_fit_true) # get cost for all data\n",
    "\n",
    "disp_Data(attempts300, eval(\"avg{0}\".format(1)), y_fit_true, \n",
    "          file_path=\"../../Figs/curve_fitting/step/single/valid{0}\".format(1), \n",
    "          clt_num=1, cost = step_cost_valid)"
   ]
  },
  {
   "cell_type": "code",
   "execution_count": null,
   "metadata": {
    "collapsed": false
   },
   "outputs": [],
   "source": [
    "idx_matrix, err_matrix, len_matrix = cv.curve_Matrix(avg8, step_least, seed=[1], window=50, piece=3)\n",
    "print(idx_matrix)\n",
    "print(len_matrix)\n",
    "\n",
    "cost, min_length, min_indice = cv.multCurve_Fitting(avg8, step_least, s=[1], w=50, p=3)"
   ]
  },
  {
   "cell_type": "code",
   "execution_count": null,
   "metadata": {
    "collapsed": false
   },
   "outputs": [],
   "source": [
    "x1 = np.linspace(1, 200, 200)\n",
    "x2 = np.linspace(201, 250, 50)\n",
    "x3 = np.linspace(251, 300, 50)\n",
    "\n",
    "y1 = avg8[:200]\n",
    "y2 = avg8[200:250]\n",
    "y3 = avg8[250:]\n",
    "\n",
    "lsq1 = least_squares(step_least, seed, args=(x1, y1))\n",
    "lsq2 = least_squares(step_least, seed, args=(x2, y2))\n",
    "lsq3 = least_squares(step_least, seed, args=(x3, y3))\n",
    "\n",
    "plt.plot(attempts300, avg8, 'rx')\n",
    "plt.plot(x1, step_curve(x1, lsq1.x))\n",
    "plt.plot(x2, step_curve(x2, lsq2.x))\n",
    "plt.plot(x3, step_curve(x3, lsq3.x))"
   ]
  },
  {
   "cell_type": "code",
   "execution_count": null,
   "metadata": {
    "collapsed": false
   },
   "outputs": [],
   "source": [
    "for p in range(9): # for 10 pieces\n",
    "    costs = []\n",
    "    lengths = np.zeros([1, p+2, 13])\n",
    "    indice = np.zeros([1, p+2, 13])\n",
    "\n",
    "    seed = [1]\n",
    "    leastFunction = cv.step_least\n",
    "    print(\"\\n\\n - {0} pieces\".format(p+2))\n",
    "    for j in range(nClt): # for clusters\n",
    "        print(\"\\t avg{0}, \".format(j+1), end='')\n",
    "        file_name = \"avg{0}\".format(j+1)\n",
    "        cost, min_length, min_indice = cv.multCurve_Fitting(eval(file_name), leastFunction, s=seed, w=30, p=p+2)\n",
    "        costs.append(cost)\n",
    "        lengths[:, :, j] = min_length\n",
    "        indice[:, :, j] = min_indice\n",
    "        dcp.make_folders('../../data/pickles/Fitting/300Attempts/Step/pieces{0}/avg{1}/'.format(p+2, j+1))\n",
    "        dcp.make_Pickle(cost, '../../data/pickles/Fitting/300Attempts/Step/pieces{0}/avg{1}/cost.pickle'.format(p+2, j+1))\n",
    "        dcp.make_Pickle(min_length, '../../data/pickles/Fitting/300Attempts/Step/pieces{0}/avg{1}/length.pickle'.format(p+2, j+1))\n",
    "        dcp.make_Pickle(min_indice, '../../data/pickles/Fitting/300Attempts/Step/pieces{0}/avg{1}/index.pickle'.format(p+2, j+1))"
   ]
  },
  {
   "cell_type": "code",
   "execution_count": 6,
   "metadata": {
    "collapsed": false
   },
   "outputs": [
    {
     "name": "stdout",
     "output_type": "stream",
     "text": [
      "piece:0, len:2\n"
     ]
    },
    {
     "ename": "ValueError",
     "evalue": "setting an array element with a sequence.",
     "output_type": "error",
     "traceback": [
      "\u001b[0;31m---------------------------------------------------------------------------\u001b[0m",
      "\u001b[0;31mValueError\u001b[0m                                Traceback (most recent call last)",
      "\u001b[0;32m<ipython-input-6-65ee52a0cf35>\u001b[0m in \u001b[0;36m<module>\u001b[0;34m()\u001b[0m\n\u001b[1;32m     49\u001b[0m                 \u001b[0mdcp\u001b[0m\u001b[0;34m.\u001b[0m\u001b[0mmake_Pickle\u001b[0m\u001b[0;34m(\u001b[0m\u001b[0mparameters\u001b[0m\u001b[0;34m,\u001b[0m \u001b[0;34m'../../data/pickles/Fitting/300Attempts/Step/pieces{0}/avg{1}/params.pickle'\u001b[0m\u001b[0;34m.\u001b[0m\u001b[0mformat\u001b[0m\u001b[0;34m(\u001b[0m\u001b[0mpiece\u001b[0m\u001b[0;34m+\u001b[0m\u001b[0;36m2\u001b[0m\u001b[0;34m,\u001b[0m \u001b[0mparam\u001b[0m\u001b[0;34m+\u001b[0m\u001b[0;36m2\u001b[0m\u001b[0;34m,\u001b[0m \u001b[0mclt\u001b[0m\u001b[0;34m+\u001b[0m\u001b[0;36m1\u001b[0m\u001b[0;34m)\u001b[0m\u001b[0;34m)\u001b[0m\u001b[0;34m\u001b[0m\u001b[0m\n\u001b[1;32m     50\u001b[0m \u001b[0;34m\u001b[0m\u001b[0m\n\u001b[0;32m---> 51\u001b[0;31m \u001b[0mdisp_MultipleCurve\u001b[0m\u001b[0;34m(\u001b[0m\u001b[0;34m)\u001b[0m\u001b[0;34m\u001b[0m\u001b[0m\n\u001b[0m",
      "\u001b[0;32m<ipython-input-6-65ee52a0cf35>\u001b[0m in \u001b[0;36mdisp_MultipleCurve\u001b[0;34m()\u001b[0m\n\u001b[1;32m     36\u001b[0m                 \u001b[0mplt\u001b[0m\u001b[0;34m.\u001b[0m\u001b[0mplot\u001b[0m\u001b[0;34m(\u001b[0m\u001b[0;34m[\u001b[0m\u001b[0mx_idx\u001b[0m\u001b[0;34m[\u001b[0m\u001b[0;36m1\u001b[0m\u001b[0;34m]\u001b[0m\u001b[0;34m]\u001b[0m\u001b[0;34m*\u001b[0m\u001b[0;36m50\u001b[0m\u001b[0;34m,\u001b[0m \u001b[0mnp\u001b[0m\u001b[0;34m.\u001b[0m\u001b[0mlinspace\u001b[0m\u001b[0;34m(\u001b[0m\u001b[0;36m0\u001b[0m\u001b[0;34m,\u001b[0m \u001b[0mmax\u001b[0m\u001b[0;34m(\u001b[0m\u001b[0meval\u001b[0m\u001b[0;34m(\u001b[0m\u001b[0my_val\u001b[0m\u001b[0;34m)\u001b[0m\u001b[0;34m)\u001b[0m\u001b[0;34m+\u001b[0m\u001b[0;36m2\u001b[0m\u001b[0;34m,\u001b[0m \u001b[0;36m50\u001b[0m\u001b[0;34m)\u001b[0m\u001b[0;34m,\u001b[0m \u001b[0;34m'-.'\u001b[0m\u001b[0;34m,\u001b[0m \u001b[0mc\u001b[0m\u001b[0;34m=\u001b[0m\u001b[0;34m'black'\u001b[0m\u001b[0;34m,\u001b[0m \u001b[0mlinewidth\u001b[0m\u001b[0;34m=\u001b[0m\u001b[0;36m1\u001b[0m\u001b[0;34m)\u001b[0m\u001b[0;34m\u001b[0m\u001b[0m\n\u001b[1;32m     37\u001b[0m                 \u001b[0mcost\u001b[0m\u001b[0;34m.\u001b[0m\u001b[0mappend\u001b[0m\u001b[0;34m(\u001b[0m\u001b[0meval\u001b[0m\u001b[0;34m(\u001b[0m\u001b[0mlsq\u001b[0m\u001b[0;34m)\u001b[0m\u001b[0;34m.\u001b[0m\u001b[0mcost\u001b[0m\u001b[0;34m)\u001b[0m\u001b[0;34m\u001b[0m\u001b[0m\n\u001b[0;32m---> 38\u001b[0;31m                 \u001b[0mparameters\u001b[0m\u001b[0;34m[\u001b[0m\u001b[0mcount\u001b[0m\u001b[0;34m]\u001b[0m \u001b[0;34m=\u001b[0m \u001b[0meval\u001b[0m\u001b[0;34m(\u001b[0m\u001b[0mlsq\u001b[0m\u001b[0;34m)\u001b[0m\u001b[0;34m.\u001b[0m\u001b[0mx\u001b[0m \u001b[0;31m# save parameters\u001b[0m\u001b[0;34m\u001b[0m\u001b[0m\n\u001b[0m\u001b[1;32m     39\u001b[0m                 \u001b[0mcount\u001b[0m \u001b[0;34m=\u001b[0m \u001b[0mcount\u001b[0m\u001b[0;34m+\u001b[0m\u001b[0;36m1\u001b[0m\u001b[0;34m\u001b[0m\u001b[0m\n\u001b[1;32m     40\u001b[0m \u001b[0;34m\u001b[0m\u001b[0m\n",
      "\u001b[0;31mValueError\u001b[0m: setting an array element with a sequence."
     ]
    },
    {
     "data": {
      "image/png": "[encoded data removed]",
      "text/plain": [
       "<matplotlib.figure.Figure at 0x11de2c9b0>"
      ]
     },
     "metadata": {},
     "output_type": "display_data"
    }
   ],
   "source": [
    "def disp_MultipleCurve():\n",
    "    x = np.linspace(1, 300, 300)\n",
    "    curve_color = ['blue', 'red', 'darkgreen', 'blue', 'red', 'darkgreen', 'blue', 'red', 'darkgreen', 'blue']\n",
    "    for piece in range(9): # for pieces\n",
    "        for clt in range(nClt): # for clusters\n",
    "\n",
    "            x_range = \"x{0}\".format(clt+1)\n",
    "            y_val = \"y{0}\".format(clt+1)\n",
    "            lsq = \"lsq{0}\".format(clt+1)\n",
    "            pred = \"pred{0}\".format(clt+1)\n",
    "            count = 0 # count for colour\n",
    "            cost = []\n",
    "\n",
    "            x_idx = dcp.open_Pickle('../../data/pickles/Fitting/300Attempts/Step/pieces{0}/avg{1}/index.pickle'.format(piece+2, clt+1))\n",
    "\n",
    "            seed = [1, 1]\n",
    "            func_name = cv.step_curve\n",
    "            least_name = cv.step_least\n",
    "            parameters = np.zeros(len(x_idx))\n",
    "\n",
    "            plt.clf()\n",
    "            plt.plot(attempts300, eval('avg{0}'.format(clt+1)), '.', c='black')\n",
    "            for i in range(len(x_idx)):\n",
    "                #print(x_idx[i])\n",
    "\n",
    "                locals()[x_range] = x[:int(x_idx[1])-1]\n",
    "                #print(eval(x_range)[0])\n",
    "                locals()[y_val] = eval('avg{0}'.format(clt+1))[:int(x_idx[1])-1]\n",
    "                #print(len(eval(y_val)))\n",
    "                locals()[lsq] = least_squares(least_name, seed, args=(eval(x_range), eval(y_val)))\n",
    "                print(\"piece:{0}, len:{1}\".format(piece, len(eval(lsq).x)))\n",
    "\n",
    "                locals()[pred] = func_name(eval(x_range), eval(lsq).x)\n",
    "                \n",
    "                plt.plot(eval(x_range), eval(pred), '-', c = curve_color[count], linewidth=5)\n",
    "                plt.plot([x_idx[1]]*50, np.linspace(0, max(eval(y_val))+2, 50), '-.', c='black', linewidth=1)\n",
    "                cost.append(eval(lsq).cost)\n",
    "                parameters = eval(lsq).x # save parameters\n",
    "                count = count+1\n",
    "               \n",
    "\n",
    "                plt.title(\"Step (cluster:{0}, cost:{1})\".format(clt+1, round(np.sum(cost), 2)), fontsize=14)\n",
    "                plt.ylabel('Score', fontsize=14)\n",
    "                plt.xlabel('Attept', fontsize=14)\n",
    "                plt.ylim([0, max( eval(y_val) )+1])\n",
    "\n",
    "                dcp.make_folders(\"../../Figs/curve_fitting/MultiCurves/Step/pieces{0}/\".format(piece+2))\n",
    "                plt.savefig(\"../../Figs/curve_fitting/MultiCurves/Step/pieces{0}/avg{1}\".format(piece+2, clt+1))\n",
    "                dcp.make_Pickle(parameters, '../../data/pickles/Fitting/300Attempts/Step/pieces{0}/avg{1}/params.pickle'.format(piece+2, param+2, clt+1))\n",
    "\n",
    "disp_MultipleCurve()"
   ]
  },
  {
   "cell_type": "code",
   "execution_count": null,
   "metadata": {
    "collapsed": true
   },
   "outputs": [],
   "source": [
    "dcp.make_folders(\"../../Figs/curve_fitting/step/single/\")\n",
    "\n",
    "seed = [1, 1]\n",
    "for i in range(nClt):\n",
    "    print(\"cluster {0}:\".format(i+1))\n",
    "    ## train\n",
    "    exp2_opt, exp2_cost = cv.curve_Fitting(\n",
    "        cv.exponential_least2, cv.exponential_curve2, \n",
    "        attempts15, eval(\"avg{0}\".format(i+1))[:15], seed, \n",
    "        \"../../Figs/curve_fitting/step/single/sample{0}\".format(i+1), clt_num = i+1)\n",
    "    \n",
    "    true_opt, true_cost = cv.curve_Fitting(\n",
    "        cv.exponential_least2, cv.exponential_curve2, \n",
    "        attempts300, eval(\"avg{0}\".format(i+1)), seed, \n",
    "        \"../../Figs/curve_fitting/step/single/dummy\", clt_num = i+1)\n",
    "    \n",
    "    ## validation\n",
    "    y_fit_valid = cv.exponential_curve2(attempts300, exp2_opt[0], exp2_opt[1])\n",
    "    y_fit_true = cv.exponential_curve2(attempts300, true_opt[0], true_opt[1])\n",
    "    \n",
    "    exp2_cost_valid = cv.cost_Function(eval(\"avg{0}\".format(i+1)), y_fit_valid) # get cost for all data\n",
    "    exp2_cost_true = cv.cost_Function(eval(\"avg{0}\".format(i+1)), y_fit_true) # get cost for all data\n",
    "    \n",
    "    disp_Data(attempts300, eval(\"avg{0}\".format(i+1)), y_fit_valid, \n",
    "              file_path=\"../../Figs/curve_fitting/step/single/valid{0}\".format(i+1), \n",
    "              clt_num=i+1, cost = exp2_cost_valid)\n",
    "    \n",
    "    disp_Data(attempts300, eval(\"avg{0}\".format(i+1)), y_fit_true, \n",
    "          file_path=\"../../Figs/curve_fitting/step/single/true{0}\".format(i+1), \n",
    "          clt_num=i+1, cost = exp2_cost_true)"
   ]
  }
 ],
 "metadata": {
  "kernelspec": {
   "display_name": "Python 3",
   "language": "python",
   "name": "python3"
  },
  "language_info": {
   "codemirror_mode": {
    "name": "ipython",
    "version": 3
   },
   "file_extension": ".py",
   "mimetype": "text/x-python",
   "name": "python",
   "nbconvert_exporter": "python",
   "pygments_lexer": "ipython3",
   "version": "3.5.1"
  }
 },
 "nbformat": 4,
 "nbformat_minor": 0
}
