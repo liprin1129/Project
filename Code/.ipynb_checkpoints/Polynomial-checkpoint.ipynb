{
 "cells": [
  {
   "cell_type": "code",
   "execution_count": 2,
   "metadata": {
    "collapsed": false
   },
   "outputs": [
    {
     "name": "stdout",
     "output_type": "stream",
     "text": [
      "Training data set: (300, 22832)\n",
      "../../Figs/curve_fitting/ already present - Skipping pickling.\n"
     ]
    }
   ],
   "source": [
    "import numpy as np\n",
    "from scipy.optimize import curve_fit\n",
    "from scipy.optimize import least_squares\n",
    "import DC_Pickle as dcp\n",
    "import Curve_Functions as cv\n",
    "import matplotlib.pyplot as plt\n",
    "%matplotlib inline\n",
    "\n",
    "def disp_Data(x, y_true, y_pred, file_path, clt_num, cost, rows=1, columns=1, size=(6, 4)):\n",
    "    fig, ax = plt.subplots(rows, columns, figsize=size)\n",
    "    ax.plot(x, y_true, 'rx', label='average score')\n",
    "    ax.plot(x, y_pred, 'b-', label='curve fitting')\n",
    "    ax.set_xlim([0, max(x)+1])\n",
    "    ax.set_ylim([0, max(y_true)+0.2])\n",
    "    ax.legend(fontsize=14)\n",
    "    ax.set_title(\"cluster {0}: cost {1}\".format(clt_num, round(cost, 2)))\n",
    "    fig.savefig(file_path, dpi=100)\n",
    "    plt.show()\n",
    "    \n",
    "train_idx = dcp.open_Pickle(\"../../data/pickles/clusters_origin/indices/index13.pickle\")\n",
    "train_idx = train_idx[9] #2, 8\n",
    "\n",
    "train_scores = dcp.open_Pickle('../../data/pickles/seperate_origin/eventValue.pickle')\n",
    "train_scores = train_scores[:300, :]/1e+4\n",
    "attempts15 = np.arange(15)+1\n",
    "attempts300 = np.arange(300)+1\n",
    "\n",
    "## filtering discontinuous under 15 attempts\n",
    "idx_all = []\n",
    "idx_pure = []\n",
    "\n",
    "for i in range(train_scores.shape[1]):\n",
    "    if not np.isnan(train_scores[:15, i]).any():\n",
    "        idx_all.append(i)\n",
    "        idx_pure.append(i)\n",
    "    else:\n",
    "        idx_all.append(np.nan)\n",
    "\n",
    "train_scores = train_scores[:, idx_pure]\n",
    "print(\"Training data set: {0}\".format(np.shape(train_scores)))\n",
    "\n",
    "## get cluster data and cluster average data (average is centroid)\n",
    "nClt = 13\n",
    "for i in range(nClt):\n",
    "    name = \"cluster{0}\".format(i+1)\n",
    "    globals()[name] = train_scores[:, train_idx==i] # get cluster data\n",
    "    \n",
    "    ## get cluster average data\n",
    "    data = np.ones(300)\n",
    "    for j in range(len(data)):\n",
    "        avg = eval(name)[j, :]\n",
    "        avg = np.sum(avg[~np.isnan(avg)])/len(avg[~np.isnan(avg)])\n",
    "        data[j] = avg\n",
    "\n",
    "    globals()[\"avg{0}\".format(i+1)] = data\n",
    "    \n",
    "dcp.make_folders(\"../../Figs/curve_fitting/\")"
   ]
  },
  {
   "cell_type": "code",
   "execution_count": null,
   "metadata": {
    "collapsed": false
   },
   "outputs": [],
   "source": [
    "dcp.make_folders(\"../../Figs/curve_fitting/polynomial2/single/\")\n",
    "\n",
    "seed = [1, 1]\n",
    "for i in range(nClt):\n",
    "    print(\"cluster {0}:\".format(i+1))\n",
    "    poly_opt, poly_cost = cv.curve_Fitting(\n",
    "        cv.polynomial_least, cv.polynomial_curve, \n",
    "        attempts15, eval(\"avg{0}\".format(i+1))[:15], seed,\n",
    "        \"../../Figs/curve_fitting/polynomial2/single/{0}\".format(i+1), clt_num = i+1)\n",
    "\n",
    "    y_fit = cv.polynomial_curve(attempts300, poly_opt[0], poly_opt[1])\n",
    "    \n",
    "    poly_cost300 = cv.cost_Function(eval(\"avg{0}\".format(i+1)), y_fit) # get cost for all data\n",
    "    disp_Data(attempts300, eval(\"avg{0}\".format(i+1)), y_fit, \n",
    "              file_path=\"../../Figs/curve_fitting/polynomial2/single/valid{0}\".format(i), \n",
    "              clt_num=i+1, cost = poly_cost300)"
   ]
  },
  {
   "cell_type": "code",
   "execution_count": 46,
   "metadata": {
    "collapsed": false
   },
   "outputs": [
    {
     "data": {
      "text/plain": [
       "[<matplotlib.lines.Line2D at 0x11d57ae10>]"
      ]
     },
     "execution_count": 46,
     "metadata": {},
     "output_type": "execute_result"
    },
    {
     "data": {
      "image/png": "[encoded data removed]",
      "text/plain": [
       "<matplotlib.figure.Figure at 0x11e02e208>"
      ]
     },
     "metadata": {},
     "output_type": "display_data"
    }
   ],
   "source": [
    "def polynomial_curve(x, w0, w1):\n",
    "    return w0 + w1*x\n",
    "\n",
    "def polynomial_least(w, x, y):\n",
    "    return polynomial_curve(x, w[0], w[1]) - y\n",
    "\n",
    "'''\n",
    "def polynomial_curve2(x, w0, w1, w2, w3):\n",
    "    return w0 + w1*x + w2*x + w3*x\n",
    "\n",
    "def polynomial_least2(w, x, y):\n",
    "    return polynomial_curve2(x, w[0], w[1], w[2], w[3]) - y\n",
    "'''\n",
    "def polynomial_curve2(x, w0, w1, w2, w3, w4):\n",
    "    return w0 + w1*x + w2*x**2 + w3*x**3 + w4*x**4\n",
    "\n",
    "def polynomial_least2(w, x, y):\n",
    "    return polynomial_curve2(x, w[0], w[1], w[2], w[3], w[4]) - y\n",
    "\n",
    "fig, ax = plt.subplots(1, 2, figsize=(15, 5))\n",
    "x_range = np.linspace(1, 300, 300)\n",
    "\n",
    "'''\n",
    "lsq = least_squares(polynomial_least, [1, 1], args=(x_range, avg1))\n",
    "y_fit = polynomial_curve(x_range, lsq.x[0], lsq.x[1])\n",
    "\n",
    "ax[0].plot(x_range, avg1, 'rx', label=\"average score\")\n",
    "ax[0].plot(x_range, y_fit, 'b-', label=\"curve fitting\")  \n",
    "\n",
    "lsq2 = least_squares(polynomial_least2, [1, 1, 1, 1], args=(x_range, avg1))\n",
    "y_fit2 = polynomial_curve2(x_range, lsq2.x[0], lsq2.x[1], lsq2.x[2], lsq2.x[3])\n",
    "\n",
    "ax[1].plot(x_range, avg1, 'rx', label=\"average score\")\n",
    "ax[1].plot(x_range, y_fit2, 'b-', label=\"curve fitting\")  \n",
    "'''\n",
    "\n",
    "lsq2 = least_squares(polynomial_least2, [1, 1, 1, 1], args=(x_range, avg1))\n",
    "y_fit2 = polynomial_curve2(x_range, lsq2.x[0], lsq2.x[1], lsq2.x[2], lsq2.x[3])\n",
    "\n",
    "ax[1].plot(x_range, avg1, 'rx', label=\"average score\")\n",
    "ax[1].plot(x_range, y_fit2, 'b-', label=\"curve fitting\") "
   ]
  }
 ],
 "metadata": {
  "kernelspec": {
   "display_name": "Python 3",
   "language": "python",
   "name": "python3"
  },
  "language_info": {
   "codemirror_mode": {
    "name": "ipython",
    "version": 3
   },
   "file_extension": ".py",
   "mimetype": "text/x-python",
   "name": "python",
   "nbconvert_exporter": "python",
   "pygments_lexer": "ipython3",
   "version": "3.5.1"
  }
 },
 "nbformat": 4,
 "nbformat_minor": 0
}
