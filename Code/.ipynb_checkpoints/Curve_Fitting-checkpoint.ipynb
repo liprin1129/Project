{
 "cells": [
  {
   "cell_type": "markdown",
   "metadata": {},
   "source": [
    "# Function Fitting"
   ]
  },
  {
   "cell_type": "markdown",
   "metadata": {},
   "source": [
    "### load data & set functions"
   ]
  },
  {
   "cell_type": "code",
   "execution_count": 1,
   "metadata": {
    "collapsed": false
   },
   "outputs": [],
   "source": [
    "import numpy as np\n",
    "from scipy.optimize import curve_fit\n",
    "from scipy.optimize import least_squares\n",
    "import DC_Pickle as dcp\n",
    "import Curve_Functions as cv\n",
    "import matplotlib.pyplot as plt\n",
    "%matplotlib inline\n",
    "    \n",
    "def disp_Data(x_axis, y_axis, colour_shape='b.', rows=1, columns=1, size=(10, 5)):\n",
    "    fig, axes = plt.subplots(rows, columns, figsize=size)\n",
    "    axes.plot(x_axis, y_axis, colour_shape)\n",
    "    plt.show()"
   ]
  },
  {
   "cell_type": "code",
   "execution_count": 2,
   "metadata": {
    "collapsed": false
   },
   "outputs": [
    {
     "name": "stdout",
     "output_type": "stream",
     "text": [
      "(15,)\n",
      "(2, 15)\n",
      "[ 0.06949649  0.11833792  0.12415684  0.21923799  0.21402511  0.2695956\n",
      "  0.38354837  0.1381195   0.2282138   0.21838991  0.20394061  0.29085711\n",
      "  0.15276998  0.26760545  0.32473221]\n"
     ]
    },
    {
     "data": {
      "image/png": "[encoded data removed]",
      "text/plain": [
       "<matplotlib.figure.Figure at 0xd2e16ac18>"
      ]
     },
     "metadata": {},
     "output_type": "display_data"
    },
    {
     "name": "stdout",
     "output_type": "stream",
     "text": [
      "[ 1  2  3  4  5  6  7  8  9 10 11 12 13 14 15]\n"
     ]
    }
   ],
   "source": [
    "data_path = \"../../data/pickles/clusters_test/centroid2.pickle\"\n",
    "train_data = dcp.open_Pickle(data_path)\n",
    "print(np.shape(train_data[0, :, 0]))\n",
    "train_data = train_data[:, :, 0]\n",
    "\n",
    "print(np.shape(train_data)) # centroid of cluster 1\n",
    "print(train_data[0,:])\n",
    "attempts = np.arange(15)+1 # attempts\n",
    "scores = train_data[0,:] # centroid of cluster 1\n",
    "\n",
    "disp_Data(attempts, scores)\n",
    "\n",
    "print(attempts)"
   ]
  },
  {
   "cell_type": "markdown",
   "metadata": {},
   "source": [
    "### exponential fit"
   ]
  },
  {
   "cell_type": "markdown",
   "metadata": {},
   "source": [
    "#### Two parameters"
   ]
  },
  {
   "cell_type": "code",
   "execution_count": null,
   "metadata": {
    "collapsed": false
   },
   "outputs": [],
   "source": [
    "seed = np.array([1, 1])\n",
    "exp2_lqe = least_squares(cv.exponential_least2, seed, args=(attempts, scores))\n",
    "print(\"Parameters: {0}\".format(exp2_lqe.x))\n",
    "\n",
    "exp2_opt, exp2_cov = curve_fit(cv.exponential_curve2, attempts, scores)\n",
    "print(\"Parameters: {0}\".format(exp2_opt))"
   ]
  },
  {
   "cell_type": "code",
   "execution_count": null,
   "metadata": {
    "collapsed": false
   },
   "outputs": [],
   "source": [
    "x_fit = np.linspace(0, 15, 100)\n",
    "plt.plot(x_fit, cv.exponential_curve2(x_fit, exp2_opt[0], exp2_opt[1]), 'b-')\n",
    "plt.plot(attempts, scores, 'rx')\n",
    "plt.ylim([0, max(scores)+0.05])"
   ]
  },
  {
   "cell_type": "markdown",
   "metadata": {},
   "source": [
    "#### Three parameters"
   ]
  },
  {
   "cell_type": "code",
   "execution_count": null,
   "metadata": {
    "collapsed": false
   },
   "outputs": [],
   "source": [
    "seed = np.array([1, 1, 1])\n",
    "exp3_lqe = least_squares(cv.exponential_least3, seed, args=(attempts, scores))\n",
    "print(\"Parameters: {0}\".format(exp3_lqe.x))\n",
    "\n",
    "exp3_opt, exp3_cov = curve_fit(cv.exponential_curve3, attempts, scores)\n",
    "print(\"Parameters: {0}\".format(exp3_opt))"
   ]
  },
  {
   "cell_type": "code",
   "execution_count": null,
   "metadata": {
    "collapsed": false
   },
   "outputs": [],
   "source": [
    "x_fit = np.linspace(0, 15, 100)\n",
    "plt.plot(x_fit, cv.exponential_curve3(x_fit, popt[0], popt[1], popt[2]), 'b-')\n",
    "plt.plot(attempts, scores, 'rx')\n",
    "plt.ylim([0, max(scores)+0.05])"
   ]
  },
  {
   "cell_type": "markdown",
   "metadata": {},
   "source": [
    "### polynoimial fit"
   ]
  },
  {
   "cell_type": "code",
   "execution_count": null,
   "metadata": {
    "collapsed": false
   },
   "outputs": [],
   "source": [
    "seed = np.array([1, 1])\n",
    "poly_lqe = least_squares(cv.polynomial_least, seed, args=(attempts, scores))\n",
    "print(\"Parameters: {0}\".format(poly_lqe.x))\n",
    "\n",
    "poly_opt, poly_cov = curve_fit(cv.polynomial_curve, attempts, scores)\n",
    "print(\"Parameters: {0}\".format(poly_opt))"
   ]
  },
  {
   "cell_type": "code",
   "execution_count": null,
   "metadata": {
    "collapsed": false
   },
   "outputs": [],
   "source": [
    "x_fit = np.linspace(0, 15, 100)\n",
    "plt.plot(x_fit, cv.polynomial_curve(x_fit, poly_opt[0], poly_opt[1]), 'b-')\n",
    "plt.plot(attempts, scores, 'rx')\n",
    "plt.ylim([0, max(scores)+0.05])"
   ]
  },
  {
   "cell_type": "markdown",
   "metadata": {},
   "source": [
    "### power law fit"
   ]
  },
  {
   "cell_type": "markdown",
   "metadata": {},
   "source": [
    "#### Two parameters"
   ]
  },
  {
   "cell_type": "code",
   "execution_count": null,
   "metadata": {
    "collapsed": false
   },
   "outputs": [],
   "source": [
    "seed = np.array([1, 1])\n",
    "pl2_lqe = least_squares(cv.powerlaw_least2, seed, args=(attempts, scores))\n",
    "print(\"Parameters: {0}\".format(pl2_lqe.x))\n",
    "\n",
    "pl2_opt, pl2_cov = curve_fit(cv.powerlaw_curve2, attempts, scores)\n",
    "print(\"Parameters: {0}\".format(pl2_opt))"
   ]
  },
  {
   "cell_type": "code",
   "execution_count": null,
   "metadata": {
    "collapsed": false
   },
   "outputs": [],
   "source": [
    "x_fit = np.linspace(0, 15, 100)\n",
    "plt.plot(x_fit, cv.powerlaw_curve2(x_fit, pl2_opt[0], pl2_opt[1]), 'b-')\n",
    "plt.plot(attempts, scores, 'rx')\n",
    "plt.ylim([0, max(scores)+0.05])"
   ]
  },
  {
   "cell_type": "markdown",
   "metadata": {},
   "source": [
    "#### Thress parameters"
   ]
  },
  {
   "cell_type": "code",
   "execution_count": null,
   "metadata": {
    "collapsed": false
   },
   "outputs": [],
   "source": [
    "seed = np.array([1, 1, 1])\n",
    "pl3_lqe = least_squares(cv.powerlaw_least3, seed, args=(attempts, scores))\n",
    "print(\"Parameters: {0}\".format(pl3_lqe.x))\n",
    "\n",
    "pl3_opt, pl3_cov = curve_fit(cv.powerlaw_curve3, attempts, scores)\n",
    "print(\"Parameters: {0}\".format(pl3_opt))"
   ]
  },
  {
   "cell_type": "code",
   "execution_count": null,
   "metadata": {
    "collapsed": false
   },
   "outputs": [],
   "source": [
    "x_fit = np.linspace(0, 15, 100)\n",
    "plt.plot(x_fit, cv.powerlaw_curve3(x_fit, pl3_opt[0], pl3_opt[1], pl3_opt[2]), 'b-')\n",
    "plt.plot(attempts, scores, 'rx')\n",
    "plt.ylim([0, max(scores)+0.05])"
   ]
  },
  {
   "cell_type": "markdown",
   "metadata": {},
   "source": [
    "#### Four parameters"
   ]
  },
  {
   "cell_type": "code",
   "execution_count": 4,
   "metadata": {
    "collapsed": false
   },
   "outputs": [
    {
     "name": "stdout",
     "output_type": "stream",
     "text": [
      "Parameters: [  1.43010181e+09   8.03743955e+00   2.52953415e-01   1.58673818e+01]\n",
      "Parameters: [  2.76418636e+158   7.25431595e+001   2.50095741e-001   1.55281770e+002]\n"
     ]
    }
   ],
   "source": [
    "seed = np.array([1, 1, 1, 1])\n",
    "pl4_lqe = least_squares(cv.powerlaw_least4, seed, args=(attempts, scores))\n",
    "print(\"Parameters: {0}\".format(pl4_lqe.x))\n",
    "\n",
    "pl4_opt, pl4_cov = curve_fit(cv.powerlaw_curve4, attempts, scores, maxfev = 1000000)\n",
    "print(\"Parameters: {0}\".format(pl4_opt))"
   ]
  },
  {
   "cell_type": "code",
   "execution_count": 6,
   "metadata": {
    "collapsed": false
   },
   "outputs": [
    {
     "name": "stdout",
     "output_type": "stream",
     "text": [
      "[  2.76418636e+158   7.25431595e+001   2.50095741e-001   1.55281770e+002]\n"
     ]
    },
    {
     "data": {
      "image/png": "[encoded data removed]",
      "text/plain": [
       "<matplotlib.figure.Figure at 0xd2e262a58>"
      ]
     },
     "metadata": {},
     "output_type": "display_data"
    }
   ],
   "source": [
    "x_fit = np.linspace(0, 15, 100)\n",
    "plt.plot(x_fit, cv.powerlaw_curve4(x_fit, popt[0], popt[1], popt[2], popt[3]), 'b-')\n",
    "plt.plot(attempts, scores, 'rx')\n",
    "plt.ylim([0, 0.4])\n",
    "print(popt)"
   ]
  },
  {
   "cell_type": "code",
   "execution_count": null,
   "metadata": {
    "collapsed": true
   },
   "outputs": [],
   "source": []
  }
 ],
 "metadata": {
  "anaconda-cloud": {},
  "kernelspec": {
   "display_name": "Python [Root]",
   "language": "python",
   "name": "Python [Root]"
  },
  "language_info": {
   "codemirror_mode": {
    "name": "ipython",
    "version": 3
   },
   "file_extension": ".py",
   "mimetype": "text/x-python",
   "name": "python",
   "nbconvert_exporter": "python",
   "pygments_lexer": "ipython3",
   "version": "3.5.2"
  }
 },
 "nbformat": 4,
 "nbformat_minor": 0
}
