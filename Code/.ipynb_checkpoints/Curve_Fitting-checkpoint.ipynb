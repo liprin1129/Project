{
 "cells": [
  {
   "cell_type": "markdown",
   "metadata": {},
   "source": [
    "# Function Fitting"
   ]
  },
  {
   "cell_type": "markdown",
   "metadata": {},
   "source": [
    "### load data & set functions"
   ]
  },
  {
   "cell_type": "code",
   "execution_count": 1,
   "metadata": {
    "collapsed": false
   },
   "outputs": [],
   "source": [
    "from six.moves import cPickle as pickle\n",
    "import numpy as np\n",
    "import pandas as pd\n",
    "import math\n",
    "import numpy as np\n",
    "from scipy.optimize import curve_fit\n",
    "import DC_Pickle as dcp\n",
    "import Curve_Functions as cv\n",
    "import matplotlib.pyplot as plt\n",
    "%matplotlib inline\n",
    "    \n",
    "def disp_Data(x_axis, y_axis, colour_shape='b.', rows=1, columns=1, size=(5, 5)):\n",
    "    #import matplotlib.pyplot as plt\n",
    "    #%matplotlib inline\n",
    "\n",
    "    fig, axes = plt.subplots(rows, columns, figsize=size)\n",
    "    axes.plot(x_axis, y_axis, colour_shape)\n",
    "    plt.show()"
   ]
  },
  {
   "cell_type": "code",
   "execution_count": 2,
   "metadata": {
    "collapsed": false
   },
   "outputs": [
    {
     "name": "stdout",
     "output_type": "stream",
     "text": [
      "(15,)\n",
      "(2, 15)\n",
      "[ 0.06949649  0.11833792  0.12415684  0.21923799  0.21402511  0.2695956\n",
      "  0.38354837  0.1381195   0.2282138   0.21838991  0.20394061  0.29085711\n",
      "  0.15276998  0.26760545  0.32473221]\n"
     ]
    },
    {
     "data": {
      "image/png": "[encoded data removed]",
      "text/plain": [
       "<matplotlib.figure.Figure at 0x114c02898>"
      ]
     },
     "metadata": {},
     "output_type": "display_data"
    },
    {
     "name": "stdout",
     "output_type": "stream",
     "text": [
      "[ 1  2  3  4  5  6  7  8  9 10 11 12 13 14 15]\n"
     ]
    }
   ],
   "source": [
    "data_path = \"../../data/pickles/clusters/centroid2.pickle\"\n",
    "train_data = dcp.open_Pickle(data_path)\n",
    "print(np.shape(train_data[0, :, 0]))\n",
    "train_data = train_data[:, :, 0]\n",
    "\n",
    "print(np.shape(train_data)) # centroid of cluster 1\n",
    "print(train_data[0,:])\n",
    "attempts = np.arange(15)+1 # attempts\n",
    "scores = train_data[0,:] # centroid of cluster 1\n",
    "\n",
    "disp_Data(attempts, scores)\n",
    "\n",
    "print(attempts)"
   ]
  },
  {
   "cell_type": "markdown",
   "metadata": {},
   "source": [
    "### exponential fit"
   ]
  },
  {
   "cell_type": "markdown",
   "metadata": {},
   "source": [
    "#### Two parameters"
   ]
  },
  {
   "cell_type": "code",
   "execution_count": 12,
   "metadata": {
    "collapsed": false
   },
   "outputs": [],
   "source": [
    "popt, pcov = curve_fit(cv.exponential_curve2, attempts, scores)"
   ]
  },
  {
   "cell_type": "code",
   "execution_count": 13,
   "metadata": {
    "collapsed": false
   },
   "outputs": [
    {
     "data": {
      "text/plain": [
       "(0, 0.43354836943552055)"
      ]
     },
     "execution_count": 13,
     "metadata": {},
     "output_type": "execute_result"
    },
    {
     "data": {
      "image/png": "[encoded data removed]",
      "text/plain": [
       "<matplotlib.figure.Figure at 0x114e3fbe0>"
      ]
     },
     "metadata": {},
     "output_type": "display_data"
    }
   ],
   "source": [
    "x_fit = np.linspace(0, 15, 100)\n",
    "plt.plot(x_fit, cv.exponential_curve2(x_fit, popt[0], popt[1]), 'b-')\n",
    "plt.plot(attempts, scores, 'rx')\n",
    "plt.ylim([0, max(scores)+0.05])"
   ]
  },
  {
   "cell_type": "markdown",
   "metadata": {},
   "source": [
    "#### Three parameters"
   ]
  },
  {
   "cell_type": "code",
   "execution_count": null,
   "metadata": {
    "collapsed": false
   },
   "outputs": [],
   "source": [
    "popt, pcov = curve_fit(cv.exponential_curve3, attempts, scores)"
   ]
  },
  {
   "cell_type": "code",
   "execution_count": null,
   "metadata": {
    "collapsed": false
   },
   "outputs": [],
   "source": [
    "x_fit = np.linspace(0, 15, 100)\n",
    "plt.plot(x_fit, cv.exponential_curve3(x_fit, popt[0], popt[1], popt[2]), 'b-')\n",
    "plt.plot(attempts, scores, 'rx')\n",
    "plt.ylim([0, max(scores)+0.05])"
   ]
  },
  {
   "cell_type": "markdown",
   "metadata": {},
   "source": [
    "### polynoimial fit"
   ]
  },
  {
   "cell_type": "code",
   "execution_count": null,
   "metadata": {
    "collapsed": false
   },
   "outputs": [],
   "source": [
    "popt, pcov = curve_fit(cv.polynomial_curve, attempts, scores)"
   ]
  },
  {
   "cell_type": "code",
   "execution_count": null,
   "metadata": {
    "collapsed": false
   },
   "outputs": [],
   "source": [
    "x_fit = np.linspace(0, 15, 100)\n",
    "plt.plot(x_fit, cv.polynomial_curve(x_fit, popt[0], popt[1]), 'b-')\n",
    "plt.plot(attempts, scores, 'rx')\n",
    "plt.ylim([0, max(scores)+0.05])"
   ]
  },
  {
   "cell_type": "markdown",
   "metadata": {},
   "source": [
    "### power law fit"
   ]
  },
  {
   "cell_type": "markdown",
   "metadata": {},
   "source": [
    "#### Two parameters"
   ]
  },
  {
   "cell_type": "code",
   "execution_count": null,
   "metadata": {
    "collapsed": false
   },
   "outputs": [],
   "source": [
    "popt, pcov = curve_fit(cv.powerlaw_curve2, attempts, scores)"
   ]
  },
  {
   "cell_type": "code",
   "execution_count": null,
   "metadata": {
    "collapsed": false
   },
   "outputs": [],
   "source": [
    "x_fit = np.linspace(0, 15, 100)\n",
    "plt.plot(x_fit, cv.powerlaw_curve2(x_fit, popt[0], popt[1]), 'b-')\n",
    "plt.plot(attempts, scores, 'rx')\n",
    "plt.ylim([0, max(scores)+0.05])"
   ]
  },
  {
   "cell_type": "markdown",
   "metadata": {},
   "source": [
    "#### Thress parameters"
   ]
  },
  {
   "cell_type": "code",
   "execution_count": null,
   "metadata": {
    "collapsed": true
   },
   "outputs": [],
   "source": [
    "popt, pcov = curve_fit(cv.powerlaw_curve3, attempts, scores)"
   ]
  },
  {
   "cell_type": "code",
   "execution_count": null,
   "metadata": {
    "collapsed": false
   },
   "outputs": [],
   "source": [
    "x_fit = np.linspace(0, 15, 100)\n",
    "plt.plot(x_fit, cv.powerlaw_curve3(x_fit, popt[0], popt[1], popt[2]), 'b-')\n",
    "plt.plot(attempts, scores, 'rx')\n",
    "plt.ylim([0, max(scores)+0.05])"
   ]
  },
  {
   "cell_type": "markdown",
   "metadata": {},
   "source": [
    "#### Four parameters"
   ]
  },
  {
   "cell_type": "code",
   "execution_count": null,
   "metadata": {
    "collapsed": false
   },
   "outputs": [],
   "source": [
    "popt, pcov = curve_fit(cv.powerlaw_curve4, attempts, scores, maxfev = 1000000)"
   ]
  },
  {
   "cell_type": "code",
   "execution_count": null,
   "metadata": {
    "collapsed": false
   },
   "outputs": [],
   "source": [
    "popt, pcov = curve_fit(cv.powerlaw_curve4, attempts, scores, maxfev = 1000000)\n",
    "\n",
    "x_fit = np.linspace(0, 15, 100)\n",
    "plt.plot(x_fit, cv.powerlaw_curve4(x_fit, popt[0], popt[1], popt[2], popt[3]), 'b-')\n",
    "plt.plot(attempts, scores, 'rx')\n",
    "plt.ylim([0, 0.4])\n",
    "print(popt)"
   ]
  },
  {
   "cell_type": "markdown",
   "metadata": {},
   "source": [
    "### function fitting by hand"
   ]
  },
  {
   "cell_type": "raw",
   "metadata": {
    "collapsed": false
   },
   "source": [
    "[ 0.12191226 -0.02460447  0.71170796 -0.99999944]\n",
    "\n",
    "\n",
    "y_true = train_data[0,:]\n",
    "#a_coef=1\n",
    "#b_coef=1\n",
    "#diff = 1\n",
    "\n",
    "## positive power law\n",
    "#f = np.exp(a_coef)*np.power(attempts, b_coef)\n",
    "\n",
    "## logarithm\n",
    "#f = a_coef + b_coef*np.log(attempts+1)\n",
    "#disp_Data(x_fit, f, colour_shape='b-')\n",
    "\n",
    "#obj = np.sum(((y_true-f)**2))/len(attempts)\n",
    "#print(obj)\n",
    "\n",
    "#iter = 0\n",
    "#while diff>1e-3:\n",
    "#while iter<10000:\n",
    "\n",
    "#old_obj = obj\n",
    "#b_coef = len(attempts)*np.log(a_coef) - np.sum(np.log(y_true))/np.sum(attempts)\n",
    "#a_coef = np.exp( (np.sum(np.log(y_true)) - np.sum(b_coef*attempts)))/len(attempts)\n",
    "\n",
    "## positive power law\n",
    "#b_coef = b_coef - 0.00005*( len(attempts+1)*np.sum(np.log(attempts+1)*np.log(y_true)) - np.sum(np.log(attempts+1)*np.sum(np.log(y_true))))/( len(attempts+1)*np.sum(np.log(attempts+1)**2) - (np.sum(np.log(attempts+1)))**2)\n",
    "#a_coef = a_coef + 0.00005*( np.sum(np.log(y_true)) - b_coef*np.sum(np.log(attempts+1)) )/len(attempts)\n",
    "#f = np.exp(a_coef)*np.power(attempts, b_coef)\n",
    "\n",
    "## logarithm\n",
    "b_coef = ( len(attempts)*np.sum(y_true*np.log(attempts+1)) - np.sum(np.log(attempts+1)*np.sum(np.log(y_true)))) / ( len(attempts)*np.sum(np.log(attempts+1)**2) - (np.sum(np.log(attempts+1)))**2)\n",
    "a_coef = ( np.sum(np.log(y_true)) - b_coef*np.sum(np.log(attempts+1)) )/len(attempts)\n",
    "\n",
    "f = a_coef + b_coef*np.log(attempts+1)\n",
    "obj = np.sum(((y_true-f)**2))/len(attempts)\n",
    "print(b_coef, a_coef)\n",
    "print(\"Iteration\", iter, \"Objective:\", obj)\n",
    "'''\n",
    "if not iter % 10:\n",
    "    obj = np.sum(((y_true-f)**2))/len(attempts)\n",
    "    diff = old_obj-obj\n",
    "    print(b_coef, a_coef)\n",
    "    print(\"Iteration\", iter, \"Objective:\", obj, \"Diff:\", diff)\n",
    "\n",
    "iter += 1\n",
    "'''"
   ]
  },
  {
   "cell_type": "raw",
   "metadata": {
    "collapsed": false
   },
   "source": [
    "x_fit = np.linspace(0, 15, 100)\n",
    "f_fit = a_coef + b_coef*np.log(x_fit)\n",
    "plt.plot(x_fit, f_fit, 'b-')\n",
    "plt.plot(attempts, y_true, 'rx')"
   ]
  },
  {
   "cell_type": "raw",
   "metadata": {
    "collapsed": false
   },
   "source": [
    "#import scipy as sp\n",
    "import scipy.linalg as linalg\n",
    "Q, R = np.linalg.qr(X)\n",
    "w = sp.linalg.solve_triangular(R, np.dot(Q.T, y)) \n",
    "w = pd.DataFrame(w, index=X.columns)\n",
    "w"
   ]
  },
  {
   "cell_type": "raw",
   "metadata": {
    "collapsed": false
   },
   "source": [
    "import scipy.linalg as linalg\n",
    "\n",
    "x_n = {'w0' : np.ones((15)),\n",
    "     'w1' : -(attempts+1)}\n",
    "\n",
    "X = pd.DataFrame.from_dict(x_n)\n",
    "Y = train_data[0,:]\n",
    "\n",
    "Q, R = np.linalg.qr(X)\n",
    "\n",
    "W = linalg.solve_triangular(R, np.dot(Q.T, np.log(Y)))\n",
    "W = pd.DataFrame(W, index=X.columns)\n",
    "print(W)"
   ]
  },
  {
   "cell_type": "raw",
   "metadata": {
    "collapsed": false
   },
   "source": [
    "W.iloc[0]\n",
    "\n",
    "x_fit = np.linspace(0, 15, 100)\n",
    "f_fit = -np.exp(float(W.iloc[0]))*np.exp(float(W.iloc[1])*(x_fit))\n",
    "plt.plot(x_fit, f_fit, 'b-')\n",
    "plt.plot(attempts, Y, 'rx')"
   ]
  },
  {
   "cell_type": "raw",
   "metadata": {
    "collapsed": false
   },
   "source": [
    "f_fit = -2*np.exp(-0.1*(x_fit))\n",
    "plt.plot(x_fit, f_fit, 'b-')\n",
    "\n",
    "print((attempts+1))\n",
    "print(Y)"
   ]
  },
  {
   "cell_type": "raw",
   "metadata": {
    "collapsed": false
   },
   "source": [
    "import numpy as np\n",
    "from scipy.optimize import curve_fit\n",
    "\n",
    "def func(x, a, b, c):\n",
    "    return a * np.exp(-b * x) + c\n",
    "\n",
    "popt, pcov = curve_fit(func, attempts, Y)"
   ]
  },
  {
   "cell_type": "raw",
   "metadata": {
    "collapsed": false
   },
   "source": [
    "print(popt[0])\n",
    "plt.plot(x_fit, func(x_fit, popt[0], popt[1], popt[2]), 'b-')\n",
    "plt.plot(attempts, Y, 'rx')"
   ]
  }
 ],
 "metadata": {
  "anaconda-cloud": {},
  "kernelspec": {
   "display_name": "Python 3",
   "language": "python",
   "name": "python3"
  },
  "language_info": {
   "codemirror_mode": {
    "name": "ipython",
    "version": 3
   },
   "file_extension": ".py",
   "mimetype": "text/x-python",
   "name": "python",
   "nbconvert_exporter": "python",
   "pygments_lexer": "ipython3",
   "version": "3.5.1"
  }
 },
 "nbformat": 4,
 "nbformat_minor": 0
}
