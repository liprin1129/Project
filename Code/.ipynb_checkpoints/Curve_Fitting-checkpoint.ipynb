{
 "cells": [
  {
   "cell_type": "markdown",
   "metadata": {},
   "source": [
    "# Function Fitting"
   ]
  },
  {
   "cell_type": "code",
   "execution_count": 1,
   "metadata": {
    "collapsed": false
   },
   "outputs": [],
   "source": [
    "import numpy as np\n",
    "from scipy.optimize import curve_fit\n",
    "from scipy.optimize import least_squares\n",
    "import DC_Pickle as dcp\n",
    "import Curve_Functions as cv\n",
    "import matplotlib.pyplot as plt\n",
    "%matplotlib inline\n",
    "\n",
    "def disp_Data(x, y_true, y_pred, file_path, clt_num, cost, rows=1, columns=1, size=(6, 4)):\n",
    "    fig, ax = plt.subplots(rows, columns, figsize=size)\n",
    "    ax.plot(x, y_true, 'rx', label='average score')\n",
    "    ax.plot(x, y_pred, 'b-', label='curve fitting')\n",
    "    ax.set_xlim([0, max(x)+1])\n",
    "    ax.set_ylim([0, max(y_true)+0.2])\n",
    "    ax.legend(fontsize=14)\n",
    "    ax.set_title(\"cluster {0}: cost {1}\".format(clt_num, round(cost, 2)))\n",
    "    fig.savefig(file_path, dpi=100)\n",
    "    plt.show()"
   ]
  },
  {
   "cell_type": "markdown",
   "metadata": {},
   "source": [
    "## load data"
   ]
  },
  {
   "cell_type": "code",
   "execution_count": 2,
   "metadata": {
    "collapsed": false
   },
   "outputs": [
    {
     "name": "stdout",
     "output_type": "stream",
     "text": [
      "Training data set: (300, 22832)\n"
     ]
    }
   ],
   "source": [
    "train_idx = dcp.open_Pickle(\"../../data/pickles/clusters_origin/indices/index13.pickle\")\n",
    "train_idx = train_idx[9] #2, 8\n",
    "\n",
    "train_scores = dcp.open_Pickle('../../data/pickles/seperate_origin/eventValue.pickle')\n",
    "train_scores = train_scores[:300, :]/1e+4\n",
    "attempts15 = np.arange(15)+1\n",
    "attempts300 = np.arange(300)+1\n",
    "\n",
    "## filtering discontinuous under 15 attempts\n",
    "idx_all = []\n",
    "idx_pure = []\n",
    "\n",
    "for i in range(train_scores.shape[1]):\n",
    "    if not np.isnan(train_scores[:15, i]).any():\n",
    "        idx_all.append(i)\n",
    "        idx_pure.append(i)\n",
    "    else:\n",
    "        idx_all.append(np.nan)\n",
    "\n",
    "train_scores = train_scores[:, idx_pure]\n",
    "print(\"Training data set: {0}\".format(np.shape(train_scores)))"
   ]
  },
  {
   "cell_type": "code",
   "execution_count": 3,
   "metadata": {
    "collapsed": false
   },
   "outputs": [],
   "source": [
    "## get cluster data and cluster average data (average is centroid)\n",
    "nClt = 13\n",
    "for i in range(nClt):\n",
    "    name = \"cluster{0}\".format(i+1)\n",
    "    globals()[name] = train_scores[:, train_idx==i] # get cluster data\n",
    "    \n",
    "    ## get cluster average data\n",
    "    data = np.ones(300)\n",
    "    for j in range(len(data)):\n",
    "        avg = eval(name)[j, :]\n",
    "        avg = np.sum(avg[~np.isnan(avg)])/len(avg[~np.isnan(avg)])\n",
    "        data[j] = avg\n",
    "\n",
    "    globals()[\"avg{0}\".format(i+1)] = data"
   ]
  },
  {
   "cell_type": "raw",
   "metadata": {},
   "source": [
    "import pandas as pd\n",
    "print(avg1)\n",
    "df = pd.DataFrame(avg1)\n",
    "df.to_csv('test.csv')"
   ]
  },
  {
   "cell_type": "markdown",
   "metadata": {},
   "source": [
    "## make folder for each function"
   ]
  },
  {
   "cell_type": "code",
   "execution_count": null,
   "metadata": {
    "collapsed": false
   },
   "outputs": [],
   "source": [
    "dcp.make_folders(\"Figs/curve_fitting/\")"
   ]
  },
  {
   "cell_type": "markdown",
   "metadata": {},
   "source": [
    "## exponential fit"
   ]
  },
  {
   "cell_type": "markdown",
   "metadata": {},
   "source": [
    "### Two parameters"
   ]
  },
  {
   "cell_type": "markdown",
   "metadata": {},
   "source": [
    "#### train on 15 attempts"
   ]
  },
  {
   "cell_type": "code",
   "execution_count": null,
   "metadata": {
    "collapsed": false,
    "scrolled": true
   },
   "outputs": [],
   "source": [
    "dcp.make_folders(\"Figs/curve_fitting/exponential2\")\n",
    "\n",
    "seed = [1, 1]\n",
    "for i in range(nClt):\n",
    "    print(\"cluster {0}:\".format(i+1))\n",
    "    ## train\n",
    "    exp2_opt, exp2_cost = cv.curve_Fitting(\n",
    "        cv.exponential_least2, cv.exponential_curve2, \n",
    "        attempts15, eval(\"avg{0}\".format(i+1))[:15], seed, \n",
    "        \"Figs/curve_fitting/exponential2/{0}\".format(i+1), clt_num = i+1)\n",
    "    ## validation\n",
    "    y_fit = cv.exponential_curve2(attempts300, exp2_opt[0], exp2_opt[1])\n",
    "    \n",
    "    exp2_cost300 = cv.cost_Function(eval(\"avg{0}\".format(i+1)), y_fit) # get cost for all data\n",
    "    \n",
    "    disp_Data(attempts300, eval(\"avg{0}\".format(i+1)), y_fit, \n",
    "              file_path=\"Figs/curve_fitting/exponential2/valid{0}\".format(i), \n",
    "              clt_num=i+1, cost = exp2_cost300)"
   ]
  },
  {
   "cell_type": "markdown",
   "metadata": {},
   "source": [
    "### Three parameters"
   ]
  },
  {
   "cell_type": "markdown",
   "metadata": {},
   "source": [
    "#### train on 15 attempts"
   ]
  },
  {
   "cell_type": "code",
   "execution_count": null,
   "metadata": {
    "collapsed": false,
    "scrolled": true
   },
   "outputs": [],
   "source": [
    "dcp.make_folders(\"Figs/curve_fitting/exponential3\")\n",
    "\n",
    "seed = [1, 1, 1]\n",
    "for i in range(nClt):\n",
    "    print(\"cluster {0}:\".format(i+1))\n",
    "    exp3_opt, exp3_cost = cv.curve_Fitting(\n",
    "        cv.exponential_least3, cv.exponential_curve3, \n",
    "        attempts15, eval(\"avg{0}\".format(i+1))[:15], seed,\n",
    "        \"Figs/curve_fitting/exponential3/{0}\".format(i+1), clt_num = i+1)\n",
    "\n",
    "    y_fit = cv.exponential_curve3(attempts300, exp3_opt[0], exp3_opt[1], exp3_opt[2])\n",
    "    exp3_cost300 = cv.cost_Function(eval(\"avg{0}\".format(i+1)), y_fit) # get cost for all data\n",
    "    \n",
    "    cost300 = cv.cost_Function(attempts300, y_fit)\n",
    "    disp_Data(attempts300, eval(\"avg{0}\".format(i+1)), y_fit, \n",
    "              file_path=\"Figs/curve_fitting/exponential3/valid{0}\".format(i), \n",
    "              clt_num=i+1, cost = exp3_cost300)"
   ]
  },
  {
   "cell_type": "markdown",
   "metadata": {},
   "source": [
    "### polynoimial fit"
   ]
  },
  {
   "cell_type": "code",
   "execution_count": null,
   "metadata": {
    "collapsed": false,
    "scrolled": true
   },
   "outputs": [],
   "source": [
    "dcp.make_folders(\"Figs/curve_fitting/polynomial2\")\n",
    "\n",
    "seed = [1, 1]\n",
    "for i in range(nClt):\n",
    "    print(\"cluster {0}:\".format(i+1))\n",
    "    poly_opt, poly_cost = cv.curve_Fitting(\n",
    "        cv.polynomial_least, cv.polynomial_curve, \n",
    "        attempts15, eval(\"avg{0}\".format(i+1))[:15], seed,\n",
    "        \"Figs/curve_fitting/polynomial2/{0}\".format(i+1), clt_num = i+1)\n",
    "\n",
    "    y_fit = cv.polynomial_curve(attempts300, poly_opt[0], poly_opt[1])\n",
    "    \n",
    "    poly_cost300 = cv.cost_Function(eval(\"avg{0}\".format(i+1)), y_fit) # get cost for all data\n",
    "    disp_Data(attempts300, eval(\"avg{0}\".format(i+1)), y_fit, \n",
    "              file_path=\"Figs/curve_fitting/polynomial2/valid{0}\".format(i), \n",
    "              clt_num=i+1, cost = poly_cost300)"
   ]
  },
  {
   "cell_type": "markdown",
   "metadata": {},
   "source": [
    "### power law fit"
   ]
  },
  {
   "cell_type": "markdown",
   "metadata": {},
   "source": [
    "#### Two parameters"
   ]
  },
  {
   "cell_type": "code",
   "execution_count": null,
   "metadata": {
    "collapsed": false,
    "scrolled": true
   },
   "outputs": [],
   "source": [
    "dcp.make_folders(\"Figs/curve_fitting/powerlaw2\")\n",
    "\n",
    "seed = [1, 1]\n",
    "for i in range(nClt):\n",
    "    print(\"cluster {0}:\".format(i+1))\n",
    "    pl2_opt, pl2_cost = cv.curve_Fitting(\n",
    "        cv.powerlaw_least2, cv.powerlaw_curve2, \n",
    "        attempts15, eval(\"avg{0}\".format(i+1))[:15], seed,\n",
    "        \"Figs/curve_fitting/powerlaw2/{0}\".format(i+1), clt_num = i+1)\n",
    "    \n",
    "    y_fit = cv.powerlaw_curve2(attempts300, pl2_opt[0], pl2_opt[1])\n",
    "    pl2_cost300 = cv.cost_Function(eval(\"avg{0}\".format(i+1)), y_fit) # get cost for all data\n",
    "    \n",
    "    disp_Data(attempts300, eval(\"avg{0}\".format(i+1)), y_fit, \n",
    "              file_path=\"Figs/curve_fitting/powerlaw2/valid{0}\".format(i), \n",
    "              clt_num=i+1, cost = pl2_cost300)"
   ]
  },
  {
   "cell_type": "markdown",
   "metadata": {},
   "source": [
    "#### Thress parameters"
   ]
  },
  {
   "cell_type": "code",
   "execution_count": null,
   "metadata": {
    "collapsed": false
   },
   "outputs": [],
   "source": [
    "dcp.make_folders(\"Figs/curve_fitting/powerlaw3\")\n",
    "\n",
    "seed = [1, 1, 1]\n",
    "for i in range(nClt):\n",
    "    print(\"cluster {0}:\".format(i+1))\n",
    "    pl3_opt, pl3_cost = cv.curve_Fitting(\n",
    "        cv.powerlaw_least3, cv.powerlaw_curve3, \n",
    "        attempts15, eval(\"avg{0}\".format(i+1))[:15], seed,\n",
    "        \"Figs/curve_fitting/powerlaw3/{0}\".format(i+1), clt_num = i+1)\n",
    "    \n",
    "    y_fit = cv.powerlaw_curve3(attempts300, pl3_opt[0], pl3_opt[1], pl3_opt[2])\n",
    "    pl3_cost300 = cv.cost_Function(eval(\"avg{0}\".format(i+1)), y_fit) # get cost for all data\n",
    "    \n",
    "    disp_Data(attempts300, eval(\"avg{0}\".format(i+1)), y_fit, \n",
    "              file_path=\"Figs/curve_fitting/powerlaw3/valid{0}\".format(i), \n",
    "              clt_num=i+1, cost = pl3_cost300)"
   ]
  },
  {
   "cell_type": "markdown",
   "metadata": {},
   "source": [
    "#### Four parameters"
   ]
  },
  {
   "cell_type": "code",
   "execution_count": null,
   "metadata": {
    "collapsed": false
   },
   "outputs": [],
   "source": [
    "dcp.make_folders(\"Figs/curve_fitting/powerlaw4\")\n",
    "\n",
    "seed = [1, 1, 1, 1]\n",
    "for i in range(nClt):\n",
    "    print(\"cluster {0}:\".format(i+1))\n",
    "    pl4_opt, pl4_cost = cv.curve_Fitting(\n",
    "        cv.powerlaw_least4, cv.powerlaw_curve4, \n",
    "        attempts15, eval(\"avg{0}\".format(i+1))[:15], seed,\n",
    "        \"Figs/curve_fitting/powerlaw4/{0}\".format(i+1), clt_num = i+1)\n",
    "    \n",
    "    y_fit = cv.powerlaw_curve4(attempts300, pl4_opt[0], pl4_opt[1], pl4_opt[2], pl4_opt[3])\n",
    "    pl4_cost300 = cv.cost_Function(eval(\"avg{0}\".format(i+1)), y_fit) # get cost for all data\n",
    "    \n",
    "    disp_Data(attempts300, eval(\"avg{0}\".format(i+1)), y_fit, \n",
    "              file_path=\"Figs/curve_fitting/powerlaw4/valid{0}\".format(i), \n",
    "              clt_num=i+1, cost = pl4_cost300)"
   ]
  },
  {
   "cell_type": "markdown",
   "metadata": {},
   "source": [
    "## Multiple curves"
   ]
  },
  {
   "cell_type": "markdown",
   "metadata": {},
   "source": [
    "### exponential with three parameter"
   ]
  },
  {
   "cell_type": "code",
   "execution_count": null,
   "metadata": {
    "collapsed": false
   },
   "outputs": [],
   "source": [
    "seed = [1, 1, 1]\n",
    "\n",
    "for clt_num in range(13):\n",
    "    idx, cost, p1, p2 = cv.multi_Fitting2(cv.exponential_least3, clt_num, \n",
    "                                     eval(\"avg{0}\".format(clt_num+1)), seed, n_param=3)\n",
    "    \n",
    "    y_mean1 = cv.exponential_curve3(attempts300, p1[0], p1[1], p1[2])\n",
    "    y_mean2 = cv.exponential_curve3(attempts300, p2[0], p2[1], p2[2])\n",
    "    \n",
    "    fig, ax = plt.subplots(1, 1, figsize=(8, 8))\n",
    "    \n",
    "    ax.plot(attempts300, avg11, 'rx', label='average score')\n",
    "    ax.plot(attempts300[:idx], y_mean1[:idx], 'b-', label='curve 1', linewidth=3)\n",
    "    ax.plot(attempts300[idx-50:], y_mean2[idx-50:], 'g-', label='curve 2', linewidth=3)\n",
    "    \n",
    "    ax.set_ylim([0, max(avg11)+0.2])\n",
    "    ax.legend(fontsize=14)\n",
    "    ax.set_title(\"cluster {0}: cost {1}\".format(clt_num+1, round(cost, 2)))\n",
    "    \n",
    "    plt.show()\n",
    "    \n",
    "'''\n",
    "y_mean1 = cv.powerlaw_curve4(attempts300, param1[0], param1[1], param1[2], param1[3])\n",
    "y_mean2 = cv.powerlaw_curve4(attempts300, param2[0], param2[1], param2[2], param2[3])\n",
    "fig, ax = plt.subplots(1, 1, figsize=(10, 10))\n",
    "'''\n",
    "#ax.set_xlim([0, max()+1])\n",
    "\n",
    "#fig.savefig(file_path, dpi=100)\n"
   ]
  },
  {
   "cell_type": "code",
   "execution_count": 4,
   "metadata": {
    "collapsed": false
   },
   "outputs": [
    {
     "name": "stdout",
     "output_type": "stream",
     "text": [
      "iter  1\n",
      "x1:[ 1.], x2:[ 2.], x3:297\n"
     ]
    },
    {
     "ename": "ValueError",
     "evalue": "operands could not be broadcast together with shapes (297,) (298,) ",
     "output_type": "error",
     "traceback": [
      "\u001b[0;31m---------------------------------------------------------------------------\u001b[0m",
      "\u001b[0;31mValueError\u001b[0m                                Traceback (most recent call last)",
      "\u001b[0;32m<ipython-input-4-670042d09286>\u001b[0m in \u001b[0;36m<module>\u001b[0;34m()\u001b[0m\n\u001b[1;32m      1\u001b[0m \u001b[0mseed\u001b[0m \u001b[0;34m=\u001b[0m \u001b[0;34m[\u001b[0m\u001b[0;36m1\u001b[0m\u001b[0;34m,\u001b[0m \u001b[0;36m1\u001b[0m\u001b[0;34m,\u001b[0m \u001b[0;36m1\u001b[0m\u001b[0;34m]\u001b[0m\u001b[0;34m\u001b[0m\u001b[0m\n\u001b[0;32m----> 2\u001b[0;31m \u001b[0midx1\u001b[0m\u001b[0;34m,\u001b[0m \u001b[0midx2\u001b[0m\u001b[0;34m,\u001b[0m \u001b[0mcost\u001b[0m\u001b[0;34m,\u001b[0m \u001b[0mp1\u001b[0m\u001b[0;34m,\u001b[0m \u001b[0mp2\u001b[0m\u001b[0;34m,\u001b[0m \u001b[0mp3\u001b[0m \u001b[0;34m=\u001b[0m \u001b[0mcv\u001b[0m\u001b[0;34m.\u001b[0m\u001b[0mmulti_curveFitting_3\u001b[0m\u001b[0;34m(\u001b[0m\u001b[0mcv\u001b[0m\u001b[0;34m.\u001b[0m\u001b[0mexponential_least3\u001b[0m\u001b[0;34m,\u001b[0m \u001b[0mavg11\u001b[0m\u001b[0;34m,\u001b[0m \u001b[0mseed\u001b[0m\u001b[0;34m,\u001b[0m \u001b[0mn_param\u001b[0m\u001b[0;34m=\u001b[0m\u001b[0;36m3\u001b[0m\u001b[0;34m)\u001b[0m\u001b[0;34m\u001b[0m\u001b[0m\n\u001b[0m",
      "\u001b[0;32m/Users/PureMac/Documents/Project/Seongmuk/Analytics/Project/Code/Curve_Functions.py\u001b[0m in \u001b[0;36mmulti_curveFitting_3\u001b[0;34m(least_func, avg, seed, n_param)\u001b[0m\n\u001b[1;32m    179\u001b[0m \u001b[0;34m\u001b[0m\u001b[0m\n\u001b[1;32m    180\u001b[0m             \u001b[0mlsq2\u001b[0m \u001b[0;34m=\u001b[0m \u001b[0mleast_squares\u001b[0m\u001b[0;34m(\u001b[0m\u001b[0mleast_func\u001b[0m\u001b[0;34m,\u001b[0m \u001b[0mseed\u001b[0m\u001b[0;34m,\u001b[0m \u001b[0margs\u001b[0m\u001b[0;34m=\u001b[0m\u001b[0;34m(\u001b[0m\u001b[0mx2\u001b[0m\u001b[0;34m,\u001b[0m \u001b[0my2\u001b[0m\u001b[0;34m)\u001b[0m\u001b[0;34m)\u001b[0m\u001b[0;34m\u001b[0m\u001b[0m\n\u001b[0;32m--> 181\u001b[0;31m             \u001b[0mlsq3\u001b[0m \u001b[0;34m=\u001b[0m \u001b[0mleast_squares\u001b[0m\u001b[0;34m(\u001b[0m\u001b[0mleast_func\u001b[0m\u001b[0;34m,\u001b[0m \u001b[0mseed\u001b[0m\u001b[0;34m,\u001b[0m \u001b[0margs\u001b[0m\u001b[0;34m=\u001b[0m\u001b[0;34m(\u001b[0m\u001b[0mx3\u001b[0m\u001b[0;34m,\u001b[0m \u001b[0my3\u001b[0m\u001b[0;34m)\u001b[0m\u001b[0;34m)\u001b[0m\u001b[0;34m\u001b[0m\u001b[0m\n\u001b[0m\u001b[1;32m    182\u001b[0m \u001b[0;34m\u001b[0m\u001b[0m\n\u001b[1;32m    183\u001b[0m             \u001b[0mcost_remain\u001b[0m\u001b[0;34m.\u001b[0m\u001b[0mappend\u001b[0m\u001b[0;34m(\u001b[0m\u001b[0mlsq2\u001b[0m\u001b[0;34m.\u001b[0m\u001b[0mcost\u001b[0m\u001b[0;34m+\u001b[0m\u001b[0mlsq3\u001b[0m\u001b[0;34m.\u001b[0m\u001b[0mcost\u001b[0m\u001b[0;34m)\u001b[0m\u001b[0;34m\u001b[0m\u001b[0m\n",
      "\u001b[0;32m/usr/local/lib/python3.5/site-packages/scipy/optimize/_lsq/least_squares.py\u001b[0m in \u001b[0;36mleast_squares\u001b[0;34m(fun, x0, jac, bounds, method, ftol, xtol, gtol, x_scale, loss, f_scale, diff_step, tr_solver, tr_options, jac_sparsity, max_nfev, verbose, args, kwargs)\u001b[0m\n\u001b[1;32m    767\u001b[0m         \u001b[0mx0\u001b[0m \u001b[0;34m=\u001b[0m \u001b[0mmake_strictly_feasible\u001b[0m\u001b[0;34m(\u001b[0m\u001b[0mx0\u001b[0m\u001b[0;34m,\u001b[0m \u001b[0mlb\u001b[0m\u001b[0;34m,\u001b[0m \u001b[0mub\u001b[0m\u001b[0;34m)\u001b[0m\u001b[0;34m\u001b[0m\u001b[0m\n\u001b[1;32m    768\u001b[0m \u001b[0;34m\u001b[0m\u001b[0m\n\u001b[0;32m--> 769\u001b[0;31m     \u001b[0mf0\u001b[0m \u001b[0;34m=\u001b[0m \u001b[0mfun_wrapped\u001b[0m\u001b[0;34m(\u001b[0m\u001b[0mx0\u001b[0m\u001b[0;34m)\u001b[0m\u001b[0;34m\u001b[0m\u001b[0m\n\u001b[0m\u001b[1;32m    770\u001b[0m \u001b[0;34m\u001b[0m\u001b[0m\n\u001b[1;32m    771\u001b[0m     \u001b[0;32mif\u001b[0m \u001b[0mf0\u001b[0m\u001b[0;34m.\u001b[0m\u001b[0mndim\u001b[0m \u001b[0;34m!=\u001b[0m \u001b[0;36m1\u001b[0m\u001b[0;34m:\u001b[0m\u001b[0;34m\u001b[0m\u001b[0m\n",
      "\u001b[0;32m/usr/local/lib/python3.5/site-packages/scipy/optimize/_lsq/least_squares.py\u001b[0m in \u001b[0;36mfun_wrapped\u001b[0;34m(x)\u001b[0m\n\u001b[1;32m    762\u001b[0m \u001b[0;34m\u001b[0m\u001b[0m\n\u001b[1;32m    763\u001b[0m     \u001b[0;32mdef\u001b[0m \u001b[0mfun_wrapped\u001b[0m\u001b[0;34m(\u001b[0m\u001b[0mx\u001b[0m\u001b[0;34m)\u001b[0m\u001b[0;34m:\u001b[0m\u001b[0;34m\u001b[0m\u001b[0m\n\u001b[0;32m--> 764\u001b[0;31m         \u001b[0;32mreturn\u001b[0m \u001b[0mnp\u001b[0m\u001b[0;34m.\u001b[0m\u001b[0matleast_1d\u001b[0m\u001b[0;34m(\u001b[0m\u001b[0mfun\u001b[0m\u001b[0;34m(\u001b[0m\u001b[0mx\u001b[0m\u001b[0;34m,\u001b[0m \u001b[0;34m*\u001b[0m\u001b[0margs\u001b[0m\u001b[0;34m,\u001b[0m \u001b[0;34m**\u001b[0m\u001b[0mkwargs\u001b[0m\u001b[0;34m)\u001b[0m\u001b[0;34m)\u001b[0m\u001b[0;34m\u001b[0m\u001b[0m\n\u001b[0m\u001b[1;32m    765\u001b[0m \u001b[0;34m\u001b[0m\u001b[0m\n\u001b[1;32m    766\u001b[0m     \u001b[0;32mif\u001b[0m \u001b[0mmethod\u001b[0m \u001b[0;34m==\u001b[0m \u001b[0;34m'trf'\u001b[0m\u001b[0;34m:\u001b[0m\u001b[0;34m\u001b[0m\u001b[0m\n",
      "\u001b[0;32m/Users/PureMac/Documents/Project/Seongmuk/Analytics/Project/Code/Curve_Functions.py\u001b[0m in \u001b[0;36mexponential_least3\u001b[0;34m(w, x, y)\u001b[0m\n\u001b[1;32m     30\u001b[0m \u001b[0;34m\u001b[0m\u001b[0m\n\u001b[1;32m     31\u001b[0m \u001b[0;32mdef\u001b[0m \u001b[0mexponential_least3\u001b[0m\u001b[0;34m(\u001b[0m\u001b[0mw\u001b[0m\u001b[0;34m,\u001b[0m \u001b[0mx\u001b[0m\u001b[0;34m,\u001b[0m \u001b[0my\u001b[0m\u001b[0;34m)\u001b[0m\u001b[0;34m:\u001b[0m\u001b[0;34m\u001b[0m\u001b[0m\n\u001b[0;32m---> 32\u001b[0;31m     \u001b[0;32mreturn\u001b[0m \u001b[0mexponential_curve3\u001b[0m\u001b[0;34m(\u001b[0m\u001b[0mx\u001b[0m\u001b[0;34m,\u001b[0m \u001b[0mw\u001b[0m\u001b[0;34m[\u001b[0m\u001b[0;36m0\u001b[0m\u001b[0;34m]\u001b[0m\u001b[0;34m,\u001b[0m \u001b[0mw\u001b[0m\u001b[0;34m[\u001b[0m\u001b[0;36m1\u001b[0m\u001b[0;34m]\u001b[0m\u001b[0;34m,\u001b[0m \u001b[0mw\u001b[0m\u001b[0;34m[\u001b[0m\u001b[0;36m2\u001b[0m\u001b[0;34m]\u001b[0m\u001b[0;34m)\u001b[0m \u001b[0;34m-\u001b[0m \u001b[0my\u001b[0m\u001b[0;34m\u001b[0m\u001b[0m\n\u001b[0m\u001b[1;32m     33\u001b[0m \u001b[0;34m\u001b[0m\u001b[0m\n\u001b[1;32m     34\u001b[0m \u001b[0;34m\u001b[0m\u001b[0m\n",
      "\u001b[0;31mValueError\u001b[0m: operands could not be broadcast together with shapes (297,) (298,) "
     ]
    }
   ],
   "source": [
    "seed = [1, 1, 1]\n",
    "idx1, idx2, cost, p1, p2, p3 = cv.multi_curveFitting_3(cv.exponential_least3, avg11, seed, n_param=3)"
   ]
  },
  {
   "cell_type": "code",
   "execution_count": null,
   "metadata": {
    "collapsed": false
   },
   "outputs": [],
   "source": [
    "y_mean1 = cv.exponential_curve3(attempts300, p1[0], p1[1], p1[2])\n",
    "y_mean2 = cv.exponential_curve3(attempts300, p2[0], p2[1], p2[2])\n",
    "y_mean3 = cv.exponential_curve3(attempts300, p3[0], p3[1], p3[2])\n",
    "\n",
    "fig, ax = plt.subplots(1, 1, figsize=(8, 8))\n",
    "\n",
    "ax.plot(attempts300, avg11, 'rx', label='average score')\n",
    "ax.plot(attempts300[:idx1], y_mean1[:idx1], 'b-', label='curve 1', linewidth=3)\n",
    "ax.plot(attempts300[idx1:], y_mean2[idx1:], 'g-', label='curve 2', linewidth=3)\n",
    "ax.plot(attempts300[idx2:], y_mean3[idx2:], 'c-', label='curve 3', linewidth=3)\n",
    "\n",
    "ax.set_ylim([0, max(avg11)+0.2])\n",
    "ax.legend(fontsize=14)\n",
    "#ax.set_title(\"cluster {0}: cost {1}\".format(clt_num+1, round(cost, 2)))\n",
    "\n",
    "plt.show()\n",
    "\n",
    "print(idx1, idx2)"
   ]
  }
 ],
 "metadata": {
  "anaconda-cloud": {},
  "kernelspec": {
   "display_name": "Python 3",
   "language": "python",
   "name": "python3"
  },
  "language_info": {
   "codemirror_mode": {
    "name": "ipython",
    "version": 3
   },
   "file_extension": ".py",
   "mimetype": "text/x-python",
   "name": "python",
   "nbconvert_exporter": "python",
   "pygments_lexer": "ipython3",
   "version": "3.5.1"
  }
 },
 "nbformat": 4,
 "nbformat_minor": 0
}
