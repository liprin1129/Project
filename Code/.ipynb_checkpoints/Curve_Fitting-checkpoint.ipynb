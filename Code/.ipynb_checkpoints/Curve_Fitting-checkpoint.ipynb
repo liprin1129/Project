{
 "cells": [
  {
   "cell_type": "markdown",
   "metadata": {},
   "source": [
    "# Function Fitting"
   ]
  },
  {
   "cell_type": "code",
   "execution_count": 1,
   "metadata": {
    "collapsed": false
   },
   "outputs": [],
   "source": [
    "import numpy as np\n",
    "from scipy.optimize import curve_fit\n",
    "from scipy.optimize import least_squares\n",
    "import DC_Pickle as dcp\n",
    "import Curve_Functions as cv\n",
    "import matplotlib.pyplot as plt\n",
    "%matplotlib inline\n",
    "\n",
    "def disp_Data(x, y_true, y_pred, file_path, clt_num, cost, rows=1, columns=1, size=(6, 4)):\n",
    "    fig, ax = plt.subplots(rows, columns, figsize=size)\n",
    "    ax.plot(x, y_true, 'rx', label='average score')\n",
    "    ax.plot(x, y_pred, 'b-', label='curve fitting')\n",
    "    ax.set_xlim([0, max(x)+1])\n",
    "    ax.set_ylim([0, max(y_true)+0.2])\n",
    "    ax.legend(fontsize=14)\n",
    "    ax.set_title(\"cluster {0}: cost {1}\".format(clt_num, round(cost, 2)))\n",
    "    fig.savefig(file_path, dpi=100)\n",
    "    plt.show()"
   ]
  },
  {
   "cell_type": "markdown",
   "metadata": {},
   "source": [
    "## load data"
   ]
  },
  {
   "cell_type": "code",
   "execution_count": 2,
   "metadata": {
    "collapsed": false
   },
   "outputs": [
    {
     "name": "stdout",
     "output_type": "stream",
     "text": [
      "Training data set: (300, 22832)\n"
     ]
    }
   ],
   "source": [
    "train_idx = dcp.open_Pickle(\"../../data/pickles/clusters_origin/indices/index13.pickle\")\n",
    "train_idx = train_idx[9] #2, 8\n",
    "\n",
    "train_scores = dcp.open_Pickle('../../data/pickles/seperate_origin/eventValue.pickle')\n",
    "train_scores = train_scores[:300, :]/1e+4\n",
    "attempts15 = np.arange(15)+1\n",
    "attempts300 = np.arange(300)+1\n",
    "\n",
    "## filtering discontinuous under 15 attempts\n",
    "idx_all = []\n",
    "idx_pure = []\n",
    "\n",
    "for i in range(train_scores.shape[1]):\n",
    "    if not np.isnan(train_scores[:15, i]).any():\n",
    "        idx_all.append(i)\n",
    "        idx_pure.append(i)\n",
    "    else:\n",
    "        idx_all.append(np.nan)\n",
    "\n",
    "train_scores = train_scores[:, idx_pure]\n",
    "print(\"Training data set: {0}\".format(np.shape(train_scores)))"
   ]
  },
  {
   "cell_type": "code",
   "execution_count": 3,
   "metadata": {
    "collapsed": false
   },
   "outputs": [],
   "source": [
    "## get cluster data and cluster average data (average is centroid)\n",
    "nClt = 13\n",
    "for i in range(nClt):\n",
    "    name = \"cluster{0}\".format(i+1)\n",
    "    globals()[name] = train_scores[:, train_idx==i] # get cluster data\n",
    "    \n",
    "    ## get cluster average data\n",
    "    data = np.ones(300)\n",
    "    for j in range(len(data)):\n",
    "        avg = eval(name)[j, :]\n",
    "        avg = np.sum(avg[~np.isnan(avg)])/len(avg[~np.isnan(avg)])\n",
    "        data[j] = avg\n",
    "\n",
    "    globals()[\"avg{0}\".format(i+1)] = data"
   ]
  },
  {
   "cell_type": "raw",
   "metadata": {},
   "source": [
    "import pandas as pd\n",
    "print(avg1)\n",
    "df = pd.DataFrame(avg1)\n",
    "df.to_csv('test.csv')"
   ]
  },
  {
   "cell_type": "markdown",
   "metadata": {},
   "source": [
    "## make folder for each function"
   ]
  },
  {
   "cell_type": "code",
   "execution_count": null,
   "metadata": {
    "collapsed": false
   },
   "outputs": [],
   "source": [
    "dcp.make_folders(\"Figs/curve_fitting/\")"
   ]
  },
  {
   "cell_type": "markdown",
   "metadata": {},
   "source": [
    "## exponential fit"
   ]
  },
  {
   "cell_type": "markdown",
   "metadata": {},
   "source": [
    "### Two parameters"
   ]
  },
  {
   "cell_type": "markdown",
   "metadata": {},
   "source": [
    "#### train on 15 attempts"
   ]
  },
  {
   "cell_type": "code",
   "execution_count": null,
   "metadata": {
    "collapsed": false,
    "scrolled": true
   },
   "outputs": [],
   "source": [
    "dcp.make_folders(\"Figs/curve_fitting/exponential2\")\n",
    "\n",
    "seed = [1, 1]\n",
    "for i in range(nClt):\n",
    "    print(\"cluster {0}:\".format(i+1))\n",
    "    ## train\n",
    "    exp2_opt, exp2_cost = cv.curve_Fitting(\n",
    "        cv.exponential_least2, cv.exponential_curve2, \n",
    "        attempts15, eval(\"avg{0}\".format(i+1))[:15], seed, \n",
    "        \"Figs/curve_fitting/exponential2/{0}\".format(i+1), clt_num = i+1)\n",
    "    ## validation\n",
    "    y_fit = cv.exponential_curve2(attempts300, exp2_opt[0], exp2_opt[1])\n",
    "    \n",
    "    exp2_cost300 = cv.cost_Function(eval(\"avg{0}\".format(i+1)), y_fit) # get cost for all data\n",
    "    \n",
    "    disp_Data(attempts300, eval(\"avg{0}\".format(i+1)), y_fit, \n",
    "              file_path=\"Figs/curve_fitting/exponential2/valid{0}\".format(i), \n",
    "              clt_num=i+1, cost = exp2_cost300)"
   ]
  },
  {
   "cell_type": "markdown",
   "metadata": {},
   "source": [
    "### Three parameters"
   ]
  },
  {
   "cell_type": "markdown",
   "metadata": {},
   "source": [
    "#### train on 15 attempts"
   ]
  },
  {
   "cell_type": "code",
   "execution_count": null,
   "metadata": {
    "collapsed": false,
    "scrolled": true
   },
   "outputs": [],
   "source": [
    "dcp.make_folders(\"Figs/curve_fitting/exponential3\")\n",
    "\n",
    "seed = [1, 1, 1]\n",
    "for i in range(nClt):\n",
    "    print(\"cluster {0}:\".format(i+1))\n",
    "    exp3_opt, exp3_cost = cv.curve_Fitting(\n",
    "        cv.exponential_least3, cv.exponential_curve3, \n",
    "        attempts15, eval(\"avg{0}\".format(i+1))[:15], seed,\n",
    "        \"Figs/curve_fitting/exponential3/{0}\".format(i+1), clt_num = i+1)\n",
    "\n",
    "    y_fit = cv.exponential_curve3(attempts300, exp3_opt[0], exp3_opt[1], exp3_opt[2])\n",
    "    exp3_cost300 = cv.cost_Function(eval(\"avg{0}\".format(i+1)), y_fit) # get cost for all data\n",
    "    \n",
    "    cost300 = cv.cost_Function(attempts300, y_fit)\n",
    "    disp_Data(attempts300, eval(\"avg{0}\".format(i+1)), y_fit, \n",
    "              file_path=\"Figs/curve_fitting/exponential3/valid{0}\".format(i), \n",
    "              clt_num=i+1, cost = exp3_cost300)"
   ]
  },
  {
   "cell_type": "markdown",
   "metadata": {},
   "source": [
    "### polynoimial fit"
   ]
  },
  {
   "cell_type": "code",
   "execution_count": null,
   "metadata": {
    "collapsed": false,
    "scrolled": true
   },
   "outputs": [],
   "source": [
    "dcp.make_folders(\"Figs/curve_fitting/polynomial2\")\n",
    "\n",
    "seed = [1, 1]\n",
    "for i in range(nClt):\n",
    "    print(\"cluster {0}:\".format(i+1))\n",
    "    poly_opt, poly_cost = cv.curve_Fitting(\n",
    "        cv.polynomial_least, cv.polynomial_curve, \n",
    "        attempts15, eval(\"avg{0}\".format(i+1))[:15], seed,\n",
    "        \"Figs/curve_fitting/polynomial2/{0}\".format(i+1), clt_num = i+1)\n",
    "\n",
    "    y_fit = cv.polynomial_curve(attempts300, poly_opt[0], poly_opt[1])\n",
    "    \n",
    "    poly_cost300 = cv.cost_Function(eval(\"avg{0}\".format(i+1)), y_fit) # get cost for all data\n",
    "    disp_Data(attempts300, eval(\"avg{0}\".format(i+1)), y_fit, \n",
    "              file_path=\"Figs/curve_fitting/polynomial2/valid{0}\".format(i), \n",
    "              clt_num=i+1, cost = poly_cost300)"
   ]
  },
  {
   "cell_type": "markdown",
   "metadata": {},
   "source": [
    "### power law fit"
   ]
  },
  {
   "cell_type": "markdown",
   "metadata": {},
   "source": [
    "#### Two parameters"
   ]
  },
  {
   "cell_type": "code",
   "execution_count": null,
   "metadata": {
    "collapsed": false,
    "scrolled": true
   },
   "outputs": [],
   "source": [
    "dcp.make_folders(\"Figs/curve_fitting/powerlaw2\")\n",
    "\n",
    "seed = [1, 1]\n",
    "for i in range(nClt):\n",
    "    print(\"cluster {0}:\".format(i+1))\n",
    "    pl2_opt, pl2_cost = cv.curve_Fitting(\n",
    "        cv.powerlaw_least2, cv.powerlaw_curve2, \n",
    "        attempts15, eval(\"avg{0}\".format(i+1))[:15], seed,\n",
    "        \"Figs/curve_fitting/powerlaw2/{0}\".format(i+1), clt_num = i+1)\n",
    "    \n",
    "    y_fit = cv.powerlaw_curve2(attempts300, pl2_opt[0], pl2_opt[1])\n",
    "    pl2_cost300 = cv.cost_Function(eval(\"avg{0}\".format(i+1)), y_fit) # get cost for all data\n",
    "    \n",
    "    disp_Data(attempts300, eval(\"avg{0}\".format(i+1)), y_fit, \n",
    "              file_path=\"Figs/curve_fitting/powerlaw2/valid{0}\".format(i), \n",
    "              clt_num=i+1, cost = pl2_cost300)"
   ]
  },
  {
   "cell_type": "markdown",
   "metadata": {},
   "source": [
    "#### Thress parameters"
   ]
  },
  {
   "cell_type": "code",
   "execution_count": null,
   "metadata": {
    "collapsed": false
   },
   "outputs": [],
   "source": [
    "dcp.make_folders(\"Figs/curve_fitting/powerlaw3\")\n",
    "\n",
    "seed = [1, 1, 1]\n",
    "for i in range(nClt):\n",
    "    print(\"cluster {0}:\".format(i+1))\n",
    "    pl3_opt, pl3_cost = cv.curve_Fitting(\n",
    "        cv.powerlaw_least3, cv.powerlaw_curve3, \n",
    "        attempts15, eval(\"avg{0}\".format(i+1))[:15], seed,\n",
    "        \"Figs/curve_fitting/powerlaw3/{0}\".format(i+1), clt_num = i+1)\n",
    "    \n",
    "    y_fit = cv.powerlaw_curve3(attempts300, pl3_opt[0], pl3_opt[1], pl3_opt[2])\n",
    "    pl3_cost300 = cv.cost_Function(eval(\"avg{0}\".format(i+1)), y_fit) # get cost for all data\n",
    "    \n",
    "    disp_Data(attempts300, eval(\"avg{0}\".format(i+1)), y_fit, \n",
    "              file_path=\"Figs/curve_fitting/powerlaw3/valid{0}\".format(i), \n",
    "              clt_num=i+1, cost = pl3_cost300)"
   ]
  },
  {
   "cell_type": "markdown",
   "metadata": {},
   "source": [
    "#### Four parameters"
   ]
  },
  {
   "cell_type": "code",
   "execution_count": null,
   "metadata": {
    "collapsed": false
   },
   "outputs": [],
   "source": [
    "dcp.make_folders(\"Figs/curve_fitting/powerlaw4\")\n",
    "\n",
    "seed = [1, 1, 1, 1]\n",
    "for i in range(nClt):\n",
    "    print(\"cluster {0}:\".format(i+1))\n",
    "    pl4_opt, pl4_cost = cv.curve_Fitting(\n",
    "        cv.powerlaw_least4, cv.powerlaw_curve4, \n",
    "        attempts15, eval(\"avg{0}\".format(i+1))[:15], seed,\n",
    "        \"Figs/curve_fitting/powerlaw4/{0}\".format(i+1), clt_num = i+1)\n",
    "    \n",
    "    y_fit = cv.powerlaw_curve4(attempts300, pl4_opt[0], pl4_opt[1], pl4_opt[2], pl4_opt[3])\n",
    "    pl4_cost300 = cv.cost_Function(eval(\"avg{0}\".format(i+1)), y_fit) # get cost for all data\n",
    "    \n",
    "    disp_Data(attempts300, eval(\"avg{0}\".format(i+1)), y_fit, \n",
    "              file_path=\"Figs/curve_fitting/powerlaw4/valid{0}\".format(i), \n",
    "              clt_num=i+1, cost = pl4_cost300)"
   ]
  },
  {
   "cell_type": "markdown",
   "metadata": {},
   "source": [
    "## Multiple curves"
   ]
  },
  {
   "cell_type": "markdown",
   "metadata": {},
   "source": [
    "### exponential with three parameter"
   ]
  },
  {
   "cell_type": "code",
   "execution_count": null,
   "metadata": {
    "collapsed": false
   },
   "outputs": [],
   "source": [
    "seed = [1, 1, 1]\n",
    "\n",
    "for clt_num in range(13):\n",
    "    idx, cost, p1, p2 = cv.multi_Fitting2(cv.exponential_least3, clt_num, \n",
    "                                     eval(\"avg{0}\".format(clt_num+1)), seed, n_param=3)\n",
    "    \n",
    "    y_mean1 = cv.exponential_curve3(attempts300, p1[0], p1[1], p1[2])\n",
    "    y_mean2 = cv.exponential_curve3(attempts300, p2[0], p2[1], p2[2])\n",
    "    \n",
    "    fig, ax = plt.subplots(1, 1, figsize=(8, 8))\n",
    "    \n",
    "    ax.plot(attempts300, avg11, 'rx', label='average score')\n",
    "    ax.plot(attempts300[:idx], y_mean1[:idx], 'b-', label='curve 1', linewidth=3)\n",
    "    ax.plot(attempts300[idx-50:], y_mean2[idx-50:], 'g-', label='curve 2', linewidth=3)\n",
    "    \n",
    "    ax.set_ylim([0, max(avg11)+0.2])\n",
    "    ax.legend(fontsize=14)\n",
    "    ax.set_title(\"cluster {0}: cost {1}\".format(clt_num+1, round(cost, 2)))\n",
    "    \n",
    "    plt.show()\n",
    "    \n",
    "'''\n",
    "y_mean1 = cv.powerlaw_curve4(attempts300, param1[0], param1[1], param1[2], param1[3])\n",
    "y_mean2 = cv.powerlaw_curve4(attempts300, param2[0], param2[1], param2[2], param2[3])\n",
    "fig, ax = plt.subplots(1, 1, figsize=(10, 10))\n",
    "'''\n",
    "#ax.set_xlim([0, max()+1])\n",
    "\n",
    "#fig.savefig(file_path, dpi=100)\n"
   ]
  },
  {
   "cell_type": "code",
   "execution_count": null,
   "metadata": {
    "collapsed": false
   },
   "outputs": [],
   "source": [
    "seed = [1, 1, 1]\n",
    "idx1, idx2, cost, p1, p2, p3 = cv.multi_curveFitting_3(cv.exponential_least3, avg11, seed, n_param=3)"
   ]
  },
  {
   "cell_type": "code",
   "execution_count": 10,
   "metadata": {
    "collapsed": false
   },
   "outputs": [
    {
     "data": {
      "image/png": "[encoded data removed]",
      "text/plain": [
       "<matplotlib.figure.Figure at 0x1189736d8>"
      ]
     },
     "metadata": {},
     "output_type": "display_data"
    },
    {
     "name": "stdout",
     "output_type": "stream",
     "text": [
      "278 8\n"
     ]
    }
   ],
   "source": [
    "y_mean1 = cv.exponential_curve3(attempts300, p1[0], p1[1], p1[2])\n",
    "y_mean2 = cv.exponential_curve3(attempts300, p2[0], p2[1], p2[2])\n",
    "y_mean3 = cv.exponential_curve3(attempts300, p3[0], p3[1], p3[2])\n",
    "\n",
    "fig, ax = plt.subplots(1, 1, figsize=(8, 8))\n",
    "\n",
    "ax.plot(attempts300, avg11, 'rx', label='average score')\n",
    "ax.plot(attempts300[:idx1], y_mean1[:idx1], 'b-', label='curve 1', linewidth=3)\n",
    "ax.plot(attempts300[idx1:idx1+idx2], y_mean2[idx1:idx1+idx2], 'g-', label='curve 2', linewidth=3)\n",
    "ax.plot(attempts300[idx1+idx2:], y_mean3[idx1+idx2:], 'c-', label='curve 3', linewidth=3)\n",
    "\n",
    "ax.set_ylim([0, max(avg11)+0.2])\n",
    "ax.legend(fontsize=14)\n",
    "#ax.set_title(\"cluster {0}: cost {1}\".format(clt_num+1, round(cost, 2)))\n",
    "\n",
    "plt.show()\n",
    "\n",
    "print(idx1, idx2)"
   ]
  },
  {
   "cell_type": "code",
   "execution_count": 5,
   "metadata": {
    "collapsed": false,
    "scrolled": true
   },
   "outputs": [
    {
     "name": "stdout",
     "output_type": "stream",
     "text": [
      "iter  0\n",
      "iter  1\n",
      "iter  2\n",
      "iter  3\n",
      "iter  4\n",
      "iter  5\n",
      "iter  6\n",
      "iter  7\n",
      "iter  8\n",
      "iter  9\n",
      "iter  10\n",
      "iter  11\n",
      "iter  12\n",
      "iter  13\n",
      "iter  14\n",
      "iter  15\n",
      "iter  16\n",
      "iter  17\n",
      "iter  18\n",
      "iter  19\n",
      "iter  20\n",
      "iter  21\n",
      "iter  22\n",
      "iter  23\n",
      "iter  24\n",
      "iter  25\n",
      "iter  26\n",
      "iter  27\n",
      "iter  28\n",
      "iter  29\n",
      "iter  30\n",
      "iter  31\n",
      "iter  32\n",
      "iter  33\n",
      "iter  34\n",
      "iter  35\n",
      "iter  36\n",
      "iter  37\n",
      "iter  38\n",
      "iter  39\n",
      "iter  40\n",
      "iter  41\n",
      "iter  42\n",
      "iter  43\n",
      "iter  44\n",
      "iter  45\n",
      "iter  46\n",
      "iter  47\n",
      "iter  48\n",
      "iter  49\n",
      "iter  50\n",
      "iter  51\n",
      "iter  52\n",
      "iter  53\n",
      "iter  54\n",
      "iter  55\n",
      "iter  56\n",
      "iter  57\n",
      "iter  58\n",
      "iter  59\n",
      "iter  60\n",
      "iter  61\n",
      "iter  62\n",
      "iter  63\n",
      "iter  64\n",
      "iter  65\n",
      "iter  66\n",
      "iter  67\n",
      "iter  68\n",
      "iter  69\n",
      "iter  70\n",
      "iter  71\n",
      "iter  72\n",
      "iter  73\n",
      "iter  74\n",
      "iter  75\n",
      "iter  76\n",
      "iter  77\n",
      "iter  78\n",
      "iter  79\n",
      "iter  80\n",
      "iter  81\n",
      "iter  82\n",
      "iter  83\n",
      "iter  84\n",
      "iter  85\n",
      "iter  86\n",
      "iter  87\n",
      "iter  88\n",
      "iter  89\n",
      "iter  90\n",
      "iter  91\n",
      "iter  92\n",
      "iter  93\n",
      "iter  94\n",
      "iter  95\n",
      "iter  96\n",
      "iter  97\n",
      "iter  98\n",
      "iter  99\n",
      "iter  100\n",
      "iter  101\n",
      "iter  102\n",
      "iter  103\n",
      "iter  104\n",
      "iter  105\n",
      "iter  106\n",
      "iter  107\n",
      "iter  108\n",
      "iter  109\n",
      "iter  110\n",
      "iter  111\n",
      "iter  112\n",
      "iter  113\n",
      "iter  114\n",
      "iter  115\n",
      "iter  116\n",
      "iter  117\n",
      "iter  118\n",
      "iter  119\n",
      "iter  120\n",
      "iter  121\n",
      "iter  122\n",
      "iter  123\n",
      "iter  124\n",
      "iter  125\n",
      "iter  126\n",
      "iter  127\n",
      "iter  128\n",
      "iter  129\n",
      "iter  130\n",
      "iter  131\n",
      "iter  132\n",
      "iter  133\n",
      "iter  134\n",
      "iter  135\n",
      "iter  136\n",
      "iter  137\n",
      "iter  138\n",
      "iter  139\n",
      "iter  140\n",
      "iter  141\n",
      "iter  142\n",
      "iter  143\n",
      "iter  144\n",
      "iter  145\n",
      "iter  146\n",
      "iter  147\n",
      "iter  148\n",
      "iter  149\n",
      "iter  150\n",
      "iter  151\n",
      "iter  152\n",
      "iter  153\n",
      "iter  154\n",
      "iter  155\n",
      "iter  156\n",
      "iter  157\n",
      "iter  158\n",
      "iter  159\n",
      "iter  160\n",
      "iter  161\n",
      "iter  162\n",
      "iter  163\n",
      "iter  164\n",
      "iter  165\n",
      "iter  166\n",
      "iter  167\n",
      "iter  168\n",
      "iter  169\n",
      "iter  170\n",
      "iter  171\n",
      "iter  172\n",
      "iter  173\n",
      "iter  174\n",
      "iter  175\n",
      "iter  176\n",
      "iter  177\n",
      "iter  178\n",
      "iter  179\n",
      "iter  180\n",
      "iter  181\n",
      "iter  182\n",
      "iter  183\n",
      "iter  184\n",
      "iter  185\n",
      "iter  186\n",
      "iter  187\n",
      "iter  188\n",
      "iter  189\n",
      "iter  190\n",
      "iter  191\n",
      "iter  192\n",
      "iter  193\n",
      "iter  194\n",
      "iter  195\n",
      "iter  196\n",
      "iter  197\n",
      "iter  198\n",
      "iter  199\n",
      "iter  200\n",
      "iter  201\n",
      "iter  202\n",
      "iter  203\n",
      "iter  204\n",
      "iter  205\n",
      "iter  206\n",
      "iter  207\n",
      "iter  208\n",
      "iter  209\n",
      "iter  210\n",
      "iter  211\n",
      "iter  212\n",
      "iter  213\n",
      "iter  214\n",
      "iter  215\n",
      "iter  216\n",
      "iter  217\n",
      "iter  218\n",
      "iter  219\n",
      "iter  220\n",
      "iter  221\n",
      "iter  222\n",
      "iter  223\n",
      "iter  224\n",
      "iter  225\n",
      "iter  226\n",
      "iter  227\n",
      "iter  228\n",
      "iter  229\n",
      "iter  230\n",
      "iter  231\n",
      "iter  232\n",
      "iter  233\n",
      "iter  234\n",
      "iter  235\n",
      "iter  236\n",
      "iter  237\n",
      "iter  238\n",
      "iter  239\n",
      "iter  240\n",
      "iter  241\n",
      "iter  242\n",
      "iter  243\n",
      "iter  244\n",
      "iter  245\n",
      "iter  246\n",
      "iter  247\n",
      "iter  248\n",
      "iter  249\n",
      "iter  250\n",
      "iter  251\n",
      "iter  252\n",
      "iter  253\n",
      "iter  254\n",
      "iter  255\n",
      "iter  256\n",
      "iter  257\n",
      "iter  258\n",
      "iter  259\n",
      "iter  260\n",
      "iter  261\n",
      "iter  262\n",
      "iter  263\n",
      "iter  264\n",
      "iter  265\n",
      "iter  266\n",
      "iter  267\n",
      "iter  268\n",
      "iter  269\n",
      "iter  270\n",
      "iter  271\n",
      "iter  272\n",
      "iter  273\n",
      "iter  274\n",
      "iter  275\n",
      "iter  276\n",
      "iter  277\n",
      "iter  278\n",
      "iter  279\n",
      "iter  280\n",
      "iter  281\n",
      "iter  282\n",
      "iter  283\n",
      "iter  284\n",
      "iter  285\n",
      "iter  286\n",
      "iter  287\n",
      "iter  288\n",
      "iter  289\n",
      "iter  290\n",
      "iter  291\n",
      "iter  292\n",
      "iter  293\n",
      "iter  294\n",
      "iter  295\n",
      "iter  296\n",
      "iter  297\n",
      "iter  298\n",
      "iter  299\n"
     ]
    }
   ],
   "source": [
    "def multi_curveFitting_3(least_func, avg, seed, n_param=2):\n",
    "    cost = []\n",
    "    idx_mid2 = [] # save idx2(second change)\n",
    "    x_range = np.linspace(1, 300, 300)\n",
    "    \n",
    "    param1 = np.ones((n_param, 300))*np.nan\n",
    "    param2 = np.ones((n_param, 300, 300))*np.nan\n",
    "    param3 = np.ones((n_param, 300, 300))*np.nan\n",
    "    \n",
    "    for n1 in range(300): # iteration for all data\n",
    "        print(\"iter \", n1)\n",
    "        x1 = x_range[:n1+1]\n",
    "        y1 = avg[:n1+1]\n",
    "\n",
    "        lsq1 = least_squares(least_func, seed, args=(x1, y1))\n",
    "        cost1 = lsq1.cost\n",
    "        param1[:, n1] = lsq1.x \n",
    "        \n",
    "        cost_remain = []        \n",
    "        for n2 in range(300-n1):\n",
    "            x2 = x_range[n1+1:n2+n1+2]\n",
    "            x3 = x_range[n1+n2+2:]\n",
    "            # print(\"x1:{0}, x2:{1}, x3:{2}\".format(x1, x2, x3))\n",
    "\n",
    "            y2 = avg[n1+1:n1+n2+2]\n",
    "            y3 = avg[n1+n2+2:]\n",
    "            \n",
    "            lsq2 = least_squares(least_func, seed, args=(x2, y2))\n",
    "            lsq3 = least_squares(least_func, seed, args=(x3, y3))\n",
    "    \n",
    "            cost_remain.append(lsq2.cost+lsq3.cost)\n",
    "\n",
    "            param2[:, n1, n2] = lsq2.x\n",
    "            param3[:, n1, n2] = lsq3.x\n",
    "    \n",
    "        idx2 = np.argmin(cost_remain)\n",
    "        idx_mid2.append(idx2)\n",
    "        cost.append(cost1+cost_remain[idx2])\n",
    "    \n",
    "    idx1 = np.argmin(cost)\n",
    "    idx2 = idx_mid2[idx1]\n",
    "    \n",
    "    return idx1, idx2, cost[idx1], param1[:, idx1], param2[:, idx1, idx2], param3[:, idx1, idx2]\n",
    "\n",
    "seed = [1, 1, 1]\n",
    "idx1, idx2, cost, p1, p2, p3 = multi_curveFitting_3(cv.exponential_least3, avg11, seed, n_param=3)"
   ]
  },
  {
   "cell_type": "raw",
   "metadata": {},
   "source": [
    "x_all = np.linspace(1, 300, 300)\n",
    "\n",
    "for n1 in range(300):\n",
    "    x1 = x_all[:n1+1]\n",
    "    \n",
    "    for n2 in range(300-n1+1):\n",
    "        x2 = x_all[n1+1:n2+n1+2]\n",
    "        x3 = x_all[n2+n1+2:]\n",
    "        print(\"x1:{0}, x2:{1}, x3:{2}\".format(x1, x2, x3))\n",
    "    print('a\\n\\n\\n\\n\\n\\n\\n\\n\\n\\n\\n\\n\\n\\n')"
   ]
  }
 ],
 "metadata": {
  "anaconda-cloud": {},
  "kernelspec": {
   "display_name": "Python 3",
   "language": "python",
   "name": "python3"
  },
  "language_info": {
   "codemirror_mode": {
    "name": "ipython",
    "version": 3
   },
   "file_extension": ".py",
   "mimetype": "text/x-python",
   "name": "python",
   "nbconvert_exporter": "python",
   "pygments_lexer": "ipython3",
   "version": "3.5.1"
  }
 },
 "nbformat": 4,
 "nbformat_minor": 0
}
