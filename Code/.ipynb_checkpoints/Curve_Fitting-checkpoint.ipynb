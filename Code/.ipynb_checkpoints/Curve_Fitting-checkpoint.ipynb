{
 "cells": [
  {
   "cell_type": "markdown",
   "metadata": {},
   "source": [
    "# Function Fitting"
   ]
  },
  {
   "cell_type": "markdown",
   "metadata": {},
   "source": [
    "### load data & set functions"
   ]
  },
  {
   "cell_type": "code",
   "execution_count": 1,
   "metadata": {
    "collapsed": false
   },
   "outputs": [],
   "source": [
    "import numpy as np\n",
    "from scipy.optimize import curve_fit\n",
    "from scipy.optimize import least_squares\n",
    "import DC_Pickle as dcp\n",
    "import Curve_Functions as cv\n",
    "import matplotlib.pyplot as plt\n",
    "%matplotlib inline\n",
    "    \n",
    "def disp_Data(x_axis, y_axis, colour_shape='b.', rows=1, columns=1, size=(10, 5)):\n",
    "    fig, axes = plt.subplots(rows, columns, figsize=size)\n",
    "    axes.plot(x_axis, y_axis, colour_shape)\n",
    "    plt.show()"
   ]
  },
  {
   "cell_type": "code",
   "execution_count": 2,
   "metadata": {
    "collapsed": false
   },
   "outputs": [
    {
     "name": "stdout",
     "output_type": "stream",
     "text": [
      "(15,)\n",
      "(2, 15)\n",
      "[ 0.06949649  0.11833792  0.12415684  0.21923799  0.21402511  0.2695956\n",
      "  0.38354837  0.1381195   0.2282138   0.21838991  0.20394061  0.29085711\n",
      "  0.15276998  0.26760545  0.32473221]\n"
     ]
    },
    {
     "data": {
      "image/png": "[encoded data removed]",
      "text/plain": [
       "<matplotlib.figure.Figure at 0x110ee3e48>"
      ]
     },
     "metadata": {},
     "output_type": "display_data"
    },
    {
     "name": "stdout",
     "output_type": "stream",
     "text": [
      "[ 1  2  3  4  5  6  7  8  9 10 11 12 13 14 15]\n"
     ]
    }
   ],
   "source": [
    "data_path = \"../../data/pickles/clusters_test/centroid2.pickle\"\n",
    "train_data = dcp.open_Pickle(data_path)\n",
    "print(np.shape(train_data[0, :, 0]))\n",
    "train_data = train_data[:, :, 0]\n",
    "\n",
    "print(np.shape(train_data)) # centroid of cluster 1\n",
    "print(train_data[0,:])\n",
    "attempts = np.arange(15)+1 # attempts\n",
    "scores = train_data[0,:] # centroid of cluster 1\n",
    "\n",
    "disp_Data(attempts, scores)\n",
    "\n",
    "print(attempts)"
   ]
  },
  {
   "cell_type": "markdown",
   "metadata": {},
   "source": [
    "### exponential fit"
   ]
  },
  {
   "cell_type": "markdown",
   "metadata": {},
   "source": [
    "#### Two parameters"
   ]
  },
  {
   "cell_type": "code",
   "execution_count": 3,
   "metadata": {
    "collapsed": false
   },
   "outputs": [
    {
     "name": "stdout",
     "output_type": "stream",
     "text": [
      "Parameters: [ 0.14980187 -0.04312138]\n",
      "Parameters: [ 0.14980267 -0.04312082]\n"
     ]
    }
   ],
   "source": [
    "seed = np.array([1, 1])\n",
    "exp2_lqe = least_squares(cv.exponential_least2, seed, args=(attempts, scores))\n",
    "print(\"Parameters: {0}\".format(exp2_lqe.x))\n",
    "\n",
    "exp2_opt, exp2_cov = curve_fit(cv.exponential_curve2, attempts, scores)\n",
    "print(\"Parameters: {0}\".format(exp2_opt))"
   ]
  },
  {
   "cell_type": "code",
   "execution_count": 4,
   "metadata": {
    "collapsed": false
   },
   "outputs": [
    {
     "data": {
      "text/plain": [
       "(0, 0.43354836943552055)"
      ]
     },
     "execution_count": 4,
     "metadata": {},
     "output_type": "execute_result"
    },
    {
     "data": {
      "image/png": "[encoded data removed]",
      "text/plain": [
       "<matplotlib.figure.Figure at 0x116226518>"
      ]
     },
     "metadata": {},
     "output_type": "display_data"
    }
   ],
   "source": [
    "x_fit = np.linspace(0, 15, 100)\n",
    "plt.plot(x_fit, cv.exponential_curve2(x_fit, exp2_opt[0], exp2_opt[1]), 'b-')\n",
    "plt.plot(attempts, scores, 'rx')\n",
    "plt.ylim([0, max(scores)+0.05])"
   ]
  },
  {
   "cell_type": "markdown",
   "metadata": {},
   "source": [
    "#### Three parameters"
   ]
  },
  {
   "cell_type": "code",
   "execution_count": 5,
   "metadata": {
    "collapsed": false
   },
   "outputs": [
    {
     "name": "stdout",
     "output_type": "stream",
     "text": [
      "Parameters: [-0.30827754  0.4626317   0.24977196]\n",
      "Parameters: [-0.30827811  0.46263319  0.24977189]\n"
     ]
    }
   ],
   "source": [
    "seed = np.array([1, 1, 1])\n",
    "exp3_lqe = least_squares(cv.exponential_least3, seed, args=(attempts, scores))\n",
    "print(\"Parameters: {0}\".format(exp3_lqe.x))\n",
    "\n",
    "exp3_opt, exp3_cov = curve_fit(cv.exponential_curve3, attempts, scores)\n",
    "print(\"Parameters: {0}\".format(exp3_opt))"
   ]
  },
  {
   "cell_type": "code",
   "execution_count": 6,
   "metadata": {
    "collapsed": false
   },
   "outputs": [
    {
     "data": {
      "text/plain": [
       "(0, 0.43354836943552055)"
      ]
     },
     "execution_count": 6,
     "metadata": {},
     "output_type": "execute_result"
    },
    {
     "data": {
      "image/png": "[encoded data removed]",
      "text/plain": [
       "<matplotlib.figure.Figure at 0x11632f1d0>"
      ]
     },
     "metadata": {},
     "output_type": "display_data"
    }
   ],
   "source": [
    "x_fit = np.linspace(0, 15, 100)\n",
    "plt.plot(x_fit, cv.exponential_curve3(x_fit, exp3_opt[0], exp3_opt[1], exp3_opt[2]), 'b-')\n",
    "plt.plot(attempts, scores, 'rx')\n",
    "plt.ylim([0, max(scores)+0.05])"
   ]
  },
  {
   "cell_type": "code",
   "execution_count": 8,
   "metadata": {
    "collapsed": false
   },
   "outputs": [
    {
     "ename": "TypeError",
     "evalue": "exponential_curve3() missing 4 required positional arguments: 'x', 'a', 'b', and 'c'",
     "output_type": "error",
     "traceback": [
      "\u001b[0;31m---------------------------------------------------------------------------\u001b[0m",
      "\u001b[0;31mTypeError\u001b[0m                                 Traceback (most recent call last)",
      "\u001b[0;32m<ipython-input-8-1feb23a5de60>\u001b[0m in \u001b[0;36m<module>\u001b[0;34m()\u001b[0m\n\u001b[1;32m      6\u001b[0m     \u001b[0mprint\u001b[0m\u001b[0;34m(\u001b[0m\u001b[0;34m\"Parameters: {0}\"\u001b[0m\u001b[0;34m.\u001b[0m\u001b[0mformat\u001b[0m\u001b[0;34m(\u001b[0m\u001b[0mexp3_opt\u001b[0m\u001b[0;34m)\u001b[0m\u001b[0;34m)\u001b[0m\u001b[0;34m\u001b[0m\u001b[0m\n\u001b[1;32m      7\u001b[0m \u001b[0;34m\u001b[0m\u001b[0m\n\u001b[0;32m----> 8\u001b[0;31m \u001b[0mcurve_Fitting\u001b[0m\u001b[0;34m(\u001b[0m\u001b[0mcv\u001b[0m\u001b[0;34m.\u001b[0m\u001b[0mexponential_curve3\u001b[0m\u001b[0;34m,\u001b[0m \u001b[0mattempts\u001b[0m\u001b[0;34m,\u001b[0m \u001b[0mscores\u001b[0m\u001b[0;34m,\u001b[0m \u001b[0mseed\u001b[0m\u001b[0;34m)\u001b[0m\u001b[0;34m\u001b[0m\u001b[0m\n\u001b[0m\u001b[1;32m      9\u001b[0m \u001b[0;34m\u001b[0m\u001b[0m\n\u001b[1;32m     10\u001b[0m \u001b[0;34m\u001b[0m\u001b[0m\n",
      "\u001b[0;32m<ipython-input-8-1feb23a5de60>\u001b[0m in \u001b[0;36mcurve_Fitting\u001b[0;34m(func, x, y, s)\u001b[0m\n\u001b[1;32m      1\u001b[0m \u001b[0;32mdef\u001b[0m \u001b[0mcurve_Fitting\u001b[0m\u001b[0;34m(\u001b[0m\u001b[0mfunc\u001b[0m\u001b[0;34m,\u001b[0m \u001b[0mx\u001b[0m\u001b[0;34m,\u001b[0m \u001b[0my\u001b[0m\u001b[0;34m,\u001b[0m \u001b[0ms\u001b[0m\u001b[0;34m)\u001b[0m\u001b[0;34m:\u001b[0m\u001b[0;34m\u001b[0m\u001b[0m\n\u001b[0;32m----> 2\u001b[0;31m     \u001b[0mexp3_lqe\u001b[0m \u001b[0;34m=\u001b[0m \u001b[0mleast_squares\u001b[0m\u001b[0;34m(\u001b[0m\u001b[0mfunc\u001b[0m\u001b[0;34m(\u001b[0m\u001b[0;34m)\u001b[0m\u001b[0;34m,\u001b[0m \u001b[0ms\u001b[0m\u001b[0;34m,\u001b[0m \u001b[0margs\u001b[0m\u001b[0;34m=\u001b[0m\u001b[0;34m(\u001b[0m\u001b[0mx\u001b[0m\u001b[0;34m,\u001b[0m \u001b[0my\u001b[0m\u001b[0;34m)\u001b[0m\u001b[0;34m)\u001b[0m\u001b[0;34m\u001b[0m\u001b[0m\n\u001b[0m\u001b[1;32m      3\u001b[0m     \u001b[0mprint\u001b[0m\u001b[0;34m(\u001b[0m\u001b[0;34m\"Parameters: {0}\"\u001b[0m\u001b[0;34m.\u001b[0m\u001b[0mformat\u001b[0m\u001b[0;34m(\u001b[0m\u001b[0mexp3_lqe\u001b[0m\u001b[0;34m.\u001b[0m\u001b[0mx\u001b[0m\u001b[0;34m)\u001b[0m\u001b[0;34m)\u001b[0m\u001b[0;34m\u001b[0m\u001b[0m\n\u001b[1;32m      4\u001b[0m \u001b[0;34m\u001b[0m\u001b[0m\n\u001b[1;32m      5\u001b[0m     \u001b[0mexp3_opt\u001b[0m\u001b[0;34m,\u001b[0m \u001b[0mexp3_cov\u001b[0m \u001b[0;34m=\u001b[0m \u001b[0mcurve_fit\u001b[0m\u001b[0;34m(\u001b[0m\u001b[0mfunc\u001b[0m\u001b[0;34m,\u001b[0m \u001b[0mx\u001b[0m\u001b[0;34m,\u001b[0m \u001b[0my\u001b[0m\u001b[0;34m)\u001b[0m\u001b[0;34m\u001b[0m\u001b[0m\n",
      "\u001b[0;31mTypeError\u001b[0m: exponential_curve3() missing 4 required positional arguments: 'x', 'a', 'b', and 'c'"
     ]
    }
   ],
   "source": [
    "def curve_Fitting(func, x, y, s):\n",
    "    popt, pcov = curve_fit(func, x, y)\n",
    "    print(\"Parameters: {0}\".format(exp3_opt))\n",
    "\n",
    "    upper_bound = []\n",
    "    lower_bound = []\n",
    "    for i in range(len(pcov)):\n",
    "        upper_bound.append(popt[i] + popt[i,i])\n",
    "        lower_bound.append(popt[i] - popt[i,i])\n",
    "\n",
    "    print(np.shape(upper_bound))\n",
    "\n",
    "    x_fit = np.linspace(0, 15, 100)\n",
    "    y_mean = func(x_fit, popt[0], popt[1], popt[2])\n",
    "    y_upper = func(x_fit, upper_bound[0], upper_bound[1], upper_bound[2])\n",
    "    y_lower = func(x_fit, lower_bound[0], lower_bound[1], lower_bound[2])\n",
    "\n",
    "    y_err = np.vstack((y_lower, y_lower))\n",
    "    print(np.shape(y_err))\n",
    "\n",
    "    for i in range(len(x_fit)):\n",
    "        plt.plot([x_fit[i], x_fit[i]], [y_lower[i], y_upper[i]], 'r-')\n",
    "\n",
    "    \n",
    "        \n",
    "curve_Fitting(cv.exponential_curve3, attempts, scores, seed)"
   ]
  },
  {
   "cell_type": "markdown",
   "metadata": {},
   "source": [
    "### polynoimial fit"
   ]
  },
  {
   "cell_type": "code",
   "execution_count": null,
   "metadata": {
    "collapsed": false
   },
   "outputs": [],
   "source": [
    "seed = np.array([1, 1])\n",
    "poly_lqe = least_squares(cv.polynomial_least, seed, args=(attempts, scores))\n",
    "print(\"Parameters: {0}\".format(poly_lqe.x))\n",
    "\n",
    "poly_opt, poly_cov = curve_fit(cv.polynomial_curve, attempts, scores)\n",
    "print(\"Parameters: {0}\".format(poly_opt))"
   ]
  },
  {
   "cell_type": "code",
   "execution_count": null,
   "metadata": {
    "collapsed": false
   },
   "outputs": [],
   "source": [
    "x_fit = np.linspace(0, 15, 100)\n",
    "plt.plot(x_fit, cv.polynomial_curve(x_fit, poly_opt[0], poly_opt[1]), 'b-')\n",
    "plt.plot(attempts, scores, 'rx')\n",
    "plt.ylim([0, max(scores)+0.05])"
   ]
  },
  {
   "cell_type": "code",
   "execution_count": null,
   "metadata": {
    "collapsed": false
   },
   "outputs": [],
   "source": [
    "upper_bound = []\n",
    "lower_bound = []\n",
    "for i in range(len(poly_cov)):\n",
    "    upper_bound.append(poly_opt[i] + poly_cov[i,i])\n",
    "    lower_bound.append(poly_opt[i] - poly_cov[i,i])\n",
    "\n",
    "print(np.shape(upper_bound))\n",
    "\n",
    "y_mean = cv.polynomial_curve(x_fit, poly_opt[0], poly_opt[1])\n",
    "y_upper = cv.polynomial_curve(x_fit, upper_bound[0], upper_bound[1])\n",
    "y_lower = cv.polynomial_curve(x_fit, lower_bound[0], lower_bound[1])\n",
    "\n",
    "y_err = np.vstack((y_lower, y_lower))\n",
    "print(np.shape(y_err))\n",
    "\n",
    "\n",
    "for i in range(len(x_fit)):\n",
    "    plt.plot([x_fit[i], x_fit[i]], [y_lower[i], y_upper[i]], 'r-')\n",
    "\n",
    "plt.errorbar(x_fit, y_mean, yerr=y_upper)"
   ]
  },
  {
   "cell_type": "markdown",
   "metadata": {},
   "source": [
    "### power law fit"
   ]
  },
  {
   "cell_type": "markdown",
   "metadata": {},
   "source": [
    "#### Two parameters"
   ]
  },
  {
   "cell_type": "code",
   "execution_count": null,
   "metadata": {
    "collapsed": false
   },
   "outputs": [],
   "source": [
    "seed = np.array([1, 1])\n",
    "pl2_lqe = least_squares(cv.powerlaw_least2, seed, args=(attempts, scores))\n",
    "print(\"Parameters: {0}\".format(pl2_lqe.x))\n",
    "\n",
    "pl2_opt, pl2_cov = curve_fit(cv.powerlaw_curve2, attempts, scores)\n",
    "print(\"Parameters: {0}\".format(pl2_opt))"
   ]
  },
  {
   "cell_type": "code",
   "execution_count": null,
   "metadata": {
    "collapsed": false
   },
   "outputs": [],
   "source": [
    "x_fit = np.linspace(0, 15, 100)\n",
    "plt.plot(x_fit, cv.powerlaw_curve2(x_fit, pl2_opt[0], pl2_opt[1]), 'b-')\n",
    "plt.plot(attempts, scores, 'rx')\n",
    "plt.ylim([0, max(scores)+0.05])"
   ]
  },
  {
   "cell_type": "markdown",
   "metadata": {},
   "source": [
    "#### Thress parameters"
   ]
  },
  {
   "cell_type": "code",
   "execution_count": null,
   "metadata": {
    "collapsed": false
   },
   "outputs": [],
   "source": [
    "seed = np.array([1, 1, 1])\n",
    "pl3_lqe = least_squares(cv.powerlaw_least3, seed, args=(attempts, scores))\n",
    "print(\"Parameters: {0}\".format(pl3_lqe.x))\n",
    "\n",
    "pl3_opt, pl3_cov = curve_fit(cv.powerlaw_curve3, attempts, scores)\n",
    "print(\"Parameters: {0}\".format(pl3_opt))"
   ]
  },
  {
   "cell_type": "code",
   "execution_count": null,
   "metadata": {
    "collapsed": false
   },
   "outputs": [],
   "source": [
    "x_fit = np.linspace(0, 15, 100)\n",
    "plt.plot(x_fit, cv.powerlaw_curve3(x_fit, pl3_opt[0], pl3_opt[1], pl3_opt[2]), 'b-')\n",
    "plt.plot(attempts, scores, 'rx')\n",
    "plt.ylim([0, max(scores)+0.05])"
   ]
  },
  {
   "cell_type": "markdown",
   "metadata": {},
   "source": [
    "#### Four parameters"
   ]
  },
  {
   "cell_type": "code",
   "execution_count": null,
   "metadata": {
    "collapsed": false
   },
   "outputs": [],
   "source": [
    "seed = np.array([1, 1, 1, 1])\n",
    "pl4_lqe = least_squares(cv.powerlaw_least4, seed, args=(attempts, scores))\n",
    "print(\"Parameters: {0}\".format(pl4_lqe.x))\n",
    "\n",
    "pl4_opt, pl4_cov = curve_fit(cv.powerlaw_curve4, attempts, scores, maxfev = 1000000)\n",
    "print(\"Parameters: {0}\".format(pl4_opt))"
   ]
  },
  {
   "cell_type": "code",
   "execution_count": null,
   "metadata": {
    "collapsed": false
   },
   "outputs": [],
   "source": [
    "x_fit = np.linspace(0, 15, 100)\n",
    "pl4_lqe_param = pl4_lqe.x\n",
    "plt.plot(x_fit, cv.powerlaw_curve4(x_fit, pl4_lqe_param[0], pl4_lqe_param[1], pl4_lqe_param[2], pl4_lqe_param[3]), 'r-')\n",
    "plt.plot(x_fit, cv.powerlaw_curve4(x_fit, pl4_opt[0], pl4_opt[1], pl4_opt[2], pl4_opt[3]), 'b-')\n",
    "plt.plot(attempts, scores, 'rx')\n",
    "plt.ylim([0, 0.4])"
   ]
  },
  {
   "cell_type": "code",
   "execution_count": null,
   "metadata": {
    "collapsed": true
   },
   "outputs": [],
   "source": []
  }
 ],
 "metadata": {
  "anaconda-cloud": {},
  "kernelspec": {
   "display_name": "Python 3",
   "language": "python",
   "name": "python3"
  },
  "language_info": {
   "codemirror_mode": {
    "name": "ipython",
    "version": 3
   },
   "file_extension": ".py",
   "mimetype": "text/x-python",
   "name": "python",
   "nbconvert_exporter": "python",
   "pygments_lexer": "ipython3",
   "version": "3.5.1"
  }
 },
 "nbformat": 4,
 "nbformat_minor": 0
}
