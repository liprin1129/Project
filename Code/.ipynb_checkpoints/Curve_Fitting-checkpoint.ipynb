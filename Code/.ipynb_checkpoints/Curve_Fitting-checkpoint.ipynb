{
 "cells": [
  {
   "cell_type": "markdown",
   "metadata": {},
   "source": [
    "# Load Data"
   ]
  },
  {
   "cell_type": "code",
   "execution_count": null,
   "metadata": {
    "collapsed": false
   },
   "outputs": [],
   "source": [
    "import numpy as np\n",
    "from scipy.optimize import curve_fit\n",
    "from scipy.optimize import least_squares\n",
    "import DC_Pickle as dcp\n",
    "import Curve_Functions as cv\n",
    "import matplotlib.pyplot as plt\n",
    "%matplotlib inline\n",
    "\n",
    "def disp_Data(x, y_true, y_pred, file_path, clt_num, cost, rows=1, columns=1, size=(6, 4)):\n",
    "    fig, ax = plt.subplots(rows, columns, figsize=size)\n",
    "    ax.plot(x, y_true, 'rx', label='average score')\n",
    "    ax.plot(x, y_pred, 'b-', label='curve fitting')\n",
    "    ax.set_xlim([0, max(x)+1])\n",
    "    ax.set_ylim([0, max(y_true)+0.2])\n",
    "    ax.legend(fontsize=14)\n",
    "    ax.set_title(\"cluster {0}: cost {1}\".format(clt_num, round(cost, 2)))\n",
    "    fig.savefig(file_path, dpi=100)\n",
    "    plt.show()\n",
    "    \n",
    "train_idx = dcp.open_Pickle(\"../../data/pickles/clusters_origin/indices/index13.pickle\")\n",
    "train_idx = train_idx[9] #2, 8\n",
    "\n",
    "train_scores = dcp.open_Pickle('../../data/pickles/seperate_origin/eventValue.pickle')\n",
    "train_scores = train_scores[:300, :]/1e+4\n",
    "attempts15 = np.arange(15)+1\n",
    "attempts300 = np.arange(300)+1\n",
    "\n",
    "## filtering discontinuous under 15 attempts\n",
    "idx_all = []\n",
    "idx_pure = []\n",
    "\n",
    "for i in range(train_scores.shape[1]):\n",
    "    if not np.isnan(train_scores[:15, i]).any():\n",
    "        idx_all.append(i)\n",
    "        idx_pure.append(i)\n",
    "    else:\n",
    "        idx_all.append(np.nan)\n",
    "\n",
    "train_scores = train_scores[:, idx_pure]\n",
    "print(\"Training data set: {0}\".format(np.shape(train_scores)))\n",
    "\n",
    "## get cluster data and cluster average data (average is centroid)\n",
    "nClt = 13\n",
    "for i in range(nClt):\n",
    "    name = \"cluster{0}\".format(i+1)\n",
    "    globals()[name] = train_scores[:, train_idx==i] # get cluster data\n",
    "    \n",
    "    ## get cluster average data\n",
    "    data = np.ones(300)\n",
    "    for j in range(len(data)):\n",
    "        avg = eval(name)[j, :]\n",
    "        avg = np.sum(avg[~np.isnan(avg)])/len(avg[~np.isnan(avg)])\n",
    "        data[j] = avg\n",
    "\n",
    "    globals()[\"avg{0}\".format(i+1)] = data\n",
    "    \n",
    "dcp.make_folders(\"Figs/curve_fitting/\")"
   ]
  },
  {
   "cell_type": "markdown",
   "metadata": {},
   "source": [
    "# Single Curve"
   ]
  },
  {
   "cell_type": "markdown",
   "metadata": {},
   "source": [
    "## exponential fit"
   ]
  },
  {
   "cell_type": "markdown",
   "metadata": {},
   "source": [
    "### Two parameters"
   ]
  },
  {
   "cell_type": "markdown",
   "metadata": {},
   "source": [
    "#### train on 15 attempts"
   ]
  },
  {
   "cell_type": "code",
   "execution_count": null,
   "metadata": {
    "collapsed": false,
    "scrolled": true
   },
   "outputs": [],
   "source": [
    "dcp.make_folders(\"Figs/curve_fitting/exponential2\")\n",
    "\n",
    "seed = [1, 1]\n",
    "for i in range(nClt):\n",
    "    print(\"cluster {0}:\".format(i+1))\n",
    "    ## train\n",
    "    exp2_opt, exp2_cost = cv.curve_Fitting(\n",
    "        cv.exponential_least2, cv.exponential_curve2, \n",
    "        attempts15, eval(\"avg{0}\".format(i+1))[:15], seed, \n",
    "        \"Figs/curve_fitting/exponential2/{0}\".format(i+1), clt_num = i+1)\n",
    "    ## validation\n",
    "    y_fit = cv.exponential_curve2(attempts300, exp2_opt[0], exp2_opt[1])\n",
    "    \n",
    "    exp2_cost300 = cv.cost_Function(eval(\"avg{0}\".format(i+1)), y_fit) # get cost for all data\n",
    "    \n",
    "    disp_Data(attempts300, eval(\"avg{0}\".format(i+1)), y_fit, \n",
    "              file_path=\"Figs/curve_fitting/exponential2/valid{0}\".format(i), \n",
    "              clt_num=i+1, cost = exp2_cost300)"
   ]
  },
  {
   "cell_type": "markdown",
   "metadata": {},
   "source": [
    "### Three parameters"
   ]
  },
  {
   "cell_type": "markdown",
   "metadata": {},
   "source": [
    "#### train on 15 attempts"
   ]
  },
  {
   "cell_type": "code",
   "execution_count": null,
   "metadata": {
    "collapsed": false,
    "scrolled": true
   },
   "outputs": [],
   "source": [
    "dcp.make_folders(\"Figs/curve_fitting/exponential3\")\n",
    "\n",
    "seed = [1, 1, 1]\n",
    "for i in range(nClt):\n",
    "    print(\"cluster {0}:\".format(i+1))\n",
    "    exp3_opt, exp3_cost = cv.curve_Fitting(\n",
    "        cv.exponential_least3, cv.exponential_curve3, \n",
    "        attempts15, eval(\"avg{0}\".format(i+1))[:15], seed,\n",
    "        \"Figs/curve_fitting/exponential3/{0}\".format(i+1), clt_num = i+1)\n",
    "\n",
    "    y_fit = cv.exponential_curve3(attempts300, exp3_opt[0], exp3_opt[1], exp3_opt[2])\n",
    "    exp3_cost300 = cv.cost_Function(eval(\"avg{0}\".format(i+1)), y_fit) # get cost for all data\n",
    "    \n",
    "    cost300 = cv.cost_Function(attempts300, y_fit)\n",
    "    disp_Data(attempts300, eval(\"avg{0}\".format(i+1)), y_fit, \n",
    "              file_path=\"Figs/curve_fitting/exponential3/valid{0}\".format(i), \n",
    "              clt_num=i+1, cost = exp3_cost300)"
   ]
  },
  {
   "cell_type": "markdown",
   "metadata": {},
   "source": [
    "### polynoimial fit"
   ]
  },
  {
   "cell_type": "code",
   "execution_count": null,
   "metadata": {
    "collapsed": false,
    "scrolled": true
   },
   "outputs": [],
   "source": [
    "dcp.make_folders(\"Figs/curve_fitting/polynomial2\")\n",
    "\n",
    "seed = [1, 1]\n",
    "for i in range(nClt):\n",
    "    print(\"cluster {0}:\".format(i+1))\n",
    "    poly_opt, poly_cost = cv.curve_Fitting(\n",
    "        cv.polynomial_least, cv.polynomial_curve, \n",
    "        attempts15, eval(\"avg{0}\".format(i+1))[:15], seed,\n",
    "        \"Figs/curve_fitting/polynomial2/{0}\".format(i+1), clt_num = i+1)\n",
    "\n",
    "    y_fit = cv.polynomial_curve(attempts300, poly_opt[0], poly_opt[1])\n",
    "    \n",
    "    poly_cost300 = cv.cost_Function(eval(\"avg{0}\".format(i+1)), y_fit) # get cost for all data\n",
    "    disp_Data(attempts300, eval(\"avg{0}\".format(i+1)), y_fit, \n",
    "              file_path=\"Figs/curve_fitting/polynomial2/valid{0}\".format(i), \n",
    "              clt_num=i+1, cost = poly_cost300)"
   ]
  },
  {
   "cell_type": "markdown",
   "metadata": {},
   "source": [
    "### power law fit"
   ]
  },
  {
   "cell_type": "markdown",
   "metadata": {},
   "source": [
    "#### Two parameters"
   ]
  },
  {
   "cell_type": "code",
   "execution_count": null,
   "metadata": {
    "collapsed": false,
    "scrolled": true
   },
   "outputs": [],
   "source": [
    "dcp.make_folders(\"Figs/curve_fitting/powerlaw2\")\n",
    "\n",
    "seed = [1, 1]\n",
    "for i in range(nClt):\n",
    "    print(\"cluster {0}:\".format(i+1))\n",
    "    pl2_opt, pl2_cost = cv.curve_Fitting(\n",
    "        cv.powerlaw_least2, cv.powerlaw_curve2, \n",
    "        attempts15, eval(\"avg{0}\".format(i+1))[:15], seed,\n",
    "        \"Figs/curve_fitting/powerlaw2/{0}\".format(i+1), clt_num = i+1)\n",
    "    \n",
    "    y_fit = cv.powerlaw_curve2(attempts300, pl2_opt[0], pl2_opt[1])\n",
    "    pl2_cost300 = cv.cost_Function(eval(\"avg{0}\".format(i+1)), y_fit) # get cost for all data\n",
    "    \n",
    "    disp_Data(attempts300, eval(\"avg{0}\".format(i+1)), y_fit, \n",
    "              file_path=\"Figs/curve_fitting/powerlaw2/valid{0}\".format(i), \n",
    "              clt_num=i+1, cost = pl2_cost300)"
   ]
  },
  {
   "cell_type": "markdown",
   "metadata": {},
   "source": [
    "#### Thress parameters"
   ]
  },
  {
   "cell_type": "code",
   "execution_count": null,
   "metadata": {
    "collapsed": false
   },
   "outputs": [],
   "source": [
    "dcp.make_folders(\"Figs/curve_fitting/powerlaw3\")\n",
    "\n",
    "seed = [1, 1, 1]\n",
    "for i in range(nClt):\n",
    "    print(\"cluster {0}:\".format(i+1))\n",
    "    pl3_opt, pl3_cost = cv.curve_Fitting(\n",
    "        cv.powerlaw_least3, cv.powerlaw_curve3, \n",
    "        attempts15, eval(\"avg{0}\".format(i+1))[:15], seed,\n",
    "        \"Figs/curve_fitting/powerlaw3/{0}\".format(i+1), clt_num = i+1)\n",
    "    \n",
    "    y_fit = cv.powerlaw_curve3(attempts300, pl3_opt[0], pl3_opt[1], pl3_opt[2])\n",
    "    pl3_cost300 = cv.cost_Function(eval(\"avg{0}\".format(i+1)), y_fit) # get cost for all data\n",
    "    \n",
    "    disp_Data(attempts300, eval(\"avg{0}\".format(i+1)), y_fit, \n",
    "              file_path=\"Figs/curve_fitting/powerlaw3/valid{0}\".format(i), \n",
    "              clt_num=i+1, cost = pl3_cost300)"
   ]
  },
  {
   "cell_type": "markdown",
   "metadata": {},
   "source": [
    "#### Four parameters"
   ]
  },
  {
   "cell_type": "code",
   "execution_count": null,
   "metadata": {
    "collapsed": false
   },
   "outputs": [],
   "source": [
    "dcp.make_folders(\"Figs/curve_fitting/powerlaw4\")\n",
    "\n",
    "seed = [1, 1, 1, 1]\n",
    "for i in range(nClt):\n",
    "    print(\"cluster {0}:\".format(i+1))\n",
    "    pl4_opt, pl4_cost = cv.curve_Fitting(\n",
    "        cv.powerlaw_least4, cv.powerlaw_curve4, \n",
    "        attempts15, eval(\"avg{0}\".format(i+1))[:15], seed,\n",
    "        \"Figs/curve_fitting/powerlaw4/{0}\".format(i+1), clt_num = i+1)\n",
    "    \n",
    "    y_fit = cv.powerlaw_curve4(attempts300, pl4_opt[0], pl4_opt[1], pl4_opt[2], pl4_opt[3])\n",
    "    pl4_cost300 = cv.cost_Function(eval(\"avg{0}\".format(i+1)), y_fit) # get cost for all data\n",
    "    \n",
    "    disp_Data(attempts300, eval(\"avg{0}\".format(i+1)), y_fit, \n",
    "              file_path=\"Figs/curve_fitting/powerlaw4/valid{0}\".format(i), \n",
    "              clt_num=i+1, cost = pl4_cost300)"
   ]
  },
  {
   "cell_type": "markdown",
   "metadata": {},
   "source": [
    "# Multiple curves"
   ]
  },
  {
   "cell_type": "markdown",
   "metadata": {},
   "source": [
    "### 1. exponential function"
   ]
  },
  {
   "cell_type": "code",
   "execution_count": null,
   "metadata": {
    "collapsed": false,
    "scrolled": true
   },
   "outputs": [],
   "source": [
    "seed = [1, 1, 1, 1]\n",
    "p1= cv.multi_curveFitting_2(cv.powerlaw_least4, avg5, seed, min_range=10, n_curve=3)\n",
    "print(p1)"
   ]
  },
  {
   "cell_type": "code",
   "execution_count": null,
   "metadata": {
    "collapsed": false
   },
   "outputs": [],
   "source": [
    "x_range = np.linspace(1, 300, 300)\n",
    "x1 = x_range[:p1]\n",
    "x2 = x_range[p1:]\n",
    "\n",
    "true_y1 = avg3[:p1]\n",
    "true_y2 = avg3[p1:]\n",
    "\n",
    "lsq1 = least_squares(cv.powerlaw_least4, seed, args=(x1, true_y1))\n",
    "lsq2 = least_squares(cv.powerlaw_least4, seed, args=(x2, true_y2))\n",
    "\n",
    "pred_y1 = cv.powerlaw_curve4(x_range[:p1], lsq1.x[0], lsq1.x[1], lsq1.x[2], lsq1.x[3])\n",
    "pred_y2 = cv.powerlaw_curve4(x_range, lsq2.x[0], lsq2.x[1], lsq2.x[2], lsq2.x[3])\n",
    "\n",
    "fig, ax = plt.subplots(1, 1, figsize=(8, 8))\n",
    "\n",
    "ax.plot(attempts300, avg11, 'rx', label='average score')\n",
    "ax.plot(x_range[:p1], pred_y1, 'b-', label='curve 1', linewidth=3)\n",
    "ax.plot(x_range, pred_y2, 'g-', label='curve 2', linewidth=3)\n",
    "\n",
    "#ax.set_ylim([0, max(avg11)+0.2])\n",
    "ax.legend(fontsize=14)\n",
    "\n",
    "plt.show()"
   ]
  },
  {
   "cell_type": "markdown",
   "metadata": {},
   "source": [
    "### three"
   ]
  },
  {
   "cell_type": "code",
   "execution_count": null,
   "metadata": {
    "collapsed": false,
    "scrolled": true
   },
   "outputs": [],
   "source": [
    "seed = [1, 1, 1]\n",
    "p1, p2 = cv.multi_curveFitting_3(cv.powerlaw_least3, avg2, seed, min_range=10, n_curve=3)"
   ]
  },
  {
   "cell_type": "code",
   "execution_count": null,
   "metadata": {
    "collapsed": false
   },
   "outputs": [],
   "source": [
    "print(p1, p2)\n",
    "\n",
    "x_range = np.linspace(1, 300, 300)\n",
    "x1 = x_range[:p1]\n",
    "x2 = x_range[p1:p2]\n",
    "x3 = x_range[p2:]\n",
    "\n",
    "true_y1 = avg2[:p1]\n",
    "true_y2 = avg2[p1:p2]\n",
    "true_y3 = avg2[p2:]\n",
    "\n",
    "lsq1 = least_squares(cv.powerlaw_least3, seed, args=(x1, true_y1))\n",
    "lsq2 = least_squares(cv.powerlaw_least3, seed, args=(x2, true_y2))\n",
    "lsq3 = least_squares(cv.powerlaw_least3, seed, args=(x3, true_y3))\n",
    "\n",
    "pred_y1 = cv.powerlaw_curve3(x_range[:p1], lsq1.x[0], lsq1.x[1], lsq1.x[2])\n",
    "pred_y2 = cv.powerlaw_curve3(x_range[:p2], lsq2.x[0], lsq2.x[1], lsq2.x[2])\n",
    "pred_y3 = cv.powerlaw_curve3(x_range, lsq3.x[0], lsq3.x[1], lsq3.x[2])\n",
    "\n",
    "fig, ax = plt.subplots(1, 1, figsize=(8, 8))\n",
    "\n",
    "ax.plot(attempts300, avg11, 'rx', label='average score')\n",
    "ax.plot(x_range[:p1], pred_y1, 'b-', label='curve 1', linewidth=3)\n",
    "ax.plot(x_range[:p2], pred_y2, 'g-', label='curve 2', linewidth=3)\n",
    "ax.plot(x_range, pred_y3, 'c-', label='curve 3', linewidth=3)\n",
    "\n",
    "ax.set_ylim([0, max(avg11)+0.2])\n",
    "ax.legend(fontsize=14)\n",
    "#ax.set_title(\"cluster {0}: cost {1}\".format(clt_num+1, round(cost, 2)))\n",
    "\n",
    "plt.show()"
   ]
  },
  {
   "cell_type": "code",
   "execution_count": 2,
   "metadata": {
    "collapsed": false
   },
   "outputs": [
    {
     "name": "stdout",
     "output_type": "stream",
     "text": [
      "Training data set: (300, 22832)\n",
      "../../Figs/curve_fitting/ already present - Skipping pickling.\n"
     ]
    }
   ],
   "source": [
    "import numpy as np\n",
    "from scipy.optimize import curve_fit\n",
    "from scipy.optimize import least_squares\n",
    "import DC_Pickle as dcp\n",
    "import Curve_Functions as cv\n",
    "import matplotlib.pyplot as plt\n",
    "%matplotlib inline\n",
    "\n",
    "def disp_Data(x, y_true, y_pred, file_path, clt_num, cost, rows=1, columns=1, size=(6, 4)):\n",
    "    fig, ax = plt.subplots(rows, columns, figsize=size)\n",
    "    ax.plot(x, y_true, 'rx', label='average score')\n",
    "    ax.plot(x, y_pred, 'b-', label='curve fitting')\n",
    "    ax.set_xlim([0, max(x)+1])\n",
    "    ax.set_ylim([0, max(y_true)+0.2])\n",
    "    ax.legend(fontsize=14)\n",
    "    ax.set_title(\"cluster {0}: cost {1}\".format(clt_num, round(cost, 2)))\n",
    "    fig.savefig(file_path, dpi=100)\n",
    "    plt.show()\n",
    "    \n",
    "train_idx = dcp.open_Pickle(\"../../data/pickles/clusters_origin/indices/index13.pickle\")\n",
    "train_idx = train_idx[9] #2, 8\n",
    "\n",
    "train_scores = dcp.open_Pickle('../../data/pickles/seperate_origin/eventValue.pickle')\n",
    "train_scores = train_scores[:300, :]/1e+4\n",
    "attempts15 = np.arange(15)+1\n",
    "attempts300 = np.arange(300)+1\n",
    "\n",
    "## filtering discontinuous under 15 attempts\n",
    "idx_all = []\n",
    "idx_pure = []\n",
    "\n",
    "for i in range(train_scores.shape[1]):\n",
    "    if not np.isnan(train_scores[:15, i]).any():\n",
    "        idx_all.append(i)\n",
    "        idx_pure.append(i)\n",
    "    else:\n",
    "        idx_all.append(np.nan)\n",
    "\n",
    "train_scores = train_scores[:, idx_pure]\n",
    "print(\"Training data set: {0}\".format(np.shape(train_scores)))\n",
    "\n",
    "## get cluster data and cluster average data (average is centroid)\n",
    "nClt = 13\n",
    "for i in range(nClt):\n",
    "    name = \"cluster{0}\".format(i+1)\n",
    "    globals()[name] = train_scores[:, train_idx==i] # get cluster data\n",
    "    \n",
    "    ## get cluster average data\n",
    "    data = np.ones(300)\n",
    "    for j in range(len(data)):\n",
    "        avg = eval(name)[j, :]\n",
    "        avg = np.sum(avg[~np.isnan(avg)])/len(avg[~np.isnan(avg)])\n",
    "        data[j] = avg\n",
    "\n",
    "    globals()[\"avg{0}\".format(i+1)] = data\n",
    "    \n",
    "dcp.make_folders(\"../../Figs/curve_fitting/\")"
   ]
  },
  {
   "cell_type": "code",
   "execution_count": 28,
   "metadata": {
    "collapsed": false
   },
   "outputs": [],
   "source": [
    "def fitting(y_data, least_func, n_param=2, window=10, piece=4):\n",
    "    iter_in_piece = int(len(y_data)/piece/window) + 1\n",
    "    err_matrix = np.zeros([piece, iter_in_piece])\n",
    "    print(\"matrix shape: \", np.shape(err_matrix))\n",
    "    \n",
    "    ## set initial x ranges\n",
    "    x_range = np.linspace(1, 300, 300)\n",
    "    for i in range(piece):\n",
    "        if i < piece-1:\n",
    "            locals()[\"x{0}\".format(i)] = x_range[i*window:window*(i+1)]\n",
    "        else:\n",
    "            locals()[\"x{0}\".format(i)] = x_range[i*window:]\n",
    "        print(\"[{0}, {1}]\".format(eval(\"x{0}\".format(i))[0], eval(\"x{0}\".format(i))[-1]))\n",
    "    print(\"iter_in_piece: \", iter_in_piece)\n",
    "    \n",
    "    ## change window for pieces except first and second pieces\n",
    "    for i in range(piece-2):\n",
    "        print(\"\\n\\n - pieace \", piece-i-1)\n",
    "        print(\" - x{0}:\\n\".format(piece-i-1), \"!!![{0}, {1}]\".format(eval(\"x{0}\".format(piece-i-1))[0], eval(\"x{0}\".format(piece-i-1))[-1]))\n",
    "\n",
    "        while( len(eval(\"x{0}\".format(piece-i-1))-window) > window):\n",
    "            locals()[\"x{0}\".format(piece-i-1)] = eval(\"x{0}\".format(piece-i-1))[window:] # 마지막 piece의 첫번째를 window만큼 더한다.\n",
    "            print(\"[{0}, {1}]\".format(eval(\"x{0}\".format(piece-i-1))[0], eval(\"x{0}\".format(piece-i-1))[-1]))\n",
    "            print(\"diff: \", len(eval(\"x{0}\".format(piece-i-1))-window))\n",
    "\n",
    "        end = eval(\"x{0}\".format(piece-i-1))[0]\n",
    "        print(\"end: \", end)\n",
    "        locals()[\"x{0}\".format(piece-i-2)] = x_range[(piece-i-2)*window:end-1] #처음의 값을 window만큼 이동\n",
    "\n",
    "    \n",
    "    ## change window for first and second pieces\n",
    "    i = 0\n",
    "    while( len(eval(\"x1\"))-window > window):\n",
    "        print(window*(i+1))\n",
    "        locals()[\"x0\"] = x_range[:window*(i+1)] # 첫째 piece의 첫번째를 window만큼 더한다.\n",
    "        locals()[\"x1\"] = x_range[window*(i+1):end] # 둘째 piece의 첫번째를 window만큼 더한다.\n",
    "        print(\" - x0:\\n\", \"[{0}, {1}]\".format(eval(\"x0\")[0], eval(\"x0\")[-1]))\n",
    "        print(\" - x1:\\n\", \"[{0}, {1}]\".format(eval(\"x1\")[0], eval(\"x1\")[-1]))\n",
    "        i = i+1"
   ]
  },
  {
   "cell_type": "code",
   "execution_count": 29,
   "metadata": {
    "collapsed": false,
    "scrolled": true
   },
   "outputs": [
    {
     "name": "stdout",
     "output_type": "stream",
     "text": [
      "matrix shape:  (5, 3)\n",
      "[1.0, 30.0]\n",
      "[31.0, 60.0]\n",
      "[61.0, 90.0]\n",
      "[91.0, 120.0]\n",
      "[121.0, 300.0]\n",
      "iter_in_piece:  3\n",
      "\n",
      "\n",
      " - pieace  4\n",
      " - x4:\n",
      " !!![121.0, 300.0]\n",
      "[151.0, 300.0]\n",
      "diff:  150\n",
      "[181.0, 300.0]\n",
      "diff:  120\n",
      "[211.0, 300.0]\n",
      "diff:  90\n",
      "[241.0, 300.0]\n",
      "diff:  60\n",
      "[271.0, 300.0]\n",
      "diff:  30\n",
      "end:  271.0\n",
      "\n",
      "\n",
      " - pieace  3\n",
      " - x3:\n",
      " !!![91.0, 270.0]\n",
      "[121.0, 270.0]\n",
      "diff:  150\n",
      "[151.0, 270.0]\n",
      "diff:  120\n",
      "[181.0, 270.0]\n",
      "diff:  90\n",
      "[211.0, 270.0]\n",
      "diff:  60\n",
      "[241.0, 270.0]\n",
      "diff:  30\n",
      "end:  241.0\n",
      "\n",
      "\n",
      " - pieace  2\n",
      " - x2:\n",
      " !!![61.0, 240.0]\n",
      "[91.0, 240.0]\n",
      "diff:  150\n",
      "[121.0, 240.0]\n",
      "diff:  120\n",
      "[151.0, 240.0]\n",
      "diff:  90\n",
      "[181.0, 240.0]\n",
      "diff:  60\n",
      "[211.0, 240.0]\n",
      "diff:  30\n",
      "end:  211.0\n",
      "30\n",
      " - x0:\n",
      " [1.0, 30.0]\n",
      " - x1:\n",
      " [31.0, 211.0]\n",
      "60\n",
      " - x0:\n",
      " [1.0, 60.0]\n",
      " - x1:\n",
      " [61.0, 211.0]\n",
      "90\n",
      " - x0:\n",
      " [1.0, 90.0]\n",
      " - x1:\n",
      " [91.0, 211.0]\n",
      "120\n",
      " - x0:\n",
      " [1.0, 120.0]\n",
      " - x1:\n",
      " [121.0, 211.0]\n",
      "150\n",
      " - x0:\n",
      " [1.0, 150.0]\n",
      " - x1:\n",
      " [151.0, 211.0]\n",
      "180\n",
      " - x0:\n",
      " [1.0, 180.0]\n",
      " - x1:\n",
      " [181.0, 211.0]\n"
     ]
    },
    {
     "name": "stderr",
     "output_type": "stream",
     "text": [
      "/usr/local/lib/python3.5/site-packages/ipykernel/__main__.py:34: VisibleDeprecationWarning: using a non-integer number instead of an integer will result in an error in the future\n",
      "/usr/local/lib/python3.5/site-packages/ipykernel/__main__.py:44: VisibleDeprecationWarning: using a non-integer number instead of an integer will result in an error in the future\n"
     ]
    }
   ],
   "source": [
    "fitting(avg3, cv.powerlaw_least4, n_param=4, window=30, piece=5)"
   ]
  },
  {
   "cell_type": "code",
   "execution_count": null,
   "metadata": {
    "collapsed": false
   },
   "outputs": [],
   "source": [
    "x_range = np.linspace(1, 300, 300)\n",
    "for i in range(3):\n",
    "    print(x_range[i*50:50*(i+1)])\n",
    "'''\n",
    "fitting(avg2, cv.powerlaw_least4, n_param=4, window=50, piece=3)\n",
    "#iter_in_piece = round(300/4/50)\n",
    "#print(iter_in_piece)"
   ]
  },
  {
   "cell_type": "code",
   "execution_count": null,
   "metadata": {
    "collapsed": false
   },
   "outputs": [],
   "source": [
    "def fitting(y_data, end, least_func, seed, scope):\n",
    "    if len(y_data) <= scope:\n",
    "        print(\"last\")\n",
    "    else:\n",
    "        x_range = np.linspace(1, len(y_data), len(y_data))\n",
    "        x1 = x_range[:end]\n",
    "        y1 = y_data[:end]\n",
    "        #lsq1 = least_squares(least_func, seed, args=(x1, y1))\n",
    "\n",
    "        x2 = x_range[end:]\n",
    "        y2 = y_data[end:]\n",
    "        print(len(x1), \":\", len(y2))\n",
    "        #end = end + scope\n",
    "        fitting(y2, end, least_func, seed, scope)\n",
    "\n",
    "def multi_test(y_data, least_func, seed, scope=10, piece=2):\n",
    "    end = scope\n",
    "    error = [np.nan]*piece\n",
    "    #for i in range( int(len(x_range)/scope - layer) ):\n",
    "    for i in range(piece) :\n",
    "        fitting(y_data, end, least_func, seed, scope)\n",
    "        end = end + scope\n",
    "\n",
    "\n",
    "x_range = np.linspace(1, 300, 300)\n",
    "seed = [1, 1, 1, 1]\n",
    "\n",
    "multi_test(avg3, cv.powerlaw_least4, seed, scope=50, piece=4)"
   ]
  },
  {
   "cell_type": "code",
   "execution_count": null,
   "metadata": {
    "collapsed": true
   },
   "outputs": [],
   "source": [
    "def AdvanceByOne(u, a, c, d):\n",
    "    return (u, a, c, d+1)\n",
    "\n",
    "def ComputeWindowErrorMatrix(curve):\n",
    "    l_curve = len(curve)\n",
    "    M = zeros([l_curve-min_window+1, l_curve-min_window+1])\n",
    "    \n",
    "    for i in range(l_curve-min_window):\n",
    "        if i > 0:\n",
    "            warm_start_parameters = AdvanceByOne(previous_parameters)\n",
    "            fit = FitPowerLaw(curve[i:i+min_window], warm_start=warm_start_parameters)\n",
    "        else:\n",
    "            fit = FitPowerLaw(curve[i:i+min_window])\n",
    "            previous_parameters = fit.parameters\n",
    "            M[i,0] = fit.error\n",
    "            warm_start_parameters = previous_parameters\n",
    "\n",
    "            for j in range(l_curve-i-min_window):\n",
    "                fit = FitPowerLaw(curve[i:i+j+min_window+1], warm_start=warm_start_parameters)\n",
    "                warp_start_parameters = fit.parameters\n",
    "                M[i,j+1] = fit.error\n",
    "    return M\n",
    "\n",
    "def FitPiecewisePowerLaw(curve, min_window=50, max_pieces=10):\n",
    "    l_curve = len(curve)\n",
    "    M = ComputeWindowErrorMatrix(curve, min_window)\n",
    "    P = zeros([max_pieces, l_curve+1]) + infinity\n",
    "    B = zeros([max_pieces, l_curve+1])\n",
    "    P[0,:] = M[0,:]\n",
    "    for i in range(1, max_pieces):\n",
    "        for j in range(1, n+1):\n",
    "            vals = P[i-1,0:j] + M[0:j,j]\n",
    "            argm = argmin(vals)\n",
    "            P[i,j] = vals[argm]\n",
    "            B[i,j] = argm\n",
    "            best_paths = [None] * max_pieces\n",
    "    for pl_i in range(max_pieces):\n",
    "        best_paths[pl_i] = [l_curve]\n",
    "        j = pl_i\n",
    "            while j > 0:\n",
    "                best_paths[pl_i].append(B[j,best_paths[pl_i][−1]])\n",
    "                j -= 1\n",
    "                best_paths[pl_i].append(0)\n",
    "    \n",
    "    best_paths[pl_i].reverse()\n",
    "\n",
    "    return P, B, best_paths"
   ]
  },
  {
   "cell_type": "code",
   "execution_count": null,
   "metadata": {
    "collapsed": false
   },
   "outputs": [],
   "source": [
    "[np.nan] * 10"
   ]
  }
 ],
 "metadata": {
  "anaconda-cloud": {},
  "kernelspec": {
   "display_name": "Python 3",
   "language": "python",
   "name": "python3"
  },
  "language_info": {
   "codemirror_mode": {
    "name": "ipython",
    "version": 3
   },
   "file_extension": ".py",
   "mimetype": "text/x-python",
   "name": "python",
   "nbconvert_exporter": "python",
   "pygments_lexer": "ipython3",
   "version": "3.5.1"
  }
 },
 "nbformat": 4,
 "nbformat_minor": 0
}
