{
 "cells": [
  {
   "cell_type": "code",
   "execution_count": 1,
   "metadata": {
    "collapsed": false
   },
   "outputs": [
    {
     "name": "stdout",
     "output_type": "stream",
     "text": [
      "Training data set: (300, 22832)\n",
      "../../Figs/curve_fitting/ already present - Skipping pickling.\n",
      "1: (300, 2045)\n",
      "2: (300, 1709)\n",
      "3: (300, 1354)\n",
      "4: (300, 1894)\n",
      "5: (300, 1930)\n",
      "6: (300, 2093)\n",
      "7: (300, 1187)\n",
      "8: (300, 1988)\n",
      "9: (300, 1678)\n",
      "10: (300, 1403)\n",
      "11: (300, 2489)\n",
      "12: (300, 1802)\n",
      "13: (300, 1260)\n"
     ]
    }
   ],
   "source": [
    "import numpy as np\n",
    "from scipy.optimize import curve_fit\n",
    "from scipy.optimize import least_squares\n",
    "import DC_Pickle as dcp\n",
    "import Curve_Functions as cv\n",
    "import matplotlib.pyplot as plt\n",
    "%matplotlib inline\n",
    "\n",
    "def disp_Data(x, y_true, y_pred, file_path, clt_num, cost, rows=1, columns=1):\n",
    "    fig, ax = plt.subplots(rows, columns)\n",
    "    ax.plot(x, y_true, '.', c='black', label='average score')\n",
    "    ax.plot(x, y_pred, 'b-', label='curve fitting', linewidth=4)\n",
    "    ax.set_xlim([0, max(x)+1])\n",
    "    ax.set_ylim([0, max(y_true)+0.2])\n",
    "    ax.legend(fontsize=14)\n",
    "    ax.set_title(\"Cluster {0}: {1} errors loss\".format(clt_num, round(cost, 2)))\n",
    "    fig.savefig(file_path, dpi=100)\n",
    "    plt.show()\n",
    "    \n",
    "train_idx = dcp.open_Pickle(\"../../data/pickles/clusters_origin/15attempts/indices/index13.pickle\")\n",
    "train_idx = train_idx[2] #2, 8\n",
    "\n",
    "train_scores = dcp.open_Pickle('../../data/pickles/seperate_origin/eventValue.pickle')\n",
    "train_scores = train_scores[:300, :]/1e+4\n",
    "attempts50 = np.arange(50)+1\n",
    "attempts300 = np.arange(300)+1\n",
    "\n",
    "## filtering discontinuous under 15 attempts\n",
    "idx_all = []\n",
    "idx_pure = []\n",
    "\n",
    "for i in range(train_scores.shape[1]):\n",
    "    if not np.isnan(train_scores[:15, i]).any():\n",
    "        idx_all.append(i)\n",
    "        idx_pure.append(i)\n",
    "    else:\n",
    "        idx_all.append(np.nan)\n",
    "\n",
    "train_scores = train_scores[:, idx_pure]\n",
    "print(\"Training data set: {0}\".format(np.shape(train_scores)))\n",
    "\n",
    "## get cluster data and cluster average data (average is centroid)\n",
    "nClt = 13\n",
    "for i in range(nClt):\n",
    "    name = \"cluster{0}\".format(i+1)\n",
    "    globals()[name] = train_scores[:, train_idx==i] # get cluster data\n",
    "    \n",
    "    ## get cluster average data\n",
    "    data = np.ones(300)\n",
    "    for j in range(len(data)):\n",
    "        avg = eval(name)[j, :]\n",
    "        avg = np.sum(avg[~np.isnan(avg)])/len(avg[~np.isnan(avg)])\n",
    "        data[j] = avg\n",
    "\n",
    "    globals()[\"avg{0}\".format(i+1)] = data\n",
    "    \n",
    "dcp.make_folders(\"../../Figs/curve_fitting/\")\n",
    "\n",
    "print(\"1:\", np.shape(cluster1))\n",
    "print(\"2:\", np.shape(cluster2))\n",
    "print(\"3:\", np.shape(cluster3))\n",
    "print(\"4:\", np.shape(cluster4))\n",
    "print(\"5:\", np.shape(cluster5))\n",
    "print(\"6:\", np.shape(cluster6))\n",
    "print(\"7:\", np.shape(cluster7))\n",
    "print(\"8:\", np.shape(cluster8))\n",
    "print(\"9:\", np.shape(cluster9))\n",
    "print(\"10:\", np.shape(cluster10))\n",
    "print(\"11:\", np.shape(cluster11))\n",
    "print(\"12:\", np.shape(cluster12))\n",
    "print(\"13:\", np.shape(cluster13))"
   ]
  },
  {
   "cell_type": "raw",
   "metadata": {
    "collapsed": false
   },
   "source": [
    "def step_curve(x, w0):\n",
    "    return  [w0]*len(x)\n",
    "\n",
    "def step_least(w, x, y):\n",
    "    return step_curve(x, w[0]) - y\n",
    "\n",
    "seed = [1]\n",
    "dcp.make_folders(\"../../Figs/curve_fitting/step/single/\")\n",
    "\n",
    "step_opt, step_cost = cv.curve_Fitting(\n",
    "        step_least, step_curve, \n",
    "        attempts300, eval(\"avg{0}\".format(1)), seed, \n",
    "        \"../../Figs/curve_fitting/step/single/sample{0}\".format(1), clt_num = 1)\n",
    "\n",
    "## validation\n",
    "y_fit_true = step_curve(attempts300, step_opt)\n",
    "\n",
    "step_cost_valid = cv.cost_Function(eval(\"avg{0}\".format(1)), y_fit_true) # get cost for all data\n",
    "\n",
    "disp_Data(attempts300, eval(\"avg{0}\".format(1)), y_fit_true, \n",
    "          file_path=\"../../Figs/curve_fitting/step/single/valid{0}\".format(1), \n",
    "          clt_num=1, cost = step_cost_valid)"
   ]
  },
  {
   "cell_type": "code",
   "execution_count": 2,
   "metadata": {
    "collapsed": false
   },
   "outputs": [
    {
     "name": "stdout",
     "output_type": "stream",
     "text": [
      "cluster 1:\n",
      " - Curve Fitting Parameters: [ 2.22143273]\n",
      " - Curve Fitting Cost: 5.210973677900972\n",
      "\n"
     ]
    },
    {
     "ename": "IndexError",
     "evalue": "index 1 is out of bounds for axis 0 with size 1",
     "output_type": "error",
     "traceback": [
      "\u001b[0;31m---------------------------------------------------------------------------\u001b[0m",
      "\u001b[0;31mIndexError\u001b[0m                                Traceback (most recent call last)",
      "\u001b[0;32m<ipython-input-2-bb3559b8d9ae>\u001b[0m in \u001b[0;36m<module>\u001b[0;34m()\u001b[0m\n\u001b[1;32m     12\u001b[0m         \u001b[0mcv\u001b[0m\u001b[0;34m.\u001b[0m\u001b[0mpowerlaw_least2\u001b[0m\u001b[0;34m,\u001b[0m \u001b[0mcv\u001b[0m\u001b[0;34m.\u001b[0m\u001b[0mpowerlaw_curve2\u001b[0m\u001b[0;34m,\u001b[0m\u001b[0;34m\u001b[0m\u001b[0m\n\u001b[1;32m     13\u001b[0m         \u001b[0mattempts300\u001b[0m\u001b[0;34m,\u001b[0m \u001b[0meval\u001b[0m\u001b[0;34m(\u001b[0m\u001b[0;34m\"avg{0}\"\u001b[0m\u001b[0;34m.\u001b[0m\u001b[0mformat\u001b[0m\u001b[0;34m(\u001b[0m\u001b[0mi\u001b[0m\u001b[0;34m+\u001b[0m\u001b[0;36m1\u001b[0m\u001b[0;34m)\u001b[0m\u001b[0;34m)\u001b[0m\u001b[0;34m,\u001b[0m \u001b[0mseed\u001b[0m\u001b[0;34m,\u001b[0m\u001b[0;34m\u001b[0m\u001b[0m\n\u001b[0;32m---> 14\u001b[0;31m         \"../../Figs/curve_fitting/step/dummy\", clt_num = i+1)\n\u001b[0m\u001b[1;32m     15\u001b[0m \u001b[0;34m\u001b[0m\u001b[0m\n\u001b[1;32m     16\u001b[0m     \u001b[0my_fit_valid\u001b[0m \u001b[0;34m=\u001b[0m \u001b[0mcv\u001b[0m\u001b[0;34m.\u001b[0m\u001b[0mstep_least\u001b[0m\u001b[0;34m(\u001b[0m\u001b[0mattempts300\u001b[0m\u001b[0;34m,\u001b[0m \u001b[0mpl2_opt\u001b[0m\u001b[0;34m)\u001b[0m\u001b[0;34m\u001b[0m\u001b[0m\n",
      "\u001b[0;32m/Users/PureMac/Documents/Project/Seongmuk/Analytics/Project/Code/Curve_Functions.py\u001b[0m in \u001b[0;36mcurve_Fitting\u001b[0;34m(least_func, curve_func, x, y, seed, file_path, clt_num)\u001b[0m\n\u001b[1;32m     99\u001b[0m     '''\n\u001b[1;32m    100\u001b[0m     \u001b[0;32mif\u001b[0m \u001b[0mlen\u001b[0m\u001b[0;34m(\u001b[0m\u001b[0mseed\u001b[0m\u001b[0;34m)\u001b[0m \u001b[0;34m==\u001b[0m \u001b[0;36m1\u001b[0m\u001b[0;34m:\u001b[0m\u001b[0;34m\u001b[0m\u001b[0m\n\u001b[0;32m--> 101\u001b[0;31m         \u001b[0mlsq\u001b[0m \u001b[0;34m=\u001b[0m \u001b[0mleast_squares\u001b[0m\u001b[0;34m(\u001b[0m\u001b[0mleast_func\u001b[0m\u001b[0;34m,\u001b[0m \u001b[0mseed\u001b[0m\u001b[0;34m,\u001b[0m \u001b[0margs\u001b[0m\u001b[0;34m=\u001b[0m\u001b[0;34m(\u001b[0m\u001b[0mx\u001b[0m\u001b[0;34m,\u001b[0m \u001b[0my\u001b[0m\u001b[0;34m)\u001b[0m\u001b[0;34m)\u001b[0m\u001b[0;34m\u001b[0m\u001b[0m\n\u001b[0m\u001b[1;32m    102\u001b[0m         \u001b[0my_mean\u001b[0m \u001b[0;34m=\u001b[0m \u001b[0mcurve_func\u001b[0m\u001b[0;34m(\u001b[0m\u001b[0mx_fit\u001b[0m\u001b[0;34m,\u001b[0m \u001b[0mlsq\u001b[0m\u001b[0;34m.\u001b[0m\u001b[0mx\u001b[0m\u001b[0;34m)\u001b[0m\u001b[0;34m\u001b[0m\u001b[0m\n\u001b[1;32m    103\u001b[0m         \u001b[0mcost\u001b[0m \u001b[0;34m=\u001b[0m \u001b[0mlsq\u001b[0m\u001b[0;34m.\u001b[0m\u001b[0mcost\u001b[0m\u001b[0;34m\u001b[0m\u001b[0m\n",
      "\u001b[0;32m/usr/local/lib/python3.5/site-packages/scipy/optimize/_lsq/least_squares.py\u001b[0m in \u001b[0;36mleast_squares\u001b[0;34m(fun, x0, jac, bounds, method, ftol, xtol, gtol, x_scale, loss, f_scale, diff_step, tr_solver, tr_options, jac_sparsity, max_nfev, verbose, args, kwargs)\u001b[0m\n\u001b[1;32m    767\u001b[0m         \u001b[0mx0\u001b[0m \u001b[0;34m=\u001b[0m \u001b[0mmake_strictly_feasible\u001b[0m\u001b[0;34m(\u001b[0m\u001b[0mx0\u001b[0m\u001b[0;34m,\u001b[0m \u001b[0mlb\u001b[0m\u001b[0;34m,\u001b[0m \u001b[0mub\u001b[0m\u001b[0;34m)\u001b[0m\u001b[0;34m\u001b[0m\u001b[0m\n\u001b[1;32m    768\u001b[0m \u001b[0;34m\u001b[0m\u001b[0m\n\u001b[0;32m--> 769\u001b[0;31m     \u001b[0mf0\u001b[0m \u001b[0;34m=\u001b[0m \u001b[0mfun_wrapped\u001b[0m\u001b[0;34m(\u001b[0m\u001b[0mx0\u001b[0m\u001b[0;34m)\u001b[0m\u001b[0;34m\u001b[0m\u001b[0m\n\u001b[0m\u001b[1;32m    770\u001b[0m \u001b[0;34m\u001b[0m\u001b[0m\n\u001b[1;32m    771\u001b[0m     \u001b[0;32mif\u001b[0m \u001b[0mf0\u001b[0m\u001b[0;34m.\u001b[0m\u001b[0mndim\u001b[0m \u001b[0;34m!=\u001b[0m \u001b[0;36m1\u001b[0m\u001b[0;34m:\u001b[0m\u001b[0;34m\u001b[0m\u001b[0m\n",
      "\u001b[0;32m/usr/local/lib/python3.5/site-packages/scipy/optimize/_lsq/least_squares.py\u001b[0m in \u001b[0;36mfun_wrapped\u001b[0;34m(x)\u001b[0m\n\u001b[1;32m    762\u001b[0m \u001b[0;34m\u001b[0m\u001b[0m\n\u001b[1;32m    763\u001b[0m     \u001b[0;32mdef\u001b[0m \u001b[0mfun_wrapped\u001b[0m\u001b[0;34m(\u001b[0m\u001b[0mx\u001b[0m\u001b[0;34m)\u001b[0m\u001b[0;34m:\u001b[0m\u001b[0;34m\u001b[0m\u001b[0m\n\u001b[0;32m--> 764\u001b[0;31m         \u001b[0;32mreturn\u001b[0m \u001b[0mnp\u001b[0m\u001b[0;34m.\u001b[0m\u001b[0matleast_1d\u001b[0m\u001b[0;34m(\u001b[0m\u001b[0mfun\u001b[0m\u001b[0;34m(\u001b[0m\u001b[0mx\u001b[0m\u001b[0;34m,\u001b[0m \u001b[0;34m*\u001b[0m\u001b[0margs\u001b[0m\u001b[0;34m,\u001b[0m \u001b[0;34m**\u001b[0m\u001b[0mkwargs\u001b[0m\u001b[0;34m)\u001b[0m\u001b[0;34m)\u001b[0m\u001b[0;34m\u001b[0m\u001b[0m\n\u001b[0m\u001b[1;32m    765\u001b[0m \u001b[0;34m\u001b[0m\u001b[0m\n\u001b[1;32m    766\u001b[0m     \u001b[0;32mif\u001b[0m \u001b[0mmethod\u001b[0m \u001b[0;34m==\u001b[0m \u001b[0;34m'trf'\u001b[0m\u001b[0;34m:\u001b[0m\u001b[0;34m\u001b[0m\u001b[0m\n",
      "\u001b[0;32m/Users/PureMac/Documents/Project/Seongmuk/Analytics/Project/Code/Curve_Functions.py\u001b[0m in \u001b[0;36mpowerlaw_least2\u001b[0;34m(w, x, y)\u001b[0m\n\u001b[1;32m     62\u001b[0m \u001b[0;34m\u001b[0m\u001b[0m\n\u001b[1;32m     63\u001b[0m \u001b[0;32mdef\u001b[0m \u001b[0mpowerlaw_least2\u001b[0m\u001b[0;34m(\u001b[0m\u001b[0mw\u001b[0m\u001b[0;34m,\u001b[0m \u001b[0mx\u001b[0m\u001b[0;34m,\u001b[0m \u001b[0my\u001b[0m\u001b[0;34m)\u001b[0m\u001b[0;34m:\u001b[0m\u001b[0;34m\u001b[0m\u001b[0m\n\u001b[0;32m---> 64\u001b[0;31m     \u001b[0;32mreturn\u001b[0m \u001b[0mpowerlaw_curve2\u001b[0m\u001b[0;34m(\u001b[0m\u001b[0mx\u001b[0m\u001b[0;34m,\u001b[0m \u001b[0mw\u001b[0m\u001b[0;34m[\u001b[0m\u001b[0;36m0\u001b[0m\u001b[0;34m]\u001b[0m\u001b[0;34m,\u001b[0m \u001b[0mw\u001b[0m\u001b[0;34m[\u001b[0m\u001b[0;36m1\u001b[0m\u001b[0;34m]\u001b[0m\u001b[0;34m)\u001b[0m \u001b[0;34m-\u001b[0m \u001b[0my\u001b[0m\u001b[0;34m\u001b[0m\u001b[0m\n\u001b[0m\u001b[1;32m     65\u001b[0m \u001b[0;34m\u001b[0m\u001b[0m\n\u001b[1;32m     66\u001b[0m \u001b[0;32mdef\u001b[0m \u001b[0mpowerlaw_least3\u001b[0m\u001b[0;34m(\u001b[0m\u001b[0mw\u001b[0m\u001b[0;34m,\u001b[0m \u001b[0mx\u001b[0m\u001b[0;34m,\u001b[0m \u001b[0my\u001b[0m\u001b[0;34m)\u001b[0m\u001b[0;34m:\u001b[0m\u001b[0;34m\u001b[0m\u001b[0m\n",
      "\u001b[0;31mIndexError\u001b[0m: index 1 is out of bounds for axis 0 with size 1"
     ]
    },
    {
     "data": {
      "image/png": "[encoded data removed]",
      "text/plain": [
       "<matplotlib.figure.Figure at 0x10bf0c320>"
      ]
     },
     "metadata": {},
     "output_type": "display_data"
    },
    {
     "data": {
      "image/png": "[encoded data removed]",
      "text/plain": [
       "<matplotlib.figure.Figure at 0x10fcbb898>"
      ]
     },
     "metadata": {},
     "output_type": "display_data"
    }
   ],
   "source": [
    "dcp.make_folders(\"../../Figs/curve_fitting/step/\")\n",
    "\n",
    "seed = [1]\n",
    "for i in range(nClt):\n",
    "    print(\"cluster {0}:\".format(i+1))\n",
    "    pl2_opt, pl2_cost = cv.curve_Fitting(\n",
    "        cv.step_least, cv.step_curve, \n",
    "        attempts50, eval(\"avg{0}\".format(i+1))[:50], seed,\n",
    "        \"../../Figs/curve_fitting/step/sample{0}\".format(i+1), clt_num = i+1)\n",
    "    \n",
    "    true_opt, true_cost = cv.curve_Fitting(\n",
    "        cv.powerlaw_least2, cv.powerlaw_curve2, \n",
    "        attempts300, eval(\"avg{0}\".format(i+1)), seed,\n",
    "        \"../../Figs/curve_fitting/step/dummy\", clt_num = i+1)\n",
    "    \n",
    "    y_fit_valid = cv.step_least(attempts300, pl2_opt)\n",
    "    y_fit_true = cv.step_least(attempts300, true_opt)\n",
    "    \n",
    "    pl2_cost_valid = cv.cost_Function(eval(\"avg{0}\".format(i+1)), y_fit_valid) # get cost for all data\n",
    "    pl2_cost_ture = cv.cost_Function(eval(\"avg{0}\".format(i+1)), y_fit_true) # get cost for all data\n",
    "    \n",
    "    disp_Data(attempts300, eval(\"avg{0}\".format(i+1)), y_fit_valid, \n",
    "              file_path=\"../../Figs/curve_fitting/step/valid{0}\".format(i+1), \n",
    "              clt_num=i+1, cost = pl2_cost_valid)\n",
    "\n",
    "    disp_Data(attempts300, eval(\"avg{0}\".format(i+1)), y_fit_true, \n",
    "              file_path=\"../../Figs/curve_fitting/step/true{0}\".format(i+1), \n",
    "              clt_num=i+1, cost = pl2_cost_ture)"
   ]
  },
  {
   "cell_type": "code",
   "execution_count": null,
   "metadata": {
    "collapsed": false
   },
   "outputs": [],
   "source": [
    "idx_matrix, err_matrix, len_matrix = cv.curve_Matrix(avg8, step_least, seed=[1], window=50, piece=3)\n",
    "print(idx_matrix)\n",
    "print(len_matrix)\n",
    "\n",
    "cost, min_length, min_indice = cv.multCurve_Fitting(avg8, step_least, s=[1], w=50, p=3)"
   ]
  },
  {
   "cell_type": "code",
   "execution_count": null,
   "metadata": {
    "collapsed": true
   },
   "outputs": [],
   "source": [
    "x1 = np.linspace(1, 200, 200)\n",
    "x2 = np.linspace(201, 250, 50)\n",
    "x3 = np.linspace(251, 300, 50)\n",
    "\n",
    "y1 = least_squares(step_least, seed, args=(x1, y))"
   ]
  },
  {
   "cell_type": "code",
   "execution_count": null,
   "metadata": {
    "collapsed": true
   },
   "outputs": [],
   "source": [
    "dcp.make_folders(\"../../Figs/curve_fitting/step/single/\")\n",
    "\n",
    "seed = [1, 1]\n",
    "for i in range(nClt):\n",
    "    print(\"cluster {0}:\".format(i+1))\n",
    "    ## train\n",
    "    exp2_opt, exp2_cost = cv.curve_Fitting(\n",
    "        cv.exponential_least2, cv.exponential_curve2, \n",
    "        attempts15, eval(\"avg{0}\".format(i+1))[:15], seed, \n",
    "        \"../../Figs/curve_fitting/step/single/sample{0}\".format(i+1), clt_num = i+1)\n",
    "    \n",
    "    true_opt, true_cost = cv.curve_Fitting(\n",
    "        cv.exponential_least2, cv.exponential_curve2, \n",
    "        attempts300, eval(\"avg{0}\".format(i+1)), seed, \n",
    "        \"../../Figs/curve_fitting/step/single/dummy\", clt_num = i+1)\n",
    "    \n",
    "    ## validation\n",
    "    y_fit_valid = cv.exponential_curve2(attempts300, exp2_opt[0], exp2_opt[1])\n",
    "    y_fit_true = cv.exponential_curve2(attempts300, true_opt[0], true_opt[1])\n",
    "    \n",
    "    exp2_cost_valid = cv.cost_Function(eval(\"avg{0}\".format(i+1)), y_fit_valid) # get cost for all data\n",
    "    exp2_cost_true = cv.cost_Function(eval(\"avg{0}\".format(i+1)), y_fit_true) # get cost for all data\n",
    "    \n",
    "    disp_Data(attempts300, eval(\"avg{0}\".format(i+1)), y_fit_valid, \n",
    "              file_path=\"../../Figs/curve_fitting/step/single/valid{0}\".format(i+1), \n",
    "              clt_num=i+1, cost = exp2_cost_valid)\n",
    "    \n",
    "    disp_Data(attempts300, eval(\"avg{0}\".format(i+1)), y_fit_true, \n",
    "          file_path=\"../../Figs/curve_fitting/step/single/true{0}\".format(i+1), \n",
    "          clt_num=i+1, cost = exp2_cost_true)"
   ]
  }
 ],
 "metadata": {
  "kernelspec": {
   "display_name": "Python 3",
   "language": "python",
   "name": "python3"
  },
  "language_info": {
   "codemirror_mode": {
    "name": "ipython",
    "version": 3
   },
   "file_extension": ".py",
   "mimetype": "text/x-python",
   "name": "python",
   "nbconvert_exporter": "python",
   "pygments_lexer": "ipython3",
   "version": "3.5.1"
  }
 },
 "nbformat": 4,
 "nbformat_minor": 0
}
