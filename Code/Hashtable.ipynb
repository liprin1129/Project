{
 "cells": [
  {
   "cell_type": "code",
   "execution_count": null,
   "metadata": {
    "collapsed": true
   },
   "outputs": [],
   "source": [
    "import pandas as pd\n",
    "import os\n",
    "from six.moves import cPickle as pickle\n",
    "\n",
    "def make_Pickle(set_data, set_filename, force = False):\n",
    "    if os.path.exists(set_filename) and not force:\n",
    "        # You may override by setting force=True.  \n",
    "        print('%s already present - Skipping pickling.' % set_filename)\n",
    "    else :\n",
    "        try :\n",
    "            with open(set_filename, 'wb') as f:\n",
    "                pickle.dump(set_data, f, pickle.HIGHEST_PROTOCOL)\n",
    "        except Exception as e :\n",
    "            print(\"Unable to save data to\", set_filename, ': ', e)\n",
    "            return\n",
    "        \n",
    "def cut_15Attempts(data) :\n",
    "    set_data_filename = 'pickles/scores_test/train_data.picke'\n",
    "    set_label_filename = 'pickles/scores_test/train_label.picke'\n",
    "    user_group = df.groupby('eventAction')\n",
    "    train_label = []\n",
    "    train_data = []\n",
    "    i = 0 # iteration identifier\n",
    "    \n",
    "    # take 0:15 attemts' label and scores\n",
    "    for name, group in user_group:\n",
    "        train_label.append(name)\n",
    "            \n",
    "        if i == 0 :\n",
    "            train_data = np.transpose(group['eventValue'][0:15].values)\n",
    "        else :\n",
    "\n",
    "            train_data = np.column_stack((train_data, group['eventValue'][0:15].values))\n",
    "        \n",
    "        i = i + 1\n",
    "        \n",
    "    ## convert lists to pickle data\n",
    "    make_Pickle(train_data, set_data_filename, force = True)\n",
    "    make_Pickle(train_label, set_label_filename, force = True)\n",
    "    # convert train_data\n",
    "\n",
    "    return train_label, train_data"
   ]
  },
  {
   "cell_type": "code",
   "execution_count": null,
   "metadata": {
    "collapsed": true
   },
   "outputs": [],
   "source": [
    "try:\n",
    "    with open('pickles/scores/train_label.pickle', 'rb') as f:\n",
    "        label = pickle.load(f)\n",
    "    with open('pickles/scores/train_data.pickle', 'rb') as f:\n",
    "        data = pickle.load(f)\n",
    "except Exception as e:\n",
    "    print('Unable to read data from', pickle_filename, ':', e)\n",
    "\n",
    "print(np.shape(label))\n",
    "print(label[0])\n",
    "print(np.shape(data))\n",
    "#print(data[:,0:5])\n",
    "print(',\\n'.join(map(str, data[:, 0:5])))"
   ]
  }
 ],
 "metadata": {
  "kernelspec": {
   "display_name": "Python 3",
   "language": "python",
   "name": "python3"
  },
  "language_info": {
   "codemirror_mode": {
    "name": "ipython",
    "version": 3
   },
   "file_extension": ".py",
   "mimetype": "text/x-python",
   "name": "python",
   "nbconvert_exporter": "python",
   "pygments_lexer": "ipython3",
   "version": "3.5.1"
  }
 },
 "nbformat": 4,
 "nbformat_minor": 0
}
