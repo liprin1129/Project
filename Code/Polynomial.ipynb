{
 "cells": [
  {
   "cell_type": "code",
   "execution_count": 1,
   "metadata": {
    "collapsed": false
   },
   "outputs": [
    {
     "name": "stdout",
     "output_type": "stream",
     "text": [
      "Training data set: (300, 22832)\n",
      "../../Figs/curve_fitting/ already present - Skipping pickling.\n",
      "1: (300, 2045)\n",
      "2: (300, 1709)\n",
      "3: (300, 1354)\n",
      "4: (300, 1894)\n",
      "5: (300, 1930)\n",
      "6: (300, 2093)\n",
      "7: (300, 1187)\n",
      "8: (300, 1988)\n",
      "9: (300, 1678)\n",
      "10: (300, 1403)\n",
      "11: (300, 2489)\n",
      "12: (300, 1802)\n",
      "13: (300, 1260)\n"
     ]
    }
   ],
   "source": [
    "import numpy as np\n",
    "from scipy.optimize import curve_fit\n",
    "from scipy.optimize import least_squares\n",
    "import DC_Pickle as dcp\n",
    "import Curve_Functions as cv\n",
    "import matplotlib.pyplot as plt\n",
    "%matplotlib inline\n",
    "\n",
    "def disp_Data(x, y_true, y_pred, file_path, clt_num, cost, rows=1, columns=1):\n",
    "    fig, ax = plt.subplots(rows, columns)\n",
    "    ax.plot(x, y_true, '.', c='black', label='average score')\n",
    "    ax.plot(x, y_pred, 'b-', label='curve fitting', linewidth=4)\n",
    "    ax.set_xlim([0, max(x)+1])\n",
    "    ax.set_ylim([0, max(y_true)+0.2])\n",
    "    ax.legend(fontsize=14)\n",
    "    ax.set_title(\"Cluster {0}: {1} errors loss\".format(clt_num, round(cost, 2)))\n",
    "    fig.savefig(file_path, dpi=100)\n",
    "    plt.show()\n",
    "    \n",
    "train_idx = dcp.open_Pickle(\"../../data/pickles/clusters_origin/15attempts/indices/index13.pickle\")\n",
    "train_idx = train_idx[2] #2, 8\n",
    "\n",
    "train_scores = dcp.open_Pickle('../../data/pickles/seperate_origin/eventValue.pickle')\n",
    "train_scores = train_scores[:300, :]/1e+4\n",
    "attempts15 = np.arange(15)+1\n",
    "attempts300 = np.arange(300)+1\n",
    "\n",
    "## filtering discontinuous under 15 attempts\n",
    "idx_all = []\n",
    "idx_pure = []\n",
    "\n",
    "for i in range(train_scores.shape[1]):\n",
    "    if not np.isnan(train_scores[:15, i]).any():\n",
    "        idx_all.append(i)\n",
    "        idx_pure.append(i)\n",
    "    else:\n",
    "        idx_all.append(np.nan)\n",
    "\n",
    "train_scores = train_scores[:, idx_pure]\n",
    "print(\"Training data set: {0}\".format(np.shape(train_scores)))\n",
    "\n",
    "## get cluster data and cluster average data (average is centroid)\n",
    "nClt = 13\n",
    "for i in range(nClt):\n",
    "    name = \"cluster{0}\".format(i+1)\n",
    "    globals()[name] = train_scores[:, train_idx==i] # get cluster data\n",
    "    \n",
    "    ## get cluster average data\n",
    "    data = np.ones(300)\n",
    "    for j in range(len(data)):\n",
    "        avg = eval(name)[j, :]\n",
    "        avg = np.sum(avg[~np.isnan(avg)])/len(avg[~np.isnan(avg)])\n",
    "        data[j] = avg\n",
    "\n",
    "    globals()[\"avg{0}\".format(i+1)] = data\n",
    "    \n",
    "dcp.make_folders(\"../../Figs/curve_fitting/\")\n",
    "\n",
    "print(\"1:\", np.shape(cluster1))\n",
    "print(\"2:\", np.shape(cluster2))\n",
    "print(\"3:\", np.shape(cluster3))\n",
    "print(\"4:\", np.shape(cluster4))\n",
    "print(\"5:\", np.shape(cluster5))\n",
    "print(\"6:\", np.shape(cluster6))\n",
    "print(\"7:\", np.shape(cluster7))\n",
    "print(\"8:\", np.shape(cluster8))\n",
    "print(\"9:\", np.shape(cluster9))\n",
    "print(\"10:\", np.shape(cluster10))\n",
    "print(\"11:\", np.shape(cluster11))\n",
    "print(\"12:\", np.shape(cluster12))\n",
    "print(\"13:\", np.shape(cluster13))"
   ]
  },
  {
   "cell_type": "code",
   "execution_count": 2,
   "metadata": {
    "collapsed": false
   },
   "outputs": [],
   "source": [
    "## 1 ##\n",
    "def polynomial_curve1(x, w0, w1):\n",
    "    return w0 + w1*x\n",
    "\n",
    "def polynomial_least1(w, x, y):\n",
    "    return polynomial_curve1(x, w[0], w[1]) - y\n",
    "\n",
    "## 2 ##\n",
    "def polynomial_curve2(x, w0, w1, w2):\n",
    "    return w0 + w1*x + w2*x**2\n",
    "\n",
    "def polynomial_least2(w, x, y):\n",
    "    return polynomial_curve2(x, w[0], w[1], w[2]) - y\n",
    "\n",
    "## 3 ##\n",
    "def polynomial_curve3(x, w0, w1, w2, w3):\n",
    "    return w0 + w1*x + w2*x**2 + w2*x**3\n",
    "\n",
    "def polynomial_least3(w, x, y):\n",
    "    return polynomial_curve3(x, w[0], w[1], w[2], w[3]) - y\n",
    "\n",
    "## 4 ##\n",
    "def polynomial_curve4(x, w0, w1, w2, w3, w4):\n",
    "    return w0 + w1*x + w2*x**2 + w3*x**3 + w4*x**4\n",
    "\n",
    "def polynomial_least4(w, x, y):\n",
    "    return polynomial_curve4(x, w[0], w[1], w[2], w[3], w[4]) - y\n",
    "\n",
    "## 5 ##\n",
    "def polynomial_curve5(x, w0, w1, w2, w3, w4, w5):\n",
    "    return w0 + w1*x + w2*x**2 + w3*x**3 + w4*x**4 + w5*x**5\n",
    "\n",
    "def polynomial_least5(w, x, y):\n",
    "    return polynomial_curve5(x, w[0], w[1], w[2], w[3], w[4], w[5]) - y\n",
    "\n",
    "## 6 ##\n",
    "def polynomial_curve6(x, w0, w1, w2, w3, w4, w5, w6):\n",
    "    return w0 + w1*x + w2*x**2 + w3*x**3 + w4*x**4 + w5*x**5 + w6*x**6\n",
    "\n",
    "def polynomial_least6(w, x, y):\n",
    "    return polynomial_curve6(x, w[0], w[1], w[2], w[3], w[4], w[5], w[6]) - y\n",
    "\n",
    "## 7 ##\n",
    "def polynomial_curve7(x, w0, w1, w2, w3, w4, w5, w6, w7):\n",
    "    return w0 + w1*x + w2*x**2 + w3*x**3 + w4*x**4 + w5*x**5 + w6*x**6 + w7*x**7\n",
    "\n",
    "def polynomial_least7(w, x, y):\n",
    "    return polynomial_curve7(x, w[0], w[1], w[2], w[3], w[4], w[5], w[6], w[7]) - y\n",
    "\n",
    "## 8 ##\n",
    "def polynomial_curve8(x, w0, w1, w2, w3, w4, w5, w6, w7, w8):\n",
    "    return w0 + w1*x + w2*x**2 + w3*x**3 + w4*x**4 + w5*x**5 + w6*x**6 + w7*x**7 + w8*x**8\n",
    "\n",
    "def polynomial_least8(w, x, y):\n",
    "    return polynomial_curve8(x, w[0], w[1], w[2], w[3], w[4], w[5], w[6], w[7], w[8]) - y\n",
    "\n",
    "## 9 ##\n",
    "def polynomial_curve9(x, w0, w1, w2, w3, w4, w5, w6, w7, w8, w9):\n",
    "    return w0 + w1*x + w2*x**2 + w3*x**3 + w4*x**4 + w5*x**5 + w6*x**6 + w7*x**7 + w8*x**8 + w9*x**9\n",
    "\n",
    "def polynomial_least9(w, x, y):\n",
    "    return polynomial_curve9(x, w[0], w[1], w[2], w[3], w[4], w[5], w[6], w[7], w[8], w[9]) - y\n",
    "\n",
    "## 10 ##\n",
    "def polynomial_curve10(x, w0, w1, w2, w3, w4, w5, w6, w7, w8, w9, w10):\n",
    "    return w0 + w1*x + w2*x**2 + w3*x**3 + w4*x**4 + w5*x**5 + w6*x**6 + w7*x**7 + w8*x**8 + w9*x**9 + w10*x**10\n",
    "\n",
    "def polynomial_least10(w, x, y):\n",
    "    return polynomial_curve10(x, w[0], w[1], w[2], w[3], w[4], w[5], w[6], w[7], w[8], w[9], w[10]) - y"
   ]
  },
  {
   "cell_type": "markdown",
   "metadata": {},
   "source": [
    "# First"
   ]
  },
  {
   "cell_type": "code",
   "execution_count": 7,
   "metadata": {
    "collapsed": false
   },
   "outputs": [
    {
     "name": "stdout",
     "output_type": "stream",
     "text": [
      "../../Figs/curve_fitting/SingleCurves/Polynomial/1/ already present - Skipping pickling.\n",
      "0\n",
      "../../data/pickles/Fitting/300Attempts/Polynomial/1/avg1 already present - Skipping pickling.\n",
      "1\n",
      "../../data/pickles/Fitting/300Attempts/Polynomial/1/avg2 already present - Skipping pickling.\n",
      "2\n",
      "../../data/pickles/Fitting/300Attempts/Polynomial/1/avg3 already present - Skipping pickling.\n",
      "3\n",
      "../../data/pickles/Fitting/300Attempts/Polynomial/1/avg4 already present - Skipping pickling.\n",
      "4\n",
      "../../data/pickles/Fitting/300Attempts/Polynomial/1/avg5 already present - Skipping pickling.\n",
      "5\n",
      "../../data/pickles/Fitting/300Attempts/Polynomial/1/avg6 already present - Skipping pickling.\n",
      "6\n",
      "../../data/pickles/Fitting/300Attempts/Polynomial/1/avg7 already present - Skipping pickling.\n",
      "7\n",
      "../../data/pickles/Fitting/300Attempts/Polynomial/1/avg8 already present - Skipping pickling.\n",
      "8\n",
      "../../data/pickles/Fitting/300Attempts/Polynomial/1/avg9 already present - Skipping pickling.\n",
      "9\n",
      "../../data/pickles/Fitting/300Attempts/Polynomial/1/avg10 already present - Skipping pickling.\n",
      "10\n",
      "../../data/pickles/Fitting/300Attempts/Polynomial/1/avg11 already present - Skipping pickling.\n",
      "11\n",
      "../../data/pickles/Fitting/300Attempts/Polynomial/1/avg12 already present - Skipping pickling.\n",
      "12\n",
      "../../data/pickles/Fitting/300Attempts/Polynomial/1/avg13 already present - Skipping pickling.\n"
     ]
    },
    {
     "data": {
      "image/png": "[encoded data removed]",
      "text/plain": [
       "<matplotlib.figure.Figure at 0x10f04f6d8>"
      ]
     },
     "metadata": {},
     "output_type": "display_data"
    }
   ],
   "source": [
    "x_range = np.linspace(1, 300, 300)\n",
    "\n",
    "dcp.make_folders(\"../../Figs/curve_fitting/SingleCurves/Polynomial/1/\")\n",
    "for i in range(nClt):\n",
    "    print(i)\n",
    "    plt.clf()\n",
    "    \n",
    "    avg = \"avg{0}\".format(i+1)\n",
    "    lsq = least_squares(polynomial_least1, [1, 1], args=(x_range, eval(avg)))\n",
    "\n",
    "    y_fit = polynomial_curve1(x_range, lsq.x[0], lsq.x[1])\n",
    "\n",
    "    plt.plot(x_range, eval(avg), '.', c='black', label=\"average score\")\n",
    "    plt.plot(x_range, y_fit, 'b-', label=\"curve fitting\", linewidth=4) \n",
    "    \n",
    "    plt.title(\"Polynomial in 1st (cluster:{0}, cost:{1})\".format(i, round(lsq.cost, 2)))\n",
    "    plt.ylim([0, max( eval(\"avg{0}\".format(i+1)) )+1])\n",
    "    plt.ylabel('Score', fontsize=14)\n",
    "    plt.xlabel('Attempt', fontsize=14)\n",
    "    \n",
    "    plt.savefig(\"../../Figs/curve_fitting/SingleCurves/Polynomial/1/avg{0}\".format(i+1), dpi=100)\n",
    "    \n",
    "    dcp.make_folders('../../data/pickles/Fitting/300Attempts/Polynomial/1/avg{0}'.format(i+1))\n",
    "    dcp.make_Pickle(lsq.cost, '../../data/pickles/Fitting/300Attempts/Polynomial/1/avg{0}/cost.pickle'.format(i+1), force=True)\n",
    "    dcp.make_Pickle(lsq.x, '../../data/pickles/Fitting/300Attempts/Polynomial/1/avg{0}/param.pickle'.format(i+1), force=True)"
   ]
  },
  {
   "cell_type": "markdown",
   "metadata": {},
   "source": [
    "# Second"
   ]
  },
  {
   "cell_type": "code",
   "execution_count": 9,
   "metadata": {
    "collapsed": false
   },
   "outputs": [
    {
     "name": "stdout",
     "output_type": "stream",
     "text": [
      "../../Figs/curve_fitting/SingleCurves/Polynomial/2/ already present - Skipping pickling.\n",
      "0\n",
      "../../data/pickles/Fitting/300Attempts/Polynomial/2/avg1 already present - Skipping pickling.\n",
      "1\n",
      "../../data/pickles/Fitting/300Attempts/Polynomial/2/avg2 already present - Skipping pickling.\n",
      "2\n",
      "../../data/pickles/Fitting/300Attempts/Polynomial/2/avg3 already present - Skipping pickling.\n",
      "3\n",
      "../../data/pickles/Fitting/300Attempts/Polynomial/2/avg4 already present - Skipping pickling.\n",
      "4\n",
      "../../data/pickles/Fitting/300Attempts/Polynomial/2/avg5 already present - Skipping pickling.\n",
      "5\n",
      "../../data/pickles/Fitting/300Attempts/Polynomial/2/avg6 already present - Skipping pickling.\n",
      "6\n",
      "../../data/pickles/Fitting/300Attempts/Polynomial/2/avg7 already present - Skipping pickling.\n",
      "7\n",
      "../../data/pickles/Fitting/300Attempts/Polynomial/2/avg8 already present - Skipping pickling.\n",
      "8\n",
      "../../data/pickles/Fitting/300Attempts/Polynomial/2/avg9 already present - Skipping pickling.\n",
      "9\n",
      "../../data/pickles/Fitting/300Attempts/Polynomial/2/avg10 already present - Skipping pickling.\n",
      "10\n",
      "../../data/pickles/Fitting/300Attempts/Polynomial/2/avg11 already present - Skipping pickling.\n",
      "11\n",
      "../../data/pickles/Fitting/300Attempts/Polynomial/2/avg12 already present - Skipping pickling.\n",
      "12\n",
      "../../data/pickles/Fitting/300Attempts/Polynomial/2/avg13 already present - Skipping pickling.\n"
     ]
    },
    {
     "data": {
      "image/png": "[encoded data removed]",
      "text/plain": [
       "<matplotlib.figure.Figure at 0x1137104a8>"
      ]
     },
     "metadata": {},
     "output_type": "display_data"
    }
   ],
   "source": [
    "x_range = np.linspace(1, 300, 300)\n",
    "dcp.make_folders(\"../../Figs/curve_fitting/SingleCurves/Polynomial/2/\")\n",
    "for i in range(nClt):\n",
    "    print(i)\n",
    "    plt.clf()\n",
    "    \n",
    "    avg = \"avg{0}\".format(i+1)\n",
    "    lsq = least_squares(polynomial_least2, [1, 1, 1], args=(x_range, eval(avg)))\n",
    "    y_fit = polynomial_curve2(x_range, lsq.x[0], lsq.x[1], lsq.x[2])\n",
    "\n",
    "    plt.plot(x_range, eval(avg), '.', c='black', label=\"average score\")\n",
    "    plt.plot(x_range, y_fit, 'b-', label=\"curve fitting\", linewidth=4) \n",
    "    \n",
    "    plt.title(\"Polynomial in 2nd (cluster:{0}, cost:{1})\".format(i, round(lsq.cost, 2)))\n",
    "    plt.ylim([0, max( eval(\"avg{0}\".format(i+1)) )+1])\n",
    "    plt.ylabel('Score', fontsize=14)\n",
    "    plt.xlabel('Attempt', fontsize=14)\n",
    "    \n",
    "    plt.savefig(\"../../Figs/curve_fitting/SingleCurves/Polynomial/2/avg{0}\".format(i+1), dpi=100)\n",
    "    \n",
    "    dcp.make_folders('../../data/pickles/Fitting/300Attempts/Polynomial/2/avg{0}'.format(i+1))\n",
    "    dcp.make_Pickle(lsq.cost, '../../data/pickles/Fitting/300Attempts/Polynomial/2/avg{0}/cost.pickle'.format(i+1), force=True)\n",
    "    dcp.make_Pickle(lsq.x, '../../data/pickles/Fitting/300Attempts/Polynomial/2/avg{0}/param.pickle'.format(i+1), force=True)"
   ]
  },
  {
   "cell_type": "markdown",
   "metadata": {},
   "source": [
    "# Third"
   ]
  },
  {
   "cell_type": "code",
   "execution_count": 13,
   "metadata": {
    "collapsed": false,
    "scrolled": true
   },
   "outputs": [
    {
     "name": "stdout",
     "output_type": "stream",
     "text": [
      "../../Figs/curve_fitting/SingleCurves/Polynomial/3/ already present - Skipping pickling.\n",
      "0\n",
      "../../data/pickles/Fitting/300Attempts/Polynomial/3/avg1 already present - Skipping pickling.\n",
      "1\n",
      "../../data/pickles/Fitting/300Attempts/Polynomial/3/avg2 already present - Skipping pickling.\n",
      "2\n",
      "../../data/pickles/Fitting/300Attempts/Polynomial/3/avg3 already present - Skipping pickling.\n",
      "3\n",
      "../../data/pickles/Fitting/300Attempts/Polynomial/3/avg4 already present - Skipping pickling.\n",
      "4\n",
      "../../data/pickles/Fitting/300Attempts/Polynomial/3/avg5 already present - Skipping pickling.\n",
      "5\n",
      "../../data/pickles/Fitting/300Attempts/Polynomial/3/avg6 already present - Skipping pickling.\n",
      "6\n",
      "../../data/pickles/Fitting/300Attempts/Polynomial/3/avg7 already present - Skipping pickling.\n",
      "7\n",
      "../../data/pickles/Fitting/300Attempts/Polynomial/3/avg8 already present - Skipping pickling.\n",
      "8\n",
      "../../data/pickles/Fitting/300Attempts/Polynomial/3/avg9 already present - Skipping pickling.\n",
      "9\n",
      "../../data/pickles/Fitting/300Attempts/Polynomial/3/avg10 already present - Skipping pickling.\n",
      "10\n",
      "../../data/pickles/Fitting/300Attempts/Polynomial/3/avg11 already present - Skipping pickling.\n",
      "11\n",
      "../../data/pickles/Fitting/300Attempts/Polynomial/3/avg12 already present - Skipping pickling.\n",
      "12\n",
      "../../data/pickles/Fitting/300Attempts/Polynomial/3/avg13 already present - Skipping pickling.\n"
     ]
    },
    {
     "data": {
      "image/png": "[encoded data removed]",
      "text/plain": [
       "<matplotlib.figure.Figure at 0x1136d0320>"
      ]
     },
     "metadata": {},
     "output_type": "display_data"
    }
   ],
   "source": [
    "x_range = np.linspace(1, 300, 300)\n",
    "dcp.make_folders(\"../../Figs/curve_fitting/SingleCurves/Polynomial/3/\")\n",
    "for i in range(nClt):\n",
    "    print(i)\n",
    "    plt.clf()\n",
    "    \n",
    "    avg = \"avg{0}\".format(i+1)\n",
    "    lsq = least_squares(polynomial_least3, [1, 1, 1, 1], args=(x_range, eval(avg)))\n",
    "    y_fit = polynomial_curve3(x_range, lsq.x[0], lsq.x[1], lsq.x[2], lsq.x[3])\n",
    "\n",
    "    plt.plot(x_range, eval(avg), '.', c='black', label=\"average score\")\n",
    "    plt.plot(x_range, y_fit, 'b-', label=\"curve fitting\", linewidth=4) \n",
    "    \n",
    "    plt.title(\"Polynomial in 3rd (cluster:{0}, cost:{1})\".format(i, round(lsq.cost, 2)))\n",
    "    plt.ylim([0, max( eval(\"avg{0}\".format(i+1)) )+1])\n",
    "    plt.ylabel('Score', fontsize=14)\n",
    "    plt.xlabel('Attempt', fontsize=14)\n",
    "    \n",
    "    plt.savefig(\"../../Figs/curve_fitting/SingleCurves/Polynomial/3/avg{0}\".format(i+1), dpi=100)\n",
    "    \n",
    "    dcp.make_folders('../../data/pickles/Fitting/300Attempts/Polynomial/3/avg{0}'.format(i+1))\n",
    "    dcp.make_Pickle(lsq.cost, '../../data/pickles/Fitting/300Attempts/Polynomial/3/avg{0}/cost.pickle'.format(i+1), force=True)\n",
    "    dcp.make_Pickle(lsq.x, '../../data/pickles/Fitting/300Attempts/Polynomial/3/avg{0}/param.pickle'.format(i+1), force=True)"
   ]
  },
  {
   "cell_type": "markdown",
   "metadata": {},
   "source": [
    "# Fourth"
   ]
  },
  {
   "cell_type": "code",
   "execution_count": 14,
   "metadata": {
    "collapsed": false
   },
   "outputs": [
    {
     "name": "stdout",
     "output_type": "stream",
     "text": [
      "../../Figs/curve_fitting/SingleCurves/Polynomial/4/ already present - Skipping pickling.\n",
      "0\n",
      "../../data/pickles/Fitting/300Attempts/Polynomial/4/avg1 already present - Skipping pickling.\n",
      "1\n",
      "../../data/pickles/Fitting/300Attempts/Polynomial/4/avg2 already present - Skipping pickling.\n",
      "2\n",
      "../../data/pickles/Fitting/300Attempts/Polynomial/4/avg3 already present - Skipping pickling.\n",
      "3\n",
      "../../data/pickles/Fitting/300Attempts/Polynomial/4/avg4 already present - Skipping pickling.\n",
      "4\n",
      "../../data/pickles/Fitting/300Attempts/Polynomial/4/avg5 already present - Skipping pickling.\n",
      "5\n",
      "../../data/pickles/Fitting/300Attempts/Polynomial/4/avg6 already present - Skipping pickling.\n",
      "6\n",
      "../../data/pickles/Fitting/300Attempts/Polynomial/4/avg7 already present - Skipping pickling.\n",
      "7\n",
      "../../data/pickles/Fitting/300Attempts/Polynomial/4/avg8 already present - Skipping pickling.\n",
      "8\n",
      "../../data/pickles/Fitting/300Attempts/Polynomial/4/avg9 already present - Skipping pickling.\n",
      "9\n",
      "../../data/pickles/Fitting/300Attempts/Polynomial/4/avg10 already present - Skipping pickling.\n",
      "10\n",
      "../../data/pickles/Fitting/300Attempts/Polynomial/4/avg11 already present - Skipping pickling.\n",
      "11\n",
      "../../data/pickles/Fitting/300Attempts/Polynomial/4/avg12 already present - Skipping pickling.\n",
      "12\n",
      "../../data/pickles/Fitting/300Attempts/Polynomial/4/avg13 already present - Skipping pickling.\n"
     ]
    },
    {
     "data": {
      "image/png": "[encoded data removed]",
      "text/plain": [
       "<matplotlib.figure.Figure at 0x122111b38>"
      ]
     },
     "metadata": {},
     "output_type": "display_data"
    }
   ],
   "source": [
    "x_range = np.linspace(1, 300, 300)\n",
    "dcp.make_folders(\"../../Figs/curve_fitting/SingleCurves/Polynomial/4/\")\n",
    "for i in range(nClt):\n",
    "    print(i)\n",
    "    plt.clf()\n",
    "    \n",
    "    avg = \"avg{0}\".format(i+1)\n",
    "    lsq = least_squares(polynomial_least4, [1, 1, 1, 1, 1], args=(x_range, eval(avg)))\n",
    "    y_fit = polynomial_curve4(x_range, lsq.x[0], lsq.x[1], lsq.x[2], lsq.x[3], lsq.x[4])\n",
    "\n",
    "    plt.plot(x_range, eval(avg), '.', c='black', label=\"average score\")\n",
    "    plt.plot(x_range, y_fit, 'b-', label=\"curve fitting\", linewidth=4) \n",
    "    \n",
    "    plt.title(\"Polynomial in 4th (cluster:{0}, cost:{1})\".format(i, round(lsq.cost, 2)))\n",
    "    plt.ylim([0, max( eval(\"avg{0}\".format(i+1)) )+1])\n",
    "    plt.ylabel('Score', fontsize=14)\n",
    "    plt.xlabel('Attempt', fontsize=14)\n",
    "    \n",
    "    plt.savefig(\"../../Figs/curve_fitting/SingleCurves/Polynomial/4/avg{0}\".format(i+1), dpi=100)\n",
    "    \n",
    "    dcp.make_folders('../../data/pickles/Fitting/300Attempts/Polynomial/4/avg{0}'.format(i+1))\n",
    "    dcp.make_Pickle(lsq.cost, '../../data/pickles/Fitting/300Attempts/Polynomial/4/avg{0}/cost.pickle'.format(i+1), force=True)\n",
    "    dcp.make_Pickle(lsq.x, '../../data/pickles/Fitting/300Attempts/Polynomial/4/avg{0}/param.pickle'.format(i+1), force=True)"
   ]
  },
  {
   "cell_type": "markdown",
   "metadata": {},
   "source": [
    "# 5th"
   ]
  },
  {
   "cell_type": "code",
   "execution_count": 15,
   "metadata": {
    "collapsed": false
   },
   "outputs": [
    {
     "name": "stdout",
     "output_type": "stream",
     "text": [
      "../../Figs/curve_fitting/SingleCurves/Polynomial/5/ already present - Skipping pickling.\n",
      "0\n",
      "../../data/pickles/Fitting/300Attempts/Polynomial/5/avg1 already present - Skipping pickling.\n",
      "1\n",
      "../../data/pickles/Fitting/300Attempts/Polynomial/5/avg2 already present - Skipping pickling.\n",
      "2\n",
      "../../data/pickles/Fitting/300Attempts/Polynomial/5/avg3 already present - Skipping pickling.\n",
      "3\n",
      "../../data/pickles/Fitting/300Attempts/Polynomial/5/avg4 already present - Skipping pickling.\n",
      "4\n",
      "../../data/pickles/Fitting/300Attempts/Polynomial/5/avg5 already present - Skipping pickling.\n",
      "5\n",
      "../../data/pickles/Fitting/300Attempts/Polynomial/5/avg6 already present - Skipping pickling.\n",
      "6\n",
      "../../data/pickles/Fitting/300Attempts/Polynomial/5/avg7 already present - Skipping pickling.\n",
      "7\n",
      "../../data/pickles/Fitting/300Attempts/Polynomial/5/avg8 already present - Skipping pickling.\n",
      "8\n",
      "../../data/pickles/Fitting/300Attempts/Polynomial/5/avg9 already present - Skipping pickling.\n",
      "9\n",
      "../../data/pickles/Fitting/300Attempts/Polynomial/5/avg10 already present - Skipping pickling.\n",
      "10\n",
      "../../data/pickles/Fitting/300Attempts/Polynomial/5/avg11 already present - Skipping pickling.\n",
      "11\n",
      "../../data/pickles/Fitting/300Attempts/Polynomial/5/avg12 already present - Skipping pickling.\n",
      "12\n",
      "../../data/pickles/Fitting/300Attempts/Polynomial/5/avg13 already present - Skipping pickling.\n"
     ]
    },
    {
     "data": {
      "image/png": "[encoded data removed]",
      "text/plain": [
       "<matplotlib.figure.Figure at 0x114f3c9e8>"
      ]
     },
     "metadata": {},
     "output_type": "display_data"
    }
   ],
   "source": [
    "x_range = np.linspace(1, 300, 300)\n",
    "dcp.make_folders(\"../../Figs/curve_fitting/SingleCurves/Polynomial/5/\")\n",
    "for i in range(nClt):\n",
    "    print(i)\n",
    "    plt.clf()\n",
    "    \n",
    "    avg = \"avg{0}\".format(i+1)\n",
    "    lsq = least_squares(polynomial_least5, [1, 1, 1, 1, 1, 1], args=(x_range, eval(avg)))\n",
    "    y_fit = polynomial_curve5(x_range, lsq.x[0], lsq.x[1], lsq.x[2], lsq.x[3], lsq.x[4], lsq.x[5])\n",
    "\n",
    "    plt.plot(x_range, eval(avg), '.', c='black', label=\"average score\")\n",
    "    plt.plot(x_range, y_fit, 'b-', label=\"curve fitting\", linewidth=4) \n",
    "    \n",
    "    plt.title(\"Polynomial in 5th (cluster:{0}, cost:{1})\".format(i, round(lsq.cost, 2)))\n",
    "    plt.ylim([0, max( eval(\"avg{0}\".format(i+1)) )+1])\n",
    "    plt.ylabel('Score', fontsize=14)\n",
    "    plt.xlabel('Attempt', fontsize=14)\n",
    "    \n",
    "    plt.savefig(\"../../Figs/curve_fitting/SingleCurves/Polynomial/5/avg{0}\".format(i+1), dpi=100)\n",
    "    \n",
    "    dcp.make_folders('../../data/pickles/Fitting/300Attempts/Polynomial/5/avg{0}'.format(i+1))\n",
    "    dcp.make_Pickle(lsq.cost, '../../data/pickles/Fitting/300Attempts/Polynomial/5/avg{0}/cost.pickle'.format(i+1), force=True)\n",
    "    dcp.make_Pickle(lsq.x, '../../data/pickles/Fitting/300Attempts/Polynomial/5/avg{0}/param.pickle'.format(i+1), force=True)"
   ]
  },
  {
   "cell_type": "markdown",
   "metadata": {},
   "source": [
    "# 6th"
   ]
  },
  {
   "cell_type": "code",
   "execution_count": 16,
   "metadata": {
    "collapsed": false
   },
   "outputs": [
    {
     "name": "stdout",
     "output_type": "stream",
     "text": [
      "0\n",
      "../../data/pickles/Fitting/300Attempts/Polynomial/6/avg1 already present - Skipping pickling.\n",
      "1\n",
      "../../data/pickles/Fitting/300Attempts/Polynomial/6/avg2 already present - Skipping pickling.\n",
      "2\n",
      "../../data/pickles/Fitting/300Attempts/Polynomial/6/avg3 already present - Skipping pickling.\n",
      "3\n",
      "../../data/pickles/Fitting/300Attempts/Polynomial/6/avg4 already present - Skipping pickling.\n",
      "4\n",
      "../../data/pickles/Fitting/300Attempts/Polynomial/6/avg5 already present - Skipping pickling.\n",
      "5\n",
      "../../data/pickles/Fitting/300Attempts/Polynomial/6/avg6 already present - Skipping pickling.\n",
      "6\n",
      "../../data/pickles/Fitting/300Attempts/Polynomial/6/avg7 already present - Skipping pickling.\n",
      "7\n",
      "../../data/pickles/Fitting/300Attempts/Polynomial/6/avg8 already present - Skipping pickling.\n",
      "8\n",
      "../../data/pickles/Fitting/300Attempts/Polynomial/6/avg9 already present - Skipping pickling.\n",
      "9\n",
      "../../data/pickles/Fitting/300Attempts/Polynomial/6/avg10 already present - Skipping pickling.\n",
      "10\n",
      "../../data/pickles/Fitting/300Attempts/Polynomial/6/avg11 already present - Skipping pickling.\n",
      "11\n",
      "../../data/pickles/Fitting/300Attempts/Polynomial/6/avg12 already present - Skipping pickling.\n",
      "12\n",
      "../../data/pickles/Fitting/300Attempts/Polynomial/6/avg13 already present - Skipping pickling.\n"
     ]
    },
    {
     "data": {
      "image/png": "[encoded data removed]",
      "text/plain": [
       "<matplotlib.figure.Figure at 0x121e9d390>"
      ]
     },
     "metadata": {},
     "output_type": "display_data"
    }
   ],
   "source": [
    "x_range = np.linspace(1, 300, 300)\n",
    "dcp.make_folders(\"../../Figs/curve_fitting/SingleCurves/Polynomial/6/\")\n",
    "for i in range(nClt):\n",
    "    print(i)\n",
    "    plt.clf()\n",
    "    \n",
    "    avg = \"avg{0}\".format(i+1)\n",
    "    lsq = least_squares(polynomial_least6, [1, 1, 1, 1, 1, 1, 1], args=(x_range, eval(avg)))\n",
    "    y_fit = polynomial_curve6(x_range, lsq.x[0], lsq.x[1], lsq.x[2], lsq.x[3], lsq.x[4], lsq.x[5], lsq.x[6])\n",
    "\n",
    "    plt.plot(x_range, eval(avg), '.', c='black', label=\"average score\")\n",
    "    plt.plot(x_range, y_fit, 'b-', label=\"curve fitting\", linewidth=4) \n",
    "    \n",
    "    plt.title(\"Polynomial in 6th (cluster:{0}, cost:{1})\".format(i, round(lsq.cost, 2)))\n",
    "    plt.ylim([0, max( eval(\"avg{0}\".format(i+1)) )+1])\n",
    "    plt.ylabel('Score', fontsize=14)\n",
    "    plt.xlabel('Attempt', fontsize=14)\n",
    "    \n",
    "    plt.savefig(\"../../Figs/curve_fitting/SingleCurves/Polynomial/6/avg{0}\".format(i+1), dpi=100)\n",
    "    \n",
    "    dcp.make_folders('../../data/pickles/Fitting/300Attempts/Polynomial/6/avg{0}'.format(i+1))\n",
    "    dcp.make_Pickle(lsq.cost, '../../data/pickles/Fitting/300Attempts/Polynomial/6/avg{0}/cost.pickle'.format(i+1), force=True)\n",
    "    dcp.make_Pickle(lsq.x, '../../data/pickles/Fitting/300Attempts/Polynomial/6/avg{0}/param.pickle'.format(i+1), force=True)"
   ]
  },
  {
   "cell_type": "markdown",
   "metadata": {},
   "source": [
    "# 7th"
   ]
  },
  {
   "cell_type": "code",
   "execution_count": null,
   "metadata": {
    "collapsed": false
   },
   "outputs": [],
   "source": [
    "x_range = np.linspace(1, 300, 300)\n",
    "dcp.make_folders(\"../../Figs/curve_fitting/MultiCurves/Polynomial/7/\")\n",
    "for i in range(nClt):\n",
    "    print(i)\n",
    "    plt.clf()\n",
    "    \n",
    "    avg = \"avg{0}\".format(i+1)\n",
    "    lsq = least_squares(polynomial_least7, [1, 1, 1, 1, 1, 1, 1, 1], args=(x_range, eval(avg)))\n",
    "    y_fit = polynomial_curve7(x_range, lsq.x[0], lsq.x[1], lsq.x[2], lsq.x[3], lsq.x[4], lsq.x[5], lsq.x[6], lsq.x[7])\n",
    "\n",
    "    plt.plot(x_range, eval(avg), '.', c='black', label=\"average score\")\n",
    "    plt.plot(x_range, y_fit, 'b-', label=\"curve fitting\", linewidth=4) \n",
    "\n",
    "    plt.title(\"Cluster {0}: {1} errors loss\".format(i, round(lsq.cost, 2)))\n",
    "    plt.ylim([0, max( eval(\"avg{0}\".format(i+1)) )+1])\n",
    "    \n",
    "    plt.savefig(\"../../Figs/curve_fitting/MultiCurves/Polynomial/7/avg{0}\".format(i+1), dpi=100)\n",
    "    \n",
    "    dcp.make_folders('../../data/pickles/Fitting/15Attempts/Polynomial/7/avg{0}'.format(i+1))\n",
    "    dcp.make_Pickle(lsq.cost, '../../data/pickles/Fitting/15Attempts/Polynomial/7/avg{0}/cost.pickle'.format(i+1))\n",
    "    dcp.make_Pickle(lsq.x, '../../data/pickles/Fitting/15Attempts/Polynomial/7/avg{0}/param.pickle'.format(i+1))"
   ]
  },
  {
   "cell_type": "markdown",
   "metadata": {},
   "source": [
    "# 8th"
   ]
  },
  {
   "cell_type": "code",
   "execution_count": null,
   "metadata": {
    "collapsed": false
   },
   "outputs": [],
   "source": [
    "x_range = np.linspace(1, 300, 300)\n",
    "dcp.make_folders(\"../../Figs/curve_fitting/MultiCurves/Polynomial/8/\")\n",
    "for i in range(nClt):\n",
    "    print(i)\n",
    "    plt.clf()\n",
    "    \n",
    "    avg = \"avg{0}\".format(i+1)\n",
    "    lsq = least_squares(polynomial_least8, [1, 1, 1, 1, 1, 1, 1, 1, 1], args=(x_range, eval(avg)))\n",
    "    y_fit = polynomial_curve8(x_range, lsq.x[0], lsq.x[1], lsq.x[2], lsq.x[3], lsq.x[4], lsq.x[5], lsq.x[6], lsq.x[7],\n",
    "                             lsq.x[8])\n",
    "\n",
    "    plt.plot(x_range, eval(avg), '.', c='black', label=\"average score\")\n",
    "    plt.plot(x_range, y_fit, 'b-', label=\"curve fitting\", linewidth=4) \n",
    "\n",
    "    plt.title(\"Cluster {0}: {1} errors loss\".format(i, round(lsq.cost, 2)))\n",
    "    plt.ylim([0, max( eval(\"avg{0}\".format(i+1)) )+1])\n",
    "\n",
    "    plt.savefig(\"../../Figs/curve_fitting/MultiCurves/Polynomial/8/avg{0}\".format(i+1), dpi=100)\n",
    "    \n",
    "    dcp.make_folders('../../data/pickles/Fitting/15Attempts/Polynomial/8/avg{0}'.format(i+1))\n",
    "    dcp.make_Pickle(lsq.cost, '../../data/pickles/Fitting/15Attempts/Polynomial/8/avg{0}/cost.pickle'.format(i+1))\n",
    "    dcp.make_Pickle(lsq.x, '../../data/pickles/Fitting/15Attempts/Polynomial/8/avg{0}/param.pickle'.format(i+1))"
   ]
  },
  {
   "cell_type": "markdown",
   "metadata": {},
   "source": [
    "# 9th"
   ]
  },
  {
   "cell_type": "code",
   "execution_count": null,
   "metadata": {
    "collapsed": false
   },
   "outputs": [],
   "source": [
    "x_range = np.linspace(1, 300, 300)\n",
    "dcp.make_folders(\"../../Figs/curve_fitting/MultiCurves/Polynomial/9/\")\n",
    "for i in range(nClt):\n",
    "    print(i)\n",
    "    plt.clf()\n",
    "    \n",
    "    avg = \"avg{0}\".format(i+1)\n",
    "    lsq = least_squares(polynomial_least9, [1, 1, 1, 1, 1, 1, 1, 1, 1, 1], args=(x_range, eval(avg)))\n",
    "    y_fit = polynomial_curve9(x_range, lsq.x[0], lsq.x[1], lsq.x[2], lsq.x[3], lsq.x[4], lsq.x[5], lsq.x[6], lsq.x[7],\n",
    "                             lsq.x[8], lsq.x[9])\n",
    "\n",
    "    plt.plot(x_range, eval(avg), '.', c='black', label=\"average score\")\n",
    "    plt.plot(x_range, y_fit, 'b-', label=\"curve fitting\", linewidth=4) \n",
    "\n",
    "    plt.title(\"Cluster {0}: {1} errors loss\".format(i, round(lsq.cost, 2)))\n",
    "    plt.ylim([0, max( eval(\"avg{0}\".format(i+1)) )+1])\n",
    "    \n",
    "    plt.savefig(\"../../Figs/curve_fitting/MultiCurves/Polynomial/9/avg{0}\".format(i+1), dpi=100)\n",
    "    \n",
    "    dcp.make_folders('../../data/pickles/Fitting/15Attempts/Polynomial/9/avg{0}'.format(i+1))\n",
    "    dcp.make_Pickle(lsq.cost, '../../data/pickles/Fitting/15Attempts/Polynomial/9/avg{0}/cost.pickle'.format(i+1))\n",
    "    dcp.make_Pickle(lsq.x, '../../data/pickles/Fitting/15Attempts/Polynomial/9/avg{0}/param.pickle'.format(i+1))"
   ]
  },
  {
   "cell_type": "markdown",
   "metadata": {},
   "source": [
    "# 10th"
   ]
  },
  {
   "cell_type": "code",
   "execution_count": null,
   "metadata": {
    "collapsed": false
   },
   "outputs": [],
   "source": [
    "x_range = np.linspace(1, 300, 300)\n",
    "dcp.make_folders(\"../../Figs/curve_fitting/MultiCurves/Polynomial/10/\")\n",
    "for i in range(nClt):\n",
    "    print(i)\n",
    "    plt.clf()\n",
    "    \n",
    "    avg = \"avg{0}\".format(i+1)\n",
    "    lsq = least_squares(polynomial_least10, [1, 1, 1, 1, 1, 1, 1, 1, 1, 1, 1], args=(x_range, eval(avg)))\n",
    "    y_fit = polynomial_curve10(x_range, lsq.x[0], lsq.x[1], lsq.x[2], lsq.x[3], lsq.x[4], lsq.x[5], lsq.x[6], lsq.x[7],\n",
    "                             lsq.x[8], lsq.x[9], lsq.x[10])\n",
    "\n",
    "    plt.plot(x_range, eval(avg), '.', c='black', label=\"average score\")\n",
    "    plt.plot(x_range, y_fit, 'b-', label=\"curve fitting\", linewidth=4) \n",
    "\n",
    "    plt.title(\"Cluster {0}: {1} errors loss\".format(i, round(lsq.cost, 2)))\n",
    "    plt.ylim([0, max( eval(\"avg{0}\".format(i+1)) )+1])\n",
    "\n",
    "    plt.savefig(\"../../Figs/curve_fitting/MultiCurves/Polynomial/10/avg{0}\".format(i+1), dpi=100)\n",
    "    \n",
    "    dcp.make_folders('../../data/pickles/Fitting/15Attempts/Polynomial/10/avg{0}'.format(i+1))\n",
    "    dcp.make_Pickle(lsq.cost, '../../data/pickles/Fitting/15Attempts/Polynomial/10/avg{0}/cost.pickle'.format(i+1))\n",
    "    dcp.make_Pickle(lsq.x, '../../data/pickles/Fitting/15Attempts/Polynomial/10/avg{0}/param.pickle'.format(i+1))"
   ]
  },
  {
   "cell_type": "markdown",
   "metadata": {},
   "source": [
    "# Regularisation"
   ]
  },
  {
   "cell_type": "code",
   "execution_count": 19,
   "metadata": {
    "collapsed": false
   },
   "outputs": [
    {
     "name": "stdout",
     "output_type": "stream",
     "text": [
      "../../Figs/curve_fitting/SingleCurves/Polynomial/Elbow already present - Skipping pickling.\n"
     ]
    },
    {
     "data": {
      "text/plain": [
       "<matplotlib.figure.Figure at 0x10f055160>"
      ]
     },
     "metadata": {},
     "output_type": "display_data"
    }
   ],
   "source": [
    "import DC_Pickle as dcp\n",
    "import numpy as np\n",
    "import matplotlib.pyplot as plt\n",
    "%matplotlib inline\n",
    "\n",
    "dcp.make_folders(\"../../Figs/curve_fitting/SingleCurves/Polynomial/Elbow\")\n",
    "for j in range(13): # for averages\n",
    "    Elbow = []\n",
    "    new_loss = []\n",
    "    orders = np.linspace(1, 6, 6)\n",
    "    for i in range(6): # for orders\n",
    "        loss = dcp.open_Pickle('../../data/pickles/Fitting/300Attempts/Polynomial/{0}/avg{1}/cost.pickle'.format(i+1, j+1))\n",
    "        param = dcp.open_Pickle('../../data/pickles/Fitting/300Attempts/Polynomial/{0}/avg{1}/param.pickle'.format(i+1, j+1))\n",
    "        Elbow.append(loss)\n",
    "        new_loss.append(loss + np.sum(param**2)*i*1.5 )\n",
    "        \n",
    "    plt.plot(orders, Elbow, '.', c='darkgreen')\n",
    "    plt.plot(orders, Elbow, '-', c='g', label=\"Elbow\")\n",
    "    \n",
    "    plt.plot(orders, new_loss, '.', c='darkred')\n",
    "    plt.plot(orders, new_loss, '-', c='r', label=\"Regularisation\")\n",
    "    plt.legend()\n",
    "\n",
    "\n",
    "    plt.title(\"Order {0}\".format(i+1))\n",
    "    #plt.ylim([0, max(Elbow)+10])\n",
    "\n",
    "    plt.savefig(\"../../Figs/curve_fitting/SingleCurves/Polynomial/Elbow/{0}\".format(j+1), dpi=100)\n",
    "    plt.clf()"
   ]
  },
  {
   "cell_type": "raw",
   "metadata": {},
   "source": [
    "param = dcp.open_Pickle('../../data/pickles/Fitting/15Attempts/Polynomial/{0}/avg{1}/param.pickle'.format(2, 3))\n",
    "print(param, np.sum(param**2))\n",
    "print(param**2)"
   ]
  }
 ],
 "metadata": {
  "kernelspec": {
   "display_name": "Python 3",
   "language": "python",
   "name": "python3"
  },
  "language_info": {
   "codemirror_mode": {
    "name": "ipython",
    "version": 3
   },
   "file_extension": ".py",
   "mimetype": "text/x-python",
   "name": "python",
   "nbconvert_exporter": "python",
   "pygments_lexer": "ipython3",
   "version": "3.5.1"
  }
 },
 "nbformat": 4,
 "nbformat_minor": 0
}
