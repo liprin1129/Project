{
 "cells": [
  {
   "cell_type": "markdown",
   "metadata": {},
   "source": [
    "# Load Data"
   ]
  },
  {
   "cell_type": "code",
   "execution_count": 1,
   "metadata": {
    "collapsed": false
   },
   "outputs": [
    {
     "name": "stdout",
     "output_type": "stream",
     "text": [
      "Training data set: (300, 22832)\n",
      "../../Figs/curve_fitting/ already present - Skipping pickling.\n",
      "1: (300, 2045)\n",
      "2: (300, 1709)\n",
      "3: (300, 1354)\n",
      "4: (300, 1894)\n",
      "5: (300, 1930)\n",
      "6: (300, 2093)\n",
      "7: (300, 1187)\n",
      "8: (300, 1988)\n",
      "9: (300, 1678)\n",
      "10: (300, 1403)\n",
      "11: (300, 2489)\n",
      "12: (300, 1802)\n",
      "13: (300, 1260)\n"
     ]
    }
   ],
   "source": [
    "import numpy as np\n",
    "from scipy.optimize import curve_fit\n",
    "from scipy.optimize import least_squares\n",
    "import DC_Pickle as dcp\n",
    "import Curve_Functions as cv\n",
    "import matplotlib.pyplot as plt\n",
    "%matplotlib inline\n",
    "\n",
    "def disp_Data(x, y_true, y_pred, file_path, clt_num, cost, rows=1, columns=1):\n",
    "    fig, ax = plt.subplots(rows, columns)\n",
    "    ax.plot(x, y_true, '.', c='black', label='average score')\n",
    "    ax.plot(x, y_pred, 'b-', label='curve fitting', linewidth=4)\n",
    "    ax.set_xlim([0, max(x)+1])\n",
    "    ax.set_ylim([0, max(y_true)+0.2])\n",
    "    ax.legend(fontsize=14, loc=4)\n",
    "    ax.set_title(\"Cluster {0}: {1} errors loss\".format(clt_num, round(cost, 2)))\n",
    "    fig.savefig(file_path, dpi=100)\n",
    "    plt.show()\n",
    "    \n",
    "train_idx = dcp.open_Pickle(\"../../data/pickles/clusters_origin/15attempts/indices/index13.pickle\")\n",
    "train_idx = train_idx[2] #2, 8\n",
    "\n",
    "train_scores = dcp.open_Pickle('../../data/pickles/seperate_origin/eventValue.pickle')\n",
    "train_scores = train_scores[:300, :]/1e+4\n",
    "attempts50 = np.arange(50)+1\n",
    "attempts300 = np.arange(300)+1\n",
    "\n",
    "## filtering discontinuous under 15 attempts\n",
    "idx_all = []\n",
    "idx_pure = []\n",
    "\n",
    "for i in range(train_scores.shape[1]):\n",
    "    if not np.isnan(train_scores[:15, i]).any():\n",
    "        idx_all.append(i)\n",
    "        idx_pure.append(i)\n",
    "    else:\n",
    "        idx_all.append(np.nan)\n",
    "\n",
    "train_scores = train_scores[:, idx_pure]\n",
    "print(\"Training data set: {0}\".format(np.shape(train_scores)))\n",
    "\n",
    "## get cluster data and cluster average data (average is centroid)\n",
    "nClt = 13\n",
    "for i in range(nClt):\n",
    "    name = \"cluster{0}\".format(i+1)\n",
    "    globals()[name] = train_scores[:, train_idx==i] # get cluster data\n",
    "    \n",
    "    ## get cluster average data\n",
    "    data = np.ones(300)\n",
    "    for j in range(len(data)):\n",
    "        avg = eval(name)[j, :]\n",
    "        avg = np.sum(avg[~np.isnan(avg)])/len(avg[~np.isnan(avg)])\n",
    "        data[j] = avg\n",
    "\n",
    "    globals()[\"avg{0}\".format(i+1)] = data\n",
    "    \n",
    "dcp.make_folders(\"../../Figs/curve_fitting/\")\n",
    "\n",
    "entire_set = np.vstack((avg1, avg2))\n",
    "for i in range(11):\n",
    "    avg = \"avg{0}\".format(i+3)\n",
    "    entire_set = np.vstack((entire_set, eval(avg)))\n",
    "#print(np.shape(entire_set))\n",
    "#print(np.shape(np.mean(entire_set, axis=0)))\n",
    "\n",
    "entire_set = np.mean(entire_set, axis=0)\n",
    "\n",
    "print(\"1:\", np.shape(cluster1))\n",
    "print(\"2:\", np.shape(cluster2))\n",
    "print(\"3:\", np.shape(cluster3))\n",
    "print(\"4:\", np.shape(cluster4))\n",
    "print(\"5:\", np.shape(cluster5))\n",
    "print(\"6:\", np.shape(cluster6))\n",
    "print(\"7:\", np.shape(cluster7))\n",
    "print(\"8:\", np.shape(cluster8))\n",
    "print(\"9:\", np.shape(cluster9))\n",
    "print(\"10:\", np.shape(cluster10))\n",
    "print(\"11:\", np.shape(cluster11))\n",
    "print(\"12:\", np.shape(cluster12))\n",
    "print(\"13:\", np.shape(cluster13))"
   ]
  },
  {
   "cell_type": "raw",
   "metadata": {
    "collapsed": false
   },
   "source": [
    "import numpy as np\n",
    "from scipy.optimize import curve_fit\n",
    "from scipy.optimize import least_squares\n",
    "import DC_Pickle as dcp\n",
    "import Curve_Functions as cv\n",
    "import matplotlib.pyplot as plt\n",
    "%matplotlib inline\n",
    "\n",
    "def disp_Data(x, y_true, y_pred, file_path, clt_num, cost, rows=1, columns=1):\n",
    "    fig, ax = plt.subplots(rows, columns)\n",
    "    ax.plot(x, y_true, '.', c='black', label='average score')\n",
    "    ax.plot(x, y_pred, 'b-', label='curve fitting', linewidth=4)\n",
    "    ax.set_xlim([0, max(x)+1])\n",
    "    ax.set_ylim([0, max(y_true)+0.2])\n",
    "    ax.legend(fontsize=14)\n",
    "    ax.set_title(\"Cluster {0}: {1} errors loss\".format(clt_num, round(cost, 2)))\n",
    "    fig.savefig(file_path, dpi=100)\n",
    "    plt.show()\n",
    "    \n",
    "train_idx = dcp.open_Pickle(\"../../data/pickles/clusters_origin/15attempts/indices/index12.pickle\")\n",
    "train_idx = train_idx[9] #2, 8\n",
    "\n",
    "train_scores = dcp.open_Pickle('../../data/pickles/seperate_origin/eventValue.pickle')\n",
    "train_scores = train_scores[:300, :]/1e+4\n",
    "attempts15 = np.arange(15)+1\n",
    "attempts300 = np.arange(300)+1\n",
    "\n",
    "## filtering discontinuous under 15 attempts\n",
    "idx_all = []\n",
    "idx_pure = []\n",
    "\n",
    "for i in range(train_scores.shape[1]):\n",
    "    if not np.isnan(train_scores[:15, i]).any():\n",
    "        idx_all.append(i)\n",
    "        idx_pure.append(i)\n",
    "    else:\n",
    "        idx_all.append(np.nan)\n",
    "\n",
    "train_scores = train_scores[:, idx_pure]\n",
    "print(\"Training data set: {0}\".format(np.shape(train_scores)))\n",
    "\n",
    "## get cluster data and cluster average data (average is centroid)\n",
    "nClt = 12\n",
    "for i in range(nClt):\n",
    "    name = \"cluster{0}\".format(i+1)\n",
    "    globals()[name] = train_scores[:, train_idx==i] # get cluster data\n",
    "    \n",
    "    ## get cluster average data\n",
    "    data = np.ones(300)\n",
    "    for j in range(len(data)):\n",
    "        avg = eval(name)[j, :]\n",
    "        avg = np.sum(avg[~np.isnan(avg)])/len(avg[~np.isnan(avg)])\n",
    "        data[j] = avg\n",
    "\n",
    "    globals()[\"avg{0}\".format(i+1)] = data\n",
    "    \n",
    "dcp.make_folders(\"../../Figs/curve_fitting/\")"
   ]
  },
  {
   "cell_type": "markdown",
   "metadata": {},
   "source": [
    "# 1. Single Curve\n",
    "## 1-1. Two parameters"
   ]
  },
  {
   "cell_type": "code",
   "execution_count": null,
   "metadata": {
    "collapsed": false,
    "scrolled": true
   },
   "outputs": [],
   "source": [
    "dcp.make_folders(\"../../Figs/curve_fitting/powerlaw2/single/\")\n",
    "\n",
    "seed = [1, 1]\n",
    "for i in range(nClt):\n",
    "    print(\"cluster {0}:\".format(i+1))\n",
    "    pl2_opt, pl2_cost = cv.curve_Fitting(\n",
    "        cv.powerlaw_least2, cv.powerlaw_curve2, \n",
    "        attempts50, eval(\"avg{0}\".format(i+1))[:50], seed,\n",
    "        \"../../Figs/curve_fitting/powerlaw2/single/sample{0}\".format(i+1), clt_num = i+1)\n",
    "    \n",
    "    true_opt, true_cost = cv.curve_Fitting(\n",
    "        cv.powerlaw_least2, cv.powerlaw_curve2, \n",
    "        attempts300, eval(\"avg{0}\".format(i+1)), seed,\n",
    "        \"../../Figs/curve_fitting/powerlaw2/single/dummy\", clt_num = i+1)\n",
    "    \n",
    "    y_fit_valid = cv.powerlaw_curve2(attempts300, pl2_opt[0], pl2_opt[1])\n",
    "    y_fit_true = cv.powerlaw_curve2(attempts300, true_opt[0], true_opt[1])\n",
    "    \n",
    "    pl2_cost_valid = cv.cost_Function(eval(\"avg{0}\".format(i+1)), y_fit_valid) # get cost for all data\n",
    "    pl2_cost_ture = cv.cost_Function(eval(\"avg{0}\".format(i+1)), y_fit_true) # get cost for all data\n",
    "    \n",
    "    disp_Data(attempts300, eval(\"avg{0}\".format(i+1)), y_fit_valid, \n",
    "              file_path=\"../../Figs/curve_fitting/powerlaw2/single/valid{0}\".format(i+1), \n",
    "              clt_num=i+1, cost = pl2_cost_valid)\n",
    "\n",
    "    disp_Data(attempts300, eval(\"avg{0}\".format(i+1)), y_fit_true, \n",
    "              file_path=\"../../Figs/curve_fitting/powerlaw2/single/true{0}\".format(i+1), \n",
    "              clt_num=i+1, cost = pl2_cost_ture)"
   ]
  },
  {
   "cell_type": "code",
   "execution_count": 14,
   "metadata": {
    "collapsed": false
   },
   "outputs": [
    {
     "name": "stdout",
     "output_type": "stream",
     "text": [
      " - Curve Fitting Parameters: [-1.65378719 -0.10493549]\n",
      " - Curve Fitting Cost: 3.5237296419916935\n",
      "\n"
     ]
    },
    {
     "data": {
      "image/png": "[encoded data removed]",
      "text/plain": [
       "<matplotlib.figure.Figure at 0x10c0f9d30>"
      ]
     },
     "metadata": {},
     "output_type": "display_data"
    },
    {
     "data": {
      "image/png": "[encoded data removed]",
      "text/plain": [
       "<matplotlib.figure.Figure at 0x10c100dd8>"
      ]
     },
     "metadata": {},
     "output_type": "display_data"
    }
   ],
   "source": [
    "    dcp.make_folders(\"../../Figs/curve_fitting/powerlaw2/single/\")\n",
    "\n",
    "    seed = [1, 1]\n",
    "\n",
    "    true_opt, true_cost = cv.curve_Fitting(\n",
    "        cv.powerlaw_least2, cv.powerlaw_curve2, \n",
    "        attempts300, entire_set, seed,\n",
    "        \"../../Figs/curve_fitting/powerlaw2/single/dummy\", clt_num = i+1)\n",
    "\n",
    "    y_fit_true = cv.powerlaw_curve2(attempts300, true_opt[0], true_opt[1])\n",
    "\n",
    "    pl2_cost_ture = cv.cost_Function(entire_set, y_fit_true) # get cost for all data\n",
    "\n",
    "    disp_Data(attempts300, entire_set, y_fit_true, \n",
    "              file_path=\"../../Figs/curve_fitting/powerlaw2/single/true{0}\".format(i+1), \n",
    "              clt_num=i+1, cost = pl2_cost_ture)"
   ]
  },
  {
   "cell_type": "markdown",
   "metadata": {},
   "source": [
    "## 1-2. Three parameters"
   ]
  },
  {
   "cell_type": "code",
   "execution_count": null,
   "metadata": {
    "collapsed": false,
    "scrolled": true
   },
   "outputs": [],
   "source": [
    "dcp.make_folders(\"../../Figs/curve_fitting/powerlaw3/single/\")\n",
    "\n",
    "seed = [1, 1, 1]\n",
    "for i in range(nClt):\n",
    "    print(\"cluster {0}:\".format(i+1))\n",
    "    pl3_opt, pl3_cost = cv.curve_Fitting(\n",
    "        cv.powerlaw_least3, cv.powerlaw_curve3, \n",
    "        attempts50, eval(\"avg{0}\".format(i+1))[:50], seed,\n",
    "        \"../../Figs/curve_fitting/powerlaw3/single/sample{0}\".format(i+1), clt_num = i+1)\n",
    "    \n",
    "    true_opt, true_cost = cv.curve_Fitting(\n",
    "        cv.powerlaw_least3, cv.powerlaw_curve3, \n",
    "        attempts300, eval(\"avg{0}\".format(i+1)), seed,\n",
    "        \"../../Figs/curve_fitting/powerlaw3/single/dummy\", clt_num = i+1)\n",
    "    \n",
    "    y_fit_valid = cv.powerlaw_curve3(attempts300, pl3_opt[0], pl3_opt[1], pl3_opt[2])\n",
    "    y_fit_true = cv.powerlaw_curve3(attempts300, true_opt[0], true_opt[1], true_opt[2])\n",
    "    \n",
    "    pl3_cost_valid = cv.cost_Function(eval(\"avg{0}\".format(i+1)), y_fit_valid) # get cost for all data\n",
    "    pl3_cost_true = cv.cost_Function(eval(\"avg{0}\".format(i+1)), y_fit_valid) # get cost for all data\n",
    "    \n",
    "    disp_Data(attempts300, eval(\"avg{0}\".format(i+1)), y_fit_valid, \n",
    "              file_path=\"../../Figs/curve_fitting/powerlaw3/single/valid{0}\".format(i+1), \n",
    "              clt_num=i+1, cost = pl3_cost_valid)\n",
    "    \n",
    "    disp_Data(attempts300, eval(\"avg{0}\".format(i+1)), y_fit_true, \n",
    "              file_path=\"../../Figs/curve_fitting/powerlaw3/single/true{0}\".format(i+1), \n",
    "              clt_num=i+1, cost = pl3_cost_true)"
   ]
  },
  {
   "cell_type": "code",
   "execution_count": 17,
   "metadata": {
    "collapsed": false
   },
   "outputs": [
    {
     "name": "stdout",
     "output_type": "stream",
     "text": [
      "../../Figs/curve_fitting/powerlaw3/single/ already present - Skipping pickling.\n",
      " - Curve Fitting Parameters: [ 2.95701927  0.18506055  3.98290297]\n",
      " - Curve Fitting Cost: 2.939109743334333\n",
      "\n"
     ]
    },
    {
     "data": {
      "image/png": "[encoded data removed]",
      "text/plain": [
       "<matplotlib.figure.Figure at 0x10c0ba6a0>"
      ]
     },
     "metadata": {},
     "output_type": "display_data"
    },
    {
     "data": {
      "image/png": "[encoded data removed]",
      "text/plain": [
       "<matplotlib.figure.Figure at 0x10c0ba8d0>"
      ]
     },
     "metadata": {},
     "output_type": "display_data"
    }
   ],
   "source": [
    "dcp.make_folders(\"../../Figs/curve_fitting/powerlaw3/single/\")\n",
    "\n",
    "seed = [1, 1, 1]\n",
    "\n",
    "true_opt, true_cost = cv.curve_Fitting(\n",
    "    cv.powerlaw_least3, cv.powerlaw_curve3, \n",
    "    attempts300, entire_set, seed,\n",
    "    \"../../Figs/curve_fitting/powerlaw3/single/dummy\", clt_num = i+1)\n",
    "\n",
    "y_fit_true = cv.powerlaw_curve3(attempts300, true_opt[0], true_opt[1], true_opt[2])\n",
    "\n",
    "pl3_cost_true = cv.cost_Function(entire_set, y_fit_true) # get cost for all data\n",
    "\n",
    "disp_Data(attempts300, entire_set, y_fit_true, \n",
    "          file_path=\"../../Figs/curve_fitting/powerlaw3/single/true{0}\".format(i+1), \n",
    "          clt_num=i+1, cost = pl3_cost_true)"
   ]
  },
  {
   "cell_type": "markdown",
   "metadata": {},
   "source": [
    "## 1-3. Four parameters"
   ]
  },
  {
   "cell_type": "code",
   "execution_count": null,
   "metadata": {
    "collapsed": false
   },
   "outputs": [],
   "source": [
    "dcp.make_folders(\"../../Figs/curve_fitting/powerlaw4/single/\")\n",
    "\n",
    "seed = [1, 1, 1, 1]\n",
    "for i in range(nClt):\n",
    "    print(\"cluster {0}:\".format(i+1))\n",
    "    pl4_opt, pl4_cost = cv.curve_Fitting(\n",
    "        cv.powerlaw_least4, cv.powerlaw_curve4, \n",
    "        attempts50, eval(\"avg{0}\".format(i+1))[:50], seed,\n",
    "        \"../../Figs/curve_fitting/powerlaw4/single/sample{0}\".format(i+1), clt_num = i+1)\n",
    "\n",
    "    true_opt, true_cost = cv.curve_Fitting(\n",
    "        cv.powerlaw_least4, cv.powerlaw_curve4, \n",
    "        attempts300, eval(\"avg{0}\".format(i+1)), seed,\n",
    "        \"../../Figs/curve_fitting/powerlaw4/single/dummy\", clt_num = i+1)\n",
    "\n",
    "\n",
    "    y_fit_valid = cv.powerlaw_curve4(attempts300, pl4_opt[0], pl4_opt[1], pl4_opt[2], pl4_opt[3])\n",
    "    y_fit_true = cv.powerlaw_curve4(attempts300, true_opt[0], true_opt[1], true_opt[2], true_opt[3])\n",
    "    \n",
    "    pl4_cost_valid = cv.cost_Function(eval(\"avg{0}\".format(i+1)), y_fit_valid) # get cost for all data\n",
    "    pl4_cost_true = cv.cost_Function(eval(\"avg{0}\".format(i+1)), y_fit_true) # get cost for all data\n",
    "    \n",
    "    disp_Data(attempts300, eval(\"avg{0}\".format(i+1)), y_fit_valid, \n",
    "              file_path=\"../../Figs/curve_fitting/powerlaw4/single/valid{0}\".format(i+1), \n",
    "              clt_num=i+1, cost = pl4_cost_valid)\n",
    "    \n",
    "    disp_Data(attempts300, eval(\"avg{0}\".format(i+1)), y_fit_true, \n",
    "              file_path=\"../../Figs/curve_fitting/powerlaw4/single/true{0}\".format(i+1), \n",
    "              clt_num=i+1, cost = pl4_cost_true)"
   ]
  },
  {
   "cell_type": "code",
   "execution_count": 18,
   "metadata": {
    "collapsed": false
   },
   "outputs": [
    {
     "name": "stdout",
     "output_type": "stream",
     "text": [
      " - Curve Fitting Parameters: [ 2.90835022  0.22915636  3.7364708   0.4970416 ]\n",
      " - Curve Fitting Cost: 2.9354920957220734\n",
      "\n"
     ]
    },
    {
     "data": {
      "image/png": "[encoded data removed]",
      "text/plain": [
       "<matplotlib.figure.Figure at 0x10c0aeeb8>"
      ]
     },
     "metadata": {},
     "output_type": "display_data"
    },
    {
     "data": {
      "image/png": "[encoded data removed]",
      "text/plain": [
       "<matplotlib.figure.Figure at 0x10c13e898>"
      ]
     },
     "metadata": {},
     "output_type": "display_data"
    }
   ],
   "source": [
    "dcp.make_folders(\"../../Figs/curve_fitting/powerlaw4/single/\")\n",
    "\n",
    "seed = [1, 1, 1, 1]\n",
    "\n",
    "true_opt, true_cost = cv.curve_Fitting(\n",
    "    cv.powerlaw_least4, cv.powerlaw_curve4, \n",
    "    attempts300, entire_set, seed,\n",
    "    \"../../Figs/curve_fitting/powerlaw4/single/dummy\", clt_num = i+1)\n",
    "\n",
    "\n",
    "y_fit_true = cv.powerlaw_curve4(attempts300, true_opt[0], true_opt[1], true_opt[2], true_opt[3])\n",
    "\n",
    "pl4_cost_true = cv.cost_Function(entire_set, y_fit_true) # get cost for all data\n",
    "\n",
    "disp_Data(attempts300, entire_set, y_fit_true, \n",
    "          file_path=\"../../Figs/curve_fitting/powerlaw4/single/true{0}\".format(i+1), \n",
    "          clt_num=i+1, cost = pl4_cost_true)"
   ]
  },
  {
   "cell_type": "markdown",
   "metadata": {},
   "source": [
    "# 2. Multiple Curves"
   ]
  },
  {
   "cell_type": "code",
   "execution_count": null,
   "metadata": {
    "collapsed": false,
    "scrolled": true
   },
   "outputs": [],
   "source": [
    "for p in range(9): # for 10 pieces\n",
    "    costs = []\n",
    "    lengths = np.zeros([1, p+2, 13])\n",
    "    indice = np.zeros([1, p+2, 13])\n",
    "\n",
    "    for i in range(3): # for parameters\n",
    "        print(\"\\n\\n - {0} pieces, {1} Parameter\".format(p+2, i+2))\n",
    "        if i == 0: # 2 parameters\n",
    "            seed = [1, 1]\n",
    "            leastFunction = cv.powerlaw_least2\n",
    "        elif i == 1: # 3 parameters\n",
    "            seed = [1, 1, 1]\n",
    "            leastFunction = cv.powerlaw_least3\n",
    "        elif i == 2: # 4 parmaeters\n",
    "            seed = [1, 1, 1, 1]\n",
    "            leastFunction = cv.powerlaw_least4\n",
    "\n",
    "        for j in range(nClt): # for clusters\n",
    "            print(\"\\t avg{0}, \".format(j+1), end='')\n",
    "            file_name = \"avg{0}\".format(j+1)\n",
    "            cost, min_length, min_indice = cv.multCurve_Fitting(eval(file_name), leastFunction, s=seed, w=30, p=p+2)\n",
    "            costs.append(cost)\n",
    "            lengths[:, :, j] = min_length\n",
    "            indice[:, :, j] = min_indice\n",
    "            dcp.make_folders('../../data/pickles/Fitting/300Attempts/Power/pieces{0}/param{1}/avg{2}/'.format(p+2, i+2, j+1))\n",
    "            dcp.make_Pickle(cost, '../../data/pickles/Fitting/300Attempts/Power/pieces{0}/param{1}/avg{2}/cost.pickle'.format(p+2, i+2, j+1))\n",
    "            dcp.make_Pickle(min_length, '../../data/pickles/Fitting/300Attempts/Power/pieces{0}/param{1}/avg{2}/length.pickle'.format(p+2, i+2, j+1))\n",
    "            dcp.make_Pickle(min_indice, '../../data/pickles/Fitting/300Attempts/Power/pieces{0}/param{1}/avg{2}/index.pickle'.format(p+2, i+2, j+1))"
   ]
  },
  {
   "cell_type": "raw",
   "metadata": {
    "collapsed": false,
    "scrolled": true
   },
   "source": [
    "for piece in range(9): # for 10 pieces (3 pieces, 4 parameters)\n",
    "    #piece = 1+piece\n",
    "    costs = []\n",
    "    lengths = np.zeros([1, piece+2, 13])\n",
    "    indice = np.zeros([1, piece+2, 13])\n",
    "\n",
    "    for param in range(3): # for parameters\n",
    "        print(\"\\n\\n - {0} pieces, {1} param\".format(piece+2, param+2))\n",
    "        if param == 0: # 2 parameters\n",
    "            seed = [1, 1]\n",
    "            leastFunction = cv.powerlaw_least2\n",
    "        elif param == 1: # 3 parameters\n",
    "            seed = [1, 1, 1]\n",
    "            leastFunction = cv.powerlaw_least3\n",
    "        elif param == 2: # 4 parmaeters\n",
    "            seed = [1, 1, 1, 1]\n",
    "            leastFunction = cv.powerlaw_least4\n",
    "\n",
    "        for clt in range(nClt): # for clusters\n",
    "            #if piece+2>2 and param+1>2: # bug checking\n",
    "            print(\"\\t avg{0}: \".format(clt+1), end=\"\")\n",
    "            file_name = \"avg{0}\".format(clt+1)\n",
    "            cost, min_length, min_indice = cv.multCurve_Fitting(eval(file_name), leastFunction, s=seed, w=30, p=piece+2)\n",
    "            costs.append(cost)\n",
    "            lengths[:, :, clt] = min_length\n",
    "            indice[:, :, clt] = min_indice\n",
    "            dcp.make_folders('../../data/pickles/Fitting/15Attempts/Power/pieces{0}/param{1}/avg{2}/'.format(piece+2, param+2, clt+1))\n",
    "            dcp.make_Pickle(cost, '../../data/pickles/Fitting/15Attempts/Power/pieces{0}/param{1}/avg{2}/cost'.format(piece+2, param+2, clt+1))\n",
    "            dcp.make_Pickle(min_length, '../../data/pickles/Fitting/15Attempts/Power/pieces{0}/param{1}/avg{2}/length'.format(piece+2, param+2, clt+1))\n",
    "            dcp.make_Pickle(min_indice, '../../data/pickles/Fitting/15Attempts/Power/pieces{0}/param{1}/avg{2}/index'.format(piece+2, param+2, clt+1))"
   ]
  },
  {
   "cell_type": "markdown",
   "metadata": {},
   "source": [
    "## Multi-curves Plot"
   ]
  },
  {
   "cell_type": "code",
   "execution_count": null,
   "metadata": {
    "collapsed": false,
    "scrolled": true
   },
   "outputs": [],
   "source": [
    "def disp_MultipleCurve():\n",
    "    x = np.linspace(1, 300, 300)\n",
    "    curve_color = ['blue', 'red', 'darkgreen', 'blue', 'red', 'darkgreen', 'blue', 'red', 'darkgreen', 'blue']\n",
    "    for piece in range(9): # for pieces\n",
    "        for param in range(3): # for parameters\n",
    "            for clt in range(nClt): # for clusters\n",
    "\n",
    "                x_range = \"x{0}\".format(clt+1)\n",
    "                y_val = \"y{0}\".format(clt+1)\n",
    "                lsq = \"lsq{0}\".format(clt+1)\n",
    "                pred = \"pred{0}\".format(clt+1)\n",
    "                count = 0 # count for colour\n",
    "                cost = []\n",
    "                \n",
    "                x_idx = dcp.open_Pickle('../../data/pickles/Fitting/300Attempts/Power/pieces{0}/param{1}/avg{2}/index.pickle'.format(piece+2, param+2, clt+1))\n",
    "                \n",
    "                if param == 0: # 2 parameters\n",
    "                    seed = [1, 1]\n",
    "                    func_name = cv.powerlaw_curve2\n",
    "                    least_name = cv.powerlaw_least2\n",
    "                    parameters = np.zeros([2, len(x_idx)])\n",
    "                elif param == 1: # 3 parameters\n",
    "                    seed = [1, 1, 1]\n",
    "                    func_name = cv.powerlaw_curve3\n",
    "                    least_name = cv.powerlaw_least3\n",
    "                    parameters = np.zeros([3, len(x_idx)])\n",
    "                elif param == 2: # 4 parmaeters\n",
    "                    seed = [1, 1, 1, 1]\n",
    "                    func_name = cv.powerlaw_curve4\n",
    "                    least_name = cv.powerlaw_least4\n",
    "                    parameters = np.zeros([4, len(x_idx)])\n",
    "                \n",
    "                plt.clf()\n",
    "                plt.plot(attempts300, eval('avg{0}'.format(clt+1)), '.', c='black')\n",
    "                for i in range(len(x_idx)):\n",
    "                    #print(x_idx[i])\n",
    "\n",
    "                    if i == 0: # if the first\n",
    "                        locals()[x_range] = x[:int(x_idx[1])-1]\n",
    "                        #print(eval(x_range)[0])\n",
    "                        locals()[y_val] = eval('avg{0}'.format(clt+1))[:int(x_idx[1])-1]\n",
    "                        #print(len(eval(y_val)))\n",
    "                        locals()[lsq] = least_squares(least_name, seed, args=(eval(x_range), eval(y_val)))\n",
    "                        print(\"piece:{0}, param:{1}, len:{2}\".format(piece, param, len(eval(lsq).x)))\n",
    "                        if param == 0: # 2 parameters\n",
    "                            locals()[pred] = func_name(eval(x_range), eval(lsq).x[0], eval(lsq).x[1])\n",
    "                        elif param == 1: # 3 parameters\n",
    "                            locals()[pred] = func_name(eval(x_range), eval(lsq).x[0], eval(lsq).x[1], eval(lsq).x[2])\n",
    "                        elif param == 2: # 4 parmaeters\n",
    "                            locals()[pred] = func_name(eval(x_range), eval(lsq).x[0], eval(lsq).x[1], eval(lsq).x[2], eval(lsq).x[3])\n",
    "                        plt.plot(eval(x_range), eval(pred), '-', c = curve_color[count], linewidth=5)\n",
    "                        plt.plot([x_idx[1]]*50, np.linspace(0, max(eval(y_val))+2, 50), '-.', c='black', linewidth=1)\n",
    "                        cost.append(eval(lsq).cost)\n",
    "                        parameters[:, count] = eval(lsq).x # save parameters\n",
    "                        count = count+1\n",
    "\n",
    "                    elif 0 < i < len(x_idx)-1:\n",
    "                        locals()[x_range] = x[int(x_idx[i])-1:int(x_idx[i+1])-1]\n",
    "                        locals()[y_val] = eval('avg{0}'.format(clt+1))[int(x_idx[i])-1:int(x_idx[i+1])-1]\n",
    "                        locals()[lsq] = least_squares(least_name, seed, args=(eval(x_range), eval(y_val)))\n",
    "                        print(\"piece:{0}, param:{1}, len:{2}\".format(piece, param, len(eval(lsq).x)))\n",
    "                        if param == 0: # 2 parameters\n",
    "                            locals()[pred] = func_name(eval(x_range), eval(lsq).x[0], eval(lsq).x[1])\n",
    "\n",
    "                        elif param == 1: # 3 parameters\n",
    "                            locals()[pred] = func_name(eval(x_range), eval(lsq).x[0], eval(lsq).x[1], eval(lsq).x[2])\n",
    "\n",
    "                        elif param == 2: # 4 parmaeters\n",
    "                            locals()[pred] = func_name(eval(x_range), eval(lsq).x[0], eval(lsq).x[1], eval(lsq).x[2], eval(lsq).x[3])\n",
    "                        plt.plot(eval(x_range), eval(pred), '-', c = curve_color[count], linewidth=5)\n",
    "                        plt.plot([x_idx[i+1]]*50, np.linspace(0, max(eval(y_val))+2, 50), '-.', c='black', linewidth=1)\n",
    "                        cost.append(eval(lsq).cost) # save costs\n",
    "                        parameters[:, count] = eval(lsq).x # save parameters\n",
    "                        count = count+1\n",
    "\n",
    "                    elif i == len(x_idx)-1: # if the last\n",
    "                        locals()[x_range] = x[int(x_idx[i])-1:]\n",
    "                        #print(eval(x_range)[0])\n",
    "                        locals()[y_val] = eval('avg{0}'.format(clt+1))[int(x_idx[i])-1:]\n",
    "                        #print(len(eval(y_val)))\n",
    "                        locals()[lsq] = least_squares(least_name, seed, args=(eval(x_range), eval(y_val)))\n",
    "                        print(\"piece:{0}, param:{1}, len:{2}\".format(piece, param, len(eval(lsq).x)))\n",
    "                        if param == 0: # 2 parameters\n",
    "                            locals()[pred] = func_name(eval(x_range), eval(lsq).x[0], eval(lsq).x[1])\n",
    "\n",
    "                        elif param == 1: # 3 parameters\n",
    "                            locals()[pred] = func_name(eval(x_range), eval(lsq).x[0], eval(lsq).x[1], eval(lsq).x[2])\n",
    "\n",
    "                        elif param == 2: # 4 parmaeters\n",
    "                            locals()[pred] = func_name(eval(x_range), eval(lsq).x[0], eval(lsq).x[1], eval(lsq).x[2], eval(lsq).x[3])\n",
    "                        plt.plot(eval(x_range), eval(pred), '-', c = curve_color[count], linewidth=5)\n",
    "                        plt.plot([x_idx[i]]*50, np.linspace(0, max(eval(y_val))+2, 50), '-.', c='black', linewidth=1)\n",
    "                        cost.append(eval(lsq).cost)\n",
    "                        parameters[:, count] = eval(lsq).x # save parameters\n",
    "                        count = count+1\n",
    "\n",
    "                    plt.title(\"Power (cluster:{0}, cost:{1})\".format(clt+1, round(np.sum(cost), 2)), fontsize=14)\n",
    "                    plt.ylabel('Score', fontsize=14)\n",
    "                    plt.xlabel('Attempt', fontsize=14)\n",
    "                    plt.ylim([0, max( eval(y_val) )+1])\n",
    "                    \n",
    "                    dcp.make_folders(\"../../Figs/curve_fitting/MultiCurves/Power/pieces{0}/param{1}/\".format(piece+2, param+2))\n",
    "                    plt.savefig(\"../../Figs/curve_fitting/MultiCurves/Power/pieces{0}/param{1}/avg{2}\".format(piece+2, param+2, clt+1))\n",
    "                    dcp.make_Pickle(parameters, '../../data/pickles/Fitting/300Attempts/Power/pieces{0}/param{1}/avg{2}/params.pickle'.format(piece+2, param+2, clt+1))\n",
    "    \n",
    "disp_MultipleCurve()"
   ]
  },
  {
   "cell_type": "raw",
   "metadata": {},
   "source": [
    "x_range = np.linspace(1, 300, 300)\n",
    "x1 = x_range[:250]\n",
    "x2 = x_range[250:]\n",
    "\n",
    "y1 = avg6[:250]\n",
    "y2 = avg6[250:]\n",
    "\n",
    "lsq1 = least_squares(cv.powerlaw_least4, [1, 1, 1, 1], args=(x1, y1))\n",
    "lsq2 = least_squares(cv.powerlaw_least4, [1, 1, 1, 1], args=(x2, y2))\n",
    "\n",
    "plt.plot(attempts300, avg6, '.', c='black')\n",
    "plt.plot(x1, cv.powerlaw_curve4(x1, lsq1.x[0], lsq1.x[1], lsq1.x[2], lsq1.x[3]), linewidth=4)\n",
    "plt.plot(x2, cv.powerlaw_curve4(x2, lsq2.x[0], lsq2.x[1], lsq2.x[2], lsq2.x[3]), linewidth=4)"
   ]
  },
  {
   "cell_type": "markdown",
   "metadata": {},
   "source": [
    "# By hand for two curves\n",
    "## Two parameters"
   ]
  },
  {
   "cell_type": "code",
   "execution_count": null,
   "metadata": {
    "collapsed": false
   },
   "outputs": [],
   "source": [
    "dcp.make_folders(\"../../Figs/curve_fitting/MultiCurves/Power/pieces2/param2/\")\n",
    "\n",
    "seed = [1, 1]\n",
    "\n",
    "for i in range(nClt):\n",
    "    plt.clf()\n",
    "    \n",
    "    print(\"cluster {0}:\".format(i+1))\n",
    "    p1 = cv.multi_curveFitting_2(cv.powerlaw_least2, eval(\"avg{0}\".format(i+1)), seed, min_range=30)\n",
    "\n",
    "    x_range = np.linspace(1, 300, 300)\n",
    "    x1 = x_range[:p1]\n",
    "    x2 = x_range[p1:]\n",
    "\n",
    "    true_y1 = eval(\"avg{0}\".format(i+1))[:p1]\n",
    "    true_y2 = eval(\"avg{0}\".format(i+1))[p1:]\n",
    "\n",
    "    lsq1 = least_squares(cv.powerlaw_least2, seed, args=(x1, true_y1))\n",
    "    lsq2 = least_squares(cv.powerlaw_least2, seed, args=(x2, true_y2))\n",
    "\n",
    "    pred_y1 = cv.powerlaw_curve2(x1, lsq1.x[0], lsq1.x[1])\n",
    "    pred_y2 = cv.powerlaw_curve2(x2, lsq2.x[0], lsq2.x[1])\n",
    "\n",
    "    print(\" - break point: {0}\".format(p1))\n",
    "    ## save figures\n",
    "    \n",
    "    plt.plot(attempts300, eval(\"avg{0}\".format(i+1)), '.', c='black', label='average score')\n",
    "    plt.plot(x1, pred_y1, '-', c = 'blue', linewidth=5)\n",
    "    plt.plot(x2, pred_y2, '-', c = 'red', linewidth=5)\n",
    "    plt.plot([p1]*50, np.linspace(0, max(eval(\"avg{0}\".format(i+1)))+2, 50), '-.', c='black', linewidth=1)\n",
    "\n",
    "\n",
    "    plt.title(\"Power (cluster:{0}, cost:{1})\".format(i+1, round(lsq1.cost+lsq2.cost, 2)))\n",
    "    plt.ylim([0, max( eval(\"avg{0}\".format(i+1)) )+1])\n",
    "    plt.ylabel('Score', fontsize=14)\n",
    "    plt.xlabel('Attempt', fontsize=14)\n",
    "    \n",
    "    plt.savefig(\"../../Figs/curve_fitting/MultiCurves/Power/pieces2/param2/avg{0}\".format(i+1), dpi=100)\n",
    "    \n",
    "    dcp.make_folders('../../data/pickles/Fitting/300Attempts/Power/pieces2/param2/avg{0}'.format(i+1))\n",
    "    dcp.make_Pickle(lsq1.cost+lsq2.cost, '../../data/pickles/Fitting/300Attempts/Power/pieces2/param2/avg{0}/cost.pickle'.format(i+1), force=True)\n",
    "    print(np.hstack((lsq1.x, lsq2.x)))\n",
    "    dcp.make_Pickle(np.hstack((lsq1.x, lsq2.x)), '../../data/pickles/Fitting/300Attempts/Power/pieces2/param2/avg{0}/params.pickle'.format(i+1), force=True)"
   ]
  },
  {
   "cell_type": "markdown",
   "metadata": {},
   "source": [
    "## Three parameters"
   ]
  },
  {
   "cell_type": "code",
   "execution_count": null,
   "metadata": {
    "collapsed": false
   },
   "outputs": [],
   "source": [
    "dcp.make_folders(\"../../Figs/curve_fitting/MultiCurves/Power/pieces2/param3/\")\n",
    "\n",
    "seed = [1, 1, 1]\n",
    "\n",
    "for i in range(nClt):\n",
    "    plt.clf()\n",
    "    \n",
    "    print(\"cluster {0}:\".format(i+1))\n",
    "    p1 = cv.multi_curveFitting_2(cv.powerlaw_least3, eval(\"avg{0}\".format(i+1)), seed, min_range=30)\n",
    "\n",
    "    x_range = np.linspace(1, 300, 300)\n",
    "    x1 = x_range[:p1]\n",
    "    x2 = x_range[p1:]\n",
    "\n",
    "    true_y1 = eval(\"avg{0}\".format(i+1))[:p1]\n",
    "    true_y2 = eval(\"avg{0}\".format(i+1))[p1:]\n",
    "\n",
    "    lsq1 = least_squares(cv.powerlaw_least3, seed, args=(x1, true_y1))\n",
    "    lsq2 = least_squares(cv.powerlaw_least3, seed, args=(x2, true_y2))\n",
    "\n",
    "    pred_y1 = cv.powerlaw_curve3(x1, lsq1.x[0], lsq1.x[1], lsq1.x[2])\n",
    "    pred_y2 = cv.powerlaw_curve3(x2, lsq2.x[0], lsq2.x[1], lsq2.x[2])\n",
    "\n",
    "    print(\" - break point: {0}\".format(p1))\n",
    "    ## save figures\n",
    "    \n",
    "    plt.plot(attempts300, eval(\"avg{0}\".format(i+1)), '.', c='black', label='average score')\n",
    "    plt.plot(x1, pred_y1, '-', c = 'blue', linewidth=5)\n",
    "    plt.plot(x2, pred_y2, '-', c = 'red', linewidth=5)\n",
    "    plt.plot([p1]*50, np.linspace(0, max(eval(\"avg{0}\".format(i+1)))+2, 50), '-.', c='black', linewidth=1)\n",
    "\n",
    "\n",
    "    plt.title(\"Power (cluster:{0}, cost:{1})\".format(i+1, round(lsq1.cost+lsq2.cost, 2)))\n",
    "    plt.ylim([0, max( eval(\"avg{0}\".format(i+1)) )+1])\n",
    "    plt.ylabel('Score', fontsize=14)\n",
    "    plt.xlabel('Attempt', fontsize=14)\n",
    "    \n",
    "    plt.savefig(\"../../Figs/curve_fitting/MultiCurves/Power/pieces2/param3/avg{0}\".format(i+1), dpi=100)\n",
    "    \n",
    "    dcp.make_folders('../../data/pickles/Fitting/300Attempts/Power/pieces2/param3/avg{0}'.format(i+1))\n",
    "    dcp.make_Pickle(lsq1.cost+lsq2.cost, '../../data/pickles/Fitting/300Attempts/Power/pieces2/param3/avg{0}/cost.pickle'.format(i+1), force=True)\n",
    "    #print(np.hstack((lsq1.x, lsq2.x)))\n",
    "    dcp.make_Pickle(np.hstack((lsq1.x, lsq2.x)), '../../data/pickles/Fitting/300Attempts/Power/pieces2/param3/avg{0}/params.pickle'.format(i+1), force=True)"
   ]
  },
  {
   "cell_type": "markdown",
   "metadata": {},
   "source": [
    "## Four parameters"
   ]
  },
  {
   "cell_type": "code",
   "execution_count": null,
   "metadata": {
    "collapsed": false
   },
   "outputs": [],
   "source": [
    "dcp.make_folders(\"../../Figs/curve_fitting/MultiCurves/Power/pieces2/param4/\")\n",
    "\n",
    "seed = [1, 1, 1, 1]\n",
    "\n",
    "for i in range(nClt):\n",
    "    plt.clf()\n",
    "    \n",
    "    print(\"cluster {0}:\".format(i+1))\n",
    "    p1 = cv.multi_curveFitting_2(cv.powerlaw_least4, eval(\"avg{0}\".format(i+1)), seed, min_range=30)\n",
    "\n",
    "    x_range = np.linspace(1, 300, 300)\n",
    "    x1 = x_range[:p1]\n",
    "    x2 = x_range[p1:]\n",
    "\n",
    "    true_y1 = eval(\"avg{0}\".format(i+1))[:p1]\n",
    "    true_y2 = eval(\"avg{0}\".format(i+1))[p1:]\n",
    "\n",
    "    lsq1 = least_squares(cv.powerlaw_least4, seed, args=(x1, true_y1))\n",
    "    lsq2 = least_squares(cv.powerlaw_least4, seed, args=(x2, true_y2))\n",
    "\n",
    "    pred_y1 = cv.powerlaw_curve4(x1, lsq1.x[0], lsq1.x[1], lsq1.x[2], lsq1.x[3])\n",
    "    pred_y2 = cv.powerlaw_curve4(x2, lsq2.x[0], lsq2.x[1], lsq2.x[2], lsq2.x[3])\n",
    "\n",
    "    print(\" - break point: {0}\".format(p1))\n",
    "    ## save figures\n",
    "    \n",
    "    plt.plot(attempts300, eval(\"avg{0}\".format(i+1)), '.', c='black', label='average score')\n",
    "    plt.plot(x1, pred_y1, '-', c = 'blue', linewidth=5)\n",
    "    plt.plot(x2, pred_y2, '-', c = 'red', linewidth=5)\n",
    "    plt.plot([p1]*50, np.linspace(0, max(eval(\"avg{0}\".format(i+1)))+2, 50), '-.', c='black', linewidth=1)\n",
    "\n",
    "\n",
    "    plt.title(\"Power (cluster:{0}, cost:{1})\".format(i+1, round(lsq1.cost+lsq2.cost, 2)))\n",
    "    plt.ylim([0, max( eval(\"avg{0}\".format(i+1)) )+1])\n",
    "    plt.ylabel('Score', fontsize=14)\n",
    "    plt.xlabel('Attempt', fontsize=14)\n",
    "    \n",
    "    plt.savefig(\"../../Figs/curve_fitting/MultiCurves/Power/pieces2/param4/avg{0}\".format(i+1), dpi=100)\n",
    "    dcp.make_Pickle(lsq1.cost+lsq2.cost, '../../data/pickles/Fitting/300Attempts/Power/pieces2/param4/avg{0}/cost.pickle'.format(i+1), force=True)\n",
    "    #print(np.hstack((lsq1.x, lsq2.x)))\n",
    "    dcp.make_Pickle(np.hstack((lsq1.x, lsq2.x)), '../../data/pickles/Fitting/300Attempts/Power/pieces2/param4/avg{0}/params.pickle'.format(i+1), force=True)"
   ]
  },
  {
   "cell_type": "markdown",
   "metadata": {},
   "source": [
    "# Elbow"
   ]
  },
  {
   "cell_type": "code",
   "execution_count": 2,
   "metadata": {
    "collapsed": false
   },
   "outputs": [
    {
     "name": "stdout",
     "output_type": "stream",
     "text": [
      "../../Figs/curve_fitting/MultiCurves/Power/Elbow/ already present - Skipping pickling.\n",
      "0\n",
      "1\n",
      "2\n",
      "3\n",
      "4\n",
      "5\n",
      "6\n",
      "7\n",
      "8\n",
      "9\n",
      "10\n",
      "11\n",
      "12\n"
     ]
    },
    {
     "data": {
      "text/plain": [
       "<matplotlib.figure.Figure at 0x10d2ea8d0>"
      ]
     },
     "metadata": {},
     "output_type": "display_data"
    }
   ],
   "source": [
    "import DC_Pickle as dcp\n",
    "import numpy as np\n",
    "import math\n",
    "import matplotlib.pyplot as plt\n",
    "%matplotlib inline\n",
    "\n",
    "dcp.make_folders(\"../../Figs/curve_fitting/MultiCurves/Power/Elbow/\")\n",
    "\n",
    "for clt in range(13): # for clusters (avg)\n",
    "    print(clt)\n",
    "    for param in range(3): # for parameters\n",
    "        Elbow = []\n",
    "        new_loss = []\n",
    "        x_piece = np.linspace(1, 9, 9)+1\n",
    "        for piece in range(9): # for pieces\n",
    "            loss = dcp.open_Pickle('../../data/pickles/Fitting/300Attempts/Power/pieces{0}/param{1}/avg{2}/cost.pickle'.format(piece+2, param+2, clt+1))\n",
    "            parameters = dcp.open_Pickle('../../data/pickles/Fitting/300Attempts/Power/pieces{0}/param{1}/avg{2}/params.pickle'.format(piece+2, param+2, clt+1))\n",
    "\n",
    "            Elbow.append(loss)\n",
    "            #sqr_sum = np.sum(parameters**2)\n",
    "            \n",
    "            new_loss.append(loss + 0.05*loss*(piece+1))\n",
    "            #print(Elbow, new_loss)\n",
    "\n",
    "        plt.plot(x_piece, Elbow, '.', c='darkgreen')\n",
    "        plt.plot(x_piece, Elbow, '-', c='g', label=\"Elbow\", linewidth=3)\n",
    "\n",
    "        #new_loss = Elbow + (piece+1)*np.sum(parameters**2) * (max(loss)/max(parameters)) )\n",
    "        plt.plot(x_piece, new_loss, '.', c='darkred')\n",
    "        plt.plot(x_piece, new_loss, '-', c='r', label=\"Regularisation\")\n",
    "\n",
    "        plt.legend()\n",
    "\n",
    "\n",
    "        plt.title(\"Cluster {0} with {1} Parameters\".format(clt+1, param+2))\n",
    "        #plt.ylim([0, max(new_loss)+10])\n",
    "\n",
    "        plt.savefig(\"../../Figs/curve_fitting/MultiCurves/Power/Elbow/avg{0}_{1}param\".format(clt+1, param+2), dpi=100)\n",
    "        plt.clf()"
   ]
  }
 ],
 "metadata": {
  "kernelspec": {
   "display_name": "Python 3",
   "language": "python",
   "name": "python3"
  },
  "language_info": {
   "codemirror_mode": {
    "name": "ipython",
    "version": 3
   },
   "file_extension": ".py",
   "mimetype": "text/x-python",
   "name": "python",
   "nbconvert_exporter": "python",
   "pygments_lexer": "ipython3",
   "version": "3.5.1"
  }
 },
 "nbformat": 4,
 "nbformat_minor": 0
}
