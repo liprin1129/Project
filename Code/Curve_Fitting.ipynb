{
 "cells": [
  {
   "cell_type": "markdown",
   "metadata": {},
   "source": [
    "# Function Fitting"
   ]
  },
  {
   "cell_type": "code",
   "execution_count": 1,
   "metadata": {
    "collapsed": false
   },
   "outputs": [],
   "source": [
    "import numpy as np\n",
    "from scipy.optimize import curve_fit\n",
    "from scipy.optimize import least_squares\n",
    "import DC_Pickle as dcp\n",
    "import Curve_Functions as cv\n",
    "import matplotlib.pyplot as plt\n",
    "%matplotlib inline\n",
    "\n",
    "def disp_Data(x, y_true, y_pred, file_path, clt_num, cost, rows=1, columns=1, size=(6, 4)):\n",
    "    fig, ax = plt.subplots(rows, columns, figsize=size)\n",
    "    ax.plot(x, y_true, 'rx', label='average score')\n",
    "    ax.plot(x, y_pred, 'b-', label='curve fitting')\n",
    "    ax.set_xlim([0, max(x)+1])\n",
    "    ax.set_ylim([0, max(y_true)+0.2])\n",
    "    ax.legend(fontsize=14)\n",
    "    ax.set_title(\"cluster {0}: cost {1}\".format(clt_num, round(cost, 2)))\n",
    "    fig.savefig(file_path, dpi=100)\n",
    "    plt.show()"
   ]
  },
  {
   "cell_type": "markdown",
   "metadata": {},
   "source": [
    "## load data"
   ]
  },
  {
   "cell_type": "code",
   "execution_count": 2,
   "metadata": {
    "collapsed": false
   },
   "outputs": [
    {
     "name": "stdout",
     "output_type": "stream",
     "text": [
      "Training data set: (300, 22832)\n"
     ]
    }
   ],
   "source": [
    "train_idx = dcp.open_Pickle(\"../../data/pickles/clusters_origin/indices/index13.pickle\")\n",
    "train_idx = train_idx[9] #2, 8\n",
    "\n",
    "train_scores = dcp.open_Pickle('../../data/pickles/seperate_origin/eventValue.pickle')\n",
    "train_scores = train_scores[:300, :]/1e+4\n",
    "attempts15 = np.arange(15)+1\n",
    "attempts300 = np.arange(300)+1\n",
    "\n",
    "## filtering discontinuous under 15 attempts\n",
    "idx_all = []\n",
    "idx_pure = []\n",
    "\n",
    "for i in range(train_scores.shape[1]):\n",
    "    if not np.isnan(train_scores[:15, i]).any():\n",
    "        idx_all.append(i)\n",
    "        idx_pure.append(i)\n",
    "    else:\n",
    "        idx_all.append(np.nan)\n",
    "\n",
    "train_scores = train_scores[:, idx_pure]\n",
    "print(\"Training data set: {0}\".format(np.shape(train_scores)))"
   ]
  },
  {
   "cell_type": "code",
   "execution_count": 3,
   "metadata": {
    "collapsed": false
   },
   "outputs": [],
   "source": [
    "## get cluster data and cluster average data (average is centroid)\n",
    "nClt = 13\n",
    "for i in range(nClt):\n",
    "    name = \"cluster{0}\".format(i+1)\n",
    "    globals()[name] = train_scores[:, train_idx==i] # get cluster data\n",
    "    \n",
    "    ## get cluster average data\n",
    "    data = np.ones(300)\n",
    "    for j in range(len(data)):\n",
    "        avg = eval(name)[j, :]\n",
    "        avg = np.sum(avg[~np.isnan(avg)])/len(avg[~np.isnan(avg)])\n",
    "        data[j] = avg\n",
    "\n",
    "    globals()[\"avg{0}\".format(i+1)] = data"
   ]
  },
  {
   "cell_type": "raw",
   "metadata": {},
   "source": [
    "import pandas as pd\n",
    "print(avg1)\n",
    "df = pd.DataFrame(avg1)\n",
    "df.to_csv('test.csv')"
   ]
  },
  {
   "cell_type": "markdown",
   "metadata": {},
   "source": [
    "## make folder for each function"
   ]
  },
  {
   "cell_type": "code",
   "execution_count": null,
   "metadata": {
    "collapsed": false
   },
   "outputs": [],
   "source": [
    "dcp.make_folders(\"Figs/curve_fitting/\")"
   ]
  },
  {
   "cell_type": "markdown",
   "metadata": {},
   "source": [
    "## exponential fit"
   ]
  },
  {
   "cell_type": "markdown",
   "metadata": {},
   "source": [
    "### Two parameters"
   ]
  },
  {
   "cell_type": "markdown",
   "metadata": {},
   "source": [
    "#### train on 15 attempts"
   ]
  },
  {
   "cell_type": "code",
   "execution_count": null,
   "metadata": {
    "collapsed": false,
    "scrolled": true
   },
   "outputs": [],
   "source": [
    "dcp.make_folders(\"Figs/curve_fitting/exponential2\")\n",
    "\n",
    "seed = [1, 1]\n",
    "for i in range(nClt):\n",
    "    print(\"cluster {0}:\".format(i+1))\n",
    "    ## train\n",
    "    exp2_opt, exp2_cost = cv.curve_Fitting(\n",
    "        cv.exponential_least2, cv.exponential_curve2, \n",
    "        attempts15, eval(\"avg{0}\".format(i+1))[:15], seed, \n",
    "        \"Figs/curve_fitting/exponential2/{0}\".format(i+1), clt_num = i+1)\n",
    "    ## validation\n",
    "    y_fit = cv.exponential_curve2(attempts300, exp2_opt[0], exp2_opt[1])\n",
    "    \n",
    "    exp2_cost300 = cv.cost_Function(eval(\"avg{0}\".format(i+1)), y_fit) # get cost for all data\n",
    "    \n",
    "    disp_Data(attempts300, eval(\"avg{0}\".format(i+1)), y_fit, \n",
    "              file_path=\"Figs/curve_fitting/exponential2/valid{0}\".format(i), \n",
    "              clt_num=i+1, cost = exp2_cost300)"
   ]
  },
  {
   "cell_type": "markdown",
   "metadata": {},
   "source": [
    "### Three parameters"
   ]
  },
  {
   "cell_type": "markdown",
   "metadata": {},
   "source": [
    "#### train on 15 attempts"
   ]
  },
  {
   "cell_type": "code",
   "execution_count": null,
   "metadata": {
    "collapsed": false,
    "scrolled": true
   },
   "outputs": [],
   "source": [
    "dcp.make_folders(\"Figs/curve_fitting/exponential3\")\n",
    "\n",
    "seed = [1, 1, 1]\n",
    "for i in range(nClt):\n",
    "    print(\"cluster {0}:\".format(i+1))\n",
    "    exp3_opt, exp3_cost = cv.curve_Fitting(\n",
    "        cv.exponential_least3, cv.exponential_curve3, \n",
    "        attempts15, eval(\"avg{0}\".format(i+1))[:15], seed,\n",
    "        \"Figs/curve_fitting/exponential3/{0}\".format(i+1), clt_num = i+1)\n",
    "\n",
    "    y_fit = cv.exponential_curve3(attempts300, exp3_opt[0], exp3_opt[1], exp3_opt[2])\n",
    "    exp3_cost300 = cv.cost_Function(eval(\"avg{0}\".format(i+1)), y_fit) # get cost for all data\n",
    "    \n",
    "    cost300 = cv.cost_Function(attempts300, y_fit)\n",
    "    disp_Data(attempts300, eval(\"avg{0}\".format(i+1)), y_fit, \n",
    "              file_path=\"Figs/curve_fitting/exponential3/valid{0}\".format(i), \n",
    "              clt_num=i+1, cost = exp3_cost300)"
   ]
  },
  {
   "cell_type": "markdown",
   "metadata": {},
   "source": [
    "### polynoimial fit"
   ]
  },
  {
   "cell_type": "code",
   "execution_count": null,
   "metadata": {
    "collapsed": false,
    "scrolled": true
   },
   "outputs": [],
   "source": [
    "dcp.make_folders(\"Figs/curve_fitting/polynomial2\")\n",
    "\n",
    "seed = [1, 1]\n",
    "for i in range(nClt):\n",
    "    print(\"cluster {0}:\".format(i+1))\n",
    "    poly_opt, poly_cost = cv.curve_Fitting(\n",
    "        cv.polynomial_least, cv.polynomial_curve, \n",
    "        attempts15, eval(\"avg{0}\".format(i+1))[:15], seed,\n",
    "        \"Figs/curve_fitting/polynomial2/{0}\".format(i+1), clt_num = i+1)\n",
    "\n",
    "    y_fit = cv.polynomial_curve(attempts300, poly_opt[0], poly_opt[1])\n",
    "    \n",
    "    poly_cost300 = cv.cost_Function(eval(\"avg{0}\".format(i+1)), y_fit) # get cost for all data\n",
    "    disp_Data(attempts300, eval(\"avg{0}\".format(i+1)), y_fit, \n",
    "              file_path=\"Figs/curve_fitting/polynomial2/valid{0}\".format(i), \n",
    "              clt_num=i+1, cost = poly_cost300)"
   ]
  },
  {
   "cell_type": "markdown",
   "metadata": {},
   "source": [
    "### power law fit"
   ]
  },
  {
   "cell_type": "markdown",
   "metadata": {},
   "source": [
    "#### Two parameters"
   ]
  },
  {
   "cell_type": "code",
   "execution_count": null,
   "metadata": {
    "collapsed": false,
    "scrolled": true
   },
   "outputs": [],
   "source": [
    "dcp.make_folders(\"Figs/curve_fitting/powerlaw2\")\n",
    "\n",
    "seed = [1, 1]\n",
    "for i in range(nClt):\n",
    "    print(\"cluster {0}:\".format(i+1))\n",
    "    pl2_opt, pl2_cost = cv.curve_Fitting(\n",
    "        cv.powerlaw_least2, cv.powerlaw_curve2, \n",
    "        attempts15, eval(\"avg{0}\".format(i+1))[:15], seed,\n",
    "        \"Figs/curve_fitting/powerlaw2/{0}\".format(i+1), clt_num = i+1)\n",
    "    \n",
    "    y_fit = cv.powerlaw_curve2(attempts300, pl2_opt[0], pl2_opt[1])\n",
    "    pl2_cost300 = cv.cost_Function(eval(\"avg{0}\".format(i+1)), y_fit) # get cost for all data\n",
    "    \n",
    "    disp_Data(attempts300, eval(\"avg{0}\".format(i+1)), y_fit, \n",
    "              file_path=\"Figs/curve_fitting/powerlaw2/valid{0}\".format(i), \n",
    "              clt_num=i+1, cost = pl2_cost300)"
   ]
  },
  {
   "cell_type": "markdown",
   "metadata": {},
   "source": [
    "#### Thress parameters"
   ]
  },
  {
   "cell_type": "code",
   "execution_count": null,
   "metadata": {
    "collapsed": false
   },
   "outputs": [],
   "source": [
    "dcp.make_folders(\"Figs/curve_fitting/powerlaw3\")\n",
    "\n",
    "seed = [1, 1, 1]\n",
    "for i in range(nClt):\n",
    "    print(\"cluster {0}:\".format(i+1))\n",
    "    pl3_opt, pl3_cost = cv.curve_Fitting(\n",
    "        cv.powerlaw_least3, cv.powerlaw_curve3, \n",
    "        attempts15, eval(\"avg{0}\".format(i+1))[:15], seed,\n",
    "        \"Figs/curve_fitting/powerlaw3/{0}\".format(i+1), clt_num = i+1)\n",
    "    \n",
    "    y_fit = cv.powerlaw_curve3(attempts300, pl3_opt[0], pl3_opt[1], pl3_opt[2])\n",
    "    pl3_cost300 = cv.cost_Function(eval(\"avg{0}\".format(i+1)), y_fit) # get cost for all data\n",
    "    \n",
    "    disp_Data(attempts300, eval(\"avg{0}\".format(i+1)), y_fit, \n",
    "              file_path=\"Figs/curve_fitting/powerlaw3/valid{0}\".format(i), \n",
    "              clt_num=i+1, cost = pl3_cost300)"
   ]
  },
  {
   "cell_type": "markdown",
   "metadata": {},
   "source": [
    "#### Four parameters"
   ]
  },
  {
   "cell_type": "code",
   "execution_count": null,
   "metadata": {
    "collapsed": false
   },
   "outputs": [],
   "source": [
    "dcp.make_folders(\"Figs/curve_fitting/powerlaw4\")\n",
    "\n",
    "seed = [1, 1, 1, 1]\n",
    "for i in range(nClt):\n",
    "    print(\"cluster {0}:\".format(i+1))\n",
    "    pl4_opt, pl4_cost = cv.curve_Fitting(\n",
    "        cv.powerlaw_least4, cv.powerlaw_curve4, \n",
    "        attempts15, eval(\"avg{0}\".format(i+1))[:15], seed,\n",
    "        \"Figs/curve_fitting/powerlaw4/{0}\".format(i+1), clt_num = i+1)\n",
    "    \n",
    "    y_fit = cv.powerlaw_curve4(attempts300, pl4_opt[0], pl4_opt[1], pl4_opt[2], pl4_opt[3])\n",
    "    pl4_cost300 = cv.cost_Function(eval(\"avg{0}\".format(i+1)), y_fit) # get cost for all data\n",
    "    \n",
    "    disp_Data(attempts300, eval(\"avg{0}\".format(i+1)), y_fit, \n",
    "              file_path=\"Figs/curve_fitting/powerlaw4/valid{0}\".format(i), \n",
    "              clt_num=i+1, cost = pl4_cost300)"
   ]
  },
  {
   "cell_type": "markdown",
   "metadata": {},
   "source": [
    "## Multiple curves"
   ]
  },
  {
   "cell_type": "markdown",
   "metadata": {},
   "source": [
    "### exponential with three parameter"
   ]
  },
  {
   "cell_type": "raw",
   "metadata": {
    "collapsed": false
   },
   "source": [
    "seed = [1, 1, 1]\n",
    "\n",
    "for clt_num in range(13):\n",
    "    idx, cost, p1, p2 = cv.multi_Fitting2(cv.exponential_least3, clt_num, \n",
    "                                     eval(\"avg{0}\".format(clt_num+1)), seed, n_param=3)\n",
    "    \n",
    "    y_mean1 = cv.exponential_curve3(attempts300, p1[0], p1[1], p1[2])\n",
    "    y_mean2 = cv.exponential_curve3(attempts300, p2[0], p2[1], p2[2])\n",
    "    \n",
    "    fig, ax = plt.subplots(1, 1, figsize=(8, 8))\n",
    "    \n",
    "    ax.plot(attempts300, avg11, 'rx', label='average score')\n",
    "    ax.plot(attempts300[:idx], y_mean1[:idx], 'b-', label='curve 1', linewidth=3)\n",
    "    ax.plot(attempts300[idx-50:], y_mean2[idx-50:], 'g-', label='curve 2', linewidth=3)\n",
    "    \n",
    "    ax.set_ylim([0, max(avg11)+0.2])\n",
    "    ax.legend(fontsize=14)\n",
    "    ax.set_title(\"cluster {0}: cost {1}\".format(clt_num+1, round(cost, 2)))\n",
    "    \n",
    "    plt.show()\n",
    "    \n",
    "'''\n",
    "y_mean1 = cv.powerlaw_curve4(attempts300, param1[0], param1[1], param1[2], param1[3])\n",
    "y_mean2 = cv.powerlaw_curve4(attempts300, param2[0], param2[1], param2[2], param2[3])\n",
    "fig, ax = plt.subplots(1, 1, figsize=(10, 10))\n",
    "'''\n",
    "#ax.set_xlim([0, max()+1])\n",
    "\n",
    "#fig.savefig(file_path, dpi=100)\n"
   ]
  },
  {
   "cell_type": "code",
   "execution_count": null,
   "metadata": {
    "collapsed": false,
    "scrolled": true
   },
   "outputs": [],
   "source": [
    "seed = [1, 1, 1]\n",
    "m_exp3_idx1, m_exp3_idx2, m_exp3_cost = cv.multi_curveFitting_3(cv.exponential_least3, avg11, seed, n_param=3)"
   ]
  },
  {
   "cell_type": "code",
   "execution_count": null,
   "metadata": {
    "collapsed": false,
    "scrolled": true
   },
   "outputs": [],
   "source": [
    "seed = [1, 1, 1, 1]\n",
    "m_pl4_idx1, m_pl4_idx2, m_pl4_cost = cv.multi_curveFitting_3(cv.powerlaw_least4, avg11, seed, n_param=4)"
   ]
  },
  {
   "cell_type": "code",
   "execution_count": null,
   "metadata": {
    "collapsed": false
   },
   "outputs": [],
   "source": [
    "y_mean1 = cv.exponential_curve3(attempts300, p1[0], p1[1], p1[2])\n",
    "y_mean2 = cv.exponential_curve3(attempts300, p2[0], p2[1], p2[2])\n",
    "y_mean3 = cv.exponential_curve3(attempts300, p3[0], p3[1], p3[2])\n",
    "\n",
    "fig, ax = plt.subplots(1, 1, figsize=(8, 8))\n",
    "\n",
    "ax.plot(attempts300, avg11, 'rx', label='average score')\n",
    "ax.plot(attempts300[:idx1], y_mean1[:idx1], 'b-', label='curve 1', linewidth=3)\n",
    "ax.plot(attempts300[idx1:idx1+idx2], y_mean2[idx1:idx1+idx2], 'g-', label='curve 2', linewidth=3)\n",
    "ax.plot(attempts300[idx1+idx2:], y_mean3[idx1+idx2:], 'c-', label='curve 3', linewidth=3)\n",
    "\n",
    "ax.set_ylim([0, max(avg11)+0.2])\n",
    "ax.legend(fontsize=14)\n",
    "#ax.set_title(\"cluster {0}: cost {1}\".format(clt_num+1, round(cost, 2)))\n",
    "\n",
    "plt.show()\n",
    "\n",
    "print(idx1, idx2)"
   ]
  },
  {
   "cell_type": "raw",
   "metadata": {
    "collapsed": false,
    "scrolled": true
   },
   "source": [
    "def multi_curveFitting_3(least_func, avg, seed, n_param=2):\n",
    "    cost = []\n",
    "    idx_mid2 = [] # save idx2(second change)\n",
    "    x_range = np.linspace(1, 300, 300)\n",
    "    \n",
    "    param1 = np.ones((n_param, 300))*np.nan\n",
    "    param2 = np.ones((n_param, 300, 300))*np.nan\n",
    "    param3 = np.ones((n_param, 300, 300))*np.nan\n",
    "    \n",
    "    for n1 in range(300): # iteration for all data\n",
    "        print(\"iter \", n1)\n",
    "        x1 = x_range[:n1+1]\n",
    "        y1 = avg[:n1+1]\n",
    "\n",
    "        lsq1 = least_squares(least_func, seed, args=(x1, y1))\n",
    "        cost1 = lsq1.cost\n",
    "        param1[:, n1] = lsq1.x \n",
    "        \n",
    "        cost_remain = []        \n",
    "        for n2 in range(300-n1):\n",
    "            x2 = x_range[n1+1:n2+n1+2]\n",
    "            x3 = x_range[n1+n2+2:]\n",
    "            # print(\"x1:{0}, x2:{1}, x3:{2}\".format(x1, x2, x3))\n",
    "\n",
    "            y2 = avg[n1+1:n1+n2+2]\n",
    "            y3 = avg[n1+n2+2:]\n",
    "            \n",
    "            lsq2 = least_squares(least_func, seed, args=(x2, y2))\n",
    "            lsq3 = least_squares(least_func, seed, args=(x3, y3))\n",
    "    \n",
    "            cost_remain.append(lsq2.cost+lsq3.cost)\n",
    "\n",
    "            param2[:, n1, n2] = lsq2.x\n",
    "            param3[:, n1, n2] = lsq3.x\n",
    "    \n",
    "        idx2 = np.argmin(cost_remain)\n",
    "        idx_mid2.append(idx2)\n",
    "        cost.append(cost1+cost_remain[idx2])\n",
    "    \n",
    "    idx1 = np.argmin(cost)\n",
    "    idx2 = idx_mid2[idx1]\n",
    "    \n",
    "    return idx1, idx2, cost[idx1], param1[:, idx1], param2[:, idx1, idx2], param3[:, idx1, idx2]\n",
    "\n",
    "seed = [1, 1, 1]\n",
    "idx1, idx2, cost, p1, p2, p3 = multi_curveFitting_3(cv.exponential_least3, avg11, seed, n_param=3)"
   ]
  },
  {
   "cell_type": "code",
   "execution_count": 37,
   "metadata": {
    "collapsed": false,
    "scrolled": true
   },
   "outputs": [
    {
     "name": "stdout",
     "output_type": "stream",
     "text": [
      "\n",
      " - iter0\n",
      "iter 0-0\n",
      "iter 0-1\n",
      "iter 0-2\n",
      "iter 0-3\n",
      "iter 0-4\n",
      "iter 0-5\n",
      "iter 0-6\n",
      "iter 0-7\n",
      "iter 0-8\n",
      "iter 0-9\n",
      "iter 0-10\n",
      "iter 0-11\n",
      "iter 0-12\n",
      "\n",
      " - iter1\n",
      "iter 1-0\n",
      "iter 1-1\n",
      "iter 1-2\n",
      "iter 1-3\n",
      "iter 1-4\n",
      "iter 1-5\n",
      "iter 1-6\n",
      "iter 1-7\n",
      "iter 1-8\n",
      "iter 1-9\n",
      "iter 1-10\n",
      "iter 1-11\n",
      "\n",
      " - iter2\n",
      "iter 2-0\n",
      "iter 2-1\n",
      "iter 2-2\n",
      "iter 2-3\n",
      "iter 2-4\n",
      "iter 2-5\n",
      "iter 2-6\n",
      "iter 2-7\n",
      "iter 2-8\n",
      "iter 2-9\n",
      "iter 2-10\n",
      "\n",
      " - iter3\n",
      "iter 3-0\n",
      "iter 3-1\n",
      "iter 3-2\n",
      "iter 3-3\n",
      "iter 3-4\n",
      "iter 3-5\n",
      "iter 3-6\n",
      "iter 3-7\n",
      "iter 3-8\n",
      "iter 3-9\n",
      "\n",
      " - iter4\n",
      "iter 4-0\n",
      "iter 4-1\n",
      "iter 4-2\n",
      "iter 4-3\n",
      "iter 4-4\n",
      "iter 4-5\n",
      "iter 4-6\n",
      "iter 4-7\n",
      "iter 4-8\n",
      "\n",
      " - iter5\n",
      "iter 5-0\n",
      "iter 5-1\n",
      "iter 5-2\n",
      "iter 5-3\n",
      "iter 5-4\n",
      "iter 5-5\n",
      "iter 5-6\n",
      "iter 5-7\n",
      "\n",
      " - iter6\n",
      "iter 6-0\n",
      "iter 6-1\n",
      "iter 6-2\n",
      "iter 6-3\n",
      "iter 6-4\n",
      "iter 6-5\n",
      "iter 6-6\n",
      "\n",
      " - iter7\n",
      "iter 7-0\n",
      "iter 7-1\n",
      "iter 7-2\n",
      "iter 7-3\n",
      "iter 7-4\n",
      "iter 7-5\n",
      "\n",
      " - iter8\n",
      "iter 8-0\n",
      "iter 8-1\n",
      "iter 8-2\n",
      "iter 8-3\n",
      "iter 8-4\n",
      "\n",
      " - iter9\n",
      "iter 9-0\n",
      "iter 9-1\n",
      "iter 9-2\n",
      "iter 9-3\n",
      "\n",
      " - iter10\n",
      "iter 10-0\n",
      "iter 10-1\n",
      "iter 10-2\n",
      "\n",
      " - iter11\n",
      "iter 11-0\n",
      "iter 11-1\n",
      "\n",
      " - iter12\n",
      "iter 12-0\n",
      "200 220\n"
     ]
    }
   ],
   "source": [
    "def multi_curveFitting_3(least_func, avg, seed, n_curve=2):\n",
    "    cost = []\n",
    "    break_point2 = []\n",
    "    #idx_mid2 = [] # save idx2(second change)\n",
    "    \n",
    "    x_range = np.linspace(1, 300, 300)\n",
    "    min_range = 20 # minimum x_range\n",
    "    \n",
    "    end1 = 0\n",
    "    end2 = 0\n",
    "\n",
    "    first_idx = []\n",
    "    for n in range(int(300/min_range) - 2): # iteration for all data\n",
    "        print(\"\\n - iter{0}\".format(n))\n",
    "        x_idx = 0\n",
    "        if x_idx == 0:\n",
    "            end1 = min_range*(n+1) # caculate the first range limit\n",
    "            x1 = x_range[:end1]\n",
    "            y1 = avg[:end1]\n",
    "            lsq1 = least_squares(least_func, seed, args=(x1, y1))\n",
    "            #print('x1', x1)\n",
    "            first_idx.append(end1)\n",
    "        \n",
    "        second_idx = []\n",
    "        second_cost = []\n",
    "        for j in range(int( (300-(min_range*(n+2))) / min_range) ): # iteration for 2nd and 3rd x_range\n",
    "            print(\"iter {0}-{1}\".format(n, j))\n",
    "            end2 = min_range*(j+1) + end1 # caculate the second range limit\n",
    "            x2 = x_range[end1:end2]\n",
    "            y2 = avg[end1:end2]\n",
    "            lsq2 = least_squares(least_func, seed, args=(x2, y2))\n",
    "            #print('x2', x2)\n",
    "            \n",
    "            x3 = x_range[end2:]\n",
    "            y3 = avg[end2:]\n",
    "            lsq3 = least_squares(least_func, seed, args=(x3, y3))\n",
    "            #print('x3', x3)\n",
    "\n",
    "            second_idx.append(end2) # save 2nd break points\n",
    "            second_cost.append(lsq1.cost + lsq2.cost + lsq3.cost) # save costs\n",
    "        \n",
    "        break_point2.append(second_idx[np.argmin(second_cost)]) # get index where cost of remained x_ranges is minimum\n",
    "        cost.append(second_cost) # save costs\n",
    "        \n",
    "    point1 = np.argmin(cost) # get array index of cost is minimum\n",
    "    point2 = break_point2[point1] # get index of 2nd break point\n",
    "            \n",
    "    return min_range*(point1+1), point2\n",
    "\n",
    "seed = [1, 1, 1, 1]\n",
    "p1, p2 = multi_curveFitting_3(cv.powerlaw_least3, avg2, seed, n_curve=3)\n",
    "\n",
    "print(p1, p2)"
   ]
  },
  {
   "cell_type": "code",
   "execution_count": 38,
   "metadata": {
    "collapsed": false
   },
   "outputs": [
    {
     "data": {
      "image/png": "[encoded data removed]",
      "text/plain": [
       "<matplotlib.figure.Figure at 0x117637780>"
      ]
     },
     "metadata": {},
     "output_type": "display_data"
    }
   ],
   "source": [
    "x_range = np.linspace(1, 300, 300)\n",
    "x1 = x_range[:p1]\n",
    "x2 = x_range[p1:p2]\n",
    "x3 = x_range[p2:]\n",
    "\n",
    "true_y1 = avg2[:p1]\n",
    "true_y2 = avg2[p1:p2]\n",
    "true_y3 = avg2[p2:]\n",
    "\n",
    "lsq1 = least_squares(cv.powerlaw_least3, seed, args=(x1, true_y1))\n",
    "lsq2 = least_squares(cv.powerlaw_least3, seed, args=(x2, true_y2))\n",
    "lsq3 = least_squares(cv.powerlaw_least3, seed, args=(x3, true_y3))\n",
    "\n",
    "'''\n",
    "pred_y1 = cv.powerlaw_curve4(attempts300, lsq1.x[0], lsq1.x[1], lsq1.x[2], lsq1.x[3])\n",
    "pred_y2 = cv.powerlaw_curve4(attempts300, lsq2.x[0], lsq2.x[1], lsq2.x[2], lsq1.x[3])\n",
    "pred_y3 = cv.powerlaw_curve4(attempts300, lsq3.x[0], lsq3.x[1], lsq3.x[2], lsq1.x[3])\n",
    "'''\n",
    "pred_y1 = cv.powerlaw_curve3(x_range[:p1+20], lsq1.x[0], lsq1.x[1], lsq1.x[2])\n",
    "pred_y2 = cv.powerlaw_curve3(x_range[:p2+20], lsq2.x[0], lsq2.x[1], lsq2.x[2])\n",
    "pred_y3 = cv.powerlaw_curve3(x_range, lsq3.x[0], lsq3.x[1], lsq3.x[2])\n",
    "\n",
    "fig, ax = plt.subplots(1, 1, figsize=(8, 8))\n",
    "\n",
    "ax.plot(attempts300, avg11, 'rx', label='average score')\n",
    "ax.plot(x_range[:p1+20], pred_y1, 'b-', label='curve 1', linewidth=3)\n",
    "ax.plot(x_range[:p2+20], pred_y2, 'g-', label='curve 2', linewidth=3)\n",
    "ax.plot(x_range, pred_y3, 'c-', label='curve 3', linewidth=3)\n",
    "\n",
    "ax.set_ylim([0, max(avg11)+0.2])\n",
    "ax.legend(fontsize=14)\n",
    "#ax.set_title(\"cluster {0}: cost {1}\".format(clt_num+1, round(cost, 2)))\n",
    "\n",
    "plt.show()"
   ]
  }
 ],
 "metadata": {
  "anaconda-cloud": {},
  "kernelspec": {
   "display_name": "Python 3",
   "language": "python",
   "name": "python3"
  },
  "language_info": {
   "codemirror_mode": {
    "name": "ipython",
    "version": 3
   },
   "file_extension": ".py",
   "mimetype": "text/x-python",
   "name": "python",
   "nbconvert_exporter": "python",
   "pygments_lexer": "ipython3",
   "version": "3.5.1"
  }
 },
 "nbformat": 4,
 "nbformat_minor": 0
}
