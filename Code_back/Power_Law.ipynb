{
 "cells": [
  {
   "cell_type": "markdown",
   "metadata": {},
   "source": [
    "# Load Data"
   ]
  },
  {
   "cell_type": "code",
   "execution_count": null,
   "metadata": {
    "collapsed": false
   },
   "outputs": [],
   "source": [
    "import numpy as np\n",
    "from scipy.optimize import curve_fit\n",
    "from scipy.optimize import least_squares\n",
    "import DC_Pickle as dcp\n",
    "import Curve_Functions as cv\n",
    "import matplotlib.pyplot as plt\n",
    "%matplotlib inline\n",
    "\n",
    "def disp_Data(x, y_true, y_pred, file_path, clt_num, cost, rows=1, columns=1, size=(6, 4)):\n",
    "    fig, ax = plt.subplots(rows, columns, figsize=size)\n",
    "    ax.plot(x, y_true, 'rx', label='average score')\n",
    "    ax.plot(x, y_pred, 'b-', label='curve fitting')\n",
    "    ax.set_xlim([0, max(x)+1])\n",
    "    ax.set_ylim([0, max(y_true)+0.2])\n",
    "    ax.legend(fontsize=14)\n",
    "    ax.set_title(\"cluster {0}: cost {1}\".format(clt_num, round(cost, 2)))\n",
    "    fig.savefig(file_path, dpi=100)\n",
    "    plt.show()\n",
    "    \n",
    "train_idx = dcp.open_Pickle(\"../../data/pickles/clusters_origin/indices/index13.pickle\")\n",
    "train_idx = train_idx[9] #2, 8\n",
    "\n",
    "train_scores = dcp.open_Pickle('../../data/pickles/seperate_origin/eventValue.pickle')\n",
    "train_scores = train_scores[:300, :]/1e+4\n",
    "attempts15 = np.arange(15)+1\n",
    "attempts300 = np.arange(300)+1\n",
    "\n",
    "## filtering discontinuous under 15 attempts\n",
    "idx_all = []\n",
    "idx_pure = []\n",
    "\n",
    "for i in range(train_scores.shape[1]):\n",
    "    if not np.isnan(train_scores[:15, i]).any():\n",
    "        idx_all.append(i)\n",
    "        idx_pure.append(i)\n",
    "    else:\n",
    "        idx_all.append(np.nan)\n",
    "\n",
    "train_scores = train_scores[:, idx_pure]\n",
    "print(\"Training data set: {0}\".format(np.shape(train_scores)))\n",
    "\n",
    "## get cluster data and cluster average data (average is centroid)\n",
    "nClt = 13\n",
    "for i in range(nClt):\n",
    "    name = \"cluster{0}\".format(i+1)\n",
    "    globals()[name] = train_scores[:, train_idx==i] # get cluster data\n",
    "    \n",
    "    ## get cluster average data\n",
    "    data = np.ones(300)\n",
    "    for j in range(len(data)):\n",
    "        avg = eval(name)[j, :]\n",
    "        avg = np.sum(avg[~np.isnan(avg)])/len(avg[~np.isnan(avg)])\n",
    "        data[j] = avg\n",
    "\n",
    "    globals()[\"avg{0}\".format(i+1)] = data\n",
    "    \n",
    "dcp.make_folders(\"../../Figs/curve_fitting/\")"
   ]
  },
  {
   "cell_type": "markdown",
   "metadata": {},
   "source": [
    "# 1. Single Curve\n",
    "## 1-1. Two parameters"
   ]
  },
  {
   "cell_type": "code",
   "execution_count": null,
   "metadata": {
    "collapsed": false,
    "scrolled": true
   },
   "outputs": [],
   "source": [
    "dcp.make_folders(\"../../Figs/curve_fitting/powerlaw2/single/\")\n",
    "\n",
    "seed = [1, 1]\n",
    "for i in range(nClt):\n",
    "    print(\"cluster {0}:\".format(i+1))\n",
    "    pl2_opt, pl2_cost = cv.curve_Fitting(\n",
    "        cv.powerlaw_least2, cv.powerlaw_curve2, \n",
    "        attempts15, eval(\"avg{0}\".format(i+1))[:15], seed,\n",
    "        \"../../Figs/curve_fitting/powerlaw2/single/sample{0}\".format(i+1), clt_num = i+1)\n",
    "    \n",
    "    true_opt, true_cost = cv.curve_Fitting(\n",
    "        cv.powerlaw_least2, cv.powerlaw_curve2, \n",
    "        attempts300, eval(\"avg{0}\".format(i+1)), seed,\n",
    "        \"../../Figs/curve_fitting/powerlaw2/single/dummy\", clt_num = i+1)\n",
    "    \n",
    "    y_fit_valid = cv.powerlaw_curve2(attempts300, pl2_opt[0], pl2_opt[1])\n",
    "    y_fit_true = cv.powerlaw_curve2(attempts300, true_opt[0], true_opt[1])\n",
    "    \n",
    "    pl2_cost_valid = cv.cost_Function(eval(\"avg{0}\".format(i+1)), y_fit_valid) # get cost for all data\n",
    "    pl2_cost_ture = cv.cost_Function(eval(\"avg{0}\".format(i+1)), y_fit_true) # get cost for all data\n",
    "    \n",
    "    disp_Data(attempts300, eval(\"avg{0}\".format(i+1)), y_fit_valid, \n",
    "              file_path=\"../../Figs/curve_fitting/powerlaw2/single/valid{0}\".format(i+1), \n",
    "              clt_num=i+1, cost = pl2_cost_valid)\n",
    "\n",
    "    disp_Data(attempts300, eval(\"avg{0}\".format(i+1)), y_fit_true, \n",
    "              file_path=\"../../Figs/curve_fitting/powerlaw2/single/true{0}\".format(i+1), \n",
    "              clt_num=i+1, cost = pl2_cost_ture)"
   ]
  },
  {
   "cell_type": "markdown",
   "metadata": {},
   "source": [
    "## 1-2. Three parameters"
   ]
  },
  {
   "cell_type": "code",
   "execution_count": null,
   "metadata": {
    "collapsed": false,
    "scrolled": true
   },
   "outputs": [],
   "source": [
    "dcp.make_folders(\"../../Figs/curve_fitting/powerlaw3/single/\")\n",
    "\n",
    "seed = [1, 1, 1]\n",
    "for i in range(nClt):\n",
    "    print(\"cluster {0}:\".format(i+1))\n",
    "    pl3_opt, pl3_cost = cv.curve_Fitting(\n",
    "        cv.powerlaw_least3, cv.powerlaw_curve3, \n",
    "        attempts15, eval(\"avg{0}\".format(i+1))[:15], seed,\n",
    "        \"../../Figs/curve_fitting/powerlaw3/single/sample{0}\".format(i+1), clt_num = i+1)\n",
    "    \n",
    "    true_opt, true_cost = cv.curve_Fitting(\n",
    "        cv.powerlaw_least3, cv.powerlaw_curve3, \n",
    "        attempts300, eval(\"avg{0}\".format(i+1)), seed,\n",
    "        \"../../Figs/curve_fitting/powerlaw3/single/dummy\", clt_num = i+1)\n",
    "    \n",
    "    y_fit_valid = cv.powerlaw_curve3(attempts300, pl3_opt[0], pl3_opt[1], pl3_opt[2])\n",
    "    y_fit_true = cv.powerlaw_curve3(attempts300, true_opt[0], true_opt[1], true_opt[2])\n",
    "    \n",
    "    pl3_cost_valid = cv.cost_Function(eval(\"avg{0}\".format(i+1)), y_fit_valid) # get cost for all data\n",
    "    pl3_cost_true = cv.cost_Function(eval(\"avg{0}\".format(i+1)), y_fit_valid) # get cost for all data\n",
    "    \n",
    "    disp_Data(attempts300, eval(\"avg{0}\".format(i+1)), y_fit_valid, \n",
    "              file_path=\"../../Figs/curve_fitting/powerlaw3/single/valid{0}\".format(i+1), \n",
    "              clt_num=i+1, cost = pl3_cost300)\n",
    "    \n",
    "    disp_Data(attempts300, eval(\"avg{0}\".format(i+1)), y_fit_true, \n",
    "              file_path=\"../../Figs/curve_fitting/powerlaw3/single/true{0}\".format(i+1), \n",
    "              clt_num=i+1, cost = pl3_cost300)"
   ]
  },
  {
   "cell_type": "markdown",
   "metadata": {},
   "source": [
    "## 1-3. Four parameters"
   ]
  },
  {
   "cell_type": "code",
   "execution_count": null,
   "metadata": {
    "collapsed": false
   },
   "outputs": [],
   "source": [
    "dcp.make_folders(\"../../Figs/curve_fitting/powerlaw4/single/\")\n",
    "\n",
    "seed = [1, 1, 1, 1]\n",
    "for i in range(nClt):\n",
    "    print(\"cluster {0}:\".format(i+1))\n",
    "    pl4_opt, pl4_cost = cv.curve_Fitting(\n",
    "        cv.powerlaw_least4, cv.powerlaw_curve4, \n",
    "        attempts15, eval(\"avg{0}\".format(i+1))[:15], seed,\n",
    "        \"../../Figs/curve_fitting/powerlaw4/single/sample{0}\".format(i+1), clt_num = i+1)\n",
    "\n",
    "    true_opt, true_cost = cv.curve_Fitting(\n",
    "        cv.powerlaw_least4, cv.powerlaw_curve4, \n",
    "        attempts300, eval(\"avg{0}\".format(i+1)), seed,\n",
    "        \"../../Figs/curve_fitting/powerlaw4/single/dummy\", clt_num = i+1)\n",
    "\n",
    "\n",
    "    y_fit_valid = cv.powerlaw_curve4(attempts300, pl4_opt[0], pl4_opt[1], pl4_opt[2], pl4_opt[3])\n",
    "    y_fit_true = cv.powerlaw_curve4(attempts300, true_opt[0], true_opt[1], true_opt[2], true_opt[3])\n",
    "    \n",
    "    pl4_cost_valid = cv.cost_Function(eval(\"avg{0}\".format(i+1)), y_fit_valid) # get cost for all data\n",
    "    pl4_cost_true = cv.cost_Function(eval(\"avg{0}\".format(i+1)), y_fit_true) # get cost for all data\n",
    "    \n",
    "    disp_Data(attempts300, eval(\"avg{0}\".format(i+1)), y_fit_valid, \n",
    "              file_path=\"../../Figs/curve_fitting/powerlaw4/single/valid{0}\".format(i+1), \n",
    "              clt_num=i+1, cost = pl4_cost_valid)\n",
    "    \n",
    "    disp_Data(attempts300, eval(\"avg{0}\".format(i+1)), y_fit_true, \n",
    "              file_path=\"../../Figs/curve_fitting/powerlaw4/single/true{0}\".format(i+1), \n",
    "              clt_num=i+1, cost = pl4_cost_true)"
   ]
  },
  {
   "cell_type": "markdown",
   "metadata": {},
   "source": [
    "# 2. Multiple Curves\n",
    "## 2-1. Two parameters\n",
    "#### 1) two curves"
   ]
  },
  {
   "cell_type": "code",
   "execution_count": null,
   "metadata": {
    "collapsed": false
   },
   "outputs": [],
   "source": [
    "dcp.make_folders(\"../../Figs/curve_fitting/powerlaw2/two/\")\n",
    "\n",
    "seed = [1, 1]\n",
    "\n",
    "for i in range(nClt): \n",
    "    print(\"cluster {0}:\".format(i+1))\n",
    "    p1 = cv.multi_curveFitting_2(cv.powerlaw_least2, eval(\"avg{0}\".format(i+1)), seed, min_range=10)\n",
    "\n",
    "    x_range = np.linspace(1, 300, 300)\n",
    "    x1 = x_range[:p1]\n",
    "    x2 = x_range[p1:]\n",
    "\n",
    "    true_y1 = eval(\"avg{0}\".format(i+1))[:p1]\n",
    "    true_y2 = eval(\"avg{0}\".format(i+1))[p1:]\n",
    "\n",
    "    lsq1 = least_squares(cv.powerlaw_least2, seed, args=(x1, true_y1))\n",
    "    lsq2 = least_squares(cv.powerlaw_least2, seed, args=(x2, true_y2))\n",
    "\n",
    "    pred_y1 = cv.powerlaw_curve2(x_range[:p1], lsq1.x[0], lsq1.x[1])\n",
    "    pred_y2 = cv.powerlaw_curve2(x_range, lsq2.x[0], lsq2.x[1])\n",
    "\n",
    "    print(\" - break point: {0}\".format(p1))\n",
    "    ## save figures\n",
    "    fig, ax = plt.subplots(1, 1, figsize=(8, 8))\n",
    "\n",
    "    ax.plot(attempts300, eval(\"avg{0}\".format(i+1)), 'rx', label='average score')\n",
    "    ax.plot(x_range[:p1], pred_y1, 'b-', label='curve 1', linewidth=3)\n",
    "    ax.plot(x_range, pred_y2, 'g-', label='curve 2', linewidth=3)\n",
    "    ax.plot(np.ones(100)*p1, np.linspace(0, 10, 100), '-.k', linewidth=1)\n",
    "    ax.set_title(\"Cluster {0} (Cost {1}), Break point{2}\"\n",
    "                 .format(i, round(lsq1.cost+lsq2.cost, 2), p1) )\n",
    "    #ax.set_ylim([0, max( eval(\"avg{0}\".format(i+1)) )+0.2])\n",
    "    ax.legend(fontsize=14)\n",
    "    fig.savefig(\"../../Figs/curve_fitting/powerlaw2/two/cluster{0}\".format(i+1), dpi=100)\n",
    "    # plt.show()"
   ]
  },
  {
   "cell_type": "markdown",
   "metadata": {},
   "source": [
    "#### 1) three curves"
   ]
  },
  {
   "cell_type": "code",
   "execution_count": null,
   "metadata": {
    "collapsed": false
   },
   "outputs": [],
   "source": [
    "dcp.make_folders(\"../../Figs/curve_fitting/powerlaw2/three/\")\n",
    "\n",
    "seed = [1, 1, 1]\n",
    "\n",
    "for i in range(nClt): \n",
    "    print(\"cluster {0}:\".format(i+1))\n",
    "    p1, p2 = cv.multi_curveFitting_3(cv.powerlaw_least2, eval(\"avg{0}\".format(i+1)), seed, min_range=10)\n",
    "\n",
    "    x_range = np.linspace(1, 300, 300)\n",
    "    x1 = x_range[:p1]\n",
    "    x2 = x_range[p1:p2]\n",
    "    x3 = x_range[p2:]\n",
    "\n",
    "    true_y1 = eval(\"avg{0}\".format(i+1))[:p1]\n",
    "    true_y2 = eval(\"avg{0}\".format(i+1))[p1:p2]\n",
    "    true_y3 = eval(\"avg{0}\".format(i+1))[p2:]\n",
    "\n",
    "    lsq1 = least_squares(cv.powerlaw_least2, seed, args=(x1, true_y1))\n",
    "    lsq2 = least_squares(cv.powerlaw_least2, seed, args=(x2, true_y2))\n",
    "    lsq3 = least_squares(cv.powerlaw_least2, seed, args=(x3, true_y3))\n",
    "\n",
    "    pred_y1 = cv.powerlaw_curve2(x_range[:p1], lsq1.x[0], lsq1.x[1])\n",
    "    pred_y2 = cv.powerlaw_curve2(x_range[:p2], lsq2.x[0], lsq2.x[1])\n",
    "    pred_y3 = cv.powerlaw_curve2(x_range, lsq3.x[0], lsq3.x[1])\n",
    "\n",
    "    print(\" - break point: {0} and {1}\".format(p1, p2))\n",
    "    ## save figures\n",
    "    fig, ax = plt.subplots(1, 1, figsize=(8, 8))\n",
    "\n",
    "    ax.plot(attempts300, eval(\"avg{0}\".format(i+1)), 'rx', label='average score')\n",
    "    ax.plot(x_range[:p1], pred_y1, 'b-', label='curve 1', linewidth=3)\n",
    "    ax.plot(x_range[:p2], pred_y2, 'g-', label='curve 2', linewidth=3)\n",
    "    ax.plot(x_range, pred_y3, 'c-', label='curve 2', linewidth=3)\n",
    "    \n",
    "    # break points\n",
    "    ax.plot(np.ones(100)*p1, np.linspace(0, 10, 100), '-.k', linewidth=1)\n",
    "    ax.plot(np.ones(100)*p2, np.linspace(0, 10, 100), '-.k', linewidth=1)\n",
    "    \n",
    "    ax.set_title(\"Cluster {0} (Cost {1}), Break point:{2} and {3}\"\n",
    "                 .format(i, round(lsq1.cost+lsq2.cost+lsq3.cost, 2), p1, p2) )\n",
    "    ax.set_ylim([0, max( eval(\"avg{0}\".format(i+1)) )+0.2])\n",
    "    ax.legend(fontsize=14)\n",
    "    fig.savefig(\"../../Figs/curve_fitting/powerlaw2/three/cluster{0}\".format(i+1), dpi=100)\n",
    "    # plt.show()"
   ]
  },
  {
   "cell_type": "markdown",
   "metadata": {},
   "source": [
    "## 2-2. Three parameters\n",
    "#### 1) two curves"
   ]
  },
  {
   "cell_type": "code",
   "execution_count": null,
   "metadata": {
    "collapsed": false
   },
   "outputs": [],
   "source": [
    "dcp.make_folders(\"../../Figs/curve_fitting/powerlaw3/two/\")\n",
    "\n",
    "seed = [1, 1, 1]\n",
    "\n",
    "for i in range(nClt): \n",
    "    print(\"cluster {0}:\".format(i+1))\n",
    "    p1 = cv.multi_curveFitting_2(cv.powerlaw_least3, eval(\"avg{0}\".format(i+1)), seed, min_range=10)\n",
    "\n",
    "    x_range = np.linspace(1, 300, 300)\n",
    "    x1 = x_range[:p1]\n",
    "    x2 = x_range[p1:]\n",
    "\n",
    "    true_y1 = eval(\"avg{0}\".format(i+1))[:p1]\n",
    "    true_y2 = eval(\"avg{0}\".format(i+1))[p1:]\n",
    "\n",
    "    lsq1 = least_squares(cv.powerlaw_least3, seed, args=(x1, true_y1))\n",
    "    lsq2 = least_squares(cv.powerlaw_least3, seed, args=(x2, true_y2))\n",
    "\n",
    "    pred_y1 = cv.powerlaw_curve3(x_range[:p1], lsq1.x[0], lsq1.x[1], lsq1.x[2])\n",
    "    pred_y2 = cv.powerlaw_curve3(x_range, lsq2.x[0], lsq2.x[1], lsq2.x[2])\n",
    "\n",
    "    print(\" - break point: {0}\".format(p1))\n",
    "    ## save figures\n",
    "    fig, ax = plt.subplots(1, 1, figsize=(8, 8))\n",
    "\n",
    "    ax.plot(attempts300, eval(\"avg{0}\".format(i+1)), 'rx', label='average score')\n",
    "    ax.plot(x_range[:p1], pred_y1, 'b-', label='curve 1', linewidth=3)\n",
    "    ax.plot(x_range, pred_y2, 'g-', label='curve 2', linewidth=3)\n",
    "    ax.plot(np.ones(100)*p1, np.linspace(0, 10, 100), '-.k', linewidth=1)\n",
    "    ax.set_title(\"Cluster {0} (Cost {1}), Break point{2}\"\n",
    "                 .format(i, round(lsq1.cost+lsq2.cost, 2), p1) )\n",
    "    ax.set_ylim([0, max( eval(\"avg{0}\".format(i+1)) )+0.2])\n",
    "    ax.legend(fontsize=14)\n",
    "    fig.savefig(\"../../Figs/curve_fitting/powerlaw3/two/cluster{0}\".format(i+1), dpi=100)\n",
    "    # plt.show()"
   ]
  },
  {
   "cell_type": "markdown",
   "metadata": {},
   "source": [
    "#### 2) three curves"
   ]
  },
  {
   "cell_type": "code",
   "execution_count": null,
   "metadata": {
    "collapsed": false
   },
   "outputs": [],
   "source": [
    "dcp.make_folders(\"../../Figs/curve_fitting/powerlaw3/three/\")\n",
    "\n",
    "seed = [1, 1, 1]\n",
    "\n",
    "for i in range(nClt): \n",
    "    print(\"cluster {0}:\".format(i+1))\n",
    "    p1, p2 = cv.multi_curveFitting_3(cv.powerlaw_least3, eval(\"avg{0}\".format(i+1)), seed, min_range=10)\n",
    "\n",
    "    x_range = np.linspace(1, 300, 300)\n",
    "    x1 = x_range[:p1]\n",
    "    x2 = x_range[p1:p2]\n",
    "    x3 = x_range[p2:]\n",
    "\n",
    "    true_y1 = eval(\"avg{0}\".format(i+1))[:p1]\n",
    "    true_y2 = eval(\"avg{0}\".format(i+1))[p1:p2]\n",
    "    true_y3 = eval(\"avg{0}\".format(i+1))[p2:]\n",
    "\n",
    "    lsq1 = least_squares(cv.powerlaw_least3, seed, args=(x1, true_y1))\n",
    "    lsq2 = least_squares(cv.powerlaw_least3, seed, args=(x2, true_y2))\n",
    "    lsq3 = least_squares(cv.powerlaw_least3, seed, args=(x3, true_y3))\n",
    "\n",
    "    pred_y1 = cv.powerlaw_curve3(x_range[:p1], lsq1.x[0], lsq1.x[1], lsq1.x[2])\n",
    "    pred_y2 = cv.powerlaw_curve3(x_range[:p2], lsq2.x[0], lsq2.x[1], lsq2.x[2])\n",
    "    pred_y3 = cv.powerlaw_curve3(x_range, lsq3.x[0], lsq3.x[1], lsq3.x[2])\n",
    "\n",
    "    print(\" - break point: {0} and {1}\".format(p1, p2))\n",
    "    ## save figures\n",
    "    fig, ax = plt.subplots(1, 1, figsize=(8, 8))\n",
    "\n",
    "    ax.plot(attempts300, eval(\"avg{0}\".format(i+1)), 'rx', label='average score')\n",
    "    ax.plot(x_range[:p1], pred_y1, 'b-', label='curve 1', linewidth=3)\n",
    "    ax.plot(x_range[:p2], pred_y2, 'g-', label='curve 2', linewidth=3)\n",
    "    ax.plot(x_range, pred_y3, 'c-', label='curve 2', linewidth=3)\n",
    "    \n",
    "    # break points\n",
    "    ax.plot(np.ones(100)*p1, np.linspace(0, 10, 100), '-.k', linewidth=1)\n",
    "    ax.plot(np.ones(100)*p2, np.linspace(0, 10, 100), '-.k', linewidth=1)\n",
    "    \n",
    "    ax.set_title(\"Cluster {0} (Cost {1}), Break point:{2} and {3}\"\n",
    "                 .format(i, round(lsq1.cost+lsq2.cost+lsq3.cost, 2), p1, p2) )\n",
    "    ax.set_ylim([0, max( eval(\"avg{0}\".format(i+1)) )+0.2])\n",
    "    ax.legend(fontsize=14)\n",
    "    fig.savefig(\"../../Figs/curve_fitting/powerlaw3/three/cluster{0}\".format(i+1), dpi=100)\n",
    "    # plt.show()"
   ]
  },
  {
   "cell_type": "markdown",
   "metadata": {},
   "source": [
    "## 2-2. Four parameters\n",
    "#### 1) two curves"
   ]
  },
  {
   "cell_type": "code",
   "execution_count": null,
   "metadata": {
    "collapsed": false
   },
   "outputs": [],
   "source": [
    "dcp.make_folders(\"../../Figs/curve_fitting/powerlaw4/two/\")\n",
    "\n",
    "seed = [1, 1, 1, 1]\n",
    "\n",
    "for i in range(nClt): \n",
    "    print(\"cluster {0}:\".format(i+1))\n",
    "    p1 = cv.multi_curveFitting_2(cv.powerlaw_least4, eval(\"avg{0}\".format(i+1)), seed, min_range=10)\n",
    "\n",
    "    x_range = np.linspace(1, 300, 300)\n",
    "    x1 = x_range[:p1]\n",
    "    x2 = x_range[p1:]\n",
    "\n",
    "    true_y1 = eval(\"avg{0}\".format(i+1))[:p1]\n",
    "    true_y2 = eval(\"avg{0}\".format(i+1))[p1:]\n",
    "\n",
    "    lsq1 = least_squares(cv.powerlaw_least4, seed, args=(x1, true_y1))\n",
    "    lsq2 = least_squares(cv.powerlaw_least4, seed, args=(x2, true_y2))\n",
    "\n",
    "    pred_y1 = cv.powerlaw_curve4(x_range[:p1], lsq1.x[0], lsq1.x[1], lsq1.x[2], lsq1.x[3])\n",
    "    pred_y2 = cv.powerlaw_curve4(x_range, lsq2.x[0], lsq2.x[1], lsq2.x[2], lsq2.x[3])\n",
    "\n",
    "    print(\" - break point: {0}\".format(p1))\n",
    "    ## save figures\n",
    "    fig, ax = plt.subplots(1, 1, figsize=(8, 8))\n",
    "\n",
    "    ax.plot(attempts300, eval(\"avg{0}\".format(i+1)), 'rx', label='average score')\n",
    "    ax.plot(x_range[:p1], pred_y1, 'b-', label='curve 1', linewidth=3)\n",
    "    ax.plot(x_range, pred_y2, 'g-', label='curve 2', linewidth=3)\n",
    "    ax.plot(np.ones(100)*p1, np.linspace(0, 10, 100), '-.k', linewidth=1)\n",
    "    ax.set_title(\"Cluster {0} (Cost {1}), Break point: {2}\"\n",
    "                 .format(i, round(lsq1.cost+lsq2.cost, 2), p1) )\n",
    "    ax.set_ylim([0, max( eval(\"avg{0}\".format(i+1)) )+0.2])\n",
    "    ax.legend(fontsize=14)\n",
    "    fig.savefig(\"../../Figs/curve_fitting/powerlaw4/two/cluster{0}\".format(i+1), dpi=100)\n",
    "    # plt.show()"
   ]
  },
  {
   "cell_type": "markdown",
   "metadata": {},
   "source": [
    "#### 2) three curves"
   ]
  },
  {
   "cell_type": "code",
   "execution_count": null,
   "metadata": {
    "collapsed": false
   },
   "outputs": [],
   "source": [
    "dcp.make_folders(\"../../Figs/curve_fitting/powerlaw4/three/\")\n",
    "\n",
    "seed = [1, 1, 1, 1]\n",
    "\n",
    "for i in range(nClt): \n",
    "    print(\"cluster {0}:\".format(i+1))\n",
    "    p1, p2 = cv.multi_curveFitting_3(cv.powerlaw_least4, eval(\"avg{0}\".format(i+1)), seed, min_range=20)\n",
    "\n",
    "    x_range = np.linspace(1, 300, 300)\n",
    "    x1 = x_range[:p1]\n",
    "    x2 = x_range[p1:p2]\n",
    "    x3 = x_range[p2:]\n",
    "\n",
    "    true_y1 = eval(\"avg{0}\".format(i+1))[:p1]\n",
    "    true_y2 = eval(\"avg{0}\".format(i+1))[p1:p2]\n",
    "    true_y3 = eval(\"avg{0}\".format(i+1))[p2:]\n",
    "\n",
    "    lsq1 = least_squares(cv.powerlaw_least4, seed, args=(x1, true_y1))\n",
    "    lsq2 = least_squares(cv.powerlaw_least4, seed, args=(x2, true_y2))\n",
    "    lsq3 = least_squares(cv.powerlaw_least4, seed, args=(x3, true_y3))\n",
    "\n",
    "    pred_y1 = cv.powerlaw_curve4(x_range[:p1], lsq1.x[0], lsq1.x[1], lsq1.x[2], lsq1.x[3])\n",
    "    pred_y2 = cv.powerlaw_curve4(x_range[:p2], lsq2.x[0], lsq2.x[1], lsq2.x[2], lsq2.x[3])\n",
    "    pred_y3 = cv.powerlaw_curve4(x_range, lsq3.x[0], lsq3.x[1], lsq3.x[2], lsq3.x[3])\n",
    "\n",
    "    print(\" - break point: {0} and {1}\".format(p1, p2))\n",
    "    ## save figures\n",
    "    fig, ax = plt.subplots(1, 1, figsize=(8, 8))\n",
    "\n",
    "    ax.plot(attempts300, eval(\"avg{0}\".format(i+1)), 'rx', label='average score')\n",
    "    ax.plot(x_range[:p1], pred_y1, 'b-', label='curve 1', linewidth=3)\n",
    "    ax.plot(x_range[:p2], pred_y2, 'g-', label='curve 2', linewidth=3)\n",
    "    ax.plot(x_range, pred_y3, 'c-', label='curve 2', linewidth=3)\n",
    "    \n",
    "    # break points\n",
    "    ax.plot(np.ones(100)*p1, np.linspace(0, 10, 100), '-.k', linewidth=1)\n",
    "    ax.plot(np.ones(100)*p2, np.linspace(0, 10, 100), '-.k', linewidth=1)\n",
    "    \n",
    "    ax.set_title(\"Cluster {0} (Cost {1}), Break point: {2} and {3}\"\n",
    "                 .format(i, round(lsq1.cost+lsq2.cost, 2), p1, p2) )\n",
    "    ax.set_ylim([0, max( eval(\"avg{0}\".format(i+1)) )+0.2])\n",
    "    ax.legend(fontsize=14)\n",
    "    fig.savefig(\"../../Figs/curve_fitting/powerlaw4/three/cluster{0}\".format(i+1), dpi=100)\n",
    "    # plt.show()"
   ]
  },
  {
   "cell_type": "code",
   "execution_count": null,
   "metadata": {
    "collapsed": false
   },
   "outputs": [],
   "source": [
    "x_range = np.linspace(1, 300, 300)\n",
    "seed = [1, 1, 1, 1]\n",
    "\n",
    "cv.multi_test(x_range, avg3, cv.powerlaw_least4, seed, scope=10, layer=3)"
   ]
  }
 ],
 "metadata": {
  "kernelspec": {
   "display_name": "Python 3",
   "language": "python",
   "name": "python3"
  },
  "language_info": {
   "codemirror_mode": {
    "name": "ipython",
    "version": 3
   },
   "file_extension": ".py",
   "mimetype": "text/x-python",
   "name": "python",
   "nbconvert_exporter": "python",
   "pygments_lexer": "ipython3",
   "version": "3.5.1"
  }
 },
 "nbformat": 4,
 "nbformat_minor": 0
}
