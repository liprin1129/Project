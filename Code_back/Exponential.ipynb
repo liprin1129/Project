{
 "cells": [
  {
   "cell_type": "markdown",
   "metadata": {},
   "source": [
    "# Load Data"
   ]
  },
  {
   "cell_type": "code",
   "execution_count": 1,
   "metadata": {
    "collapsed": false
   },
   "outputs": [
    {
     "name": "stdout",
     "output_type": "stream",
     "text": [
      "Training data set: (300, 22832)\n",
      "../../Figs/curve_fitting/ already present - Skipping pickling.\n"
     ]
    }
   ],
   "source": [
    "import numpy as np\n",
    "from scipy.optimize import curve_fit\n",
    "from scipy.optimize import least_squares\n",
    "import DC_Pickle as dcp\n",
    "import Curve_Functions as cv\n",
    "import matplotlib.pyplot as plt\n",
    "%matplotlib inline\n",
    "\n",
    "def disp_Data(x, y_true, y_pred, file_path, clt_num, cost, rows=1, columns=1, size=(6, 4)):\n",
    "    fig, ax = plt.subplots(rows, columns, figsize=size)\n",
    "    ax.plot(x, y_true, 'rx', label='average score')\n",
    "    ax.plot(x, y_pred, 'b-', label='curve fitting')\n",
    "    ax.set_xlim([0, max(x)+1])\n",
    "    ax.set_ylim([0, max(y_true)+0.2])\n",
    "    ax.legend(fontsize=14)\n",
    "    ax.set_title(\"cluster {0}: cost {1}\".format(clt_num, round(cost, 2)))\n",
    "    fig.savefig(file_path, dpi=100)\n",
    "    plt.show()\n",
    "    \n",
    "train_idx = dcp.open_Pickle(\"../../data/pickles/clusters_origin/15attempts/indices/index12.pickle\")\n",
    "train_idx = train_idx[9] #2, 8\n",
    "\n",
    "train_scores = dcp.open_Pickle('../../data/pickles/seperate_origin/eventValue.pickle')\n",
    "train_scores = train_scores[:300, :]/1e+4\n",
    "attempts15 = np.arange(15)+1\n",
    "attempts300 = np.arange(300)+1\n",
    "\n",
    "## filtering discontinuous under 15 attempts\n",
    "idx_all = []\n",
    "idx_pure = []\n",
    "\n",
    "for i in range(train_scores.shape[1]):\n",
    "    if not np.isnan(train_scores[:15, i]).any():\n",
    "        idx_all.append(i)\n",
    "        idx_pure.append(i)\n",
    "    else:\n",
    "        idx_all.append(np.nan)\n",
    "\n",
    "train_scores = train_scores[:, idx_pure]\n",
    "print(\"Training data set: {0}\".format(np.shape(train_scores)))\n",
    "\n",
    "## get cluster data and cluster average data (average is centroid)\n",
    "nClt = 12\n",
    "for i in range(nClt):\n",
    "    name = \"cluster{0}\".format(i+1)\n",
    "    globals()[name] = train_scores[:, train_idx==i] # get cluster data\n",
    "    \n",
    "    ## get cluster average data\n",
    "    data = np.ones(300)\n",
    "    for j in range(len(data)):\n",
    "        avg = eval(name)[j, :]\n",
    "        avg = np.sum(avg[~np.isnan(avg)])/len(avg[~np.isnan(avg)])\n",
    "        data[j] = avg\n",
    "\n",
    "    globals()[\"avg{0}\".format(i+1)] = data\n",
    "    \n",
    "dcp.make_folders(\"../../Figs/curve_fitting/\")"
   ]
  },
  {
   "cell_type": "markdown",
   "metadata": {},
   "source": [
    "# 1. Single Curve\n",
    "## 1-1. Two parameters"
   ]
  },
  {
   "cell_type": "code",
   "execution_count": null,
   "metadata": {
    "collapsed": false,
    "scrolled": true
   },
   "outputs": [],
   "source": [
    "dcp.make_folders(\"../../Figs/curve_fitting/exponential2/single/\")\n",
    "\n",
    "seed = [1, 1]\n",
    "for i in range(nClt):\n",
    "    print(\"cluster {0}:\".format(i+1))\n",
    "    ## train\n",
    "    exp2_opt, exp2_cost = cv.curve_Fitting(\n",
    "        cv.exponential_least2, cv.exponential_curve2, \n",
    "        attempts15, eval(\"avg{0}\".format(i+1))[:15], seed, \n",
    "        \"../../Figs/curve_fitting/exponential2/single/sample{0}\".format(i+1), clt_num = i+1)\n",
    "    \n",
    "    true_opt, true_cost = cv.curve_Fitting(\n",
    "        cv.exponential_least2, cv.exponential_curve2, \n",
    "        attempts300, eval(\"avg{0}\".format(i+1)), seed, \n",
    "        \"../../Figs/curve_fitting/exponential2/single/dummy\", clt_num = i+1)\n",
    "    \n",
    "    ## validation\n",
    "    y_fit_valid = cv.exponential_curve2(attempts300, exp2_opt[0], exp2_opt[1])\n",
    "    y_fit_true = cv.exponential_curve2(attempts300, true_opt[0], true_opt[1])\n",
    "    \n",
    "    exp2_cost_valid = cv.cost_Function(eval(\"avg{0}\".format(i+1)), y_fit_valid) # get cost for all data\n",
    "    exp2_cost_true = cv.cost_Function(eval(\"avg{0}\".format(i+1)), y_fit_true) # get cost for all data\n",
    "    \n",
    "    disp_Data(attempts300, eval(\"avg{0}\".format(i+1)), y_fit_valid, \n",
    "              file_path=\"../../Figs/curve_fitting/exponential2/single/valid{0}\".format(i+1), \n",
    "              clt_num=i+1, cost = exp2_cost_valid)\n",
    "    \n",
    "    disp_Data(attempts300, eval(\"avg{0}\".format(i+1)), y_fit_true, \n",
    "          file_path=\"../../Figs/curve_fitting/exponential2/single/true{0}\".format(i+1), \n",
    "          clt_num=i+1, cost = exp2_cost_true)"
   ]
  },
  {
   "cell_type": "markdown",
   "metadata": {},
   "source": [
    "## 1-2. Three parameters"
   ]
  },
  {
   "cell_type": "code",
   "execution_count": null,
   "metadata": {
    "collapsed": false
   },
   "outputs": [],
   "source": [
    "dcp.make_folders(\"../../Figs/curve_fitting/exponential3/single/\")\n",
    "\n",
    "seed = [1, 1, 1]\n",
    "for i in range(nClt):\n",
    "    print(\"cluster {0}:\".format(i+1))\n",
    "    exp3_opt, exp3_cost = cv.curve_Fitting(\n",
    "        cv.exponential_least3, cv.exponential_curve3, \n",
    "        attempts15, eval(\"avg{0}\".format(i+1))[:15], seed,\n",
    "        \"../../Figs/curve_fitting/exponential3/single/{0}\".format(i+1), clt_num = i+1)\n",
    "    \n",
    "    true_opt, true_cost = cv.curve_Fitting(\n",
    "        cv.exponential_least3, cv.exponential_curve3, \n",
    "        attempts300, eval(\"avg{0}\".format(i+1)), seed,\n",
    "        \"../../Figs/curve_fitting/exponential3/single/dummy\".format(i+1), clt_num = i+1)\n",
    "\n",
    "    y_fit_valid = cv.exponential_curve3(attempts300, exp3_opt[0], exp3_opt[1], exp3_opt[2])\n",
    "    y_fit_true = cv.exponential_curve3(attempts300, true_opt[0], true_opt[1], true_opt[2])\n",
    "    \n",
    "    exp3_cost_valid = cv.cost_Function(eval(\"avg{0}\".format(i+1)), y_fit_valid) # get cost for all data\n",
    "    exp3_cost_true = cv.cost_Function(eval(\"avg{0}\".format(i+1)), y_fit_true) # get cost for all data\n",
    "    \n",
    "    cost_valid = cv.cost_Function(attempts300, y_fit_valid)\n",
    "    cost_true = cv.cost_Function(attempts300, y_fit_true)\n",
    "    \n",
    "    disp_Data(attempts300, eval(\"avg{0}\".format(i+1)), y_fit_valid,\n",
    "              file_path=\"../../Figs/curve_fitting/exponential3/single/valid{0}\".format(i+1), \n",
    "              clt_num=i+1, cost = exp3_cost_valid)\n",
    "    disp_Data(attempts300, eval(\"avg{0}\".format(i+1)), y_fit_true,\n",
    "              file_path=\"../../Figs/curve_fitting/exponential3/single/true{0}\".format(i+1), \n",
    "              clt_num=i+1, cost = exp3_cost_true)"
   ]
  },
  {
   "cell_type": "markdown",
   "metadata": {},
   "source": [
    "## 1-2. Four parameters"
   ]
  },
  {
   "cell_type": "code",
   "execution_count": null,
   "metadata": {
    "collapsed": false
   },
   "outputs": [],
   "source": [
    "dcp.make_folders(\"../../Figs/curve_fitting/exponential4/single/\")\n",
    "\n",
    "seed = [1, 1, 1]\n",
    "for i in range(nClt):\n",
    "    print(\"cluster {0}:\".format(i+1))\n",
    "    exp3_opt, exp3_cost = cv.curve_Fitting(\n",
    "        cv.exponential_least3, cv.exponential_curve3,\n",
    "        attempts15, eval(\"avg{0}\".format(i+1))[:15], seed,\n",
    "        \"../../Figs/curve_fitting/exponential3/single/sample{0}\".format(i+1), clt_num = i+1)\n",
    "\n",
    "    true_opt, true_cost = cv.curve_Fitting(\n",
    "        cv.exponential_least3, cv.exponential_curve3, \n",
    "        attempts300, eval(\"avg{0}\".format(i+1)), seed,\n",
    "        \"../../Figs/curve_fitting/exponential3/single/dummy\", clt_num = i+1)\n",
    "\n",
    "    y_fit_valid = cv.exponential_curve3(attempts300, exp3_opt[0], exp3_opt[1], exp3_opt[2])\n",
    "    y_fit_valid = cv.exponential_curve3(attempts300, true_opt[0], true_opt[1], true_opt[2])\n",
    "    \n",
    "    exp3_cost_valid = cv.cost_Function(eval(\"avg{0}\".format(i+1)), y_fit_valid) # get cost for all data\n",
    "    exp3_cost_true = cv.cost_Function(eval(\"avg{0}\".format(i+1)), y_fit_true) # get cost for all data\n",
    "    \n",
    "    cost_valid = cv.cost_Function(attempts300, y_fit_valid)\n",
    "    cost_true = cv.cost_Function(attempts300, y_fit_true)\n",
    "    \n",
    "    disp_Data(attempts300, eval(\"avg{0}\".format(i+1)), y_fit_valid,\n",
    "              file_path=\"../../Figs/curve_fitting/exponential4/single/valid{0}\".format(i+1), \n",
    "              clt_num=i+1, cost = exp3_cost_valid)\n",
    "    disp_Data(attempts300, eval(\"avg{0}\".format(i+1)), y_fit_true,\n",
    "              file_path=\"../../Figs/curve_fitting/exponential4/single/true{0}\".format(i+1), \n",
    "              clt_num=i+1, cost = exp3_cost_true)"
   ]
  },
  {
   "cell_type": "markdown",
   "metadata": {},
   "source": [
    "# 2. Multiple Curves"
   ]
  },
  {
   "cell_type": "code",
   "execution_count": null,
   "metadata": {
    "collapsed": false,
    "scrolled": true
   },
   "outputs": [
    {
     "name": "stdout",
     "output_type": "stream",
     "text": [
      "\n",
      "\n",
      " - 2 pieces, 2 Parameter\n",
      "\t avg1, \t avg2, \t avg3, \t avg4, \t avg5, \t avg6, \t avg7, \t avg8, \t avg9, \t avg10, \t avg11, \t avg12, \n",
      "\n",
      " - 2 pieces, 3 Parameter\n",
      "\t avg1, \t avg2, \t avg3, \t avg4, \t avg5, \t avg6, \t avg7, \t avg8, \t avg9, \t avg10, \t avg11, \t avg12, \n",
      "\n",
      " - 2 pieces, 4 Parameter\n",
      "\t avg1, \t avg2, \t avg3, \t avg4, \t avg5, \t avg6, \t avg7, \t avg8, \t avg9, \t avg10, \t avg11, \t avg12, \n",
      "\n",
      " - 3 pieces, 2 Parameter\n",
      "\t avg1, \t avg2, \t avg3, \t avg4, \t avg5, "
     ]
    }
   ],
   "source": [
    "for p in range(9): # for 10 pieces\n",
    "    costs = []\n",
    "    lengths = np.zeros([1, p+2, 13])\n",
    "    indice = np.zeros([1, p+2, 13])\n",
    "\n",
    "    for i in range(3): # for parameters\n",
    "        print(\"\\n\\n - {0} pieces, {1} Parameter\".format(p+2, i+2))\n",
    "        if i == 0: # 2 parameters\n",
    "            seed = [1, 1]\n",
    "            leastFunction = cv.exponential_least2\n",
    "        elif i == 1: # 3 parameters\n",
    "            seed = [1, 1, 1]\n",
    "            leastFunction = cv.exponential_least3\n",
    "        elif i == 2: # 4 parmaeters\n",
    "            seed = [1, 1, 1, 1]\n",
    "            leastFunction = cv.exponential_least4\n",
    "\n",
    "        for j in range(nClt): # for clusters\n",
    "            print(\"\\t avg{0}, \".format(j+1), end='')\n",
    "            file_name = \"avg{0}\".format(j+1)\n",
    "            cost, min_length, min_indice = cv.multCurve_Fitting(eval(file_name), leastFunction, s=seed, w=30, p=p+2)\n",
    "            costs.append(cost)\n",
    "            lengths[:, :, j] = min_length\n",
    "            indice[:, :, j] = min_indice\n",
    "            dcp.make_folders('../../data/pickles/Fitting/15Attempts/Exponential/pieces{0}/param{1}/avg{2}/'.format(p+2, i+2, j+1))\n",
    "            dcp.make_Pickle(cost, '../../data/pickles/Fitting/15Attempts/Exponential/pieces{0}/param{1}/avg{2}/cost'.format(p+2, i+2, j+1))\n",
    "            dcp.make_Pickle(min_length, '../../data/pickles/Fitting/15Attempts/Exponential/pieces{0}/param{1}/avg{2}/length'.format(p+2, i+2, j+1))\n",
    "            dcp.make_Pickle(min_indice, '../../data/pickles/Fitting/15Attempts/Exponential//pieces{0}/param{1}/avg{2}/index'.format(p+2, i+2, j+1))"
   ]
  },
  {
   "cell_type": "raw",
   "metadata": {
    "collapsed": false
   },
   "source": [
    "idx_matrix, err_matrix, len_matrix = cv.curve_Matrix(avg8, cv.exponential_least3, seed=[1,1,1], window=50, piece=5)\n",
    "print(idx_matrix)\n",
    "print(len_matrix)\n",
    "\n",
    "cost, min_length, min_indice = cv.multCurve_Fitting(avg8, cv.exponential_least3, s=[1, 1, 1], w=50, p=5)"
   ]
  },
  {
   "cell_type": "raw",
   "metadata": {
    "collapsed": false,
    "scrolled": true
   },
   "source": [
    "dcp.make_folders(\"../../Figs/curve_fitting/exponential2/two/\")\n",
    "\n",
    "seed = [1, 1]\n",
    "\n",
    "for i in range(nClt): \n",
    "    print(\"cluster {0}:\".format(i+1))\n",
    "    exp2_p1 = cv.multi_curveFitting_2(cv.exponential_least2, eval(\"avg{0}\".format(i+1)), seed, min_range=15)\n",
    "\n",
    "    x_range = np.linspace(1, 300, 300)\n",
    "    x1 = x_range[:exp2_p1]\n",
    "    x2 = x_range[exp2_p1:]\n",
    "\n",
    "    true_y1 = eval(\"avg{0}\".format(i+1))[:exp2_p1]\n",
    "    true_y2 = eval(\"avg{0}\".format(i+1))[exp2_p1:]\n",
    "\n",
    "    lsq1 = least_squares(cv.exponential_least2, seed, args=(x1, true_y1))\n",
    "    lsq2 = least_squares(cv.exponential_least2, seed, args=(x2, true_y2))\n",
    "\n",
    "    pred_y1 = cv.exponential_curve2(x_range[:exp2_p1], lsq1.x[0], lsq1.x[1])\n",
    "    pred_y2 = cv.exponential_curve2(x_range, lsq2.x[0], lsq2.x[1])\n",
    "\n",
    "    print(\" - break point: {0}\".format(exp2_p1))\n",
    "    ## save figures\n",
    "    fig, ax = plt.subplots(1, 1, figsize=(8, 8))\n",
    "\n",
    "    ax.plot(attempts300, eval(\"avg{0}\".format(i+1)), 'rx', label='average score')\n",
    "    ax.plot(x_range[:exp2_p1], pred_y1, 'b-', label='curve 1', linewidth=3)\n",
    "    ax.plot(x_range, pred_y2, 'g-', label='curve 2', linewidth=3)\n",
    "    ax.plot(np.ones(100)*exp2_p1, np.linspace(0, 10, 100), '-.k', linewidth=1)\n",
    "    ax.set_title(\"Cluster {0} (Cost {1}), Break point{2}\"\n",
    "                 .format(i, round(lsq1.cost+lsq2.cost, 2), exp2_p1) )\n",
    "    ax.set_ylim([0, max( eval(\"avg{0}\".format(i+1)) )+0.2])\n",
    "    ax.legend(fontsize=14)\n",
    "    fig.savefig(\"../../Figs/curve_fitting/exponential2/two/cluster{0}\".format(i+1), dpi=100)\n",
    "    # plt.show()"
   ]
  },
  {
   "cell_type": "markdown",
   "metadata": {},
   "source": [
    "#### 2) three curves"
   ]
  },
  {
   "cell_type": "raw",
   "metadata": {
    "collapsed": false
   },
   "source": [
    "dcp.make_folders(\"../../Figs/curve_fitting/exponential2/three/\")\n",
    "\n",
    "seed = [1, 1, 1]\n",
    "\n",
    "for i in range(nClt): \n",
    "    print(\"cluster {0}:\".format(i+1))\n",
    "    exp2_p1, exp2_p2 = cv.multi_curveFitting_3(cv.exponential_least2, eval(\"avg{0}\".format(i+1)), seed, min_range=15)\n",
    "\n",
    "    x_range = np.linspace(1, 300, 300)\n",
    "    x1 = x_range[:exp2_p1]\n",
    "    x2 = x_range[exp2_p1:exp2_p2]\n",
    "    x3 = x_range[exp2_p2:]\n",
    "\n",
    "    true_y1 = eval(\"avg{0}\".format(i+1))[:exp2_p1]\n",
    "    true_y2 = eval(\"avg{0}\".format(i+1))[exp2_p1:exp2_p2]\n",
    "    true_y3 = eval(\"avg{0}\".format(i+1))[exp2_p2:]\n",
    "\n",
    "    lsq1 = least_squares(cv.exponential_least2, seed, args=(x1, true_y1))\n",
    "    lsq2 = least_squares(cv.exponential_least2, seed, args=(x2, true_y2))\n",
    "    lsq3 = least_squares(cv.exponential_least2, seed, args=(x3, true_y3))\n",
    "\n",
    "    pred_y1 = cv.exponential_curve2(x_range[:exp2_p1], lsq1.x[0], lsq1.x[1])\n",
    "    pred_y2 = cv.exponential_curve2(x_range[:exp2_p2], lsq2.x[0], lsq2.x[1])\n",
    "    pred_y3 = cv.exponential_curve2(x_range, lsq3.x[0], lsq3.x[1])\n",
    "\n",
    "    print(\" - break point: {0} and {1}\".format(exp2_p1, exp2_p2))\n",
    "    ## save figures\n",
    "    fig, ax = plt.subplots(1, 1, figsize=(8, 8))\n",
    "\n",
    "    ax.plot(attempts300, eval(\"avg{0}\".format(i+1)), 'rx', label='average score')\n",
    "    ax.plot(x_range[:exp2_p1], pred_y1, 'b-', label='curve 1', linewidth=3)\n",
    "    ax.plot(x_range[:exp2_p2], pred_y2, 'g-', label='curve 2', linewidth=3)\n",
    "    ax.plot(x_range, pred_y3, 'c-', label='curve 2', linewidth=3)\n",
    "    \n",
    "    # break points\n",
    "    ax.plot(np.ones(100)*exp2_p1, np.linspace(0, 10, 100), '-.k', linewidth=1)\n",
    "    ax.plot(np.ones(100)*exp2_p2, np.linspace(0, 10, 100), '-.k', linewidth=1)\n",
    "    \n",
    "    ax.set_title(\"Cluster {0} (Cost {1}), Break point:{2} and {3}\"\n",
    "                 .format(i, round(lsq1.cost+lsq2.cost+lsq3.cost, 2), exp2_p1, exp2_p2) )\n",
    "    ax.set_ylim([0, max( eval(\"avg{0}\".format(i+1)) )+0.2])\n",
    "    ax.legend(fontsize=14)\n",
    "    fig.savefig(\"../../Figs/curve_fitting/exponential2/three/cluster{0}\".format(i+1), dpi=100)\n",
    "    # plt.show()"
   ]
  },
  {
   "cell_type": "markdown",
   "metadata": {},
   "source": [
    "## 2-2. Three parameters\n",
    "#### 1) two curves"
   ]
  },
  {
   "cell_type": "raw",
   "metadata": {
    "collapsed": false
   },
   "source": [
    "dcp.make_folders(\"../../Figs/curve_fitting/exponential3/two/\")\n",
    "\n",
    "seed = [1, 1, 1]\n",
    "\n",
    "for i in range(nClt): \n",
    "    print(\"cluster {0}:\".format(i+1))\n",
    "    exp3_p1 = cv.multi_curveFitting_2(cv.exponential_least3, eval(\"avg{0}\".format(i+1)), seed, min_range=15)\n",
    "\n",
    "    x_range = np.linspace(1, 300, 300)\n",
    "    x1 = x_range[:exp3_p1]\n",
    "    x2 = x_range[exp3_p1:]\n",
    "\n",
    "    true_y1 = eval(\"avg{0}\".format(i+1))[:exp3_p1]\n",
    "    true_y2 = eval(\"avg{0}\".format(i+1))[exp3_p1:]\n",
    "\n",
    "    lsq1 = least_squares(cv.exponential_least3, seed, args=(x1, true_y1))\n",
    "    lsq2 = least_squares(cv.exponential_least3, seed, args=(x2, true_y2))\n",
    "\n",
    "    pred_y1 = cv.exponential_curve3(x_range[:exp3_p1], lsq1.x[0], lsq1.x[1], lsq1.x[2])\n",
    "    pred_y2 = cv.exponential_curve3(x_range, lsq2.x[0], lsq2.x[1], lsq2.x[2])\n",
    "\n",
    "    print(\" - break point: {0}\".format(exp3_p1))\n",
    "    ## save figures\n",
    "    fig, ax = plt.subplots(1, 1, figsize=(8, 8))\n",
    "\n",
    "    ax.plot(attempts300, eval(\"avg{0}\".format(i+1)), 'rx', label='average score')\n",
    "    ax.plot(x_range[:exp3_p1], pred_y1, 'b-', label='curve 1', linewidth=3)\n",
    "    ax.plot(x_range, pred_y2, 'g-', label='curve 2', linewidth=3)\n",
    "    ax.plot(np.ones(100)*exp3_p1, np.linspace(0, 10, 100), '-.k', linewidth=1)\n",
    "    ax.set_title(\"Cluster {0} (Cost {1}), Break point{2}\"\n",
    "                 .format(i, round(lsq1.cost+lsq2.cost, 2), exp3_p1) )\n",
    "    ax.set_ylim([0, max( eval(\"avg{0}\".format(i+1)) )+0.2])\n",
    "    ax.legend(fontsize=14)\n",
    "    fig.savefig(\"../../Figs/curve_fitting/exponential3/two/cluster{0}\".format(i+1), dpi=100)\n",
    "    # plt.show()"
   ]
  },
  {
   "cell_type": "markdown",
   "metadata": {},
   "source": [
    "#### 2) three curves"
   ]
  },
  {
   "cell_type": "raw",
   "metadata": {
    "collapsed": false,
    "scrolled": true
   },
   "source": [
    "dcp.make_folders(\"../../Figs/curve_fitting/exponential3/three/\")\n",
    "\n",
    "seed = [1, 1, 1]\n",
    "\n",
    "for i in range(nClt): \n",
    "    print(\"cluster {0}:\".format(i+1))\n",
    "    exp3_p1, exp3_p2 = cv.multi_curveFitting_3(cv.exponential_least3, eval(\"avg{0}\".format(i+1)), seed, min_range=15)\n",
    "\n",
    "    x_range = np.linspace(1, 300, 300)\n",
    "    x1 = x_range[:exp3_p1]\n",
    "    x2 = x_range[exp3_p1:exp3_p2]\n",
    "    x3 = x_range[exp3_p2:]\n",
    "\n",
    "    true_y1 = eval(\"avg{0}\".format(i+1))[:exp3_p1]\n",
    "    true_y2 = eval(\"avg{0}\".format(i+1))[exp3_p1:exp3_p2]\n",
    "    true_y3 = eval(\"avg{0}\".format(i+1))[exp3_p2:]\n",
    "\n",
    "    lsq1 = least_squares(cv.exponential_least3, seed, args=(x1, true_y1))\n",
    "    lsq2 = least_squares(cv.exponential_least3, seed, args=(x2, true_y2))\n",
    "    lsq3 = least_squares(cv.exponential_least3, seed, args=(x3, true_y3))\n",
    "\n",
    "    pred_y1 = cv.exponential_curve3(x_range[:exp3_p1], lsq1.x[0], lsq1.x[1], lsq1.x[2])\n",
    "    pred_y2 = cv.exponential_curve3(x_range[:exp3_p2], lsq2.x[0], lsq2.x[1], lsq2.x[2])\n",
    "    pred_y3 = cv.exponential_curve3(x_range, lsq3.x[0], lsq3.x[1], lsq3.x[2])\n",
    "\n",
    "    print(\" - break point: {0} and {1}\".format(exp3_p1, exp3_p2))\n",
    "    ## save figures\n",
    "    fig, ax = plt.subplots(1, 1, figsize=(8, 8))\n",
    "\n",
    "    ax.plot(attempts300, eval(\"avg{0}\".format(i+1)), 'rx', label='average score')\n",
    "    ax.plot(x_range[:exp3_p1], pred_y1, 'b-', label='curve 1', linewidth=3)\n",
    "    ax.plot(x_range[:exp3_p2], pred_y2, 'g-', label='curve 2', linewidth=3)\n",
    "    ax.plot(x_range, pred_y3, 'c-', label='curve 2', linewidth=3)\n",
    "    \n",
    "    # break points\n",
    "    ax.plot(np.ones(100)*exp3_p1, np.linspace(0, 10, 100), '-.k', linewidth=1)\n",
    "    ax.plot(np.ones(100)*exp3_p2, np.linspace(0, 10, 100), '-.k', linewidth=1)\n",
    "    \n",
    "    ax.set_title(\"Cluster {0} (Cost {1}), Break point:{2} and {3}\"\n",
    "                 .format(i, round(lsq1.cost+lsq2.cost+lsq3.cost, 2), exp3_p1, exp3_p2) )\n",
    "    ax.set_ylim([0, max( eval(\"avg{0}\".format(i+1)) )+0.2])\n",
    "    ax.legend(fontsize=14)\n",
    "    fig.savefig(\"../../Figs/curve_fitting/exponential3/three/cluster{0}\".format(i+1), dpi=100)\n",
    "    # plt.show()"
   ]
  },
  {
   "cell_type": "markdown",
   "metadata": {},
   "source": [
    "## 2-2. Four parameters\n",
    "#### 1) two curves"
   ]
  },
  {
   "cell_type": "raw",
   "metadata": {
    "collapsed": false
   },
   "source": [
    "dcp.make_folders(\"../../Figs/curve_fitting/exponential4/two/\")\n",
    "\n",
    "seed = [1, 1, 1, 1]\n",
    "\n",
    "for i in range(nClt): \n",
    "    print(\"cluster {0}:\".format(i+1))\n",
    "    p1 = cv.multi_curveFitting_2(cv.exponential_least4, eval(\"avg{0}\".format(i+1)), seed, min_range=50)\n",
    "\n",
    "    x_range = np.linspace(1, 300, 300)\n",
    "    x1 = x_range[:p1]\n",
    "    x2 = x_range[p1:]\n",
    "\n",
    "    true_y1 = eval(\"avg{0}\".format(i+1))[:p1]\n",
    "    true_y2 = eval(\"avg{0}\".format(i+1))[p1:]\n",
    "\n",
    "    lsq1 = least_squares(cv.exponential_least4, seed, args=(x1, true_y1))\n",
    "    lsq2 = least_squares(cv.exponential_least4, seed, args=(x2, true_y2))\n",
    "\n",
    "    pred_y1 = cv.exponential_curve4(x_range[:p1], lsq1.x[0], lsq1.x[1], lsq1.x[2], lsq1.x[3])\n",
    "    pred_y2 = cv.exponential_curve4(x_range, lsq2.x[0], lsq2.x[1], lsq2.x[2], lsq2.x[3])\n",
    "\n",
    "    print(\" - break point: {0}\".format(p1))\n",
    "    ## save figures\n",
    "    fig, ax = plt.subplots(1, 1, figsize=(8, 8))\n",
    "\n",
    "    ax.plot(attempts300, eval(\"avg{0}\".format(i+1)), 'rx', label='average score')\n",
    "    ax.plot(x_range[:p1], pred_y1, 'b-', label='curve 1', linewidth=3)\n",
    "    ax.plot(x_range, pred_y2, 'g-', label='curve 2', linewidth=3)\n",
    "    ax.plot(np.ones(100)*p1, np.linspace(0, 10, 100), '-.k', linewidth=1)\n",
    "    ax.set_title(\"Cluster {0} (Cost {1}), Break point{2}\"\n",
    "                 .format(i, round(lsq1.cost+lsq2.cost, 2), p1) )\n",
    "    ax.set_ylim([0, max( eval(\"avg{0}\".format(i+1)) )+0.2])\n",
    "    ax.legend(fontsize=14)\n",
    "    fig.savefig(\"../../Figs/curve_fitting/exponential4/two/cluster{0}\".format(i+1), dpi=100)\n",
    "    # plt.show()"
   ]
  },
  {
   "cell_type": "markdown",
   "metadata": {},
   "source": [
    "#### 2) three curves"
   ]
  },
  {
   "cell_type": "raw",
   "metadata": {
    "collapsed": false
   },
   "source": [
    "dcp.make_folders(\"../../Figs/curve_fitting/exponential4/three/\")\n",
    "\n",
    "seed = [1, 1, 1, 1]\n",
    "\n",
    "for i in range(nClt): \n",
    "    print(\"cluster {0}:\".format(i+1))\n",
    "    p1, p2 = cv.multi_curveFitting_3(cv.exponential_least4, eval(\"avg{0}\".format(i+1)), seed, min_range=50)\n",
    "\n",
    "    x_range = np.linspace(1, 300, 300)\n",
    "    x1 = x_range[:p1]\n",
    "    x2 = x_range[p1:p2]\n",
    "    x3 = x_range[p2:]\n",
    "\n",
    "    true_y1 = eval(\"avg{0}\".format(i+1))[:p1]\n",
    "    true_y2 = eval(\"avg{0}\".format(i+1))[p1:p2]\n",
    "    true_y3 = eval(\"avg{0}\".format(i+1))[p2:]\n",
    "\n",
    "    lsq1 = least_squares(cv.exponential_least4, seed, args=(x1, true_y1))\n",
    "    lsq2 = least_squares(cv.exponential_least4, seed, args=(x2, true_y2))\n",
    "    lsq3 = least_squares(cv.exponential_least4, seed, args=(x3, true_y3))\n",
    "\n",
    "    pred_y1 = cv.exponential_curve4(x_range[:p1], lsq1.x[0], lsq1.x[1], lsq1.x[2], lsq1.x[3])\n",
    "    pred_y2 = cv.exponential_curve4(x_range[:p2], lsq2.x[0], lsq2.x[1], lsq2.x[2], lsq2.x[3])\n",
    "    pred_y3 = cv.exponential_curve4(x_range, lsq3.x[0], lsq3.x[1], lsq3.x[2], lsq3.x[3])\n",
    "\n",
    "    print(\" - break point: {0}\".format(p1))\n",
    "    ## save figures\n",
    "    fig, ax = plt.subplots(1, 1, figsize=(8, 8))\n",
    "\n",
    "    ax.plot(attempts300, eval(\"avg{0}\".format(i+1)), 'rx', label='average score')\n",
    "    ax.plot(x_range[:p1], pred_y1, 'b-', label='curve 1', linewidth=3)\n",
    "    ax.plot(x_range[:p2], pred_y2, 'g-', label='curve 2', linewidth=3)\n",
    "    ax.plot(x_range, pred_y3, 'c-', label='curve 2', linewidth=3)\n",
    "    \n",
    "    # break points\n",
    "    ax.plot(np.ones(100)*p1, np.linspace(0, 10, 100), '-.k', linewidth=1)\n",
    "    ax.plot(np.ones(100)*p2, np.linspace(0, 10, 100), '-.k', linewidth=1)\n",
    "    \n",
    "    ax.set_title(\"Cluster {0} (Cost {1}), Break point{2}\"\n",
    "                 .format(i, round(lsq1.cost+lsq2.cost, 2), p1) )\n",
    "    ax.set_ylim([0, max( eval(\"avg{0}\".format(i+1)) )+0.2])\n",
    "    ax.legend(fontsize=14)\n",
    "    fig.savefig(\"../../Figs/curve_fitting/exponential4/three/cluster{0}\".format(i+1), dpi=100)\n",
    "    # plt.show()"
   ]
  }
 ],
 "metadata": {
  "anaconda-cloud": {},
  "kernelspec": {
   "display_name": "Python 3",
   "language": "python",
   "name": "python3"
  },
  "language_info": {
   "codemirror_mode": {
    "name": "ipython",
    "version": 3
   },
   "file_extension": ".py",
   "mimetype": "text/x-python",
   "name": "python",
   "nbconvert_exporter": "python",
   "pygments_lexer": "ipython3",
   "version": "3.5.1"
  }
 },
 "nbformat": 4,
 "nbformat_minor": 0
}
